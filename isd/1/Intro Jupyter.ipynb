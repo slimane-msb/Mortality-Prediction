{
 "cells": [
  {
   "cell_type": "markdown",
   "id": "solid-thanksgiving",
   "metadata": {},
   "source": [
    "# Introduction to IPython and Jupyter"
   ]
  },
  {
   "cell_type": "markdown",
   "id": "national-gauge",
   "metadata": {},
   "source": [
    "Inpired from: [VanderPlas, Jake. 2017. Python Data Science Handbook. O’Reilly Media, Inc.](https://github.com/jakevdp/PythonDataScienceHandbook)"
   ]
  },
  {
   "cell_type": "markdown",
   "id": "cosmetic-investigator",
   "metadata": {},
   "source": [
    "## Keyboard Shortcuts\n",
    "\n",
    "(From: [dataquest](https://www.dataquest.io/blog/jupyter-notebook-tutorial/))\n",
    "\n",
    "**Cell status:**\n",
    "\n",
    "* <span style=\"color:green\">Green outline</span>: cell is in \"edit mode\"\n",
    "* <span style=\"color:blue\">Blue outline</span>: cell is in \"command mode\"\n",
    "\n",
    "Toggle between edit and command mode with `Esc` and `Enter`, respectively.\n",
    "\n",
    "\n",
    "**Both modes:**\n",
    "\n",
    "* `Shift + Enter` run the cell and go to the next\n",
    "* `Ctrl + Enter` run and stay on cell\n",
    "\n",
    "**Command mode:**\n",
    "\n",
    "* `Up` or `Down` scroll up and down cells\n",
    "* `a` or `b` insert a new cell above or below the active cell\n",
    "* `m` transform the active cell to a Markdown cell\n",
    "* `y` set the active cell to a code cell\n",
    "* `c` copy the cell\n",
    "* `x` cut the cell\n",
    "* `v` paste the cell (*Note: with JupyterLab you can paste across different notebooks*)\n",
    "* `d+d` (`d` twice) delete the active cell\n",
    "* `z` undo cell deletion\n",
    "* Hold `Shift` and press `Up` or `Down` to select multiple cells at once\n",
    "* With multiple cells selected, `Shift + M` will merge your selection\n",
    "\n",
    "**Edit mode:**\n",
    "\n",
    "* `Ctrl + /` comment out current line\n",
    "* `Ctrl + Shift + -` split cell at the cursor position\n",
    "\n",
    "Keyboard shortcuts may be customized in the advanced settings (see [JupyterLab docs](https://jupyterlab.readthedocs.io/en/stable/user/interface.html#keyboard-shortcuts))."
   ]
  },
  {
   "cell_type": "markdown",
   "id": "eastern-compilation",
   "metadata": {},
   "source": [
    "## Setting up Kernels"
   ]
  },
  {
   "cell_type": "markdown",
   "id": "rational-welding",
   "metadata": {},
   "source": [
    "To be able to run Python you need to have a running kernels:\n",
    "\n",
    "The extension [nb_conda_kernels](https://github.com/Anaconda-Platform/nb_conda_kernels)) enables a Jupyter Notebook or JupyterLab application in one conda environment to access kernels for Python, R, and other languages found in other environments. When a kernel from an external environment is selected, the kernel conda environment is automatically activated before the kernel is launched. This allows you to utilize different versions of Python, R, and other languages from a single Jupyter installation.\n",
    "\n",
    "To be able to see all kernel in JupyterLab make sure you install:\n",
    "\n",
    "* `nb_conda_kernels` in the environment with Jupyter\n",
    "* `ipykernel` in the Python environment you want to access"
   ]
  },
  {
   "cell_type": "markdown",
   "id": "beautiful-retirement",
   "metadata": {},
   "source": [
    "## Help and Documentation in IPython"
   ]
  },
  {
   "cell_type": "code",
   "execution_count": 2,
   "id": "hungry-better",
   "metadata": {},
   "outputs": [
    {
     "name": "stdout",
     "output_type": "stream",
     "text": [
      "Help on built-in function len in module builtins:\n",
      "\n",
      "len(obj, /)\n",
      "    Return the number of items in a container.\n",
      "\n"
     ]
    }
   ],
   "source": [
    "help(len)"
   ]
  },
  {
   "cell_type": "code",
   "execution_count": 3,
   "id": "encouraging-celtic",
   "metadata": {},
   "outputs": [
    {
     "name": "stdout",
     "output_type": "stream",
     "text": [
      "\u001b[0;31mSignature:\u001b[0m \u001b[0mlen\u001b[0m\u001b[0;34m(\u001b[0m\u001b[0mobj\u001b[0m\u001b[0;34m,\u001b[0m \u001b[0;34m/\u001b[0m\u001b[0;34m)\u001b[0m\u001b[0;34m\u001b[0m\u001b[0;34m\u001b[0m\u001b[0m\n",
      "\u001b[0;31mDocstring:\u001b[0m Return the number of items in a container.\n",
      "\u001b[0;31mType:\u001b[0m      builtin_function_or_method\n"
     ]
    }
   ],
   "source": [
    "len?"
   ]
  },
  {
   "cell_type": "markdown",
   "id": "provincial-ending",
   "metadata": {},
   "source": [
    "---\n",
    "\n",
    "if you want to know how the command `filter` works: two ways of finding out."
   ]
  },
  {
   "cell_type": "code",
   "execution_count": 4,
   "id": "faced-stick",
   "metadata": {},
   "outputs": [
    {
     "name": "stdout",
     "output_type": "stream",
     "text": [
      "Help on class filter in module builtins:\n",
      "\n",
      "class filter(object)\n",
      " |  filter(function or None, iterable) --> filter object\n",
      " |  \n",
      " |  Return an iterator yielding those items of iterable for which function(item)\n",
      " |  is true. If function is None, return the items that are true.\n",
      " |  \n",
      " |  Methods defined here:\n",
      " |  \n",
      " |  __getattribute__(self, name, /)\n",
      " |      Return getattr(self, name).\n",
      " |  \n",
      " |  __iter__(self, /)\n",
      " |      Implement iter(self).\n",
      " |  \n",
      " |  __next__(self, /)\n",
      " |      Implement next(self).\n",
      " |  \n",
      " |  __reduce__(...)\n",
      " |      Return state information for pickling.\n",
      " |  \n",
      " |  ----------------------------------------------------------------------\n",
      " |  Static methods defined here:\n",
      " |  \n",
      " |  __new__(*args, **kwargs) from builtins.type\n",
      " |      Create and return a new object.  See help(type) for accurate signature.\n",
      "\n"
     ]
    }
   ],
   "source": [
    "help(filter)"
   ]
  },
  {
   "cell_type": "code",
   "execution_count": 5,
   "id": "fancy-industry",
   "metadata": {},
   "outputs": [
    {
     "name": "stdout",
     "output_type": "stream",
     "text": [
      "\u001b[0;31mInit signature:\u001b[0m \u001b[0mfilter\u001b[0m\u001b[0;34m(\u001b[0m\u001b[0mself\u001b[0m\u001b[0;34m,\u001b[0m \u001b[0;34m/\u001b[0m\u001b[0;34m,\u001b[0m \u001b[0;34m*\u001b[0m\u001b[0margs\u001b[0m\u001b[0;34m,\u001b[0m \u001b[0;34m**\u001b[0m\u001b[0mkwargs\u001b[0m\u001b[0;34m)\u001b[0m\u001b[0;34m\u001b[0m\u001b[0;34m\u001b[0m\u001b[0m\n",
      "\u001b[0;31mDocstring:\u001b[0m     \n",
      "filter(function or None, iterable) --> filter object\n",
      "\n",
      "Return an iterator yielding those items of iterable for which function(item)\n",
      "is true. If function is None, return the items that are true.\n",
      "\u001b[0;31mType:\u001b[0m           type\n",
      "\u001b[0;31mSubclasses:\u001b[0m     \n"
     ]
    }
   ],
   "source": [
    "filter?"
   ]
  },
  {
   "cell_type": "markdown",
   "id": "checked-buffalo",
   "metadata": {},
   "source": [
    "---\n",
    "\n",
    "do the same thing with your own function:\n",
    "\n",
    "- write the function `square` that returns the square of a number\n",
    "- add a docstring between triple quotes after the definition\n",
    "- check the `help` and `?` and `??` commands for your function"
   ]
  },
  {
   "cell_type": "markdown",
   "id": "changing-pennsylvania",
   "metadata": {},
   "source": [
    "<span style=\"color:red\">Implement your solution below</span>"
   ]
  },
  {
   "cell_type": "code",
   "execution_count": 7,
   "id": "supposed-tissue",
   "metadata": {},
   "outputs": [],
   "source": [
    "def square(val):\n",
    "    \"\"\"Return the square of a num\"\"\"\n",
    "    return val ** 2"
   ]
  },
  {
   "cell_type": "code",
   "execution_count": 8,
   "id": "guided-publisher",
   "metadata": {},
   "outputs": [
    {
     "name": "stdout",
     "output_type": "stream",
     "text": [
      "Help on function square in module __main__:\n",
      "\n",
      "square(val)\n",
      "    Return the square of a num\n",
      "\n"
     ]
    }
   ],
   "source": [
    "help(square)"
   ]
  },
  {
   "cell_type": "code",
   "execution_count": 9,
   "id": "logical-taiwan",
   "metadata": {},
   "outputs": [
    {
     "name": "stdout",
     "output_type": "stream",
     "text": [
      "\u001b[0;31mSignature:\u001b[0m \u001b[0msquare\u001b[0m\u001b[0;34m(\u001b[0m\u001b[0mval\u001b[0m\u001b[0;34m)\u001b[0m\u001b[0;34m\u001b[0m\u001b[0;34m\u001b[0m\u001b[0m\n",
      "\u001b[0;31mDocstring:\u001b[0m Return the square of a num\n",
      "\u001b[0;31mFile:\u001b[0m      /home/tp-home004/f2e86d2f-a615-4432-9b9b-a11d12b73b52/Bureau/ss4/isd/1/<ipython-input-7-2fe2e3323ef9>\n",
      "\u001b[0;31mType:\u001b[0m      function\n"
     ]
    }
   ],
   "source": [
    "square?"
   ]
  },
  {
   "cell_type": "code",
   "execution_count": 10,
   "id": "legal-smell",
   "metadata": {},
   "outputs": [
    {
     "name": "stdout",
     "output_type": "stream",
     "text": [
      "\u001b[0;31mSignature:\u001b[0m \u001b[0msquare\u001b[0m\u001b[0;34m(\u001b[0m\u001b[0mval\u001b[0m\u001b[0;34m)\u001b[0m\u001b[0;34m\u001b[0m\u001b[0;34m\u001b[0m\u001b[0m\n",
      "\u001b[0;31mSource:\u001b[0m   \n",
      "\u001b[0;32mdef\u001b[0m \u001b[0msquare\u001b[0m\u001b[0;34m(\u001b[0m\u001b[0mval\u001b[0m\u001b[0;34m)\u001b[0m\u001b[0;34m:\u001b[0m\u001b[0;34m\u001b[0m\n",
      "\u001b[0;34m\u001b[0m    \u001b[0;34m\"\"\"Return the square of a num\"\"\"\u001b[0m\u001b[0;34m\u001b[0m\n",
      "\u001b[0;34m\u001b[0m    \u001b[0;32mreturn\u001b[0m \u001b[0mval\u001b[0m \u001b[0;34m**\u001b[0m \u001b[0;36m2\u001b[0m\u001b[0;34m\u001b[0m\u001b[0;34m\u001b[0m\u001b[0m\n",
      "\u001b[0;31mFile:\u001b[0m      /home/tp-home004/f2e86d2f-a615-4432-9b9b-a11d12b73b52/Bureau/ss4/isd/1/<ipython-input-7-2fe2e3323ef9>\n",
      "\u001b[0;31mType:\u001b[0m      function\n"
     ]
    }
   ],
   "source": [
    "square??"
   ]
  },
  {
   "cell_type": "markdown",
   "id": "directed-cliff",
   "metadata": {},
   "source": [
    "--- \n",
    "\n",
    "### Beyond tab completion: wildcard matching"
   ]
  },
  {
   "cell_type": "markdown",
   "id": "inappropriate-sponsorship",
   "metadata": {},
   "source": [
    "Tab completion is useful if you know the first few characters of the object or attribute you're looking for, but is little help if you'd like to match characters at the middle or end of the word.\n",
    "For this use-case, IPython provides a means of wildcard matching for names using the ``*`` character.\n",
    "\n",
    "Notice that the ``*`` character matches any string, including the empty string."
   ]
  },
  {
   "cell_type": "code",
   "execution_count": 11,
   "id": "smoking-hormone",
   "metadata": {},
   "outputs": [
    {
     "name": "stdout",
     "output_type": "stream",
     "text": [
      "BytesWarning\n",
      "DeprecationWarning\n",
      "FutureWarning\n",
      "ImportWarning\n",
      "PendingDeprecationWarning\n",
      "ResourceWarning\n",
      "RuntimeWarning\n",
      "SyntaxWarning\n",
      "UnicodeWarning\n",
      "UserWarning\n",
      "Warning"
     ]
    }
   ],
   "source": [
    "*Warning?"
   ]
  },
  {
   "cell_type": "code",
   "execution_count": 12,
   "id": "australian-burns",
   "metadata": {},
   "outputs": [
    {
     "name": "stdout",
     "output_type": "stream",
     "text": [
      "str.find\n",
      "str.rfind"
     ]
    }
   ],
   "source": [
    "str.*find*?"
   ]
  },
  {
   "cell_type": "markdown",
   "id": "hairy-roommate",
   "metadata": {},
   "source": [
    "## IPython Magic Commands"
   ]
  },
  {
   "cell_type": "markdown",
   "id": "resistant-cleaner",
   "metadata": {},
   "source": [
    "### Running External Code: `%run`"
   ]
  },
  {
   "cell_type": "markdown",
   "id": "plastic-timing",
   "metadata": {},
   "source": [
    "As you begin developing more extensive code, you will likely find yourself working in both IPython for interactive exploration, as well as a text editor to store code that you want to reuse.\n",
    "Rather than running this code in a new window, it can be convenient to run it within your IPython session.\n",
    "This can be done with the ``%run`` magic.\n",
    "\n",
    "For example, imagine you've created a ``myscript.py`` file:\n",
    "\n",
    "```python\n",
    "%run myscript.py\n",
    "````"
   ]
  },
  {
   "cell_type": "markdown",
   "id": "inappropriate-knitting",
   "metadata": {},
   "source": [
    "### Timing Code Execution: ``%timeit``"
   ]
  },
  {
   "cell_type": "markdown",
   "id": "existing-apache",
   "metadata": {},
   "source": [
    "Another example of a useful magic function is ``%timeit``, which will automatically determine the execution time of the single-line Python statement that follows it.\n",
    "For example, we may want to check the performance of a list comprehension:"
   ]
  },
  {
   "cell_type": "code",
   "execution_count": 1,
   "id": "solar-plasma",
   "metadata": {},
   "outputs": [
    {
     "name": "stdout",
     "output_type": "stream",
     "text": [
      "148 µs ± 211 ns per loop (mean ± std. dev. of 7 runs, 10000 loops each)\n"
     ]
    }
   ],
   "source": [
    "%timeit L = [n ** 2 for n in range(1000)]"
   ]
  },
  {
   "cell_type": "code",
   "execution_count": 2,
   "id": "polished-american",
   "metadata": {},
   "outputs": [
    {
     "name": "stdout",
     "output_type": "stream",
     "text": [
      "166 µs ± 323 ns per loop (mean ± std. dev. of 7 runs, 10000 loops each)\n"
     ]
    }
   ],
   "source": [
    "%%timeit\n",
    "\n",
    "L = []\n",
    "for n in range(1000):\n",
    "    L.append(n ** 2)"
   ]
  },
  {
   "cell_type": "markdown",
   "id": "personalized-scientist",
   "metadata": {},
   "source": [
    "The benefit of ``%timeit`` is that for short commands it will automatically perform multiple runs in order to attain more robust results.\n",
    "For multi line statements, adding a second ``%`` sign will turn this into a cell magic that can handle multiple lines of input.\n",
    "For example, here's the equivalent construction with a ``for``-loop:\n",
    "\n",
    "We can immediately see that list comprehensions are about 10% faster than the equivalent ``for``-loop construction in this case."
   ]
  },
  {
   "cell_type": "markdown",
   "id": "alpine-hudson",
   "metadata": {},
   "source": [
    "### Help on Magic Functions: ``?``, ``%magic``, and ``%lsmagic``"
   ]
  },
  {
   "cell_type": "markdown",
   "id": "balanced-jesus",
   "metadata": {},
   "source": [
    "Like normal Python functions, IPython magic functions have docstrings, and this useful\n",
    "documentation can be accessed in the standard manner.\n",
    "So, for example, to read the documentation of the ``%timeit`` magic simply type this:"
   ]
  },
  {
   "cell_type": "code",
   "execution_count": null,
   "id": "integral-short",
   "metadata": {},
   "outputs": [],
   "source": [
    "# %timeit?"
   ]
  },
  {
   "cell_type": "markdown",
   "id": "efficient-gossip",
   "metadata": {},
   "source": [
    "Documentation for other functions can be accessed similarly.\n",
    "To access a general description of available magic functions, including some examples, you can type:\n",
    "\n",
    "```ipython\n",
    "%magic\n",
    "```"
   ]
  },
  {
   "cell_type": "markdown",
   "id": "fossil-magic",
   "metadata": {},
   "source": [
    "For a quick and simple list of all available magic functions, type:"
   ]
  },
  {
   "cell_type": "code",
   "execution_count": null,
   "id": "aboriginal-panama",
   "metadata": {},
   "outputs": [],
   "source": [
    "%lsmagic"
   ]
  },
  {
   "cell_type": "markdown",
   "id": "broadband-residence",
   "metadata": {},
   "source": [
    "---"
   ]
  },
  {
   "cell_type": "markdown",
   "id": "front-congress",
   "metadata": {},
   "source": [
    "## Shell Commands in IPython"
   ]
  },
  {
   "cell_type": "markdown",
   "id": "reliable-sitting",
   "metadata": {},
   "source": [
    "Any command that works at the command-line can be used in IPython by prefixing it with the ``!`` character.\n",
    "For example, the ``ls``, ``pwd``, and ``echo`` commands.\n",
    "\n",
    "(If you're under M$-Windows that might not work)"
   ]
  },
  {
   "cell_type": "code",
   "execution_count": 14,
   "id": "molecular-joseph",
   "metadata": {},
   "outputs": [
    {
     "name": "stdout",
     "output_type": "stream",
     "text": [
      " python-conda-install.pdf  'TP 1 - Intro Jupyter.ipynb'\n"
     ]
    }
   ],
   "source": [
    "# !ls\n",
    "!ls"
   ]
  },
  {
   "cell_type": "code",
   "execution_count": 15,
   "id": "numeric-cherry",
   "metadata": {},
   "outputs": [
    {
     "name": "stdout",
     "output_type": "stream",
     "text": [
      "/home/tp-home004/f2e86d2f-a615-4432-9b9b-a11d12b73b52/Bureau/ss4/isd/1\n"
     ]
    }
   ],
   "source": [
    "# !pwd\n",
    "!pwd"
   ]
  },
  {
   "cell_type": "code",
   "execution_count": 16,
   "id": "divided-syria",
   "metadata": {},
   "outputs": [
    {
     "name": "stdout",
     "output_type": "stream",
     "text": [
      "printing from the shell\n"
     ]
    }
   ],
   "source": [
    "!echo \"printing from the shell\""
   ]
  },
  {
   "cell_type": "markdown",
   "id": "polish-member",
   "metadata": {},
   "source": [
    "---"
   ]
  },
  {
   "cell_type": "markdown",
   "id": "italian-negotiation",
   "metadata": {},
   "source": [
    "### Useful Extensions"
   ]
  },
  {
   "cell_type": "markdown",
   "id": "humanitarian-fiber",
   "metadata": {},
   "source": [
    "* [jupyterlab_code_formatter](https://github.com/ryantam626/jupyterlab_code_formatter)\n",
    "\n",
    "    * `conda install -c conda-forge jupyterlab_code_formatter`\n",
    "\n",
    "    * Along with the [Black](https://github.com/psf/black) formatter: `conda install -c conda-forge black`\n",
    "\n",
    "* Language Server Protocol integration for Jupyter(Lab): [jupyterlab-lsp](https://github.com/krassowski/jupyterlab-lsp)\n",
    "\n",
    "* [jupyterlab-spellchecker](https://github.com/jupyterlab-contrib/spellchecker)"
   ]
  },
  {
   "cell_type": "markdown",
   "id": "prompt-profit",
   "metadata": {},
   "source": [
    "---"
   ]
  }
 ],
 "metadata": {
  "kernelspec": {
   "display_name": "Python 3",
   "language": "python",
   "name": "python3"
  },
  "language_info": {
   "codemirror_mode": {
    "name": "ipython",
    "version": 3
   },
   "file_extension": ".py",
   "mimetype": "text/x-python",
   "name": "python",
   "nbconvert_exporter": "python",
   "pygments_lexer": "ipython3",
   "version": "3.8.8"
  }
 },
 "nbformat": 4,
 "nbformat_minor": 5
}
