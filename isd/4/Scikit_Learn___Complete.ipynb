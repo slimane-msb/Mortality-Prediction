{
  "cells": [
    {
      "cell_type": "markdown",
      "id": "surrounded-explosion",
      "metadata": {
        "id": "surrounded-explosion"
      },
      "source": [
        "# "
      ]
    },
    {
      "cell_type": "markdown",
      "id": "radio-rating",
      "metadata": {
        "id": "radio-rating"
      },
      "source": [
        "# Scikit-Learn\n"
      ]
    },
    {
      "cell_type": "markdown",
      "id": "1b7a6401",
      "metadata": {},
      "source": [
        "|group | nom | prenom| nom2 | prenom2 | nom3| prenom3\n",
        "|-----|-----|-----|-----|-----|-----|-----|\n",
        "|1-B |PINEAU|Florian|MOUAOUED|Walid|mesbah|slimane"
      ]
    },
    {
      "cell_type": "markdown",
      "id": "middle-impossible",
      "metadata": {
        "id": "middle-impossible"
      },
      "source": [
        "## Exploration de données et classification"
      ]
    },
    {
      "cell_type": "markdown",
      "id": "decreased-auction",
      "metadata": {
        "id": "decreased-auction"
      },
      "source": [
        "https://scikit-learn.org/stable/datasets/toy_dataset.html#iris-plants-dataset"
      ]
    },
    {
      "cell_type": "code",
      "execution_count": 3,
      "id": "other-colon",
      "metadata": {
        "colab": {
          "base_uri": "https://localhost:8080/"
        },
        "id": "other-colon",
        "outputId": "afc8cd19-a31c-42fd-8a15-652f538512e5"
      },
      "outputs": [
        {
          "name": "stdout",
          "output_type": "stream",
          "text": [
            "1.0.2\n"
          ]
        }
      ],
      "source": [
        "import matplotlib.pyplot as plt\n",
        "import numpy as np\n",
        "import pandas as pd\n",
        "import sklearn\n",
        "from matplotlib.colors import ListedColormap\n",
        "from sklearn import (\n",
        "    datasets,\n",
        "    decomposition,\n",
        "    linear_model,\n",
        "    metrics,\n",
        "    model_selection,\n",
        "    naive_bayes,\n",
        "    pipeline,\n",
        ")\n",
        "from sklearn.model_selection import train_test_split\n",
        "from sklearn.naive_bayes import GaussianNB\n",
        "from sklearn.metrics import classification_report\n",
        "from sklearn.metrics import accuracy_score\n",
        "from sklearn.metrics import confusion_matrix, ConfusionMatrixDisplay\n",
        "from sklearn.decomposition import PCA\n",
        "from sklearn.linear_model import LogisticRegression\n",
        "from sklearn.svm import SVC\n",
        "from sklearn.model_selection import cross_val_score\n",
        "from sklearn.model_selection import GridSearchCV\n",
        "from sklearn.pipeline import Pipeline\n",
        "from sklearn.preprocessing import StandardScaler\n",
        "\n",
        "\n",
        "%config InlineBackend.figure_format=\"retina\"  # For high DPI display\n",
        "\n",
        "print(sklearn.__version__)  # 1.0.2"
      ]
    },
    {
      "cell_type": "markdown",
      "id": "heard-joint",
      "metadata": {
        "id": "heard-joint"
      },
      "source": [
        "---"
      ]
    },
    {
      "cell_type": "markdown",
      "id": "promising-radical",
      "metadata": {
        "id": "promising-radical"
      },
      "source": [
        "### Exploration avec pandas"
      ]
    },
    {
      "cell_type": "markdown",
      "id": "reliable-binary",
      "metadata": {
        "id": "reliable-binary"
      },
      "source": [
        "#### Créez la dataframe"
      ]
    },
    {
      "cell_type": "markdown",
      "id": "fourth-paradise",
      "metadata": {
        "id": "fourth-paradise"
      },
      "source": [
        "https://scikit-learn.org/stable/datasets/toy_dataset.html#boston-dataset\n",
        "\n",
        "\n",
        "Descripteurs (features) :\n",
        "\n",
        "* `CRIM`: taux de criminalité par habitant par ville\n",
        "* `ZN`: proportion de terrains résidentiels zonés pour les lots de plus de 25 000 pi.ca.\n",
        "* `INDUS`: proportion d'acres commerciaux/non-commerciaux par ville\n",
        "* `CHAS`: variable fictive de Charles River (= 1 si la zone délimite la rivière; 0 sinon)\n",
        "* `NOX`: concentration d'oxydes nitriques (parties par 10 millions)\n",
        "* `RM`: nombre moyen de pièces par logement\n",
        "* `AGE`: proportion de logements occupés par leur propriétaire construits avant 1940\n",
        "* `DIS`: distances pondérées des cinq centres d'emploi de Boston\n",
        "* `RAD`: indice d'accessibilité aux autoroutes radiales\n",
        "* `TAX`: taux d'imposition foncière de la valeur totale par tranche de 10 000 $\n",
        "* `PTRATIO`: ratio élèves-enseignant par ville\n",
        "* `B`: 1000(A - 0.63)^2 où A est la proportion d'habitants afro-américains par ville\n",
        "* `LSTAT`: pourcentage d'habitant en dessous du seuil de pauvreté\n",
        "\n",
        "Cible (target) :\n",
        "\n",
        "* `MEDV`: Valeur médiane des logements occupés par leur propriétaire en 1 000 $"
      ]
    },
    {
      "cell_type": "code",
      "execution_count": 4,
      "id": "e5a97760-1c54-4ff7-a7e6-1c7ce6bcc97f",
      "metadata": {
        "id": "e5a97760-1c54-4ff7-a7e6-1c7ce6bcc97f"
      },
      "outputs": [],
      "source": [
        "try:\n",
        "    import warnings\n",
        "    with warnings.catch_warnings():\n",
        "        warnings.filterwarnings(\"ignore\")\n",
        "        boston = datasets.load_boston()\n",
        "except ModuleNotFoundError:\n",
        "    boston = datasets.load_boston()\n",
        "# print(boston.DESCR)"
      ]
    },
    {
      "cell_type": "code",
      "execution_count": 5,
      "id": "fa74f7c8-8c96-4fed-9c01-6d498c1fabad",
      "metadata": {
        "colab": {
          "base_uri": "https://localhost:8080/",
          "height": 424
        },
        "id": "fa74f7c8-8c96-4fed-9c01-6d498c1fabad",
        "outputId": "4be3e803-284d-4fa7-b803-1572a3d1eaf0"
      },
      "outputs": [
        {
          "data": {
            "text/html": [
              "<div>\n",
              "<style scoped>\n",
              "    .dataframe tbody tr th:only-of-type {\n",
              "        vertical-align: middle;\n",
              "    }\n",
              "\n",
              "    .dataframe tbody tr th {\n",
              "        vertical-align: top;\n",
              "    }\n",
              "\n",
              "    .dataframe thead th {\n",
              "        text-align: right;\n",
              "    }\n",
              "</style>\n",
              "<table border=\"1\" class=\"dataframe\">\n",
              "  <thead>\n",
              "    <tr style=\"text-align: right;\">\n",
              "      <th></th>\n",
              "      <th>CRIM</th>\n",
              "      <th>ZN</th>\n",
              "      <th>INDUS</th>\n",
              "      <th>CHAS</th>\n",
              "      <th>NOX</th>\n",
              "      <th>RM</th>\n",
              "      <th>AGE</th>\n",
              "      <th>DIS</th>\n",
              "      <th>RAD</th>\n",
              "      <th>TAX</th>\n",
              "      <th>PTRATIO</th>\n",
              "      <th>B</th>\n",
              "      <th>LSTAT</th>\n",
              "      <th>PRICE</th>\n",
              "    </tr>\n",
              "  </thead>\n",
              "  <tbody>\n",
              "    <tr>\n",
              "      <th>0</th>\n",
              "      <td>0.00632</td>\n",
              "      <td>18.0</td>\n",
              "      <td>2.31</td>\n",
              "      <td>0.0</td>\n",
              "      <td>0.538</td>\n",
              "      <td>6.575</td>\n",
              "      <td>65.2</td>\n",
              "      <td>4.0900</td>\n",
              "      <td>1.0</td>\n",
              "      <td>296.0</td>\n",
              "      <td>15.3</td>\n",
              "      <td>396.90</td>\n",
              "      <td>4.98</td>\n",
              "      <td>24.0</td>\n",
              "    </tr>\n",
              "    <tr>\n",
              "      <th>1</th>\n",
              "      <td>0.02731</td>\n",
              "      <td>0.0</td>\n",
              "      <td>7.07</td>\n",
              "      <td>0.0</td>\n",
              "      <td>0.469</td>\n",
              "      <td>6.421</td>\n",
              "      <td>78.9</td>\n",
              "      <td>4.9671</td>\n",
              "      <td>2.0</td>\n",
              "      <td>242.0</td>\n",
              "      <td>17.8</td>\n",
              "      <td>396.90</td>\n",
              "      <td>9.14</td>\n",
              "      <td>21.6</td>\n",
              "    </tr>\n",
              "    <tr>\n",
              "      <th>2</th>\n",
              "      <td>0.02729</td>\n",
              "      <td>0.0</td>\n",
              "      <td>7.07</td>\n",
              "      <td>0.0</td>\n",
              "      <td>0.469</td>\n",
              "      <td>7.185</td>\n",
              "      <td>61.1</td>\n",
              "      <td>4.9671</td>\n",
              "      <td>2.0</td>\n",
              "      <td>242.0</td>\n",
              "      <td>17.8</td>\n",
              "      <td>392.83</td>\n",
              "      <td>4.03</td>\n",
              "      <td>34.7</td>\n",
              "    </tr>\n",
              "    <tr>\n",
              "      <th>3</th>\n",
              "      <td>0.03237</td>\n",
              "      <td>0.0</td>\n",
              "      <td>2.18</td>\n",
              "      <td>0.0</td>\n",
              "      <td>0.458</td>\n",
              "      <td>6.998</td>\n",
              "      <td>45.8</td>\n",
              "      <td>6.0622</td>\n",
              "      <td>3.0</td>\n",
              "      <td>222.0</td>\n",
              "      <td>18.7</td>\n",
              "      <td>394.63</td>\n",
              "      <td>2.94</td>\n",
              "      <td>33.4</td>\n",
              "    </tr>\n",
              "    <tr>\n",
              "      <th>4</th>\n",
              "      <td>0.06905</td>\n",
              "      <td>0.0</td>\n",
              "      <td>2.18</td>\n",
              "      <td>0.0</td>\n",
              "      <td>0.458</td>\n",
              "      <td>7.147</td>\n",
              "      <td>54.2</td>\n",
              "      <td>6.0622</td>\n",
              "      <td>3.0</td>\n",
              "      <td>222.0</td>\n",
              "      <td>18.7</td>\n",
              "      <td>396.90</td>\n",
              "      <td>5.33</td>\n",
              "      <td>36.2</td>\n",
              "    </tr>\n",
              "    <tr>\n",
              "      <th>...</th>\n",
              "      <td>...</td>\n",
              "      <td>...</td>\n",
              "      <td>...</td>\n",
              "      <td>...</td>\n",
              "      <td>...</td>\n",
              "      <td>...</td>\n",
              "      <td>...</td>\n",
              "      <td>...</td>\n",
              "      <td>...</td>\n",
              "      <td>...</td>\n",
              "      <td>...</td>\n",
              "      <td>...</td>\n",
              "      <td>...</td>\n",
              "      <td>...</td>\n",
              "    </tr>\n",
              "    <tr>\n",
              "      <th>501</th>\n",
              "      <td>0.06263</td>\n",
              "      <td>0.0</td>\n",
              "      <td>11.93</td>\n",
              "      <td>0.0</td>\n",
              "      <td>0.573</td>\n",
              "      <td>6.593</td>\n",
              "      <td>69.1</td>\n",
              "      <td>2.4786</td>\n",
              "      <td>1.0</td>\n",
              "      <td>273.0</td>\n",
              "      <td>21.0</td>\n",
              "      <td>391.99</td>\n",
              "      <td>9.67</td>\n",
              "      <td>22.4</td>\n",
              "    </tr>\n",
              "    <tr>\n",
              "      <th>502</th>\n",
              "      <td>0.04527</td>\n",
              "      <td>0.0</td>\n",
              "      <td>11.93</td>\n",
              "      <td>0.0</td>\n",
              "      <td>0.573</td>\n",
              "      <td>6.120</td>\n",
              "      <td>76.7</td>\n",
              "      <td>2.2875</td>\n",
              "      <td>1.0</td>\n",
              "      <td>273.0</td>\n",
              "      <td>21.0</td>\n",
              "      <td>396.90</td>\n",
              "      <td>9.08</td>\n",
              "      <td>20.6</td>\n",
              "    </tr>\n",
              "    <tr>\n",
              "      <th>503</th>\n",
              "      <td>0.06076</td>\n",
              "      <td>0.0</td>\n",
              "      <td>11.93</td>\n",
              "      <td>0.0</td>\n",
              "      <td>0.573</td>\n",
              "      <td>6.976</td>\n",
              "      <td>91.0</td>\n",
              "      <td>2.1675</td>\n",
              "      <td>1.0</td>\n",
              "      <td>273.0</td>\n",
              "      <td>21.0</td>\n",
              "      <td>396.90</td>\n",
              "      <td>5.64</td>\n",
              "      <td>23.9</td>\n",
              "    </tr>\n",
              "    <tr>\n",
              "      <th>504</th>\n",
              "      <td>0.10959</td>\n",
              "      <td>0.0</td>\n",
              "      <td>11.93</td>\n",
              "      <td>0.0</td>\n",
              "      <td>0.573</td>\n",
              "      <td>6.794</td>\n",
              "      <td>89.3</td>\n",
              "      <td>2.3889</td>\n",
              "      <td>1.0</td>\n",
              "      <td>273.0</td>\n",
              "      <td>21.0</td>\n",
              "      <td>393.45</td>\n",
              "      <td>6.48</td>\n",
              "      <td>22.0</td>\n",
              "    </tr>\n",
              "    <tr>\n",
              "      <th>505</th>\n",
              "      <td>0.04741</td>\n",
              "      <td>0.0</td>\n",
              "      <td>11.93</td>\n",
              "      <td>0.0</td>\n",
              "      <td>0.573</td>\n",
              "      <td>6.030</td>\n",
              "      <td>80.8</td>\n",
              "      <td>2.5050</td>\n",
              "      <td>1.0</td>\n",
              "      <td>273.0</td>\n",
              "      <td>21.0</td>\n",
              "      <td>396.90</td>\n",
              "      <td>7.88</td>\n",
              "      <td>11.9</td>\n",
              "    </tr>\n",
              "  </tbody>\n",
              "</table>\n",
              "<p>506 rows × 14 columns</p>\n",
              "</div>"
            ],
            "text/plain": [
              "        CRIM    ZN  INDUS  CHAS    NOX     RM   AGE     DIS  RAD    TAX  \\\n",
              "0    0.00632  18.0   2.31   0.0  0.538  6.575  65.2  4.0900  1.0  296.0   \n",
              "1    0.02731   0.0   7.07   0.0  0.469  6.421  78.9  4.9671  2.0  242.0   \n",
              "2    0.02729   0.0   7.07   0.0  0.469  7.185  61.1  4.9671  2.0  242.0   \n",
              "3    0.03237   0.0   2.18   0.0  0.458  6.998  45.8  6.0622  3.0  222.0   \n",
              "4    0.06905   0.0   2.18   0.0  0.458  7.147  54.2  6.0622  3.0  222.0   \n",
              "..       ...   ...    ...   ...    ...    ...   ...     ...  ...    ...   \n",
              "501  0.06263   0.0  11.93   0.0  0.573  6.593  69.1  2.4786  1.0  273.0   \n",
              "502  0.04527   0.0  11.93   0.0  0.573  6.120  76.7  2.2875  1.0  273.0   \n",
              "503  0.06076   0.0  11.93   0.0  0.573  6.976  91.0  2.1675  1.0  273.0   \n",
              "504  0.10959   0.0  11.93   0.0  0.573  6.794  89.3  2.3889  1.0  273.0   \n",
              "505  0.04741   0.0  11.93   0.0  0.573  6.030  80.8  2.5050  1.0  273.0   \n",
              "\n",
              "     PTRATIO       B  LSTAT  PRICE  \n",
              "0       15.3  396.90   4.98   24.0  \n",
              "1       17.8  396.90   9.14   21.6  \n",
              "2       17.8  392.83   4.03   34.7  \n",
              "3       18.7  394.63   2.94   33.4  \n",
              "4       18.7  396.90   5.33   36.2  \n",
              "..       ...     ...    ...    ...  \n",
              "501     21.0  391.99   9.67   22.4  \n",
              "502     21.0  396.90   9.08   20.6  \n",
              "503     21.0  396.90   5.64   23.9  \n",
              "504     21.0  393.45   6.48   22.0  \n",
              "505     21.0  396.90   7.88   11.9  \n",
              "\n",
              "[506 rows x 14 columns]"
            ]
          },
          "execution_count": 5,
          "metadata": {},
          "output_type": "execute_result"
        }
      ],
      "source": [
        "# adding all the features to data frame\n",
        "boston_df = pd.DataFrame(boston.data, columns=boston.feature_names)\n",
        "boston_df[\"PRICE\"] = boston.target\n",
        "boston_df  # final data in dataframe formate"
      ]
    },
    {
      "cell_type": "markdown",
      "id": "original-shower",
      "metadata": {
        "id": "original-shower"
      },
      "source": [
        "#### Descriptions"
      ]
    },
    {
      "cell_type": "code",
      "execution_count": 6,
      "id": "romance-dylan",
      "metadata": {
        "colab": {
          "base_uri": "https://localhost:8080/",
          "height": 112
        },
        "id": "romance-dylan",
        "outputId": "c0a45f27-9e31-4bca-b1e1-c1cf1fc67ba2"
      },
      "outputs": [
        {
          "data": {
            "text/html": [
              "<div>\n",
              "<style scoped>\n",
              "    .dataframe tbody tr th:only-of-type {\n",
              "        vertical-align: middle;\n",
              "    }\n",
              "\n",
              "    .dataframe tbody tr th {\n",
              "        vertical-align: top;\n",
              "    }\n",
              "\n",
              "    .dataframe thead th {\n",
              "        text-align: right;\n",
              "    }\n",
              "</style>\n",
              "<table border=\"1\" class=\"dataframe\">\n",
              "  <thead>\n",
              "    <tr style=\"text-align: right;\">\n",
              "      <th></th>\n",
              "      <th>CRIM</th>\n",
              "      <th>ZN</th>\n",
              "      <th>INDUS</th>\n",
              "      <th>CHAS</th>\n",
              "      <th>NOX</th>\n",
              "      <th>RM</th>\n",
              "      <th>AGE</th>\n",
              "      <th>DIS</th>\n",
              "      <th>RAD</th>\n",
              "      <th>TAX</th>\n",
              "      <th>PTRATIO</th>\n",
              "      <th>B</th>\n",
              "      <th>LSTAT</th>\n",
              "      <th>PRICE</th>\n",
              "    </tr>\n",
              "  </thead>\n",
              "  <tbody>\n",
              "    <tr>\n",
              "      <th>0</th>\n",
              "      <td>0.00632</td>\n",
              "      <td>18.0</td>\n",
              "      <td>2.31</td>\n",
              "      <td>0.0</td>\n",
              "      <td>0.538</td>\n",
              "      <td>6.575</td>\n",
              "      <td>65.2</td>\n",
              "      <td>4.0900</td>\n",
              "      <td>1.0</td>\n",
              "      <td>296.0</td>\n",
              "      <td>15.3</td>\n",
              "      <td>396.9</td>\n",
              "      <td>4.98</td>\n",
              "      <td>24.0</td>\n",
              "    </tr>\n",
              "    <tr>\n",
              "      <th>1</th>\n",
              "      <td>0.02731</td>\n",
              "      <td>0.0</td>\n",
              "      <td>7.07</td>\n",
              "      <td>0.0</td>\n",
              "      <td>0.469</td>\n",
              "      <td>6.421</td>\n",
              "      <td>78.9</td>\n",
              "      <td>4.9671</td>\n",
              "      <td>2.0</td>\n",
              "      <td>242.0</td>\n",
              "      <td>17.8</td>\n",
              "      <td>396.9</td>\n",
              "      <td>9.14</td>\n",
              "      <td>21.6</td>\n",
              "    </tr>\n",
              "  </tbody>\n",
              "</table>\n",
              "</div>"
            ],
            "text/plain": [
              "      CRIM    ZN  INDUS  CHAS    NOX     RM   AGE     DIS  RAD    TAX  \\\n",
              "0  0.00632  18.0   2.31   0.0  0.538  6.575  65.2  4.0900  1.0  296.0   \n",
              "1  0.02731   0.0   7.07   0.0  0.469  6.421  78.9  4.9671  2.0  242.0   \n",
              "\n",
              "   PTRATIO      B  LSTAT  PRICE  \n",
              "0     15.3  396.9   4.98   24.0  \n",
              "1     17.8  396.9   9.14   21.6  "
            ]
          },
          "execution_count": 6,
          "metadata": {},
          "output_type": "execute_result"
        }
      ],
      "source": [
        "boston_df.head(2)"
      ]
    },
    {
      "cell_type": "code",
      "execution_count": 7,
      "id": "breathing-water",
      "metadata": {
        "colab": {
          "base_uri": "https://localhost:8080/",
          "height": 300
        },
        "id": "breathing-water",
        "outputId": "aef36373-04c5-4875-fee8-7f5829c4e539"
      },
      "outputs": [
        {
          "data": {
            "text/html": [
              "<style type=\"text/css\">\n",
              "</style>\n",
              "<table id=\"T_62916_\">\n",
              "  <thead>\n",
              "    <tr>\n",
              "      <th class=\"blank level0\" >&nbsp;</th>\n",
              "      <th class=\"col_heading level0 col0\" >CRIM</th>\n",
              "      <th class=\"col_heading level0 col1\" >ZN</th>\n",
              "      <th class=\"col_heading level0 col2\" >INDUS</th>\n",
              "      <th class=\"col_heading level0 col3\" >CHAS</th>\n",
              "      <th class=\"col_heading level0 col4\" >NOX</th>\n",
              "      <th class=\"col_heading level0 col5\" >RM</th>\n",
              "      <th class=\"col_heading level0 col6\" >AGE</th>\n",
              "      <th class=\"col_heading level0 col7\" >DIS</th>\n",
              "      <th class=\"col_heading level0 col8\" >RAD</th>\n",
              "      <th class=\"col_heading level0 col9\" >TAX</th>\n",
              "      <th class=\"col_heading level0 col10\" >PTRATIO</th>\n",
              "      <th class=\"col_heading level0 col11\" >B</th>\n",
              "      <th class=\"col_heading level0 col12\" >LSTAT</th>\n",
              "      <th class=\"col_heading level0 col13\" >PRICE</th>\n",
              "    </tr>\n",
              "  </thead>\n",
              "  <tbody>\n",
              "    <tr>\n",
              "      <th id=\"T_62916_level0_row0\" class=\"row_heading level0 row0\" >count</th>\n",
              "      <td id=\"T_62916_row0_col0\" class=\"data row0 col0\" >506</td>\n",
              "      <td id=\"T_62916_row0_col1\" class=\"data row0 col1\" >506</td>\n",
              "      <td id=\"T_62916_row0_col2\" class=\"data row0 col2\" >506</td>\n",
              "      <td id=\"T_62916_row0_col3\" class=\"data row0 col3\" >506</td>\n",
              "      <td id=\"T_62916_row0_col4\" class=\"data row0 col4\" >506</td>\n",
              "      <td id=\"T_62916_row0_col5\" class=\"data row0 col5\" >506</td>\n",
              "      <td id=\"T_62916_row0_col6\" class=\"data row0 col6\" >506</td>\n",
              "      <td id=\"T_62916_row0_col7\" class=\"data row0 col7\" >506</td>\n",
              "      <td id=\"T_62916_row0_col8\" class=\"data row0 col8\" >506</td>\n",
              "      <td id=\"T_62916_row0_col9\" class=\"data row0 col9\" >506</td>\n",
              "      <td id=\"T_62916_row0_col10\" class=\"data row0 col10\" >506</td>\n",
              "      <td id=\"T_62916_row0_col11\" class=\"data row0 col11\" >506</td>\n",
              "      <td id=\"T_62916_row0_col12\" class=\"data row0 col12\" >506</td>\n",
              "      <td id=\"T_62916_row0_col13\" class=\"data row0 col13\" >506</td>\n",
              "    </tr>\n",
              "    <tr>\n",
              "      <th id=\"T_62916_level0_row1\" class=\"row_heading level0 row1\" >mean</th>\n",
              "      <td id=\"T_62916_row1_col0\" class=\"data row1 col0\" >3.61</td>\n",
              "      <td id=\"T_62916_row1_col1\" class=\"data row1 col1\" >11.4</td>\n",
              "      <td id=\"T_62916_row1_col2\" class=\"data row1 col2\" >11.1</td>\n",
              "      <td id=\"T_62916_row1_col3\" class=\"data row1 col3\" >0.0692</td>\n",
              "      <td id=\"T_62916_row1_col4\" class=\"data row1 col4\" >0.555</td>\n",
              "      <td id=\"T_62916_row1_col5\" class=\"data row1 col5\" >6.28</td>\n",
              "      <td id=\"T_62916_row1_col6\" class=\"data row1 col6\" >68.6</td>\n",
              "      <td id=\"T_62916_row1_col7\" class=\"data row1 col7\" >3.8</td>\n",
              "      <td id=\"T_62916_row1_col8\" class=\"data row1 col8\" >9.55</td>\n",
              "      <td id=\"T_62916_row1_col9\" class=\"data row1 col9\" >408</td>\n",
              "      <td id=\"T_62916_row1_col10\" class=\"data row1 col10\" >18.5</td>\n",
              "      <td id=\"T_62916_row1_col11\" class=\"data row1 col11\" >357</td>\n",
              "      <td id=\"T_62916_row1_col12\" class=\"data row1 col12\" >12.7</td>\n",
              "      <td id=\"T_62916_row1_col13\" class=\"data row1 col13\" >22.5</td>\n",
              "    </tr>\n",
              "    <tr>\n",
              "      <th id=\"T_62916_level0_row2\" class=\"row_heading level0 row2\" >std</th>\n",
              "      <td id=\"T_62916_row2_col0\" class=\"data row2 col0\" >8.6</td>\n",
              "      <td id=\"T_62916_row2_col1\" class=\"data row2 col1\" >23.3</td>\n",
              "      <td id=\"T_62916_row2_col2\" class=\"data row2 col2\" >6.86</td>\n",
              "      <td id=\"T_62916_row2_col3\" class=\"data row2 col3\" >0.254</td>\n",
              "      <td id=\"T_62916_row2_col4\" class=\"data row2 col4\" >0.116</td>\n",
              "      <td id=\"T_62916_row2_col5\" class=\"data row2 col5\" >0.703</td>\n",
              "      <td id=\"T_62916_row2_col6\" class=\"data row2 col6\" >28.1</td>\n",
              "      <td id=\"T_62916_row2_col7\" class=\"data row2 col7\" >2.11</td>\n",
              "      <td id=\"T_62916_row2_col8\" class=\"data row2 col8\" >8.71</td>\n",
              "      <td id=\"T_62916_row2_col9\" class=\"data row2 col9\" >169</td>\n",
              "      <td id=\"T_62916_row2_col10\" class=\"data row2 col10\" >2.16</td>\n",
              "      <td id=\"T_62916_row2_col11\" class=\"data row2 col11\" >91.3</td>\n",
              "      <td id=\"T_62916_row2_col12\" class=\"data row2 col12\" >7.14</td>\n",
              "      <td id=\"T_62916_row2_col13\" class=\"data row2 col13\" >9.2</td>\n",
              "    </tr>\n",
              "    <tr>\n",
              "      <th id=\"T_62916_level0_row3\" class=\"row_heading level0 row3\" >min</th>\n",
              "      <td id=\"T_62916_row3_col0\" class=\"data row3 col0\" >0.00632</td>\n",
              "      <td id=\"T_62916_row3_col1\" class=\"data row3 col1\" >0</td>\n",
              "      <td id=\"T_62916_row3_col2\" class=\"data row3 col2\" >0.46</td>\n",
              "      <td id=\"T_62916_row3_col3\" class=\"data row3 col3\" >0</td>\n",
              "      <td id=\"T_62916_row3_col4\" class=\"data row3 col4\" >0.385</td>\n",
              "      <td id=\"T_62916_row3_col5\" class=\"data row3 col5\" >3.56</td>\n",
              "      <td id=\"T_62916_row3_col6\" class=\"data row3 col6\" >2.9</td>\n",
              "      <td id=\"T_62916_row3_col7\" class=\"data row3 col7\" >1.13</td>\n",
              "      <td id=\"T_62916_row3_col8\" class=\"data row3 col8\" >1</td>\n",
              "      <td id=\"T_62916_row3_col9\" class=\"data row3 col9\" >187</td>\n",
              "      <td id=\"T_62916_row3_col10\" class=\"data row3 col10\" >12.6</td>\n",
              "      <td id=\"T_62916_row3_col11\" class=\"data row3 col11\" >0.32</td>\n",
              "      <td id=\"T_62916_row3_col12\" class=\"data row3 col12\" >1.73</td>\n",
              "      <td id=\"T_62916_row3_col13\" class=\"data row3 col13\" >5</td>\n",
              "    </tr>\n",
              "    <tr>\n",
              "      <th id=\"T_62916_level0_row4\" class=\"row_heading level0 row4\" >25%</th>\n",
              "      <td id=\"T_62916_row4_col0\" class=\"data row4 col0\" >0.082</td>\n",
              "      <td id=\"T_62916_row4_col1\" class=\"data row4 col1\" >0</td>\n",
              "      <td id=\"T_62916_row4_col2\" class=\"data row4 col2\" >5.19</td>\n",
              "      <td id=\"T_62916_row4_col3\" class=\"data row4 col3\" >0</td>\n",
              "      <td id=\"T_62916_row4_col4\" class=\"data row4 col4\" >0.449</td>\n",
              "      <td id=\"T_62916_row4_col5\" class=\"data row4 col5\" >5.89</td>\n",
              "      <td id=\"T_62916_row4_col6\" class=\"data row4 col6\" >45</td>\n",
              "      <td id=\"T_62916_row4_col7\" class=\"data row4 col7\" >2.1</td>\n",
              "      <td id=\"T_62916_row4_col8\" class=\"data row4 col8\" >4</td>\n",
              "      <td id=\"T_62916_row4_col9\" class=\"data row4 col9\" >279</td>\n",
              "      <td id=\"T_62916_row4_col10\" class=\"data row4 col10\" >17.4</td>\n",
              "      <td id=\"T_62916_row4_col11\" class=\"data row4 col11\" >375</td>\n",
              "      <td id=\"T_62916_row4_col12\" class=\"data row4 col12\" >6.95</td>\n",
              "      <td id=\"T_62916_row4_col13\" class=\"data row4 col13\" >17</td>\n",
              "    </tr>\n",
              "    <tr>\n",
              "      <th id=\"T_62916_level0_row5\" class=\"row_heading level0 row5\" >50%</th>\n",
              "      <td id=\"T_62916_row5_col0\" class=\"data row5 col0\" >0.257</td>\n",
              "      <td id=\"T_62916_row5_col1\" class=\"data row5 col1\" >0</td>\n",
              "      <td id=\"T_62916_row5_col2\" class=\"data row5 col2\" >9.69</td>\n",
              "      <td id=\"T_62916_row5_col3\" class=\"data row5 col3\" >0</td>\n",
              "      <td id=\"T_62916_row5_col4\" class=\"data row5 col4\" >0.538</td>\n",
              "      <td id=\"T_62916_row5_col5\" class=\"data row5 col5\" >6.21</td>\n",
              "      <td id=\"T_62916_row5_col6\" class=\"data row5 col6\" >77.5</td>\n",
              "      <td id=\"T_62916_row5_col7\" class=\"data row5 col7\" >3.21</td>\n",
              "      <td id=\"T_62916_row5_col8\" class=\"data row5 col8\" >5</td>\n",
              "      <td id=\"T_62916_row5_col9\" class=\"data row5 col9\" >330</td>\n",
              "      <td id=\"T_62916_row5_col10\" class=\"data row5 col10\" >19.1</td>\n",
              "      <td id=\"T_62916_row5_col11\" class=\"data row5 col11\" >391</td>\n",
              "      <td id=\"T_62916_row5_col12\" class=\"data row5 col12\" >11.4</td>\n",
              "      <td id=\"T_62916_row5_col13\" class=\"data row5 col13\" >21.2</td>\n",
              "    </tr>\n",
              "    <tr>\n",
              "      <th id=\"T_62916_level0_row6\" class=\"row_heading level0 row6\" >75%</th>\n",
              "      <td id=\"T_62916_row6_col0\" class=\"data row6 col0\" >3.68</td>\n",
              "      <td id=\"T_62916_row6_col1\" class=\"data row6 col1\" >12.5</td>\n",
              "      <td id=\"T_62916_row6_col2\" class=\"data row6 col2\" >18.1</td>\n",
              "      <td id=\"T_62916_row6_col3\" class=\"data row6 col3\" >0</td>\n",
              "      <td id=\"T_62916_row6_col4\" class=\"data row6 col4\" >0.624</td>\n",
              "      <td id=\"T_62916_row6_col5\" class=\"data row6 col5\" >6.62</td>\n",
              "      <td id=\"T_62916_row6_col6\" class=\"data row6 col6\" >94.1</td>\n",
              "      <td id=\"T_62916_row6_col7\" class=\"data row6 col7\" >5.19</td>\n",
              "      <td id=\"T_62916_row6_col8\" class=\"data row6 col8\" >24</td>\n",
              "      <td id=\"T_62916_row6_col9\" class=\"data row6 col9\" >666</td>\n",
              "      <td id=\"T_62916_row6_col10\" class=\"data row6 col10\" >20.2</td>\n",
              "      <td id=\"T_62916_row6_col11\" class=\"data row6 col11\" >396</td>\n",
              "      <td id=\"T_62916_row6_col12\" class=\"data row6 col12\" >17</td>\n",
              "      <td id=\"T_62916_row6_col13\" class=\"data row6 col13\" >25</td>\n",
              "    </tr>\n",
              "    <tr>\n",
              "      <th id=\"T_62916_level0_row7\" class=\"row_heading level0 row7\" >max</th>\n",
              "      <td id=\"T_62916_row7_col0\" class=\"data row7 col0\" >89</td>\n",
              "      <td id=\"T_62916_row7_col1\" class=\"data row7 col1\" >100</td>\n",
              "      <td id=\"T_62916_row7_col2\" class=\"data row7 col2\" >27.7</td>\n",
              "      <td id=\"T_62916_row7_col3\" class=\"data row7 col3\" >1</td>\n",
              "      <td id=\"T_62916_row7_col4\" class=\"data row7 col4\" >0.871</td>\n",
              "      <td id=\"T_62916_row7_col5\" class=\"data row7 col5\" >8.78</td>\n",
              "      <td id=\"T_62916_row7_col6\" class=\"data row7 col6\" >100</td>\n",
              "      <td id=\"T_62916_row7_col7\" class=\"data row7 col7\" >12.1</td>\n",
              "      <td id=\"T_62916_row7_col8\" class=\"data row7 col8\" >24</td>\n",
              "      <td id=\"T_62916_row7_col9\" class=\"data row7 col9\" >711</td>\n",
              "      <td id=\"T_62916_row7_col10\" class=\"data row7 col10\" >22</td>\n",
              "      <td id=\"T_62916_row7_col11\" class=\"data row7 col11\" >397</td>\n",
              "      <td id=\"T_62916_row7_col12\" class=\"data row7 col12\" >38</td>\n",
              "      <td id=\"T_62916_row7_col13\" class=\"data row7 col13\" >50</td>\n",
              "    </tr>\n",
              "  </tbody>\n",
              "</table>\n"
            ],
            "text/plain": [
              "<pandas.io.formats.style.Styler at 0x249bcd3b4c0>"
            ]
          },
          "execution_count": 7,
          "metadata": {},
          "output_type": "execute_result"
        }
      ],
      "source": [
        "boston_df.describe().style.format(\"{:.3g}\")"
      ]
    },
    {
      "cell_type": "markdown",
      "id": "moving-tobago",
      "metadata": {
        "id": "moving-tobago"
      },
      "source": [
        "#### Corrélations"
      ]
    },
    {
      "cell_type": "markdown",
      "id": "fluid-kazakhstan",
      "metadata": {
        "id": "fluid-kazakhstan"
      },
      "source": [
        "On peut faire très rapidement un tableau des corrélations avec toutes les données via [`pandas.DataFrame.corr`](https://pandas.pydata.org/pandas-docs/stable/reference/api/pandas.DataFrame.corr.html)."
      ]
    },
    {
      "cell_type": "code",
      "execution_count": 10,
      "id": "covered-istanbul",
      "metadata": {
        "colab": {
          "base_uri": "https://localhost:8080/",
          "height": 488
        },
        "id": "covered-istanbul",
        "outputId": "d82cbc26-e37f-4619-adf0-17745dad6c4e"
      },
      "outputs": [
        {
          "data": {
            "text/html": [
              "<style type=\"text/css\">\n",
              "</style>\n",
              "<table id=\"T_95432_\">\n",
              "  <thead>\n",
              "    <tr>\n",
              "      <th class=\"blank level0\" >&nbsp;</th>\n",
              "      <th class=\"col_heading level0 col0\" >CRIM</th>\n",
              "      <th class=\"col_heading level0 col1\" >ZN</th>\n",
              "      <th class=\"col_heading level0 col2\" >INDUS</th>\n",
              "      <th class=\"col_heading level0 col3\" >CHAS</th>\n",
              "      <th class=\"col_heading level0 col4\" >NOX</th>\n",
              "      <th class=\"col_heading level0 col5\" >RM</th>\n",
              "      <th class=\"col_heading level0 col6\" >AGE</th>\n",
              "      <th class=\"col_heading level0 col7\" >DIS</th>\n",
              "      <th class=\"col_heading level0 col8\" >RAD</th>\n",
              "      <th class=\"col_heading level0 col9\" >TAX</th>\n",
              "      <th class=\"col_heading level0 col10\" >PTRATIO</th>\n",
              "      <th class=\"col_heading level0 col11\" >B</th>\n",
              "      <th class=\"col_heading level0 col12\" >LSTAT</th>\n",
              "      <th class=\"col_heading level0 col13\" >PRICE</th>\n",
              "    </tr>\n",
              "  </thead>\n",
              "  <tbody>\n",
              "    <tr>\n",
              "      <th id=\"T_95432_level0_row0\" class=\"row_heading level0 row0\" >CRIM</th>\n",
              "      <td id=\"T_95432_row0_col0\" class=\"data row0 col0\" >1</td>\n",
              "      <td id=\"T_95432_row0_col1\" class=\"data row0 col1\" >-0.2</td>\n",
              "      <td id=\"T_95432_row0_col2\" class=\"data row0 col2\" >0.41</td>\n",
              "      <td id=\"T_95432_row0_col3\" class=\"data row0 col3\" >-0.056</td>\n",
              "      <td id=\"T_95432_row0_col4\" class=\"data row0 col4\" >0.42</td>\n",
              "      <td id=\"T_95432_row0_col5\" class=\"data row0 col5\" >-0.22</td>\n",
              "      <td id=\"T_95432_row0_col6\" class=\"data row0 col6\" >0.35</td>\n",
              "      <td id=\"T_95432_row0_col7\" class=\"data row0 col7\" >-0.38</td>\n",
              "      <td id=\"T_95432_row0_col8\" class=\"data row0 col8\" >0.63</td>\n",
              "      <td id=\"T_95432_row0_col9\" class=\"data row0 col9\" >0.58</td>\n",
              "      <td id=\"T_95432_row0_col10\" class=\"data row0 col10\" >0.29</td>\n",
              "      <td id=\"T_95432_row0_col11\" class=\"data row0 col11\" >-0.39</td>\n",
              "      <td id=\"T_95432_row0_col12\" class=\"data row0 col12\" >0.46</td>\n",
              "      <td id=\"T_95432_row0_col13\" class=\"data row0 col13\" >-0.39</td>\n",
              "    </tr>\n",
              "    <tr>\n",
              "      <th id=\"T_95432_level0_row1\" class=\"row_heading level0 row1\" >ZN</th>\n",
              "      <td id=\"T_95432_row1_col0\" class=\"data row1 col0\" >-0.2</td>\n",
              "      <td id=\"T_95432_row1_col1\" class=\"data row1 col1\" >1</td>\n",
              "      <td id=\"T_95432_row1_col2\" class=\"data row1 col2\" >-0.53</td>\n",
              "      <td id=\"T_95432_row1_col3\" class=\"data row1 col3\" >-0.043</td>\n",
              "      <td id=\"T_95432_row1_col4\" class=\"data row1 col4\" >-0.52</td>\n",
              "      <td id=\"T_95432_row1_col5\" class=\"data row1 col5\" >0.31</td>\n",
              "      <td id=\"T_95432_row1_col6\" class=\"data row1 col6\" >-0.57</td>\n",
              "      <td id=\"T_95432_row1_col7\" class=\"data row1 col7\" >0.66</td>\n",
              "      <td id=\"T_95432_row1_col8\" class=\"data row1 col8\" >-0.31</td>\n",
              "      <td id=\"T_95432_row1_col9\" class=\"data row1 col9\" >-0.31</td>\n",
              "      <td id=\"T_95432_row1_col10\" class=\"data row1 col10\" >-0.39</td>\n",
              "      <td id=\"T_95432_row1_col11\" class=\"data row1 col11\" >0.18</td>\n",
              "      <td id=\"T_95432_row1_col12\" class=\"data row1 col12\" >-0.41</td>\n",
              "      <td id=\"T_95432_row1_col13\" class=\"data row1 col13\" >0.36</td>\n",
              "    </tr>\n",
              "    <tr>\n",
              "      <th id=\"T_95432_level0_row2\" class=\"row_heading level0 row2\" >INDUS</th>\n",
              "      <td id=\"T_95432_row2_col0\" class=\"data row2 col0\" >0.41</td>\n",
              "      <td id=\"T_95432_row2_col1\" class=\"data row2 col1\" >-0.53</td>\n",
              "      <td id=\"T_95432_row2_col2\" class=\"data row2 col2\" >1</td>\n",
              "      <td id=\"T_95432_row2_col3\" class=\"data row2 col3\" >0.063</td>\n",
              "      <td id=\"T_95432_row2_col4\" class=\"data row2 col4\" >0.76</td>\n",
              "      <td id=\"T_95432_row2_col5\" class=\"data row2 col5\" >-0.39</td>\n",
              "      <td id=\"T_95432_row2_col6\" class=\"data row2 col6\" >0.64</td>\n",
              "      <td id=\"T_95432_row2_col7\" class=\"data row2 col7\" >-0.71</td>\n",
              "      <td id=\"T_95432_row2_col8\" class=\"data row2 col8\" >0.6</td>\n",
              "      <td id=\"T_95432_row2_col9\" class=\"data row2 col9\" >0.72</td>\n",
              "      <td id=\"T_95432_row2_col10\" class=\"data row2 col10\" >0.38</td>\n",
              "      <td id=\"T_95432_row2_col11\" class=\"data row2 col11\" >-0.36</td>\n",
              "      <td id=\"T_95432_row2_col12\" class=\"data row2 col12\" >0.6</td>\n",
              "      <td id=\"T_95432_row2_col13\" class=\"data row2 col13\" >-0.48</td>\n",
              "    </tr>\n",
              "    <tr>\n",
              "      <th id=\"T_95432_level0_row3\" class=\"row_heading level0 row3\" >CHAS</th>\n",
              "      <td id=\"T_95432_row3_col0\" class=\"data row3 col0\" >-0.056</td>\n",
              "      <td id=\"T_95432_row3_col1\" class=\"data row3 col1\" >-0.043</td>\n",
              "      <td id=\"T_95432_row3_col2\" class=\"data row3 col2\" >0.063</td>\n",
              "      <td id=\"T_95432_row3_col3\" class=\"data row3 col3\" >1</td>\n",
              "      <td id=\"T_95432_row3_col4\" class=\"data row3 col4\" >0.091</td>\n",
              "      <td id=\"T_95432_row3_col5\" class=\"data row3 col5\" >0.091</td>\n",
              "      <td id=\"T_95432_row3_col6\" class=\"data row3 col6\" >0.087</td>\n",
              "      <td id=\"T_95432_row3_col7\" class=\"data row3 col7\" >-0.099</td>\n",
              "      <td id=\"T_95432_row3_col8\" class=\"data row3 col8\" >-0.0074</td>\n",
              "      <td id=\"T_95432_row3_col9\" class=\"data row3 col9\" >-0.036</td>\n",
              "      <td id=\"T_95432_row3_col10\" class=\"data row3 col10\" >-0.12</td>\n",
              "      <td id=\"T_95432_row3_col11\" class=\"data row3 col11\" >0.049</td>\n",
              "      <td id=\"T_95432_row3_col12\" class=\"data row3 col12\" >-0.054</td>\n",
              "      <td id=\"T_95432_row3_col13\" class=\"data row3 col13\" >0.18</td>\n",
              "    </tr>\n",
              "    <tr>\n",
              "      <th id=\"T_95432_level0_row4\" class=\"row_heading level0 row4\" >NOX</th>\n",
              "      <td id=\"T_95432_row4_col0\" class=\"data row4 col0\" >0.42</td>\n",
              "      <td id=\"T_95432_row4_col1\" class=\"data row4 col1\" >-0.52</td>\n",
              "      <td id=\"T_95432_row4_col2\" class=\"data row4 col2\" >0.76</td>\n",
              "      <td id=\"T_95432_row4_col3\" class=\"data row4 col3\" >0.091</td>\n",
              "      <td id=\"T_95432_row4_col4\" class=\"data row4 col4\" >1</td>\n",
              "      <td id=\"T_95432_row4_col5\" class=\"data row4 col5\" >-0.3</td>\n",
              "      <td id=\"T_95432_row4_col6\" class=\"data row4 col6\" >0.73</td>\n",
              "      <td id=\"T_95432_row4_col7\" class=\"data row4 col7\" >-0.77</td>\n",
              "      <td id=\"T_95432_row4_col8\" class=\"data row4 col8\" >0.61</td>\n",
              "      <td id=\"T_95432_row4_col9\" class=\"data row4 col9\" >0.67</td>\n",
              "      <td id=\"T_95432_row4_col10\" class=\"data row4 col10\" >0.19</td>\n",
              "      <td id=\"T_95432_row4_col11\" class=\"data row4 col11\" >-0.38</td>\n",
              "      <td id=\"T_95432_row4_col12\" class=\"data row4 col12\" >0.59</td>\n",
              "      <td id=\"T_95432_row4_col13\" class=\"data row4 col13\" >-0.43</td>\n",
              "    </tr>\n",
              "    <tr>\n",
              "      <th id=\"T_95432_level0_row5\" class=\"row_heading level0 row5\" >RM</th>\n",
              "      <td id=\"T_95432_row5_col0\" class=\"data row5 col0\" >-0.22</td>\n",
              "      <td id=\"T_95432_row5_col1\" class=\"data row5 col1\" >0.31</td>\n",
              "      <td id=\"T_95432_row5_col2\" class=\"data row5 col2\" >-0.39</td>\n",
              "      <td id=\"T_95432_row5_col3\" class=\"data row5 col3\" >0.091</td>\n",
              "      <td id=\"T_95432_row5_col4\" class=\"data row5 col4\" >-0.3</td>\n",
              "      <td id=\"T_95432_row5_col5\" class=\"data row5 col5\" >1</td>\n",
              "      <td id=\"T_95432_row5_col6\" class=\"data row5 col6\" >-0.24</td>\n",
              "      <td id=\"T_95432_row5_col7\" class=\"data row5 col7\" >0.21</td>\n",
              "      <td id=\"T_95432_row5_col8\" class=\"data row5 col8\" >-0.21</td>\n",
              "      <td id=\"T_95432_row5_col9\" class=\"data row5 col9\" >-0.29</td>\n",
              "      <td id=\"T_95432_row5_col10\" class=\"data row5 col10\" >-0.36</td>\n",
              "      <td id=\"T_95432_row5_col11\" class=\"data row5 col11\" >0.13</td>\n",
              "      <td id=\"T_95432_row5_col12\" class=\"data row5 col12\" >-0.61</td>\n",
              "      <td id=\"T_95432_row5_col13\" class=\"data row5 col13\" >0.7</td>\n",
              "    </tr>\n",
              "    <tr>\n",
              "      <th id=\"T_95432_level0_row6\" class=\"row_heading level0 row6\" >AGE</th>\n",
              "      <td id=\"T_95432_row6_col0\" class=\"data row6 col0\" >0.35</td>\n",
              "      <td id=\"T_95432_row6_col1\" class=\"data row6 col1\" >-0.57</td>\n",
              "      <td id=\"T_95432_row6_col2\" class=\"data row6 col2\" >0.64</td>\n",
              "      <td id=\"T_95432_row6_col3\" class=\"data row6 col3\" >0.087</td>\n",
              "      <td id=\"T_95432_row6_col4\" class=\"data row6 col4\" >0.73</td>\n",
              "      <td id=\"T_95432_row6_col5\" class=\"data row6 col5\" >-0.24</td>\n",
              "      <td id=\"T_95432_row6_col6\" class=\"data row6 col6\" >1</td>\n",
              "      <td id=\"T_95432_row6_col7\" class=\"data row6 col7\" >-0.75</td>\n",
              "      <td id=\"T_95432_row6_col8\" class=\"data row6 col8\" >0.46</td>\n",
              "      <td id=\"T_95432_row6_col9\" class=\"data row6 col9\" >0.51</td>\n",
              "      <td id=\"T_95432_row6_col10\" class=\"data row6 col10\" >0.26</td>\n",
              "      <td id=\"T_95432_row6_col11\" class=\"data row6 col11\" >-0.27</td>\n",
              "      <td id=\"T_95432_row6_col12\" class=\"data row6 col12\" >0.6</td>\n",
              "      <td id=\"T_95432_row6_col13\" class=\"data row6 col13\" >-0.38</td>\n",
              "    </tr>\n",
              "    <tr>\n",
              "      <th id=\"T_95432_level0_row7\" class=\"row_heading level0 row7\" >DIS</th>\n",
              "      <td id=\"T_95432_row7_col0\" class=\"data row7 col0\" >-0.38</td>\n",
              "      <td id=\"T_95432_row7_col1\" class=\"data row7 col1\" >0.66</td>\n",
              "      <td id=\"T_95432_row7_col2\" class=\"data row7 col2\" >-0.71</td>\n",
              "      <td id=\"T_95432_row7_col3\" class=\"data row7 col3\" >-0.099</td>\n",
              "      <td id=\"T_95432_row7_col4\" class=\"data row7 col4\" >-0.77</td>\n",
              "      <td id=\"T_95432_row7_col5\" class=\"data row7 col5\" >0.21</td>\n",
              "      <td id=\"T_95432_row7_col6\" class=\"data row7 col6\" >-0.75</td>\n",
              "      <td id=\"T_95432_row7_col7\" class=\"data row7 col7\" >1</td>\n",
              "      <td id=\"T_95432_row7_col8\" class=\"data row7 col8\" >-0.49</td>\n",
              "      <td id=\"T_95432_row7_col9\" class=\"data row7 col9\" >-0.53</td>\n",
              "      <td id=\"T_95432_row7_col10\" class=\"data row7 col10\" >-0.23</td>\n",
              "      <td id=\"T_95432_row7_col11\" class=\"data row7 col11\" >0.29</td>\n",
              "      <td id=\"T_95432_row7_col12\" class=\"data row7 col12\" >-0.5</td>\n",
              "      <td id=\"T_95432_row7_col13\" class=\"data row7 col13\" >0.25</td>\n",
              "    </tr>\n",
              "    <tr>\n",
              "      <th id=\"T_95432_level0_row8\" class=\"row_heading level0 row8\" >RAD</th>\n",
              "      <td id=\"T_95432_row8_col0\" class=\"data row8 col0\" >0.63</td>\n",
              "      <td id=\"T_95432_row8_col1\" class=\"data row8 col1\" >-0.31</td>\n",
              "      <td id=\"T_95432_row8_col2\" class=\"data row8 col2\" >0.6</td>\n",
              "      <td id=\"T_95432_row8_col3\" class=\"data row8 col3\" >-0.0074</td>\n",
              "      <td id=\"T_95432_row8_col4\" class=\"data row8 col4\" >0.61</td>\n",
              "      <td id=\"T_95432_row8_col5\" class=\"data row8 col5\" >-0.21</td>\n",
              "      <td id=\"T_95432_row8_col6\" class=\"data row8 col6\" >0.46</td>\n",
              "      <td id=\"T_95432_row8_col7\" class=\"data row8 col7\" >-0.49</td>\n",
              "      <td id=\"T_95432_row8_col8\" class=\"data row8 col8\" >1</td>\n",
              "      <td id=\"T_95432_row8_col9\" class=\"data row8 col9\" >0.91</td>\n",
              "      <td id=\"T_95432_row8_col10\" class=\"data row8 col10\" >0.46</td>\n",
              "      <td id=\"T_95432_row8_col11\" class=\"data row8 col11\" >-0.44</td>\n",
              "      <td id=\"T_95432_row8_col12\" class=\"data row8 col12\" >0.49</td>\n",
              "      <td id=\"T_95432_row8_col13\" class=\"data row8 col13\" >-0.38</td>\n",
              "    </tr>\n",
              "    <tr>\n",
              "      <th id=\"T_95432_level0_row9\" class=\"row_heading level0 row9\" >TAX</th>\n",
              "      <td id=\"T_95432_row9_col0\" class=\"data row9 col0\" >0.58</td>\n",
              "      <td id=\"T_95432_row9_col1\" class=\"data row9 col1\" >-0.31</td>\n",
              "      <td id=\"T_95432_row9_col2\" class=\"data row9 col2\" >0.72</td>\n",
              "      <td id=\"T_95432_row9_col3\" class=\"data row9 col3\" >-0.036</td>\n",
              "      <td id=\"T_95432_row9_col4\" class=\"data row9 col4\" >0.67</td>\n",
              "      <td id=\"T_95432_row9_col5\" class=\"data row9 col5\" >-0.29</td>\n",
              "      <td id=\"T_95432_row9_col6\" class=\"data row9 col6\" >0.51</td>\n",
              "      <td id=\"T_95432_row9_col7\" class=\"data row9 col7\" >-0.53</td>\n",
              "      <td id=\"T_95432_row9_col8\" class=\"data row9 col8\" >0.91</td>\n",
              "      <td id=\"T_95432_row9_col9\" class=\"data row9 col9\" >1</td>\n",
              "      <td id=\"T_95432_row9_col10\" class=\"data row9 col10\" >0.46</td>\n",
              "      <td id=\"T_95432_row9_col11\" class=\"data row9 col11\" >-0.44</td>\n",
              "      <td id=\"T_95432_row9_col12\" class=\"data row9 col12\" >0.54</td>\n",
              "      <td id=\"T_95432_row9_col13\" class=\"data row9 col13\" >-0.47</td>\n",
              "    </tr>\n",
              "    <tr>\n",
              "      <th id=\"T_95432_level0_row10\" class=\"row_heading level0 row10\" >PTRATIO</th>\n",
              "      <td id=\"T_95432_row10_col0\" class=\"data row10 col0\" >0.29</td>\n",
              "      <td id=\"T_95432_row10_col1\" class=\"data row10 col1\" >-0.39</td>\n",
              "      <td id=\"T_95432_row10_col2\" class=\"data row10 col2\" >0.38</td>\n",
              "      <td id=\"T_95432_row10_col3\" class=\"data row10 col3\" >-0.12</td>\n",
              "      <td id=\"T_95432_row10_col4\" class=\"data row10 col4\" >0.19</td>\n",
              "      <td id=\"T_95432_row10_col5\" class=\"data row10 col5\" >-0.36</td>\n",
              "      <td id=\"T_95432_row10_col6\" class=\"data row10 col6\" >0.26</td>\n",
              "      <td id=\"T_95432_row10_col7\" class=\"data row10 col7\" >-0.23</td>\n",
              "      <td id=\"T_95432_row10_col8\" class=\"data row10 col8\" >0.46</td>\n",
              "      <td id=\"T_95432_row10_col9\" class=\"data row10 col9\" >0.46</td>\n",
              "      <td id=\"T_95432_row10_col10\" class=\"data row10 col10\" >1</td>\n",
              "      <td id=\"T_95432_row10_col11\" class=\"data row10 col11\" >-0.18</td>\n",
              "      <td id=\"T_95432_row10_col12\" class=\"data row10 col12\" >0.37</td>\n",
              "      <td id=\"T_95432_row10_col13\" class=\"data row10 col13\" >-0.51</td>\n",
              "    </tr>\n",
              "    <tr>\n",
              "      <th id=\"T_95432_level0_row11\" class=\"row_heading level0 row11\" >B</th>\n",
              "      <td id=\"T_95432_row11_col0\" class=\"data row11 col0\" >-0.39</td>\n",
              "      <td id=\"T_95432_row11_col1\" class=\"data row11 col1\" >0.18</td>\n",
              "      <td id=\"T_95432_row11_col2\" class=\"data row11 col2\" >-0.36</td>\n",
              "      <td id=\"T_95432_row11_col3\" class=\"data row11 col3\" >0.049</td>\n",
              "      <td id=\"T_95432_row11_col4\" class=\"data row11 col4\" >-0.38</td>\n",
              "      <td id=\"T_95432_row11_col5\" class=\"data row11 col5\" >0.13</td>\n",
              "      <td id=\"T_95432_row11_col6\" class=\"data row11 col6\" >-0.27</td>\n",
              "      <td id=\"T_95432_row11_col7\" class=\"data row11 col7\" >0.29</td>\n",
              "      <td id=\"T_95432_row11_col8\" class=\"data row11 col8\" >-0.44</td>\n",
              "      <td id=\"T_95432_row11_col9\" class=\"data row11 col9\" >-0.44</td>\n",
              "      <td id=\"T_95432_row11_col10\" class=\"data row11 col10\" >-0.18</td>\n",
              "      <td id=\"T_95432_row11_col11\" class=\"data row11 col11\" >1</td>\n",
              "      <td id=\"T_95432_row11_col12\" class=\"data row11 col12\" >-0.37</td>\n",
              "      <td id=\"T_95432_row11_col13\" class=\"data row11 col13\" >0.33</td>\n",
              "    </tr>\n",
              "    <tr>\n",
              "      <th id=\"T_95432_level0_row12\" class=\"row_heading level0 row12\" >LSTAT</th>\n",
              "      <td id=\"T_95432_row12_col0\" class=\"data row12 col0\" >0.46</td>\n",
              "      <td id=\"T_95432_row12_col1\" class=\"data row12 col1\" >-0.41</td>\n",
              "      <td id=\"T_95432_row12_col2\" class=\"data row12 col2\" >0.6</td>\n",
              "      <td id=\"T_95432_row12_col3\" class=\"data row12 col3\" >-0.054</td>\n",
              "      <td id=\"T_95432_row12_col4\" class=\"data row12 col4\" >0.59</td>\n",
              "      <td id=\"T_95432_row12_col5\" class=\"data row12 col5\" >-0.61</td>\n",
              "      <td id=\"T_95432_row12_col6\" class=\"data row12 col6\" >0.6</td>\n",
              "      <td id=\"T_95432_row12_col7\" class=\"data row12 col7\" >-0.5</td>\n",
              "      <td id=\"T_95432_row12_col8\" class=\"data row12 col8\" >0.49</td>\n",
              "      <td id=\"T_95432_row12_col9\" class=\"data row12 col9\" >0.54</td>\n",
              "      <td id=\"T_95432_row12_col10\" class=\"data row12 col10\" >0.37</td>\n",
              "      <td id=\"T_95432_row12_col11\" class=\"data row12 col11\" >-0.37</td>\n",
              "      <td id=\"T_95432_row12_col12\" class=\"data row12 col12\" >1</td>\n",
              "      <td id=\"T_95432_row12_col13\" class=\"data row12 col13\" >-0.74</td>\n",
              "    </tr>\n",
              "    <tr>\n",
              "      <th id=\"T_95432_level0_row13\" class=\"row_heading level0 row13\" >PRICE</th>\n",
              "      <td id=\"T_95432_row13_col0\" class=\"data row13 col0\" >-0.39</td>\n",
              "      <td id=\"T_95432_row13_col1\" class=\"data row13 col1\" >0.36</td>\n",
              "      <td id=\"T_95432_row13_col2\" class=\"data row13 col2\" >-0.48</td>\n",
              "      <td id=\"T_95432_row13_col3\" class=\"data row13 col3\" >0.18</td>\n",
              "      <td id=\"T_95432_row13_col4\" class=\"data row13 col4\" >-0.43</td>\n",
              "      <td id=\"T_95432_row13_col5\" class=\"data row13 col5\" >0.7</td>\n",
              "      <td id=\"T_95432_row13_col6\" class=\"data row13 col6\" >-0.38</td>\n",
              "      <td id=\"T_95432_row13_col7\" class=\"data row13 col7\" >0.25</td>\n",
              "      <td id=\"T_95432_row13_col8\" class=\"data row13 col8\" >-0.38</td>\n",
              "      <td id=\"T_95432_row13_col9\" class=\"data row13 col9\" >-0.47</td>\n",
              "      <td id=\"T_95432_row13_col10\" class=\"data row13 col10\" >-0.51</td>\n",
              "      <td id=\"T_95432_row13_col11\" class=\"data row13 col11\" >0.33</td>\n",
              "      <td id=\"T_95432_row13_col12\" class=\"data row13 col12\" >-0.74</td>\n",
              "      <td id=\"T_95432_row13_col13\" class=\"data row13 col13\" >1</td>\n",
              "    </tr>\n",
              "  </tbody>\n",
              "</table>\n"
            ],
            "text/plain": [
              "<pandas.io.formats.style.Styler at 0x249bcd3b550>"
            ]
          },
          "execution_count": 10,
          "metadata": {},
          "output_type": "execute_result"
        }
      ],
      "source": [
        "corr_df = boston_df.corr()\n",
        "\n",
        "corr_df.style.format(\"{:.2g}\")"
      ]
    },
    {
      "cell_type": "markdown",
      "id": "twenty-experiment",
      "metadata": {
        "id": "twenty-experiment"
      },
      "source": [
        "La methode [`DataFrame.style.Styler.background_gradient`](https://pandas.pydata.org/docs/reference/api/pandas.io.formats.style.Styler.background_gradient.html) permet de représenter le `DataFrame` en *heatmap*.\n",
        "\n",
        "Dans ce cas, il est important de prendre une double coloration (ici positive en vert et négative en rose) pour mettre en évidence à la fois la valeur absolue des corrélations et leur polarité."
      ]
    },
    {
      "cell_type": "code",
      "execution_count": null,
      "id": "senior-sierra",
      "metadata": {
        "colab": {
          "base_uri": "https://localhost:8080/",
          "height": 488
        },
        "id": "senior-sierra",
        "outputId": "3729f79e-8d37-40f5-91b4-d67b2de5be97"
      },
      "outputs": [
        {
          "data": {
            "text/html": [
              "<style type=\"text/css\">\n",
              "#T_37f84_row0_col0, #T_37f84_row1_col1, #T_37f84_row2_col2, #T_37f84_row3_col3, #T_37f84_row4_col4, #T_37f84_row5_col5, #T_37f84_row6_col6, #T_37f84_row7_col7, #T_37f84_row8_col8, #T_37f84_row9_col9, #T_37f84_row10_col10, #T_37f84_row11_col11, #T_37f84_row12_col12, #T_37f84_row13_col13 {\n",
              "  background-color: #276419;\n",
              "  color: #f1f1f1;\n",
              "}\n",
              "#T_37f84_row0_col1, #T_37f84_row1_col0 {\n",
              "  background-color: #fde0ef;\n",
              "  color: #000000;\n",
              "}\n",
              "#T_37f84_row0_col2, #T_37f84_row2_col0 {\n",
              "  background-color: #b5df82;\n",
              "  color: #000000;\n",
              "}\n",
              "#T_37f84_row0_col3, #T_37f84_row3_col0 {\n",
              "  background-color: #f9f0f5;\n",
              "  color: #000000;\n",
              "}\n",
              "#T_37f84_row0_col4, #T_37f84_row4_col0 {\n",
              "  background-color: #b2dd7f;\n",
              "  color: #000000;\n",
              "}\n",
              "#T_37f84_row0_col5, #T_37f84_row5_col0 {\n",
              "  background-color: #fcdbed;\n",
              "  color: #000000;\n",
              "}\n",
              "#T_37f84_row0_col6, #T_37f84_row6_col0 {\n",
              "  background-color: #c2e596;\n",
              "  color: #000000;\n",
              "}\n",
              "#T_37f84_row0_col7, #T_37f84_row4_col11, #T_37f84_row6_col13, #T_37f84_row7_col0, #T_37f84_row8_col13, #T_37f84_row11_col4, #T_37f84_row13_col6, #T_37f84_row13_col8 {\n",
              "  background-color: #f2badc;\n",
              "  color: #000000;\n",
              "}\n",
              "#T_37f84_row0_col8, #T_37f84_row8_col0 {\n",
              "  background-color: #77b53c;\n",
              "  color: #f1f1f1;\n",
              "}\n",
              "#T_37f84_row0_col9, #T_37f84_row9_col0 {\n",
              "  background-color: #83bf46;\n",
              "  color: #000000;\n",
              "}\n",
              "#T_37f84_row0_col10, #T_37f84_row7_col11, #T_37f84_row10_col0, #T_37f84_row11_col7 {\n",
              "  background-color: #d0ecad;\n",
              "  color: #000000;\n",
              "}\n",
              "#T_37f84_row0_col11, #T_37f84_row0_col13, #T_37f84_row11_col0, #T_37f84_row13_col0 {\n",
              "  background-color: #f2b8db;\n",
              "  color: #000000;\n",
              "}\n",
              "#T_37f84_row0_col12, #T_37f84_row6_col8, #T_37f84_row8_col6, #T_37f84_row9_col10, #T_37f84_row10_col9, #T_37f84_row12_col0 {\n",
              "  background-color: #a7d672;\n",
              "  color: #000000;\n",
              "}\n",
              "#T_37f84_row1_col2, #T_37f84_row2_col1, #T_37f84_row7_col9, #T_37f84_row9_col7 {\n",
              "  background-color: #e48bbc;\n",
              "  color: #f1f1f1;\n",
              "}\n",
              "#T_37f84_row1_col3, #T_37f84_row3_col1 {\n",
              "  background-color: #f8f2f5;\n",
              "  color: #000000;\n",
              "}\n",
              "#T_37f84_row1_col4, #T_37f84_row4_col1 {\n",
              "  background-color: #e590bf;\n",
              "  color: #f1f1f1;\n",
              "}\n",
              "#T_37f84_row1_col5, #T_37f84_row5_col1 {\n",
              "  background-color: #cdeaa7;\n",
              "  color: #000000;\n",
              "}\n",
              "#T_37f84_row1_col6, #T_37f84_row6_col1 {\n",
              "  background-color: #e181b5;\n",
              "  color: #f1f1f1;\n",
              "}\n",
              "#T_37f84_row1_col7, #T_37f84_row4_col9, #T_37f84_row7_col1, #T_37f84_row9_col4 {\n",
              "  background-color: #6dad36;\n",
              "  color: #f1f1f1;\n",
              "}\n",
              "#T_37f84_row1_col8, #T_37f84_row8_col1 {\n",
              "  background-color: #f6c9e3;\n",
              "  color: #000000;\n",
              "}\n",
              "#T_37f84_row1_col9, #T_37f84_row9_col1 {\n",
              "  background-color: #f6c7e3;\n",
              "  color: #000000;\n",
              "}\n",
              "#T_37f84_row1_col10, #T_37f84_row2_col5, #T_37f84_row5_col2, #T_37f84_row10_col1 {\n",
              "  background-color: #f1b7da;\n",
              "  color: #000000;\n",
              "}\n",
              "#T_37f84_row1_col11, #T_37f84_row3_col13, #T_37f84_row11_col1, #T_37f84_row13_col3 {\n",
              "  background-color: #e8f5d5;\n",
              "  color: #000000;\n",
              "}\n",
              "#T_37f84_row1_col12, #T_37f84_row12_col1 {\n",
              "  background-color: #f0b2d7;\n",
              "  color: #000000;\n",
              "}\n",
              "#T_37f84_row1_col13, #T_37f84_row13_col1 {\n",
              "  background-color: #c0e593;\n",
              "  color: #000000;\n",
              "}\n",
              "#T_37f84_row2_col3, #T_37f84_row3_col2 {\n",
              "  background-color: #f1f6ea;\n",
              "  color: #000000;\n",
              "}\n",
              "#T_37f84_row2_col4, #T_37f84_row4_col2 {\n",
              "  background-color: #569927;\n",
              "  color: #f1f1f1;\n",
              "}\n",
              "#T_37f84_row2_col6, #T_37f84_row6_col2 {\n",
              "  background-color: #73b239;\n",
              "  color: #f1f1f1;\n",
              "}\n",
              "#T_37f84_row2_col7, #T_37f84_row7_col2 {\n",
              "  background-color: #d04493;\n",
              "  color: #f1f1f1;\n",
              "}\n",
              "#T_37f84_row2_col8, #T_37f84_row8_col2 {\n",
              "  background-color: #7fbc41;\n",
              "  color: #000000;\n",
              "}\n",
              "#T_37f84_row2_col9, #T_37f84_row9_col2 {\n",
              "  background-color: #60a22d;\n",
              "  color: #f1f1f1;\n",
              "}\n",
              "#T_37f84_row2_col10, #T_37f84_row10_col2 {\n",
              "  background-color: #bbe28a;\n",
              "  color: #000000;\n",
              "}\n",
              "#T_37f84_row2_col11, #T_37f84_row5_col10, #T_37f84_row10_col5, #T_37f84_row11_col2 {\n",
              "  background-color: #f4bfdf;\n",
              "  color: #000000;\n",
              "}\n",
              "#T_37f84_row2_col12, #T_37f84_row6_col12, #T_37f84_row12_col2, #T_37f84_row12_col6 {\n",
              "  background-color: #7dba40;\n",
              "  color: #f1f1f1;\n",
              "}\n",
              "#T_37f84_row2_col13, #T_37f84_row13_col2 {\n",
              "  background-color: #e99cc8;\n",
              "  color: #000000;\n",
              "}\n",
              "#T_37f84_row3_col4, #T_37f84_row3_col5, #T_37f84_row3_col6, #T_37f84_row4_col3, #T_37f84_row5_col3, #T_37f84_row6_col3 {\n",
              "  background-color: #eff6e5;\n",
              "  color: #000000;\n",
              "}\n",
              "#T_37f84_row3_col7, #T_37f84_row7_col3 {\n",
              "  background-color: #faecf3;\n",
              "  color: #000000;\n",
              "}\n",
              "#T_37f84_row3_col8, #T_37f84_row8_col3 {\n",
              "  background-color: #f7f7f7;\n",
              "  color: #000000;\n",
              "}\n",
              "#T_37f84_row3_col9, #T_37f84_row9_col3 {\n",
              "  background-color: #f8f3f6;\n",
              "  color: #000000;\n",
              "}\n",
              "#T_37f84_row3_col10, #T_37f84_row10_col3 {\n",
              "  background-color: #fbe9f2;\n",
              "  color: #000000;\n",
              "}\n",
              "#T_37f84_row3_col11, #T_37f84_row11_col3 {\n",
              "  background-color: #f3f6ed;\n",
              "  color: #000000;\n",
              "}\n",
              "#T_37f84_row3_col12, #T_37f84_row12_col3 {\n",
              "  background-color: #f9f1f5;\n",
              "  color: #000000;\n",
              "}\n",
              "#T_37f84_row4_col5, #T_37f84_row5_col4 {\n",
              "  background-color: #f7cbe4;\n",
              "  color: #000000;\n",
              "}\n",
              "#T_37f84_row4_col6, #T_37f84_row6_col4 {\n",
              "  background-color: #5ea02c;\n",
              "  color: #f1f1f1;\n",
              "}\n",
              "#T_37f84_row4_col7, #T_37f84_row7_col4 {\n",
              "  background-color: #c82884;\n",
              "  color: #f1f1f1;\n",
              "}\n",
              "#T_37f84_row4_col8, #T_37f84_row8_col4 {\n",
              "  background-color: #7bb93e;\n",
              "  color: #f1f1f1;\n",
              "}\n",
              "#T_37f84_row4_col10, #T_37f84_row10_col4 {\n",
              "  background-color: #e7f5d2;\n",
              "  color: #000000;\n",
              "}\n",
              "#T_37f84_row4_col12, #T_37f84_row12_col4 {\n",
              "  background-color: #81bd44;\n",
              "  color: #000000;\n",
              "}\n",
              "#T_37f84_row4_col13, #T_37f84_row13_col4 {\n",
              "  background-color: #eeadd4;\n",
              "  color: #000000;\n",
              "}\n",
              "#T_37f84_row5_col6, #T_37f84_row6_col5 {\n",
              "  background-color: #fbd8eb;\n",
              "  color: #000000;\n",
              "}\n",
              "#T_37f84_row5_col7, #T_37f84_row7_col5 {\n",
              "  background-color: #e4f4cd;\n",
              "  color: #000000;\n",
              "}\n",
              "#T_37f84_row5_col8, #T_37f84_row8_col5 {\n",
              "  background-color: #fddeee;\n",
              "  color: #000000;\n",
              "}\n",
              "#T_37f84_row5_col9, #T_37f84_row9_col5 {\n",
              "  background-color: #f7cce5;\n",
              "  color: #000000;\n",
              "}\n",
              "#T_37f84_row5_col11, #T_37f84_row11_col5 {\n",
              "  background-color: #ecf6de;\n",
              "  color: #000000;\n",
              "}\n",
              "#T_37f84_row5_col12, #T_37f84_row12_col5 {\n",
              "  background-color: #dc70aa;\n",
              "  color: #f1f1f1;\n",
              "}\n",
              "#T_37f84_row5_col13, #T_37f84_row13_col5 {\n",
              "  background-color: #66a731;\n",
              "  color: #f1f1f1;\n",
              "}\n",
              "#T_37f84_row6_col7, #T_37f84_row7_col6 {\n",
              "  background-color: #cb3289;\n",
              "  color: #f1f1f1;\n",
              "}\n",
              "#T_37f84_row6_col9, #T_37f84_row9_col6 {\n",
              "  background-color: #9acd61;\n",
              "  color: #000000;\n",
              "}\n",
              "#T_37f84_row6_col10, #T_37f84_row10_col6 {\n",
              "  background-color: #d8efb9;\n",
              "  color: #000000;\n",
              "}\n",
              "#T_37f84_row6_col11, #T_37f84_row11_col6 {\n",
              "  background-color: #f8d0e7;\n",
              "  color: #000000;\n",
              "}\n",
              "#T_37f84_row7_col8, #T_37f84_row7_col12, #T_37f84_row8_col7, #T_37f84_row12_col7 {\n",
              "  background-color: #e897c4;\n",
              "  color: #000000;\n",
              "}\n",
              "#T_37f84_row7_col10, #T_37f84_row10_col7 {\n",
              "  background-color: #fbd9ec;\n",
              "  color: #000000;\n",
              "}\n",
              "#T_37f84_row7_col13, #T_37f84_row13_col7 {\n",
              "  background-color: #dbf0bf;\n",
              "  color: #000000;\n",
              "}\n",
              "#T_37f84_row8_col9, #T_37f84_row9_col8 {\n",
              "  background-color: #37781c;\n",
              "  color: #f1f1f1;\n",
              "}\n",
              "#T_37f84_row8_col10, #T_37f84_row10_col8 {\n",
              "  background-color: #a5d56f;\n",
              "  color: #000000;\n",
              "}\n",
              "#T_37f84_row8_col11, #T_37f84_row9_col11, #T_37f84_row11_col8, #T_37f84_row11_col9 {\n",
              "  background-color: #eda8d1;\n",
              "  color: #000000;\n",
              "}\n",
              "#T_37f84_row8_col12, #T_37f84_row12_col8 {\n",
              "  background-color: #9ed067;\n",
              "  color: #000000;\n",
              "}\n",
              "#T_37f84_row9_col12, #T_37f84_row12_col9 {\n",
              "  background-color: #8fc654;\n",
              "  color: #000000;\n",
              "}\n",
              "#T_37f84_row9_col13, #T_37f84_row13_col9 {\n",
              "  background-color: #eba1cb;\n",
              "  color: #000000;\n",
              "}\n",
              "#T_37f84_row10_col11, #T_37f84_row11_col10 {\n",
              "  background-color: #fce3f0;\n",
              "  color: #000000;\n",
              "}\n",
              "#T_37f84_row10_col12, #T_37f84_row12_col10 {\n",
              "  background-color: #bee490;\n",
              "  color: #000000;\n",
              "}\n",
              "#T_37f84_row10_col13, #T_37f84_row13_col10 {\n",
              "  background-color: #e795c3;\n",
              "  color: #000000;\n",
              "}\n",
              "#T_37f84_row11_col12, #T_37f84_row12_col11 {\n",
              "  background-color: #f3bdde;\n",
              "  color: #000000;\n",
              "}\n",
              "#T_37f84_row11_col13, #T_37f84_row13_col11 {\n",
              "  background-color: #c7e89f;\n",
              "  color: #000000;\n",
              "}\n",
              "#T_37f84_row12_col13, #T_37f84_row13_col12 {\n",
              "  background-color: #cc368b;\n",
              "  color: #f1f1f1;\n",
              "}\n",
              "</style>\n",
              "<table id=\"T_37f84_\">\n",
              "  <thead>\n",
              "    <tr>\n",
              "      <th class=\"blank level0\" >&nbsp;</th>\n",
              "      <th class=\"col_heading level0 col0\" >CRIM</th>\n",
              "      <th class=\"col_heading level0 col1\" >ZN</th>\n",
              "      <th class=\"col_heading level0 col2\" >INDUS</th>\n",
              "      <th class=\"col_heading level0 col3\" >CHAS</th>\n",
              "      <th class=\"col_heading level0 col4\" >NOX</th>\n",
              "      <th class=\"col_heading level0 col5\" >RM</th>\n",
              "      <th class=\"col_heading level0 col6\" >AGE</th>\n",
              "      <th class=\"col_heading level0 col7\" >DIS</th>\n",
              "      <th class=\"col_heading level0 col8\" >RAD</th>\n",
              "      <th class=\"col_heading level0 col9\" >TAX</th>\n",
              "      <th class=\"col_heading level0 col10\" >PTRATIO</th>\n",
              "      <th class=\"col_heading level0 col11\" >B</th>\n",
              "      <th class=\"col_heading level0 col12\" >LSTAT</th>\n",
              "      <th class=\"col_heading level0 col13\" >PRICE</th>\n",
              "    </tr>\n",
              "  </thead>\n",
              "  <tbody>\n",
              "    <tr>\n",
              "      <th id=\"T_37f84_level0_row0\" class=\"row_heading level0 row0\" >CRIM</th>\n",
              "      <td id=\"T_37f84_row0_col0\" class=\"data row0 col0\" >1</td>\n",
              "      <td id=\"T_37f84_row0_col1\" class=\"data row0 col1\" >-0.2</td>\n",
              "      <td id=\"T_37f84_row0_col2\" class=\"data row0 col2\" >0.41</td>\n",
              "      <td id=\"T_37f84_row0_col3\" class=\"data row0 col3\" >-0.056</td>\n",
              "      <td id=\"T_37f84_row0_col4\" class=\"data row0 col4\" >0.42</td>\n",
              "      <td id=\"T_37f84_row0_col5\" class=\"data row0 col5\" >-0.22</td>\n",
              "      <td id=\"T_37f84_row0_col6\" class=\"data row0 col6\" >0.35</td>\n",
              "      <td id=\"T_37f84_row0_col7\" class=\"data row0 col7\" >-0.38</td>\n",
              "      <td id=\"T_37f84_row0_col8\" class=\"data row0 col8\" >0.63</td>\n",
              "      <td id=\"T_37f84_row0_col9\" class=\"data row0 col9\" >0.58</td>\n",
              "      <td id=\"T_37f84_row0_col10\" class=\"data row0 col10\" >0.29</td>\n",
              "      <td id=\"T_37f84_row0_col11\" class=\"data row0 col11\" >-0.39</td>\n",
              "      <td id=\"T_37f84_row0_col12\" class=\"data row0 col12\" >0.46</td>\n",
              "      <td id=\"T_37f84_row0_col13\" class=\"data row0 col13\" >-0.39</td>\n",
              "    </tr>\n",
              "    <tr>\n",
              "      <th id=\"T_37f84_level0_row1\" class=\"row_heading level0 row1\" >ZN</th>\n",
              "      <td id=\"T_37f84_row1_col0\" class=\"data row1 col0\" >-0.2</td>\n",
              "      <td id=\"T_37f84_row1_col1\" class=\"data row1 col1\" >1</td>\n",
              "      <td id=\"T_37f84_row1_col2\" class=\"data row1 col2\" >-0.53</td>\n",
              "      <td id=\"T_37f84_row1_col3\" class=\"data row1 col3\" >-0.043</td>\n",
              "      <td id=\"T_37f84_row1_col4\" class=\"data row1 col4\" >-0.52</td>\n",
              "      <td id=\"T_37f84_row1_col5\" class=\"data row1 col5\" >0.31</td>\n",
              "      <td id=\"T_37f84_row1_col6\" class=\"data row1 col6\" >-0.57</td>\n",
              "      <td id=\"T_37f84_row1_col7\" class=\"data row1 col7\" >0.66</td>\n",
              "      <td id=\"T_37f84_row1_col8\" class=\"data row1 col8\" >-0.31</td>\n",
              "      <td id=\"T_37f84_row1_col9\" class=\"data row1 col9\" >-0.31</td>\n",
              "      <td id=\"T_37f84_row1_col10\" class=\"data row1 col10\" >-0.39</td>\n",
              "      <td id=\"T_37f84_row1_col11\" class=\"data row1 col11\" >0.18</td>\n",
              "      <td id=\"T_37f84_row1_col12\" class=\"data row1 col12\" >-0.41</td>\n",
              "      <td id=\"T_37f84_row1_col13\" class=\"data row1 col13\" >0.36</td>\n",
              "    </tr>\n",
              "    <tr>\n",
              "      <th id=\"T_37f84_level0_row2\" class=\"row_heading level0 row2\" >INDUS</th>\n",
              "      <td id=\"T_37f84_row2_col0\" class=\"data row2 col0\" >0.41</td>\n",
              "      <td id=\"T_37f84_row2_col1\" class=\"data row2 col1\" >-0.53</td>\n",
              "      <td id=\"T_37f84_row2_col2\" class=\"data row2 col2\" >1</td>\n",
              "      <td id=\"T_37f84_row2_col3\" class=\"data row2 col3\" >0.063</td>\n",
              "      <td id=\"T_37f84_row2_col4\" class=\"data row2 col4\" >0.76</td>\n",
              "      <td id=\"T_37f84_row2_col5\" class=\"data row2 col5\" >-0.39</td>\n",
              "      <td id=\"T_37f84_row2_col6\" class=\"data row2 col6\" >0.64</td>\n",
              "      <td id=\"T_37f84_row2_col7\" class=\"data row2 col7\" >-0.71</td>\n",
              "      <td id=\"T_37f84_row2_col8\" class=\"data row2 col8\" >0.6</td>\n",
              "      <td id=\"T_37f84_row2_col9\" class=\"data row2 col9\" >0.72</td>\n",
              "      <td id=\"T_37f84_row2_col10\" class=\"data row2 col10\" >0.38</td>\n",
              "      <td id=\"T_37f84_row2_col11\" class=\"data row2 col11\" >-0.36</td>\n",
              "      <td id=\"T_37f84_row2_col12\" class=\"data row2 col12\" >0.6</td>\n",
              "      <td id=\"T_37f84_row2_col13\" class=\"data row2 col13\" >-0.48</td>\n",
              "    </tr>\n",
              "    <tr>\n",
              "      <th id=\"T_37f84_level0_row3\" class=\"row_heading level0 row3\" >CHAS</th>\n",
              "      <td id=\"T_37f84_row3_col0\" class=\"data row3 col0\" >-0.056</td>\n",
              "      <td id=\"T_37f84_row3_col1\" class=\"data row3 col1\" >-0.043</td>\n",
              "      <td id=\"T_37f84_row3_col2\" class=\"data row3 col2\" >0.063</td>\n",
              "      <td id=\"T_37f84_row3_col3\" class=\"data row3 col3\" >1</td>\n",
              "      <td id=\"T_37f84_row3_col4\" class=\"data row3 col4\" >0.091</td>\n",
              "      <td id=\"T_37f84_row3_col5\" class=\"data row3 col5\" >0.091</td>\n",
              "      <td id=\"T_37f84_row3_col6\" class=\"data row3 col6\" >0.087</td>\n",
              "      <td id=\"T_37f84_row3_col7\" class=\"data row3 col7\" >-0.099</td>\n",
              "      <td id=\"T_37f84_row3_col8\" class=\"data row3 col8\" >-0.0074</td>\n",
              "      <td id=\"T_37f84_row3_col9\" class=\"data row3 col9\" >-0.036</td>\n",
              "      <td id=\"T_37f84_row3_col10\" class=\"data row3 col10\" >-0.12</td>\n",
              "      <td id=\"T_37f84_row3_col11\" class=\"data row3 col11\" >0.049</td>\n",
              "      <td id=\"T_37f84_row3_col12\" class=\"data row3 col12\" >-0.054</td>\n",
              "      <td id=\"T_37f84_row3_col13\" class=\"data row3 col13\" >0.18</td>\n",
              "    </tr>\n",
              "    <tr>\n",
              "      <th id=\"T_37f84_level0_row4\" class=\"row_heading level0 row4\" >NOX</th>\n",
              "      <td id=\"T_37f84_row4_col0\" class=\"data row4 col0\" >0.42</td>\n",
              "      <td id=\"T_37f84_row4_col1\" class=\"data row4 col1\" >-0.52</td>\n",
              "      <td id=\"T_37f84_row4_col2\" class=\"data row4 col2\" >0.76</td>\n",
              "      <td id=\"T_37f84_row4_col3\" class=\"data row4 col3\" >0.091</td>\n",
              "      <td id=\"T_37f84_row4_col4\" class=\"data row4 col4\" >1</td>\n",
              "      <td id=\"T_37f84_row4_col5\" class=\"data row4 col5\" >-0.3</td>\n",
              "      <td id=\"T_37f84_row4_col6\" class=\"data row4 col6\" >0.73</td>\n",
              "      <td id=\"T_37f84_row4_col7\" class=\"data row4 col7\" >-0.77</td>\n",
              "      <td id=\"T_37f84_row4_col8\" class=\"data row4 col8\" >0.61</td>\n",
              "      <td id=\"T_37f84_row4_col9\" class=\"data row4 col9\" >0.67</td>\n",
              "      <td id=\"T_37f84_row4_col10\" class=\"data row4 col10\" >0.19</td>\n",
              "      <td id=\"T_37f84_row4_col11\" class=\"data row4 col11\" >-0.38</td>\n",
              "      <td id=\"T_37f84_row4_col12\" class=\"data row4 col12\" >0.59</td>\n",
              "      <td id=\"T_37f84_row4_col13\" class=\"data row4 col13\" >-0.43</td>\n",
              "    </tr>\n",
              "    <tr>\n",
              "      <th id=\"T_37f84_level0_row5\" class=\"row_heading level0 row5\" >RM</th>\n",
              "      <td id=\"T_37f84_row5_col0\" class=\"data row5 col0\" >-0.22</td>\n",
              "      <td id=\"T_37f84_row5_col1\" class=\"data row5 col1\" >0.31</td>\n",
              "      <td id=\"T_37f84_row5_col2\" class=\"data row5 col2\" >-0.39</td>\n",
              "      <td id=\"T_37f84_row5_col3\" class=\"data row5 col3\" >0.091</td>\n",
              "      <td id=\"T_37f84_row5_col4\" class=\"data row5 col4\" >-0.3</td>\n",
              "      <td id=\"T_37f84_row5_col5\" class=\"data row5 col5\" >1</td>\n",
              "      <td id=\"T_37f84_row5_col6\" class=\"data row5 col6\" >-0.24</td>\n",
              "      <td id=\"T_37f84_row5_col7\" class=\"data row5 col7\" >0.21</td>\n",
              "      <td id=\"T_37f84_row5_col8\" class=\"data row5 col8\" >-0.21</td>\n",
              "      <td id=\"T_37f84_row5_col9\" class=\"data row5 col9\" >-0.29</td>\n",
              "      <td id=\"T_37f84_row5_col10\" class=\"data row5 col10\" >-0.36</td>\n",
              "      <td id=\"T_37f84_row5_col11\" class=\"data row5 col11\" >0.13</td>\n",
              "      <td id=\"T_37f84_row5_col12\" class=\"data row5 col12\" >-0.61</td>\n",
              "      <td id=\"T_37f84_row5_col13\" class=\"data row5 col13\" >0.7</td>\n",
              "    </tr>\n",
              "    <tr>\n",
              "      <th id=\"T_37f84_level0_row6\" class=\"row_heading level0 row6\" >AGE</th>\n",
              "      <td id=\"T_37f84_row6_col0\" class=\"data row6 col0\" >0.35</td>\n",
              "      <td id=\"T_37f84_row6_col1\" class=\"data row6 col1\" >-0.57</td>\n",
              "      <td id=\"T_37f84_row6_col2\" class=\"data row6 col2\" >0.64</td>\n",
              "      <td id=\"T_37f84_row6_col3\" class=\"data row6 col3\" >0.087</td>\n",
              "      <td id=\"T_37f84_row6_col4\" class=\"data row6 col4\" >0.73</td>\n",
              "      <td id=\"T_37f84_row6_col5\" class=\"data row6 col5\" >-0.24</td>\n",
              "      <td id=\"T_37f84_row6_col6\" class=\"data row6 col6\" >1</td>\n",
              "      <td id=\"T_37f84_row6_col7\" class=\"data row6 col7\" >-0.75</td>\n",
              "      <td id=\"T_37f84_row6_col8\" class=\"data row6 col8\" >0.46</td>\n",
              "      <td id=\"T_37f84_row6_col9\" class=\"data row6 col9\" >0.51</td>\n",
              "      <td id=\"T_37f84_row6_col10\" class=\"data row6 col10\" >0.26</td>\n",
              "      <td id=\"T_37f84_row6_col11\" class=\"data row6 col11\" >-0.27</td>\n",
              "      <td id=\"T_37f84_row6_col12\" class=\"data row6 col12\" >0.6</td>\n",
              "      <td id=\"T_37f84_row6_col13\" class=\"data row6 col13\" >-0.38</td>\n",
              "    </tr>\n",
              "    <tr>\n",
              "      <th id=\"T_37f84_level0_row7\" class=\"row_heading level0 row7\" >DIS</th>\n",
              "      <td id=\"T_37f84_row7_col0\" class=\"data row7 col0\" >-0.38</td>\n",
              "      <td id=\"T_37f84_row7_col1\" class=\"data row7 col1\" >0.66</td>\n",
              "      <td id=\"T_37f84_row7_col2\" class=\"data row7 col2\" >-0.71</td>\n",
              "      <td id=\"T_37f84_row7_col3\" class=\"data row7 col3\" >-0.099</td>\n",
              "      <td id=\"T_37f84_row7_col4\" class=\"data row7 col4\" >-0.77</td>\n",
              "      <td id=\"T_37f84_row7_col5\" class=\"data row7 col5\" >0.21</td>\n",
              "      <td id=\"T_37f84_row7_col6\" class=\"data row7 col6\" >-0.75</td>\n",
              "      <td id=\"T_37f84_row7_col7\" class=\"data row7 col7\" >1</td>\n",
              "      <td id=\"T_37f84_row7_col8\" class=\"data row7 col8\" >-0.49</td>\n",
              "      <td id=\"T_37f84_row7_col9\" class=\"data row7 col9\" >-0.53</td>\n",
              "      <td id=\"T_37f84_row7_col10\" class=\"data row7 col10\" >-0.23</td>\n",
              "      <td id=\"T_37f84_row7_col11\" class=\"data row7 col11\" >0.29</td>\n",
              "      <td id=\"T_37f84_row7_col12\" class=\"data row7 col12\" >-0.5</td>\n",
              "      <td id=\"T_37f84_row7_col13\" class=\"data row7 col13\" >0.25</td>\n",
              "    </tr>\n",
              "    <tr>\n",
              "      <th id=\"T_37f84_level0_row8\" class=\"row_heading level0 row8\" >RAD</th>\n",
              "      <td id=\"T_37f84_row8_col0\" class=\"data row8 col0\" >0.63</td>\n",
              "      <td id=\"T_37f84_row8_col1\" class=\"data row8 col1\" >-0.31</td>\n",
              "      <td id=\"T_37f84_row8_col2\" class=\"data row8 col2\" >0.6</td>\n",
              "      <td id=\"T_37f84_row8_col3\" class=\"data row8 col3\" >-0.0074</td>\n",
              "      <td id=\"T_37f84_row8_col4\" class=\"data row8 col4\" >0.61</td>\n",
              "      <td id=\"T_37f84_row8_col5\" class=\"data row8 col5\" >-0.21</td>\n",
              "      <td id=\"T_37f84_row8_col6\" class=\"data row8 col6\" >0.46</td>\n",
              "      <td id=\"T_37f84_row8_col7\" class=\"data row8 col7\" >-0.49</td>\n",
              "      <td id=\"T_37f84_row8_col8\" class=\"data row8 col8\" >1</td>\n",
              "      <td id=\"T_37f84_row8_col9\" class=\"data row8 col9\" >0.91</td>\n",
              "      <td id=\"T_37f84_row8_col10\" class=\"data row8 col10\" >0.46</td>\n",
              "      <td id=\"T_37f84_row8_col11\" class=\"data row8 col11\" >-0.44</td>\n",
              "      <td id=\"T_37f84_row8_col12\" class=\"data row8 col12\" >0.49</td>\n",
              "      <td id=\"T_37f84_row8_col13\" class=\"data row8 col13\" >-0.38</td>\n",
              "    </tr>\n",
              "    <tr>\n",
              "      <th id=\"T_37f84_level0_row9\" class=\"row_heading level0 row9\" >TAX</th>\n",
              "      <td id=\"T_37f84_row9_col0\" class=\"data row9 col0\" >0.58</td>\n",
              "      <td id=\"T_37f84_row9_col1\" class=\"data row9 col1\" >-0.31</td>\n",
              "      <td id=\"T_37f84_row9_col2\" class=\"data row9 col2\" >0.72</td>\n",
              "      <td id=\"T_37f84_row9_col3\" class=\"data row9 col3\" >-0.036</td>\n",
              "      <td id=\"T_37f84_row9_col4\" class=\"data row9 col4\" >0.67</td>\n",
              "      <td id=\"T_37f84_row9_col5\" class=\"data row9 col5\" >-0.29</td>\n",
              "      <td id=\"T_37f84_row9_col6\" class=\"data row9 col6\" >0.51</td>\n",
              "      <td id=\"T_37f84_row9_col7\" class=\"data row9 col7\" >-0.53</td>\n",
              "      <td id=\"T_37f84_row9_col8\" class=\"data row9 col8\" >0.91</td>\n",
              "      <td id=\"T_37f84_row9_col9\" class=\"data row9 col9\" >1</td>\n",
              "      <td id=\"T_37f84_row9_col10\" class=\"data row9 col10\" >0.46</td>\n",
              "      <td id=\"T_37f84_row9_col11\" class=\"data row9 col11\" >-0.44</td>\n",
              "      <td id=\"T_37f84_row9_col12\" class=\"data row9 col12\" >0.54</td>\n",
              "      <td id=\"T_37f84_row9_col13\" class=\"data row9 col13\" >-0.47</td>\n",
              "    </tr>\n",
              "    <tr>\n",
              "      <th id=\"T_37f84_level0_row10\" class=\"row_heading level0 row10\" >PTRATIO</th>\n",
              "      <td id=\"T_37f84_row10_col0\" class=\"data row10 col0\" >0.29</td>\n",
              "      <td id=\"T_37f84_row10_col1\" class=\"data row10 col1\" >-0.39</td>\n",
              "      <td id=\"T_37f84_row10_col2\" class=\"data row10 col2\" >0.38</td>\n",
              "      <td id=\"T_37f84_row10_col3\" class=\"data row10 col3\" >-0.12</td>\n",
              "      <td id=\"T_37f84_row10_col4\" class=\"data row10 col4\" >0.19</td>\n",
              "      <td id=\"T_37f84_row10_col5\" class=\"data row10 col5\" >-0.36</td>\n",
              "      <td id=\"T_37f84_row10_col6\" class=\"data row10 col6\" >0.26</td>\n",
              "      <td id=\"T_37f84_row10_col7\" class=\"data row10 col7\" >-0.23</td>\n",
              "      <td id=\"T_37f84_row10_col8\" class=\"data row10 col8\" >0.46</td>\n",
              "      <td id=\"T_37f84_row10_col9\" class=\"data row10 col9\" >0.46</td>\n",
              "      <td id=\"T_37f84_row10_col10\" class=\"data row10 col10\" >1</td>\n",
              "      <td id=\"T_37f84_row10_col11\" class=\"data row10 col11\" >-0.18</td>\n",
              "      <td id=\"T_37f84_row10_col12\" class=\"data row10 col12\" >0.37</td>\n",
              "      <td id=\"T_37f84_row10_col13\" class=\"data row10 col13\" >-0.51</td>\n",
              "    </tr>\n",
              "    <tr>\n",
              "      <th id=\"T_37f84_level0_row11\" class=\"row_heading level0 row11\" >B</th>\n",
              "      <td id=\"T_37f84_row11_col0\" class=\"data row11 col0\" >-0.39</td>\n",
              "      <td id=\"T_37f84_row11_col1\" class=\"data row11 col1\" >0.18</td>\n",
              "      <td id=\"T_37f84_row11_col2\" class=\"data row11 col2\" >-0.36</td>\n",
              "      <td id=\"T_37f84_row11_col3\" class=\"data row11 col3\" >0.049</td>\n",
              "      <td id=\"T_37f84_row11_col4\" class=\"data row11 col4\" >-0.38</td>\n",
              "      <td id=\"T_37f84_row11_col5\" class=\"data row11 col5\" >0.13</td>\n",
              "      <td id=\"T_37f84_row11_col6\" class=\"data row11 col6\" >-0.27</td>\n",
              "      <td id=\"T_37f84_row11_col7\" class=\"data row11 col7\" >0.29</td>\n",
              "      <td id=\"T_37f84_row11_col8\" class=\"data row11 col8\" >-0.44</td>\n",
              "      <td id=\"T_37f84_row11_col9\" class=\"data row11 col9\" >-0.44</td>\n",
              "      <td id=\"T_37f84_row11_col10\" class=\"data row11 col10\" >-0.18</td>\n",
              "      <td id=\"T_37f84_row11_col11\" class=\"data row11 col11\" >1</td>\n",
              "      <td id=\"T_37f84_row11_col12\" class=\"data row11 col12\" >-0.37</td>\n",
              "      <td id=\"T_37f84_row11_col13\" class=\"data row11 col13\" >0.33</td>\n",
              "    </tr>\n",
              "    <tr>\n",
              "      <th id=\"T_37f84_level0_row12\" class=\"row_heading level0 row12\" >LSTAT</th>\n",
              "      <td id=\"T_37f84_row12_col0\" class=\"data row12 col0\" >0.46</td>\n",
              "      <td id=\"T_37f84_row12_col1\" class=\"data row12 col1\" >-0.41</td>\n",
              "      <td id=\"T_37f84_row12_col2\" class=\"data row12 col2\" >0.6</td>\n",
              "      <td id=\"T_37f84_row12_col3\" class=\"data row12 col3\" >-0.054</td>\n",
              "      <td id=\"T_37f84_row12_col4\" class=\"data row12 col4\" >0.59</td>\n",
              "      <td id=\"T_37f84_row12_col5\" class=\"data row12 col5\" >-0.61</td>\n",
              "      <td id=\"T_37f84_row12_col6\" class=\"data row12 col6\" >0.6</td>\n",
              "      <td id=\"T_37f84_row12_col7\" class=\"data row12 col7\" >-0.5</td>\n",
              "      <td id=\"T_37f84_row12_col8\" class=\"data row12 col8\" >0.49</td>\n",
              "      <td id=\"T_37f84_row12_col9\" class=\"data row12 col9\" >0.54</td>\n",
              "      <td id=\"T_37f84_row12_col10\" class=\"data row12 col10\" >0.37</td>\n",
              "      <td id=\"T_37f84_row12_col11\" class=\"data row12 col11\" >-0.37</td>\n",
              "      <td id=\"T_37f84_row12_col12\" class=\"data row12 col12\" >1</td>\n",
              "      <td id=\"T_37f84_row12_col13\" class=\"data row12 col13\" >-0.74</td>\n",
              "    </tr>\n",
              "    <tr>\n",
              "      <th id=\"T_37f84_level0_row13\" class=\"row_heading level0 row13\" >PRICE</th>\n",
              "      <td id=\"T_37f84_row13_col0\" class=\"data row13 col0\" >-0.39</td>\n",
              "      <td id=\"T_37f84_row13_col1\" class=\"data row13 col1\" >0.36</td>\n",
              "      <td id=\"T_37f84_row13_col2\" class=\"data row13 col2\" >-0.48</td>\n",
              "      <td id=\"T_37f84_row13_col3\" class=\"data row13 col3\" >0.18</td>\n",
              "      <td id=\"T_37f84_row13_col4\" class=\"data row13 col4\" >-0.43</td>\n",
              "      <td id=\"T_37f84_row13_col5\" class=\"data row13 col5\" >0.7</td>\n",
              "      <td id=\"T_37f84_row13_col6\" class=\"data row13 col6\" >-0.38</td>\n",
              "      <td id=\"T_37f84_row13_col7\" class=\"data row13 col7\" >0.25</td>\n",
              "      <td id=\"T_37f84_row13_col8\" class=\"data row13 col8\" >-0.38</td>\n",
              "      <td id=\"T_37f84_row13_col9\" class=\"data row13 col9\" >-0.47</td>\n",
              "      <td id=\"T_37f84_row13_col10\" class=\"data row13 col10\" >-0.51</td>\n",
              "      <td id=\"T_37f84_row13_col11\" class=\"data row13 col11\" >0.33</td>\n",
              "      <td id=\"T_37f84_row13_col12\" class=\"data row13 col12\" >-0.74</td>\n",
              "      <td id=\"T_37f84_row13_col13\" class=\"data row13 col13\" >1</td>\n",
              "    </tr>\n",
              "  </tbody>\n",
              "</table>\n"
            ],
            "text/plain": [
              "<pandas.io.formats.style.Styler at 0x1c8029472e0>"
            ]
          },
          "execution_count": 138,
          "metadata": {},
          "output_type": "execute_result"
        }
      ],
      "source": [
        "corr_df.style.background_gradient(cmap=\"PiYG\", vmin=-1).format(\"{:.2g}\")"
      ]
    },
    {
      "cell_type": "markdown",
      "id": "fatty-termination",
      "metadata": {
        "id": "fatty-termination"
      },
      "source": [
        "#### Graphiques dans pandas"
      ]
    },
    {
      "cell_type": "markdown",
      "id": "union-medicine",
      "metadata": {
        "id": "union-medicine"
      },
      "source": [
        "Il est possible de construire des graphiques très facilement à partir des `DataFrame` de pandas qui offrent un accès à l'API de Matplotlib, comme par exemple avec la méthode [`DataFrame.hist`](https://pandas.pydata.org/docs/reference/api/pandas.DataFrame.hist.html)."
      ]
    },
    {
      "cell_type": "code",
      "execution_count": null,
      "id": "forty-biodiversity",
      "metadata": {
        "colab": {
          "base_uri": "https://localhost:8080/",
          "height": 266
        },
        "id": "forty-biodiversity",
        "outputId": "f4d1c9a8-75ff-4437-ed40-122373d5d499"
      },
      "outputs": [
        {
          "data": {
            "image/png": "[encoded data removed]",
            "text/plain": [
              "<Figure size 432x288 with 1 Axes>"
            ]
          },
          "metadata": {
            "image/png": {
              "height": 249,
              "width": 375
            },
            "needs_background": "light"
          },
          "output_type": "display_data"
        }
      ],
      "source": [
        "boston_df[\"PRICE\"].hist()\n",
        "plt.show()"
      ]
    },
    {
      "cell_type": "markdown",
      "id": "convertible-cigarette",
      "metadata": {
        "id": "convertible-cigarette"
      },
      "source": [
        "Par défaut, l'histogramme est divisé en 10 paniers (*bins*). On peut voir que le choix du nombre de paniers influence grandement la forme des histogrammes."
      ]
    },
    {
      "cell_type": "code",
      "execution_count": null,
      "id": "fundamental-blair",
      "metadata": {
        "colab": {
          "base_uri": "https://localhost:8080/",
          "height": 265
        },
        "id": "fundamental-blair",
        "outputId": "625d6719-260e-4563-da4d-f3f779991a86"
      },
      "outputs": [
        {
          "data": {
            "image/png": "[encoded data removed]",
            "text/plain": [
              "<Figure size 432x288 with 1 Axes>"
            ]
          },
          "metadata": {
            "image/png": {
              "height": 248,
              "width": 375
            },
            "needs_background": "light"
          },
          "output_type": "display_data"
        }
      ],
      "source": [
        "boston_df[\"PRICE\"].hist(bins=5)\n",
        "plt.show()"
      ]
    },
    {
      "cell_type": "code",
      "execution_count": null,
      "id": "informed-collaboration",
      "metadata": {
        "colab": {
          "base_uri": "https://localhost:8080/",
          "height": 265
        },
        "id": "informed-collaboration",
        "outputId": "a2de721e-2a7f-4fd0-d32e-02a93c549b93"
      },
      "outputs": [
        {
          "data": {
            "image/png": "[encoded data removed]",
            "text/plain": [
              "<Figure size 432x288 with 1 Axes>"
            ]
          },
          "metadata": {
            "image/png": {
              "height": 248,
              "width": 378
            },
            "needs_background": "light"
          },
          "output_type": "display_data"
        }
      ],
      "source": [
        "boston_df[\"PRICE\"].hist(bins=100)\n",
        "plt.show()"
      ]
    },
    {
      "cell_type": "markdown",
      "id": "sound-unknown",
      "metadata": {
        "id": "sound-unknown"
      },
      "source": [
        "#### Scatter matrix"
      ]
    },
    {
      "cell_type": "markdown",
      "id": "plastic-vegetable",
      "metadata": {
        "id": "plastic-vegetable"
      },
      "source": [
        "Une autre façon de visualiser la corrélation entre des descripteurs est via la fonction [`pandas.plotting.scatter_matrix`](https://pandas.pydata.org/docs/reference/api/pandas.plotting.scatter_matrix.html) de pandas, qui trace chaque descripteur numérique par rapport à chaque autre descripteur numérique. \n",
        "\n",
        "Comme on a 13 descripteurs numériques, vous obtiendrez $13 \\times 13 = 169$ figures, ce qui ne serait pas lisible sur une page, alors concentrons-nous simplement sur quelques-uns d'entre eux."
      ]
    },
    {
      "cell_type": "code",
      "execution_count": null,
      "id": "piano-singer",
      "metadata": {
        "colab": {
          "base_uri": "https://localhost:8080/",
          "height": 505
        },
        "id": "piano-singer",
        "outputId": "93eb1592-b441-4acc-af32-4df14ffe92b1"
      },
      "outputs": [
        {
          "data": {
            "image/png": "[encoded data removed]",
            "text/plain": [
              "<Figure size 864x576 with 16 Axes>"
            ]
          },
          "metadata": {
            "image/png": {
              "height": 488,
              "width": 722
            },
            "needs_background": "light"
          },
          "output_type": "display_data"
        }
      ],
      "source": [
        "FTS = [\"PRICE\", \"LSTAT\", \"CHAS\", \"RM\"]\n",
        "pd.plotting.scatter_matrix(boston_df[FTS], figsize=(12, 8))\n",
        "plt.show()"
      ]
    },
    {
      "cell_type": "markdown",
      "id": "numerical-karaoke",
      "metadata": {
        "id": "numerical-karaoke"
      },
      "source": [
        "On peut voir les corrélations positives et négatives avec PRICE, et celles peu corrélées (en l'occurence CHAS, la proximité de la rivière, qui est une variable binaire)."
      ]
    },
    {
      "cell_type": "markdown",
      "id": "human-moment",
      "metadata": {
        "id": "human-moment"
      },
      "source": [
        "---"
      ]
    },
    {
      "cell_type": "markdown",
      "id": "vocational-decimal",
      "metadata": {
        "id": "vocational-decimal"
      },
      "source": [
        "### Classification (digits)"
      ]
    },
    {
      "cell_type": "markdown",
      "id": "secondary-insert",
      "metadata": {
        "id": "secondary-insert"
      },
      "source": [
        "On va regarder la classification en terme de précision et rappel (et non-plus uniquement en terme d'accuracy)."
      ]
    },
    {
      "cell_type": "markdown",
      "id": "measured-japanese",
      "metadata": {
        "id": "measured-japanese"
      },
      "source": [
        "#### Chargement des données"
      ]
    },
    {
      "cell_type": "markdown",
      "id": "emerging-cancellation",
      "metadata": {
        "id": "emerging-cancellation"
      },
      "source": [
        "https://scikit-learn.org/stable/datasets/toy_dataset.html#digits-dataset"
      ]
    },
    {
      "cell_type": "code",
      "execution_count": null,
      "id": "opposed-myrtle",
      "metadata": {
        "id": "opposed-myrtle"
      },
      "outputs": [],
      "source": [
        "digits = datasets.load_digits()"
      ]
    },
    {
      "cell_type": "code",
      "execution_count": null,
      "id": "backed-script",
      "metadata": {
        "colab": {
          "base_uri": "https://localhost:8080/"
        },
        "id": "backed-script",
        "outputId": "da26cc81-d567-4ac4-f772-ea09d433f813"
      },
      "outputs": [
        {
          "name": "stdout",
          "output_type": "stream",
          "text": [
            "(1797, 8, 8)\n",
            "(1797, 64) (1797,)\n"
          ]
        }
      ],
      "source": [
        "# Flatten the images\n",
        "n_samples = len(digits.images)\n",
        "print(digits.images.shape)\n",
        "\n",
        "data = digits.images.reshape([n_samples, -1])\n",
        "\n",
        "print(data.shape, digits.target.shape)"
      ]
    },
    {
      "cell_type": "markdown",
      "id": "destroyed-outside",
      "metadata": {
        "id": "destroyed-outside"
      },
      "source": [
        "Sélectionnez de manière aléatoire le dataset d'entrainement et de test (via la fonction [`train_test_split`](https://scikit-learn.org/stable/modules/generated/sklearn.model_selection.train_test_split.html))."
      ]
    },
    {
      "cell_type": "markdown",
      "id": "confused-alias",
      "metadata": {
        "id": "confused-alias"
      },
      "source": [
        "<span style=\"color:red\">Implémentez votre solution ci-dessous</span>"
      ]
    },
    {
      "cell_type": "code",
      "execution_count": null,
      "id": "225fa14a",
      "metadata": {
        "id": "225fa14a"
      },
      "outputs": [],
      "source": [
        "X_train, X_test, Y_train, Y_test = train_test_split(data, digits.target, random_state=1)"
      ]
    },
    {
      "cell_type": "markdown",
      "id": "intense-vinyl",
      "metadata": {
        "id": "intense-vinyl"
      },
      "source": [
        "#### Entrainement des modèles"
      ]
    },
    {
      "cell_type": "markdown",
      "id": "friendly-national",
      "metadata": {
        "id": "friendly-national"
      },
      "source": [
        "Entrainez le modèle avec l'algorithme de classification [Naive Bayes avec le noyau Gaussien](https://scikit-learn.org/stable/modules/generated/sklearn.naive_bayes.GaussianNB.html)."
      ]
    },
    {
      "cell_type": "markdown",
      "id": "loved-warren",
      "metadata": {
        "id": "loved-warren"
      },
      "source": [
        "<span style=\"color:red\">Implémentez votre solution ci-dessous</span>"
      ]
    },
    {
      "cell_type": "code",
      "execution_count": null,
      "id": "cb22e56f",
      "metadata": {
        "id": "cb22e56f"
      },
      "outputs": [],
      "source": [
        "clf = GaussianNB()\n",
        "clf.fit(X_train, Y_train)\n",
        "Y_pred = clf.predict(X_test)"
      ]
    },
    {
      "cell_type": "markdown",
      "id": "convenient-champagne",
      "metadata": {
        "id": "convenient-champagne"
      },
      "source": [
        "#### Évaluation"
      ]
    },
    {
      "cell_type": "markdown",
      "id": "every-assault",
      "metadata": {
        "id": "every-assault"
      },
      "source": [
        "Évaluez avec l'[`accuracy_score`](https://scikit-learn.org/stable/modules/generated/sklearn.metrics.accuracy_score.html).\n",
        "\n",
        "Puis donnez une résultats plus complet, incluant précision, rappel est et f1-score avec la fonction [`classification_report`](https://scikit-learn.org/stable/modules/generated/sklearn.metrics.classification_report.html)."
      ]
    },
    {
      "cell_type": "markdown",
      "id": "stock-washington",
      "metadata": {
        "id": "stock-washington"
      },
      "source": [
        "<span style=\"color:red\">Implémentez votre solution ci-dessous</span>"
      ]
    },
    {
      "cell_type": "code",
      "execution_count": null,
      "id": "H2hPBrPylReV",
      "metadata": {
        "colab": {
          "base_uri": "https://localhost:8080/"
        },
        "id": "H2hPBrPylReV",
        "outputId": "08639843-3b66-44b8-a1f5-cb70233f1851"
      },
      "outputs": [
        {
          "name": "stdout",
          "output_type": "stream",
          "text": [
            "accuracy score = 0.8533\n",
            "              precision    recall  f1-score   support\n",
            "\n",
            "     degit 0       0.98      0.96      0.97        53\n",
            "     degit 1       0.81      0.81      0.81        42\n",
            "     degit 2       0.93      0.66      0.77        41\n",
            "     degit 3       0.93      0.77      0.84        52\n",
            "     degit 4       0.93      0.91      0.92        47\n",
            "     degit 5       0.94      0.85      0.89        39\n",
            "     degit 6       0.96      1.00      0.98        43\n",
            "     degit 7       0.80      1.00      0.89        48\n",
            "     degit 8       0.51      0.95      0.67        37\n",
            "     degit 9       1.00      0.62      0.77        48\n",
            "\n",
            "    accuracy                           0.85       450\n",
            "   macro avg       0.88      0.85      0.85       450\n",
            "weighted avg       0.89      0.85      0.86       450\n",
            "\n"
          ]
        }
      ],
      "source": [
        "score = accuracy_score(Y_test, Y_pred)\n",
        "print(\"accuracy score = \" +f\"{score :.04f}\")\n",
        "\n",
        "target_names = [f'degit {x}' for x in range(10)]\n",
        "clf_report= classification_report(Y_test, Y_pred, target_names=target_names)\n",
        "print(clf_report)"
      ]
    },
    {
      "cell_type": "markdown",
      "id": "cross-click",
      "metadata": {
        "id": "cross-click"
      },
      "source": [
        "Utiliser la class de scikit-learn [`ConfusionMatrixDisplay`](https://scikit-learn.org/stable/modules/generated/sklearn.metrics.ConfusionMatrixDisplay.html#sklearn.metrics.ConfusionMatrixDisplay.from_predictions)\n",
        "pour afficher la matrice de confusion.\n",
        "\n",
        "Commentez succinctement les résultats.\n",
        "\n",
        "Notez que l'attribut `.confusion_matrix` de l'objet retourné par la fonction permet d'obtenir la matrice de confusion sous forme d'array."
      ]
    },
    {
      "cell_type": "markdown",
      "id": "signal-details",
      "metadata": {
        "id": "signal-details"
      },
      "source": [
        "<span style=\"color:red\">Implémentez votre solution ci-dessous</span>"
      ]
    },
    {
      "cell_type": "code",
      "execution_count": null,
      "id": "Jqf3bkzTpGRf",
      "metadata": {
        "colab": {
          "base_uri": "https://localhost:8080/",
          "height": 278
        },
        "id": "Jqf3bkzTpGRf",
        "outputId": "e66880d9-cb10-4819-cae5-a4cb9dabb90f"
      },
      "outputs": [
        {
          "data": {
            "image/png": "[encoded data removed]",
            "text/plain": [
              "<Figure size 432x288 with 2 Axes>"
            ]
          },
          "metadata": {
            "image/png": {
              "height": 261,
              "width": 306
            },
            "needs_background": "light"
          },
          "output_type": "display_data"
        }
      ],
      "source": [
        "cm = confusion_matrix(Y_test, Y_pred, labels=clf.classes_)\n",
        "disp = ConfusionMatrixDisplay(confusion_matrix=cm,display_labels=clf.classes_)\n",
        "disp.plot()\n",
        "plt.show()"
      ]
    },
    {
      "cell_type": "markdown",
      "id": "occasional-thomson",
      "metadata": {
        "id": "occasional-thomson"
      },
      "source": [
        "#### Visualisation des erreurs"
      ]
    },
    {
      "cell_type": "markdown",
      "id": "dried-restaurant",
      "metadata": {
        "id": "dried-restaurant"
      },
      "source": [
        "Identifiez les cas les plus confus.\n",
        "\n",
        "Identifiez les instances mal classées pour la classe de chiffre au f1-score le plus faible et visualisez les avec le code ci-dessous.\n",
        "\n",
        "Vous pouvez utiliser la fonction [numpy.where](https://numpy.org/doc/stable/reference/generated/numpy.where.html) pour trouver l'index des instances en question."
      ]
    },
    {
      "cell_type": "markdown",
      "id": "5c868833",
      "metadata": {},
      "source": [
        "### <span style=\"color:green\">Analyse</span>\n",
        "\n",
        "On constate que le chiffre 8 a la plus basse __précision__ à 51%, suivi du chiffre 1 à 81% à cause d'une confusion entre \n",
        "* le chiffre 1 et les chiffres 2 \n",
        "* ainsi qu'entre le chiffre 8 et les chiffres {1,2,3}."
      ]
    },
    {
      "cell_type": "markdown",
      "id": "mechanical-banks",
      "metadata": {
        "id": "mechanical-banks"
      },
      "source": [
        "<span style=\"color:red\">Implémentez votre solution ci-dessous</span>"
      ]
    },
    {
      "cell_type": "code",
      "execution_count": null,
      "id": "9fac948e",
      "metadata": {},
      "outputs": [],
      "source": [
        "def plot_digit(idx, xs_test, ys_test, ys_pred):\n",
        "    print(f\"Digit value: {ys_test[idx]}, prediction: {ys_pred[idx]}\")\n",
        "    plt.figure(figsize=(3, 3))\n",
        "    plt.imshow(xs_test[idx].reshape([8, 8]),cmap=plt.cm.gray_r,interpolation=\"nearest\")\n"
      ]
    },
    {
      "cell_type": "markdown",
      "id": "195d7620",
      "metadata": {},
      "source": [
        "etpe1: affichage de tous les f1 score "
      ]
    },
    {
      "cell_type": "code",
      "execution_count": null,
      "id": "9a5033e2",
      "metadata": {},
      "outputs": [
        {
          "data": {
            "text/html": [
              "<div>\n",
              "<style scoped>\n",
              "    .dataframe tbody tr th:only-of-type {\n",
              "        vertical-align: middle;\n",
              "    }\n",
              "\n",
              "    .dataframe tbody tr th {\n",
              "        vertical-align: top;\n",
              "    }\n",
              "\n",
              "    .dataframe thead th {\n",
              "        text-align: right;\n",
              "    }\n",
              "</style>\n",
              "<table border=\"1\" class=\"dataframe\">\n",
              "  <thead>\n",
              "    <tr style=\"text-align: right;\">\n",
              "      <th></th>\n",
              "      <th>f1 score</th>\n",
              "    </tr>\n",
              "  </thead>\n",
              "  <tbody>\n",
              "    <tr>\n",
              "      <th>0</th>\n",
              "      <td>0.9714</td>\n",
              "    </tr>\n",
              "    <tr>\n",
              "      <th>1</th>\n",
              "      <td>0.8095</td>\n",
              "    </tr>\n",
              "    <tr>\n",
              "      <th>2</th>\n",
              "      <td>0.7714</td>\n",
              "    </tr>\n",
              "    <tr>\n",
              "      <th>3</th>\n",
              "      <td>0.8421</td>\n",
              "    </tr>\n",
              "    <tr>\n",
              "      <th>4</th>\n",
              "      <td>0.9247</td>\n",
              "    </tr>\n",
              "    <tr>\n",
              "      <th>5</th>\n",
              "      <td>0.8919</td>\n",
              "    </tr>\n",
              "    <tr>\n",
              "      <th>6</th>\n",
              "      <td>0.9773</td>\n",
              "    </tr>\n",
              "    <tr>\n",
              "      <th>7</th>\n",
              "      <td>0.8889</td>\n",
              "    </tr>\n",
              "    <tr>\n",
              "      <th>8</th>\n",
              "      <td>0.6667</td>\n",
              "    </tr>\n",
              "    <tr>\n",
              "      <th>9</th>\n",
              "      <td>0.7692</td>\n",
              "    </tr>\n",
              "  </tbody>\n",
              "</table>\n",
              "</div>"
            ],
            "text/plain": [
              "  f1 score\n",
              "0   0.9714\n",
              "1   0.8095\n",
              "2   0.7714\n",
              "3   0.8421\n",
              "4   0.9247\n",
              "5   0.8919\n",
              "6   0.9773\n",
              "7   0.8889\n",
              "8   0.6667\n",
              "9   0.7692"
            ]
          },
          "execution_count": 150,
          "metadata": {},
          "output_type": "execute_result"
        }
      ],
      "source": [
        "clf_report_dict= classification_report(Y_test, Y_pred, target_names=target_names,output_dict=True)\n",
        "f1_scores=[]\n",
        "for degit in range(10):\n",
        "    f1_score=clf_report_dict[\"degit \"+str(degit)]['f1-score']\n",
        "    f1_scores.append(f\"{f1_score :.04f}\")\n",
        "pd.DataFrame(f1_scores,columns=['f1 score'])"
      ]
    },
    {
      "cell_type": "markdown",
      "id": "fda21dd3",
      "metadata": {},
      "source": [
        "etape2: Identification des instances mal classées pour la classe de chiffre au f1-score le plus faible"
      ]
    },
    {
      "cell_type": "code",
      "execution_count": null,
      "id": "8b20df15",
      "metadata": {},
      "outputs": [
        {
          "name": "stdout",
          "output_type": "stream",
          "text": [
            "Digit value: 3, prediction: 8\n",
            "Digit value: 3, prediction: 8\n",
            "Digit value: 3, prediction: 8\n",
            "Digit value: 3, prediction: 8\n",
            "Digit value: 3, prediction: 8\n"
          ]
        },
        {
          "data": {
            "image/png": "[encoded data removed]",
            "text/plain": [
              "<Figure size 216x216 with 1 Axes>"
            ]
          },
          "metadata": {
            "image/png": {
              "height": 193,
              "width": 190
            },
            "needs_background": "light"
          },
          "output_type": "display_data"
        },
        {
          "data": {
            "image/png": "[encoded data removed]",
            "text/plain": [
              "<Figure size 216x216 with 1 Axes>"
            ]
          },
          "metadata": {
            "image/png": {
              "height": 193,
              "width": 190
            },
            "needs_background": "light"
          },
          "output_type": "display_data"
        },
        {
          "data": {
            "image/png": "[encoded data removed]",
            "text/plain": [
              "<Figure size 216x216 with 1 Axes>"
            ]
          },
          "metadata": {
            "image/png": {
              "height": 193,
              "width": 190
            },
            "needs_background": "light"
          },
          "output_type": "display_data"
        },
        {
          "data": {
            "image/png": "[encoded data removed]",
            "text/plain": [
              "<Figure size 216x216 with 1 Axes>"
            ]
          },
          "metadata": {
            "image/png": {
              "height": 193,
              "width": 190
            },
            "needs_background": "light"
          },
          "output_type": "display_data"
        },
        {
          "data": {
            "image/png": "[encoded data removed]",
            "text/plain": [
              "<Figure size 216x216 with 1 Axes>"
            ]
          },
          "metadata": {
            "image/png": {
              "height": 193,
              "width": 190
            },
            "needs_background": "light"
          },
          "output_type": "display_data"
        }
      ],
      "source": [
        "\n",
        "insMalCla = np.where(Y_test!=Y_pred, Y_test, -1)  # -1 is broadcast\n",
        "#afficher toutes les instances \n",
        "#[plot_digit(x, X_test, Y_test, Y_pred) for x in insMalCla if x!=-1] #\n",
        "#afficher quelques instances \n",
        "i=0\n",
        "while(i<5):\n",
        "        plot_digit(insMalCla[i], X_test, Y_test, Y_pred)\n",
        "        i+=1"
      ]
    },
    {
      "cell_type": "code",
      "execution_count": null,
      "id": "4QFvMDxXsbpo",
      "metadata": {
        "id": "4QFvMDxXsbpo"
      },
      "outputs": [],
      "source": [
        "C = [x for x, y in enumerate(zip(Y_test, Y_pred)) if y[0] != y[1]]\n",
        "#[plot_digit(x, X_test, Y_test, Y_pred) for x in C]"
      ]
    },
    {
      "cell_type": "markdown",
      "id": "cross-candidate",
      "metadata": {
        "id": "cross-candidate"
      },
      "source": [
        "---"
      ]
    },
    {
      "cell_type": "markdown",
      "id": "controversial-enclosure",
      "metadata": {
        "id": "controversial-enclosure"
      },
      "source": [
        "### PCA"
      ]
    },
    {
      "cell_type": "markdown",
      "id": "british-bahamas",
      "metadata": {
        "id": "british-bahamas"
      },
      "source": [
        "Utilisez une compression des dimensions par ACP ([PCA](https://scikit-learn.org/stable/modules/generated/sklearn.decomposition.PCA.html)), en utilisant 10 composantes principales."
      ]
    },
    {
      "cell_type": "markdown",
      "id": "crude-bench",
      "metadata": {
        "id": "crude-bench"
      },
      "source": [
        "#### Initialisation des PCA et sélection des données entrainement/test"
      ]
    },
    {
      "cell_type": "markdown",
      "id": "everyday-proposal",
      "metadata": {
        "id": "everyday-proposal"
      },
      "source": [
        "<span style=\"color:red\">Implémentez votre solution ci-dessous</span>"
      ]
    },
    {
      "cell_type": "markdown",
      "id": "310e210f",
      "metadata": {},
      "source": [
        "etape1: choisir le n_component adéquat en utilisant fit seulment pour x_train et transform pour xtest et xtrain "
      ]
    },
    {
      "cell_type": "code",
      "execution_count": null,
      "id": "e55981c6",
      "metadata": {},
      "outputs": [
        {
          "data": {
            "text/html": [
              "<div>\n",
              "<style scoped>\n",
              "    .dataframe tbody tr th:only-of-type {\n",
              "        vertical-align: middle;\n",
              "    }\n",
              "\n",
              "    .dataframe tbody tr th {\n",
              "        vertical-align: top;\n",
              "    }\n",
              "\n",
              "    .dataframe thead th {\n",
              "        text-align: right;\n",
              "    }\n",
              "</style>\n",
              "<table border=\"1\" class=\"dataframe\">\n",
              "  <thead>\n",
              "    <tr style=\"text-align: right;\">\n",
              "      <th></th>\n",
              "      <th>nb_component</th>\n",
              "      <th>accuracy_score</th>\n",
              "    </tr>\n",
              "  </thead>\n",
              "  <tbody>\n",
              "    <tr>\n",
              "      <th>0</th>\n",
              "      <td>0.80</td>\n",
              "      <td>0.9822</td>\n",
              "    </tr>\n",
              "    <tr>\n",
              "      <th>1</th>\n",
              "      <td>0.81</td>\n",
              "      <td>0.9889</td>\n",
              "    </tr>\n",
              "    <tr>\n",
              "      <th>2</th>\n",
              "      <td>0.82</td>\n",
              "      <td>0.9889</td>\n",
              "    </tr>\n",
              "    <tr>\n",
              "      <th>3</th>\n",
              "      <td>0.83</td>\n",
              "      <td>0.9867</td>\n",
              "    </tr>\n",
              "    <tr>\n",
              "      <th>4</th>\n",
              "      <td>0.84</td>\n",
              "      <td>0.9889</td>\n",
              "    </tr>\n",
              "    <tr>\n",
              "      <th>5</th>\n",
              "      <td>0.85</td>\n",
              "      <td>0.9889</td>\n",
              "    </tr>\n",
              "    <tr>\n",
              "      <th>6</th>\n",
              "      <td>0.86</td>\n",
              "      <td>0.9889</td>\n",
              "    </tr>\n",
              "    <tr>\n",
              "      <th>7</th>\n",
              "      <td>0.87</td>\n",
              "      <td>0.9889</td>\n",
              "    </tr>\n",
              "    <tr>\n",
              "      <th>8</th>\n",
              "      <td>0.88</td>\n",
              "      <td>0.9911</td>\n",
              "    </tr>\n",
              "    <tr>\n",
              "      <th>9</th>\n",
              "      <td>0.89</td>\n",
              "      <td>0.9889</td>\n",
              "    </tr>\n",
              "    <tr>\n",
              "      <th>10</th>\n",
              "      <td>0.90</td>\n",
              "      <td>0.9889</td>\n",
              "    </tr>\n",
              "    <tr>\n",
              "      <th>11</th>\n",
              "      <td>0.91</td>\n",
              "      <td>0.9867</td>\n",
              "    </tr>\n",
              "    <tr>\n",
              "      <th>12</th>\n",
              "      <td>0.92</td>\n",
              "      <td>0.9889</td>\n",
              "    </tr>\n",
              "    <tr>\n",
              "      <th>13</th>\n",
              "      <td>0.93</td>\n",
              "      <td>0.9889</td>\n",
              "    </tr>\n",
              "    <tr>\n",
              "      <th>14</th>\n",
              "      <td>0.94</td>\n",
              "      <td>0.9911</td>\n",
              "    </tr>\n",
              "    <tr>\n",
              "      <th>15</th>\n",
              "      <td>0.95</td>\n",
              "      <td>0.9889</td>\n",
              "    </tr>\n",
              "    <tr>\n",
              "      <th>16</th>\n",
              "      <td>0.96</td>\n",
              "      <td>0.9889</td>\n",
              "    </tr>\n",
              "  </tbody>\n",
              "</table>\n",
              "</div>"
            ],
            "text/plain": [
              "    nb_component  accuracy_score\n",
              "0           0.80          0.9822\n",
              "1           0.81          0.9889\n",
              "2           0.82          0.9889\n",
              "3           0.83          0.9867\n",
              "4           0.84          0.9889\n",
              "5           0.85          0.9889\n",
              "6           0.86          0.9889\n",
              "7           0.87          0.9889\n",
              "8           0.88          0.9911\n",
              "9           0.89          0.9889\n",
              "10          0.90          0.9889\n",
              "11          0.91          0.9867\n",
              "12          0.92          0.9889\n",
              "13          0.93          0.9889\n",
              "14          0.94          0.9911\n",
              "15          0.95          0.9889\n",
              "16          0.96          0.9889"
            ]
          },
          "execution_count": 153,
          "metadata": {},
          "output_type": "execute_result"
        }
      ],
      "source": [
        "accuracy_scores=np.zeros(((97-80),2))\n",
        "for nbc in range(80,97):\n",
        "    pca_mod = PCA(n_components=nbc/100)\n",
        "    xpca_train = pca_mod.fit_transform(X_train)\n",
        "    xpca_test = pca_mod.transform(X_test)\n",
        "    modelfinal = SVC()\n",
        "    modelfinal.fit(xpca_train,Y_train)\n",
        "    Y_pca_pred = modelfinal.predict(xpca_test)\n",
        "    resultat = accuracy_score(Y_test, Y_pca_pred)\n",
        "    accuracy_scores[nbc-80,1]=( f\"{resultat :.04f}\")\n",
        "    accuracy_scores[nbc-80,0]=nbc/100\n",
        "pd.DataFrame(accuracy_scores,columns=[\"nb_component\",\"accuracy_score\"])"
      ]
    },
    {
      "cell_type": "markdown",
      "id": "ca5c9015",
      "metadata": {},
      "source": [
        "etap2: choisir n_components a  une variance a pour accuracy_score 99.1% et donc soit une variance 94% ou 88%"
      ]
    },
    {
      "cell_type": "code",
      "execution_count": null,
      "id": "834bd7db",
      "metadata": {},
      "outputs": [],
      "source": [
        "pca_mod = PCA(n_components=0.88)\n",
        "xpca_train = pca_mod.fit_transform(X_train)\n",
        "xpca_test = pca_mod.transform(X_test)"
      ]
    },
    {
      "cell_type": "markdown",
      "id": "cooked-mailman",
      "metadata": {
        "id": "cooked-mailman"
      },
      "source": [
        "#### Entrainement des modèles"
      ]
    },
    {
      "cell_type": "code",
      "execution_count": null,
      "id": "0e026167",
      "metadata": {},
      "outputs": [],
      "source": [
        "modelfinal = SVC()\n",
        "modelfinal.fit(xpca_train,Y_train)\n",
        "Y_pca_pred = modelfinal.predict(xpca_test)\n",
        "resultat = accuracy_score(Y_test, Y_pca_pred)"
      ]
    },
    {
      "cell_type": "markdown",
      "id": "noble-national",
      "metadata": {
        "id": "noble-national"
      },
      "source": [
        "#### Évaluation"
      ]
    },
    {
      "cell_type": "markdown",
      "id": "optimum-master",
      "metadata": {
        "id": "optimum-master"
      },
      "source": [
        "<span style=\"color:red\">Implémentez votre solution ci-dessous</span>"
      ]
    },
    {
      "cell_type": "code",
      "execution_count": null,
      "id": "rNfAZJCQJ5-k",
      "metadata": {
        "colab": {
          "base_uri": "https://localhost:8080/"
        },
        "id": "rNfAZJCQJ5-k",
        "outputId": "c26f2532-7f57-4402-ac18-3942957f7daf"
      },
      "outputs": [
        {
          "name": "stdout",
          "output_type": "stream",
          "text": [
            "acc_score: 0.9911\n"
          ]
        }
      ],
      "source": [
        "print(\"acc_score: \" f\"{resultat :.04f}\")"
      ]
    },
    {
      "cell_type": "markdown",
      "id": "sacred-boston",
      "metadata": {
        "id": "sacred-boston"
      },
      "source": [
        "---"
      ]
    },
    {
      "cell_type": "markdown",
      "id": "catholic-magazine",
      "metadata": {
        "id": "catholic-magazine"
      },
      "source": [
        "### Cross-Validation"
      ]
    },
    {
      "cell_type": "markdown",
      "id": "respiratory-administrator",
      "metadata": {
        "id": "respiratory-administrator"
      },
      "source": [
        "![](img/grid_search_cross_validation.png)"
      ]
    },
    {
      "cell_type": "markdown",
      "id": "apart-socket",
      "metadata": {
        "id": "apart-socket"
      },
      "source": [
        "#### Chargement des données"
      ]
    },
    {
      "cell_type": "markdown",
      "id": "respected-recording",
      "metadata": {
        "id": "respected-recording"
      },
      "source": [
        "Utilisez la fonction [`cross_val_score`](https://scikit-learn.org/stable/modules/generated/sklearn.model_selection.cross_val_score.html) pour implémenter la cross-validation.\n",
        "\n",
        "Vous choisirez de faire 10 splits (`cv=10`).\n",
        "\n",
        "Choisissez comme *scoring* `\"f1_weighted\"`, la fonction retournera alors les scores correspondants dans une array.\n",
        "\n",
        "À titre d'exemple et pour pouvoir comparer les résultats avec les précédents, la première application se fera sur l'entièreté du dataset (ce qui n'est normalement pas recommandé)."
      ]
    },
    {
      "cell_type": "markdown",
      "id": "combined-experiment",
      "metadata": {
        "id": "combined-experiment"
      },
      "source": [
        "<span style=\"color:red\">Implémentez votre solution ci-dessous</span>"
      ]
    },
    {
      "cell_type": "markdown",
      "id": "08c93626",
      "metadata": {},
      "source": [
        "avec toute la dataset"
      ]
    },
    {
      "cell_type": "code",
      "execution_count": null,
      "id": "e47c5fd8",
      "metadata": {},
      "outputs": [
        {
          "data": {
            "text/html": [
              "<div>\n",
              "<style scoped>\n",
              "    .dataframe tbody tr th:only-of-type {\n",
              "        vertical-align: middle;\n",
              "    }\n",
              "\n",
              "    .dataframe tbody tr th {\n",
              "        vertical-align: top;\n",
              "    }\n",
              "\n",
              "    .dataframe thead th {\n",
              "        text-align: right;\n",
              "    }\n",
              "</style>\n",
              "<table border=\"1\" class=\"dataframe\">\n",
              "  <thead>\n",
              "    <tr style=\"text-align: right;\">\n",
              "      <th></th>\n",
              "      <th>scores</th>\n",
              "    </tr>\n",
              "  </thead>\n",
              "  <tbody>\n",
              "    <tr>\n",
              "      <th>0</th>\n",
              "      <td>0.944444</td>\n",
              "    </tr>\n",
              "    <tr>\n",
              "      <th>1</th>\n",
              "      <td>0.988889</td>\n",
              "    </tr>\n",
              "    <tr>\n",
              "      <th>2</th>\n",
              "      <td>0.927778</td>\n",
              "    </tr>\n",
              "    <tr>\n",
              "      <th>3</th>\n",
              "      <td>0.966667</td>\n",
              "    </tr>\n",
              "    <tr>\n",
              "      <th>4</th>\n",
              "      <td>0.983333</td>\n",
              "    </tr>\n",
              "    <tr>\n",
              "      <th>5</th>\n",
              "      <td>0.988889</td>\n",
              "    </tr>\n",
              "    <tr>\n",
              "      <th>6</th>\n",
              "      <td>0.988889</td>\n",
              "    </tr>\n",
              "    <tr>\n",
              "      <th>7</th>\n",
              "      <td>0.994413</td>\n",
              "    </tr>\n",
              "    <tr>\n",
              "      <th>8</th>\n",
              "      <td>0.960894</td>\n",
              "    </tr>\n",
              "    <tr>\n",
              "      <th>9</th>\n",
              "      <td>0.955307</td>\n",
              "    </tr>\n",
              "  </tbody>\n",
              "</table>\n",
              "</div>"
            ],
            "text/plain": [
              "     scores\n",
              "0  0.944444\n",
              "1  0.988889\n",
              "2  0.927778\n",
              "3  0.966667\n",
              "4  0.983333\n",
              "5  0.988889\n",
              "6  0.988889\n",
              "7  0.994413\n",
              "8  0.960894\n",
              "9  0.955307"
            ]
          },
          "execution_count": 157,
          "metadata": {},
          "output_type": "execute_result"
        }
      ],
      "source": [
        "SCORINGS = \"f1_weighted\"\n",
        "cv=10\n",
        "cvs2=cross_val_score(modelfinal, data, digits.target, cv=cv)\n",
        "pd.DataFrame(cvs2,columns=[\"scores\"])"
      ]
    },
    {
      "cell_type": "markdown",
      "id": "05c5eed5",
      "metadata": {},
      "source": [
        "with processed  data"
      ]
    },
    {
      "cell_type": "code",
      "execution_count": null,
      "id": "suspended-newman",
      "metadata": {
        "id": "suspended-newman"
      },
      "outputs": [
        {
          "data": {
            "text/html": [
              "<div>\n",
              "<style scoped>\n",
              "    .dataframe tbody tr th:only-of-type {\n",
              "        vertical-align: middle;\n",
              "    }\n",
              "\n",
              "    .dataframe tbody tr th {\n",
              "        vertical-align: top;\n",
              "    }\n",
              "\n",
              "    .dataframe thead th {\n",
              "        text-align: right;\n",
              "    }\n",
              "</style>\n",
              "<table border=\"1\" class=\"dataframe\">\n",
              "  <thead>\n",
              "    <tr style=\"text-align: right;\">\n",
              "      <th></th>\n",
              "      <th>scores</th>\n",
              "    </tr>\n",
              "  </thead>\n",
              "  <tbody>\n",
              "    <tr>\n",
              "      <th>0</th>\n",
              "      <td>0.977778</td>\n",
              "    </tr>\n",
              "    <tr>\n",
              "      <th>1</th>\n",
              "      <td>0.977778</td>\n",
              "    </tr>\n",
              "    <tr>\n",
              "      <th>2</th>\n",
              "      <td>1.000000</td>\n",
              "    </tr>\n",
              "    <tr>\n",
              "      <th>3</th>\n",
              "      <td>0.985185</td>\n",
              "    </tr>\n",
              "    <tr>\n",
              "      <th>4</th>\n",
              "      <td>1.000000</td>\n",
              "    </tr>\n",
              "    <tr>\n",
              "      <th>5</th>\n",
              "      <td>0.992593</td>\n",
              "    </tr>\n",
              "    <tr>\n",
              "      <th>6</th>\n",
              "      <td>0.992593</td>\n",
              "    </tr>\n",
              "    <tr>\n",
              "      <th>7</th>\n",
              "      <td>0.992537</td>\n",
              "    </tr>\n",
              "    <tr>\n",
              "      <th>8</th>\n",
              "      <td>0.985075</td>\n",
              "    </tr>\n",
              "    <tr>\n",
              "      <th>9</th>\n",
              "      <td>0.985075</td>\n",
              "    </tr>\n",
              "  </tbody>\n",
              "</table>\n",
              "</div>"
            ],
            "text/plain": [
              "     scores\n",
              "0  0.977778\n",
              "1  0.977778\n",
              "2  1.000000\n",
              "3  0.985185\n",
              "4  1.000000\n",
              "5  0.992593\n",
              "6  0.992593\n",
              "7  0.992537\n",
              "8  0.985075\n",
              "9  0.985075"
            ]
          },
          "execution_count": 158,
          "metadata": {},
          "output_type": "execute_result"
        }
      ],
      "source": [
        "SCORINGS = \"f1_weighted\"\n",
        "cv=10\n",
        "cvs=cross_val_score(modelfinal, xpca_train, Y_train, cv=cv)\n",
        "pd.DataFrame(cvs,columns=[\"scores\"])"
      ]
    },
    {
      "cell_type": "markdown",
      "id": "yellow-planner",
      "metadata": {
        "id": "yellow-planner"
      },
      "source": [
        "Montrez les résultats avec un [`plt.bar`](https://matplotlib.org/stable/api/_as_gen/matplotlib.pyplot.bar.html) qui inclus une barre d'erreur `yerr` égale à 2 $\\times$ l'[écart type](https://numpy.org/doc/stable/reference/generated/numpy.std.html), ainsi que dans un [`boxplot`](https://matplotlib.org/stable/api/_as_gen/matplotlib.pyplot.boxplot.html).\n",
        "\n",
        "Notez que la moyenne et la déviation standard peuvent être obtenues également par une méthode (homonyme) de l'array."
      ]
    },
    {
      "cell_type": "markdown",
      "id": "84cfff41",
      "metadata": {},
      "source": [
        "<span style=\"color:red\">Implémentez votre solution ci-dessous</span>"
      ]
    },
    {
      "cell_type": "markdown",
      "id": "03ea7e93",
      "metadata": {},
      "source": [
        "<span style=\"color:green\">plt.bar</span>"
      ]
    },
    {
      "cell_type": "code",
      "execution_count": null,
      "id": "94508ca7",
      "metadata": {},
      "outputs": [
        {
          "data": {
            "image/png": "[encoded data removed]",
            "text/plain": [
              "<Figure size 432x288 with 1 Axes>"
            ]
          },
          "metadata": {
            "image/png": {
              "height": 248,
              "width": 372
            },
            "needs_background": "light"
          },
          "output_type": "display_data"
        }
      ],
      "source": [
        "index= [x for x in range(10)]\n",
        "std_error = np.std(cvs)*2\n",
        "plt.bar(index, cvs,yerr=std_error)\n",
        "plt.show()"
      ]
    },
    {
      "cell_type": "markdown",
      "id": "ae745913",
      "metadata": {},
      "source": [
        "<span style=\"color:green\">boxPlot</span>"
      ]
    },
    {
      "cell_type": "code",
      "execution_count": null,
      "id": "5ef45432",
      "metadata": {},
      "outputs": [
        {
          "data": {
            "image/png": "[encoded data removed]",
            "text/plain": [
              "<Figure size 720x504 with 1 Axes>"
            ]
          },
          "metadata": {
            "image/png": {
              "height": 411,
              "width": 608
            },
            "needs_background": "light"
          },
          "output_type": "display_data"
        }
      ],
      "source": [
        "fig = plt.figure(figsize =(10, 7)) \n",
        "plt.boxplot(cvs) \n",
        "plt.show()"
      ]
    },
    {
      "cell_type": "markdown",
      "id": "speaking-drawing",
      "metadata": {
        "id": "speaking-drawing"
      },
      "source": [
        "---"
      ]
    },
    {
      "cell_type": "markdown",
      "id": "large-salon",
      "metadata": {
        "id": "large-salon"
      },
      "source": [
        "### Grid Search"
      ]
    },
    {
      "cell_type": "markdown",
      "id": "adult-validation",
      "metadata": {
        "id": "adult-validation"
      },
      "source": [
        "Cette fois, nous allons utiliser la validation croisée pour sa raison première : valider le choix d'hyperparamètres."
      ]
    },
    {
      "cell_type": "markdown",
      "id": "metropolitan-louisville",
      "metadata": {
        "id": "metropolitan-louisville"
      },
      "source": [
        "Nous allons utiliser la classe\n",
        "[`model_selection.GridSearchCV`](https://scikit-learn.org/stable/modules/generated/sklearn.model_selection.GridSearchCV.html) pour choisir le meilleur nombre de composante principale pour la PCA.\n",
        "\n",
        "Cette classe permet de tester plusieurs paramètres (à entrer dans un dictionnaire) et à les tester via cross-validation (d'où le CV dans le nom).\n",
        "\n",
        "Pour ce faire, nous n'avons plus besoin de nous occuper de créer les différents subsets, la classe `GridSearchCV` s'en charge pour nous."
      ]
    },
    {
      "cell_type": "code",
      "execution_count": null,
      "id": "dirty-northwest",
      "metadata": {
        "id": "dirty-northwest"
      },
      "outputs": [],
      "source": [
        "param_grid = {\"pca__n_components\": [1, 2, 5, 10, 20, 30, 40, 60]}"
      ]
    },
    {
      "cell_type": "markdown",
      "id": "accomplished-elements",
      "metadata": {
        "id": "accomplished-elements"
      },
      "source": [
        "Nous allons utiliser un [`pipeline`](https://scikit-learn.org/stable/modules/generated/sklearn.pipeline.Pipeline.html) pour effectuer la compression PCA et l'apprentissage avec le modèle conjointement, ce qui va nous permettre de modifier les hyperparamètres à toutes les étapes en une seule commande.\n",
        "\n",
        "Nous devrons utiliser les noms exacts des hyperparamètres à modifier dans le dictionnaire, précédés du nom du module et d'un double *underscore* (ici: `\"pca__\"`), pour pouvoir les assigner à la bonne étape du `pipeline`."
      ]
    },
    {
      "cell_type": "markdown",
      "id": "67d82948-6e58-4ad4-92f5-8ad3e669b729",
      "metadata": {
        "id": "67d82948-6e58-4ad4-92f5-8ad3e669b729"
      },
      "source": [
        "Définissez le [pipeline](https://scikit-learn.org/stable/modules/generated/sklearn.pipeline.Pipeline.html)."
      ]
    },
    {
      "cell_type": "markdown",
      "id": "a1a59efc-0cf5-48eb-88f8-fb635ea1ab4a",
      "metadata": {
        "id": "a1a59efc-0cf5-48eb-88f8-fb635ea1ab4a"
      },
      "source": [
        "<span style=\"color:red\">Implémentez votre solution ci-dessous</span>"
      ]
    },
    {
      "cell_type": "code",
      "execution_count": null,
      "id": "2c145a0f",
      "metadata": {},
      "outputs": [],
      "source": [
        "\n",
        "pca = PCA()\n",
        "logistic = LogisticRegression(max_iter=10000, tol=0.1)\n",
        "pipe = Pipeline(steps=[('pca', pca), ('logistic', logistic)])"
      ]
    },
    {
      "cell_type": "markdown",
      "id": "e22df62d-8665-4cfd-915e-d1d5702609ff",
      "metadata": {
        "id": "e22df62d-8665-4cfd-915e-d1d5702609ff"
      },
      "source": [
        "Lancez le [Grid search avec cross-validation](https://scikit-learn.org/stable/modules/generated/sklearn.model_selection.GridSearchCV.html)."
      ]
    },
    {
      "cell_type": "markdown",
      "id": "b3d3b04f-8823-4eeb-9178-778b63d6543d",
      "metadata": {
        "id": "b3d3b04f-8823-4eeb-9178-778b63d6543d"
      },
      "source": [
        "<span style=\"color:red\">Implémentez votre solution ci-dessous</span>"
      ]
    },
    {
      "cell_type": "code",
      "execution_count": null,
      "id": "3a597924",
      "metadata": {},
      "outputs": [
        {
          "data": {
            "text/plain": [
              "GridSearchCV(estimator=Pipeline(steps=[('pca', PCA()),\n",
              "                                       ('logistic',\n",
              "                                        LogisticRegression(max_iter=10000,\n",
              "                                                           tol=0.1))]),\n",
              "             n_jobs=-1,\n",
              "             param_grid={'pca__n_components': [1, 2, 5, 10, 20, 30, 40, 60]})"
            ]
          },
          "execution_count": 163,
          "metadata": {},
          "output_type": "execute_result"
        }
      ],
      "source": [
        "search = GridSearchCV(pipe, param_grid, n_jobs=-1)\n",
        "search.fit(data, digits.target)"
      ]
    },
    {
      "cell_type": "markdown",
      "id": "1b181393-bb28-4034-9cdb-a5e44576b162",
      "metadata": {
        "id": "1b181393-bb28-4034-9cdb-a5e44576b162"
      },
      "source": [
        "Trouvez le meilleur résultat, ainsi que la valeur de l'hyperparamètre correspondant."
      ]
    },
    {
      "cell_type": "markdown",
      "id": "2da96f26-2f97-4911-8a3d-51f667031fdb",
      "metadata": {
        "id": "2da96f26-2f97-4911-8a3d-51f667031fdb"
      },
      "source": [
        "<span style=\"color:red\">Implémentez votre solution ci-dessous</span>"
      ]
    },
    {
      "cell_type": "code",
      "execution_count": null,
      "id": "33fadeb1",
      "metadata": {},
      "outputs": [
        {
          "name": "stdout",
          "output_type": "stream",
          "text": [
            "meilleure param (Cvs=0.91):\n",
            "{'pca__n_components': 60}\n"
          ]
        }
      ],
      "source": [
        "print(\"meilleure param (Cvs=%0.2f):\" % search.best_score_)\n",
        "print(search.best_params_)"
      ]
    },
    {
      "cell_type": "markdown",
      "id": "02a97934-3476-4bbf-a616-9bb76830791e",
      "metadata": {
        "id": "02a97934-3476-4bbf-a616-9bb76830791e"
      },
      "source": [
        "Imprimez le tableau des résultats complets."
      ]
    },
    {
      "cell_type": "code",
      "execution_count": null,
      "id": "bulgarian-range",
      "metadata": {
        "colab": {
          "base_uri": "https://localhost:8080/",
          "height": 201
        },
        "id": "bulgarian-range",
        "outputId": "cd812a97-5744-4d10-d34e-061c860b5150"
      },
      "outputs": [
        {
          "data": {
            "text/html": [
              "<style type=\"text/css\">\n",
              "</style>\n",
              "<table id=\"T_e57da_\">\n",
              "  <thead>\n",
              "    <tr>\n",
              "      <th class=\"blank level0\" >&nbsp;</th>\n",
              "      <th class=\"col_heading level0 col0\" >mean_fit_time</th>\n",
              "      <th class=\"col_heading level0 col1\" >std_fit_time</th>\n",
              "      <th class=\"col_heading level0 col2\" >mean_score_time</th>\n",
              "      <th class=\"col_heading level0 col3\" >std_score_time</th>\n",
              "      <th class=\"col_heading level0 col4\" >param_pca__n_components</th>\n",
              "      <th class=\"col_heading level0 col5\" >split0_test_score</th>\n",
              "      <th class=\"col_heading level0 col6\" >split1_test_score</th>\n",
              "      <th class=\"col_heading level0 col7\" >split2_test_score</th>\n",
              "      <th class=\"col_heading level0 col8\" >split3_test_score</th>\n",
              "      <th class=\"col_heading level0 col9\" >split4_test_score</th>\n",
              "      <th class=\"col_heading level0 col10\" >mean_test_score</th>\n",
              "      <th class=\"col_heading level0 col11\" >std_test_score</th>\n",
              "      <th class=\"col_heading level0 col12\" >rank_test_score</th>\n",
              "    </tr>\n",
              "  </thead>\n",
              "  <tbody>\n",
              "    <tr>\n",
              "      <th id=\"T_e57da_level0_row0\" class=\"row_heading level0 row0\" >0</th>\n",
              "      <td id=\"T_e57da_row0_col0\" class=\"data row0 col0\" >1.1</td>\n",
              "      <td id=\"T_e57da_row0_col1\" class=\"data row0 col1\" >0.18</td>\n",
              "      <td id=\"T_e57da_row0_col2\" class=\"data row0 col2\" >0.002</td>\n",
              "      <td id=\"T_e57da_row0_col3\" class=\"data row0 col3\" >0.0011</td>\n",
              "      <td id=\"T_e57da_row0_col4\" class=\"data row0 col4\" >1</td>\n",
              "      <td id=\"T_e57da_row0_col5\" class=\"data row0 col5\" >0.4</td>\n",
              "      <td id=\"T_e57da_row0_col6\" class=\"data row0 col6\" >0.26</td>\n",
              "      <td id=\"T_e57da_row0_col7\" class=\"data row0 col7\" >0.36</td>\n",
              "      <td id=\"T_e57da_row0_col8\" class=\"data row0 col8\" >0.31</td>\n",
              "      <td id=\"T_e57da_row0_col9\" class=\"data row0 col9\" >0.35</td>\n",
              "      <td id=\"T_e57da_row0_col10\" class=\"data row0 col10\" >0.34</td>\n",
              "      <td id=\"T_e57da_row0_col11\" class=\"data row0 col11\" >0.047</td>\n",
              "      <td id=\"T_e57da_row0_col12\" class=\"data row0 col12\" >8</td>\n",
              "    </tr>\n",
              "    <tr>\n",
              "      <th id=\"T_e57da_level0_row1\" class=\"row_heading level0 row1\" >1</th>\n",
              "      <td id=\"T_e57da_row1_col0\" class=\"data row1 col0\" >1.7</td>\n",
              "      <td id=\"T_e57da_row1_col1\" class=\"data row1 col1\" >0.29</td>\n",
              "      <td id=\"T_e57da_row1_col2\" class=\"data row1 col2\" >0.0016</td>\n",
              "      <td id=\"T_e57da_row1_col3\" class=\"data row1 col3\" >0.00049</td>\n",
              "      <td id=\"T_e57da_row1_col4\" class=\"data row1 col4\" >2</td>\n",
              "      <td id=\"T_e57da_row1_col5\" class=\"data row1 col5\" >0.58</td>\n",
              "      <td id=\"T_e57da_row1_col6\" class=\"data row1 col6\" >0.58</td>\n",
              "      <td id=\"T_e57da_row1_col7\" class=\"data row1 col7\" >0.59</td>\n",
              "      <td id=\"T_e57da_row1_col8\" class=\"data row1 col8\" >0.58</td>\n",
              "      <td id=\"T_e57da_row1_col9\" class=\"data row1 col9\" >0.55</td>\n",
              "      <td id=\"T_e57da_row1_col10\" class=\"data row1 col10\" >0.57</td>\n",
              "      <td id=\"T_e57da_row1_col11\" class=\"data row1 col11\" >0.015</td>\n",
              "      <td id=\"T_e57da_row1_col12\" class=\"data row1 col12\" >7</td>\n",
              "    </tr>\n",
              "    <tr>\n",
              "      <th id=\"T_e57da_level0_row2\" class=\"row_heading level0 row2\" >2</th>\n",
              "      <td id=\"T_e57da_row2_col0\" class=\"data row2 col0\" >3.5</td>\n",
              "      <td id=\"T_e57da_row2_col1\" class=\"data row2 col1\" >1.7</td>\n",
              "      <td id=\"T_e57da_row2_col2\" class=\"data row2 col2\" >0.0028</td>\n",
              "      <td id=\"T_e57da_row2_col3\" class=\"data row2 col3\" >0.00098</td>\n",
              "      <td id=\"T_e57da_row2_col4\" class=\"data row2 col4\" >5</td>\n",
              "      <td id=\"T_e57da_row2_col5\" class=\"data row2 col5\" >0.84</td>\n",
              "      <td id=\"T_e57da_row2_col6\" class=\"data row2 col6\" >0.74</td>\n",
              "      <td id=\"T_e57da_row2_col7\" class=\"data row2 col7\" >0.84</td>\n",
              "      <td id=\"T_e57da_row2_col8\" class=\"data row2 col8\" >0.87</td>\n",
              "      <td id=\"T_e57da_row2_col9\" class=\"data row2 col9\" >0.82</td>\n",
              "      <td id=\"T_e57da_row2_col10\" class=\"data row2 col10\" >0.82</td>\n",
              "      <td id=\"T_e57da_row2_col11\" class=\"data row2 col11\" >0.042</td>\n",
              "      <td id=\"T_e57da_row2_col12\" class=\"data row2 col12\" >6</td>\n",
              "    </tr>\n",
              "    <tr>\n",
              "      <th id=\"T_e57da_level0_row3\" class=\"row_heading level0 row3\" >3</th>\n",
              "      <td id=\"T_e57da_row3_col0\" class=\"data row3 col0\" >3.5</td>\n",
              "      <td id=\"T_e57da_row3_col1\" class=\"data row3 col1\" >0.41</td>\n",
              "      <td id=\"T_e57da_row3_col2\" class=\"data row3 col2\" >0.0028</td>\n",
              "      <td id=\"T_e57da_row3_col3\" class=\"data row3 col3\" >0.0016</td>\n",
              "      <td id=\"T_e57da_row3_col4\" class=\"data row3 col4\" >10</td>\n",
              "      <td id=\"T_e57da_row3_col5\" class=\"data row3 col5\" >0.92</td>\n",
              "      <td id=\"T_e57da_row3_col6\" class=\"data row3 col6\" >0.83</td>\n",
              "      <td id=\"T_e57da_row3_col7\" class=\"data row3 col7\" >0.91</td>\n",
              "      <td id=\"T_e57da_row3_col8\" class=\"data row3 col8\" >0.91</td>\n",
              "      <td id=\"T_e57da_row3_col9\" class=\"data row3 col9\" >0.88</td>\n",
              "      <td id=\"T_e57da_row3_col10\" class=\"data row3 col10\" >0.89</td>\n",
              "      <td id=\"T_e57da_row3_col11\" class=\"data row3 col11\" >0.034</td>\n",
              "      <td id=\"T_e57da_row3_col12\" class=\"data row3 col12\" >5</td>\n",
              "    </tr>\n",
              "    <tr>\n",
              "      <th id=\"T_e57da_level0_row4\" class=\"row_heading level0 row4\" >4</th>\n",
              "      <td id=\"T_e57da_row4_col0\" class=\"data row4 col0\" >2.5</td>\n",
              "      <td id=\"T_e57da_row4_col1\" class=\"data row4 col1\" >0.58</td>\n",
              "      <td id=\"T_e57da_row4_col2\" class=\"data row4 col2\" >0.0022</td>\n",
              "      <td id=\"T_e57da_row4_col3\" class=\"data row4 col3\" >0.00075</td>\n",
              "      <td id=\"T_e57da_row4_col4\" class=\"data row4 col4\" >20</td>\n",
              "      <td id=\"T_e57da_row4_col5\" class=\"data row4 col5\" >0.94</td>\n",
              "      <td id=\"T_e57da_row4_col6\" class=\"data row4 col6\" >0.86</td>\n",
              "      <td id=\"T_e57da_row4_col7\" class=\"data row4 col7\" >0.88</td>\n",
              "      <td id=\"T_e57da_row4_col8\" class=\"data row4 col8\" >0.92</td>\n",
              "      <td id=\"T_e57da_row4_col9\" class=\"data row4 col9\" >0.89</td>\n",
              "      <td id=\"T_e57da_row4_col10\" class=\"data row4 col10\" >0.9</td>\n",
              "      <td id=\"T_e57da_row4_col11\" class=\"data row4 col11\" >0.03</td>\n",
              "      <td id=\"T_e57da_row4_col12\" class=\"data row4 col12\" >4</td>\n",
              "    </tr>\n",
              "    <tr>\n",
              "      <th id=\"T_e57da_level0_row5\" class=\"row_heading level0 row5\" >5</th>\n",
              "      <td id=\"T_e57da_row5_col0\" class=\"data row5 col0\" >0.88</td>\n",
              "      <td id=\"T_e57da_row5_col1\" class=\"data row5 col1\" >0.1</td>\n",
              "      <td id=\"T_e57da_row5_col2\" class=\"data row5 col2\" >0.0036</td>\n",
              "      <td id=\"T_e57da_row5_col3\" class=\"data row5 col3\" >0.00049</td>\n",
              "      <td id=\"T_e57da_row5_col4\" class=\"data row5 col4\" >30</td>\n",
              "      <td id=\"T_e57da_row5_col5\" class=\"data row5 col5\" >0.9</td>\n",
              "      <td id=\"T_e57da_row5_col6\" class=\"data row5 col6\" >0.87</td>\n",
              "      <td id=\"T_e57da_row5_col7\" class=\"data row5 col7\" >0.93</td>\n",
              "      <td id=\"T_e57da_row5_col8\" class=\"data row5 col8\" >0.95</td>\n",
              "      <td id=\"T_e57da_row5_col9\" class=\"data row5 col9\" >0.9</td>\n",
              "      <td id=\"T_e57da_row5_col10\" class=\"data row5 col10\" >0.91</td>\n",
              "      <td id=\"T_e57da_row5_col11\" class=\"data row5 col11\" >0.029</td>\n",
              "      <td id=\"T_e57da_row5_col12\" class=\"data row5 col12\" >2</td>\n",
              "    </tr>\n",
              "    <tr>\n",
              "      <th id=\"T_e57da_level0_row6\" class=\"row_heading level0 row6\" >6</th>\n",
              "      <td id=\"T_e57da_row6_col0\" class=\"data row6 col0\" >0.72</td>\n",
              "      <td id=\"T_e57da_row6_col1\" class=\"data row6 col1\" >0.095</td>\n",
              "      <td id=\"T_e57da_row6_col2\" class=\"data row6 col2\" >0.0034</td>\n",
              "      <td id=\"T_e57da_row6_col3\" class=\"data row6 col3\" >0.0028</td>\n",
              "      <td id=\"T_e57da_row6_col4\" class=\"data row6 col4\" >40</td>\n",
              "      <td id=\"T_e57da_row6_col5\" class=\"data row6 col5\" >0.92</td>\n",
              "      <td id=\"T_e57da_row6_col6\" class=\"data row6 col6\" >0.87</td>\n",
              "      <td id=\"T_e57da_row6_col7\" class=\"data row6 col7\" >0.93</td>\n",
              "      <td id=\"T_e57da_row6_col8\" class=\"data row6 col8\" >0.94</td>\n",
              "      <td id=\"T_e57da_row6_col9\" class=\"data row6 col9\" >0.89</td>\n",
              "      <td id=\"T_e57da_row6_col10\" class=\"data row6 col10\" >0.91</td>\n",
              "      <td id=\"T_e57da_row6_col11\" class=\"data row6 col11\" >0.026</td>\n",
              "      <td id=\"T_e57da_row6_col12\" class=\"data row6 col12\" >3</td>\n",
              "    </tr>\n",
              "    <tr>\n",
              "      <th id=\"T_e57da_level0_row7\" class=\"row_heading level0 row7\" >7</th>\n",
              "      <td id=\"T_e57da_row7_col0\" class=\"data row7 col0\" >0.55</td>\n",
              "      <td id=\"T_e57da_row7_col1\" class=\"data row7 col1\" >0.036</td>\n",
              "      <td id=\"T_e57da_row7_col2\" class=\"data row7 col2\" >0.002</td>\n",
              "      <td id=\"T_e57da_row7_col3\" class=\"data row7 col3\" >2.2e-06</td>\n",
              "      <td id=\"T_e57da_row7_col4\" class=\"data row7 col4\" >60</td>\n",
              "      <td id=\"T_e57da_row7_col5\" class=\"data row7 col5\" >0.93</td>\n",
              "      <td id=\"T_e57da_row7_col6\" class=\"data row7 col6\" >0.88</td>\n",
              "      <td id=\"T_e57da_row7_col7\" class=\"data row7 col7\" >0.94</td>\n",
              "      <td id=\"T_e57da_row7_col8\" class=\"data row7 col8\" >0.93</td>\n",
              "      <td id=\"T_e57da_row7_col9\" class=\"data row7 col9\" >0.89</td>\n",
              "      <td id=\"T_e57da_row7_col10\" class=\"data row7 col10\" >0.91</td>\n",
              "      <td id=\"T_e57da_row7_col11\" class=\"data row7 col11\" >0.023</td>\n",
              "      <td id=\"T_e57da_row7_col12\" class=\"data row7 col12\" >1</td>\n",
              "    </tr>\n",
              "  </tbody>\n",
              "</table>\n"
            ],
            "text/plain": [
              "<pandas.io.formats.style.Styler at 0x1c802356e50>"
            ]
          },
          "execution_count": 165,
          "metadata": {},
          "output_type": "execute_result"
        }
      ],
      "source": [
        "cv_results_df = pd.DataFrame(search.cv_results_).drop(columns=\"params\")\n",
        "cv_results_df.style.format(\"{:.2g}\")"
      ]
    },
    {
      "cell_type": "markdown",
      "id": "a96c685a-15c3-4eb8-baf6-6034c8a8ba98",
      "metadata": {
        "id": "a96c685a-15c3-4eb8-baf6-6034c8a8ba98"
      },
      "source": [
        "Faites un diagramme à barres avec les résultats moyens par valeur de l'hyperparamètre."
      ]
    },
    {
      "cell_type": "code",
      "execution_count": null,
      "id": "partial-cornwall",
      "metadata": {
        "id": "partial-cornwall"
      },
      "outputs": [
        {
          "data": {
            "image/png": "[encoded data removed]",
            "text/plain": [
              "<Figure size 432x288 with 1 Axes>"
            ]
          },
          "metadata": {
            "image/png": {
              "height": 248,
              "width": 372
            },
            "needs_background": "light"
          },
          "output_type": "display_data"
        }
      ],
      "source": [
        "param = cv_results_df[\"param_pca__n_components\"]\n",
        "\n",
        "plt.bar(\n",
        "    cv_results_df[\"param_pca__n_components\"],\n",
        "    cv_results_df[\"mean_test_score\"],\n",
        "    yerr=2 * cv_results_df[\"std_test_score\"],\n",
        "    width=np.diff(cv_results_df[\"param_pca__n_components\"], append=80) / 2,\n",
        ")\n",
        "plt.show()"
      ]
    },
    {
      "cell_type": "markdown",
      "id": "alive-vaccine",
      "metadata": {
        "id": "alive-vaccine"
      },
      "source": [
        "## Exercice (optionnel)"
      ]
    },
    {
      "cell_type": "markdown",
      "id": "protective-friend",
      "metadata": {
        "id": "protective-friend"
      },
      "source": [
        "En utilisant la méthode `.predict_proba` de `linear_model.LogisticRegression`, utiliser le résultat de la prédiction pour sélectionner un seuil (*threshold*) particulier pour influencer la classification.\n",
        "\n",
        "* Pouvez-vous obtenir 100 % de [précision](https://scikit-learn.org/stable/modules/generated/sklearn.metrics.precision_score.html) ?\n",
        "* Pouvez-vous obtenir 100 % de [rappel](https://scikit-learn.org/stable/modules/generated/sklearn.metrics.recall_score.html) ?\n",
        "* Mesurez les valeurs de [f1-scores](https://scikit-learn.org/stable/modules/generated/sklearn.metrics.f1_score.html) et commentez.\n",
        "* Tracez la [ROC](https://scikit-learn.org/stable/modules/generated/sklearn.metrics.roc_curve.html) à partir de plusieurs valeurs de seuil.\n",
        "* Comparez les [AUC](https://scikit-learn.org/stable/modules/generated/sklearn.metrics.auc.html) (aire sous la courbe ROC) de la `linear_model.LogisticRegression` et de `naive_bayes.GaussianNB()`."
      ]
    },
    {
      "cell_type": "markdown",
      "id": "forty-runner",
      "metadata": {
        "id": "forty-runner"
      },
      "source": [
        "---"
      ]
    }
  ],
  "metadata": {
    "colab": {
      "collapsed_sections": [
        "cooked-mailman"
      ],
      "name": "TP_4_-_Scikit-Learn_-_Complete.ipynb",
      "provenance": []
    },
    "interpreter": {
      "hash": "c92006035932818516be565de85500eab32ef4753ec42e406475065158884987"
    },
    "kernelspec": {
      "display_name": "Python [conda env:py3k]",
      "language": "python",
      "name": "python3"
    },
    "language_info": {
      "codemirror_mode": {
        "name": "ipython",
        "version": 3
      },
      "file_extension": ".py",
      "mimetype": "text/x-python",
      "name": "python",
      "nbconvert_exporter": "python",
      "pygments_lexer": "ipython3",
      "version": "3.9.6"
    }
  },
  "nbformat": 4,
  "nbformat_minor": 5
}
