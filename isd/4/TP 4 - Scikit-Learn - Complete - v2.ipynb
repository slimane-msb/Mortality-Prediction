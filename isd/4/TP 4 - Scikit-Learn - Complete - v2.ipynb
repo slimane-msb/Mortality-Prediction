{
 "cells": [
  {
   "cell_type": "markdown",
   "id": "casual-paragraph",
   "metadata": {},
   "source": [
    "# "
   ]
  },
  {
   "cell_type": "markdown",
   "id": "subjective-flight",
   "metadata": {},
   "source": [
    "# Scikit-Learn – Solution"
   ]
  },
  {
   "cell_type": "markdown",
   "id": "statewide-aggregate",
   "metadata": {},
   "source": [
    "## Exploration de données et classification"
   ]
  },
  {
   "cell_type": "markdown",
   "id": "resident-hostel",
   "metadata": {},
   "source": [
    "https://scikit-learn.org/stable/datasets/toy_dataset.html#iris-plants-dataset"
   ]
  },
  {
   "cell_type": "code",
   "execution_count": 1,
   "id": "based-heater",
   "metadata": {},
   "outputs": [
    {
     "name": "stdout",
     "output_type": "stream",
     "text": [
      "1.0.2\n"
     ]
    }
   ],
   "source": [
    "import matplotlib.pyplot as plt\n",
    "import numpy as np\n",
    "import pandas as pd\n",
    "import sklearn\n",
    "from sklearn import (\n",
    "    datasets,\n",
    "    decomposition,\n",
    "    linear_model,\n",
    "    metrics,\n",
    "    model_selection,\n",
    "    naive_bayes,\n",
    "    pipeline,\n",
    ")\n",
    "\n",
    "%config InlineBackend.figure_format=\"retina\"  # For high DPI display\n",
    "\n",
    "print(sklearn.__version__)  # 1.0.2"
   ]
  },
  {
   "cell_type": "markdown",
   "id": "hindu-terror",
   "metadata": {},
   "source": [
    "---"
   ]
  },
  {
   "cell_type": "markdown",
   "id": "entitled-international",
   "metadata": {},
   "source": [
    "### Exploration avec pandas"
   ]
  },
  {
   "cell_type": "markdown",
   "id": "clinical-stanford",
   "metadata": {},
   "source": [
    "#### Créez la dataframe"
   ]
  },
  {
   "cell_type": "markdown",
   "id": "removable-contribution",
   "metadata": {},
   "source": [
    "https://scikit-learn.org/stable/datasets/toy_dataset.html#boston-dataset\n",
    "\n",
    "\n",
    "Descripteurs (features) :\n",
    "\n",
    "* `CRIM`: taux de criminalité par habitant par ville\n",
    "* `ZN`: proportion de terrains résidentiels zonés pour les lots de plus de 25 000 pi.ca.\n",
    "* `INDUS`: proportion d'acres commerciaux/non-commerciaux par ville\n",
    "* `CHAS`: variable fictive de Charles River (= 1 si la zone délimite la rivière; 0 sinon)\n",
    "* `NOX`: concentration d'oxydes nitriques (parties par 10 millions)\n",
    "* `RM`: nombre moyen de pièces par logement\n",
    "* `AGE`: proportion de logements occupés par leur propriétaire construits avant 1940\n",
    "* `DIS`: distances pondérées des cinq centres d'emploi de Boston\n",
    "* `RAD`: indice d'accessibilité aux autoroutes radiales\n",
    "* `TAX`: taux d'imposition foncière de la valeur totale par tranche de 10 000 $\n",
    "* `PTRATIO`: ratio élèves-enseignant par ville\n",
    "* `B`: 1000(A - 0.63)^2 où A est la proportion d'habitants afro-américains par ville\n",
    "* `LSTAT`: pourcentage d'habitant en dessous du seuil de pauvreté\n",
    "\n",
    "Cible (target) :\n",
    "\n",
    "* `MEDV`: Valeur médiane des logements occupés par leur propriétaire en 1 000 $"
   ]
  },
  {
   "cell_type": "code",
   "execution_count": 3,
   "id": "0382d58c-246f-45a9-be79-d5f45d326f74",
   "metadata": {},
   "outputs": [],
   "source": [
    "boston = datasets.load_boston()\n",
    "# print(boston.DESCR)"
   ]
  },
  {
   "cell_type": "code",
   "execution_count": 4,
   "id": "82a07ae2-bc19-48e9-a7fd-3db7fb799499",
   "metadata": {},
   "outputs": [
    {
     "data": {
      "text/html": [
       "<div>\n",
       "<style scoped>\n",
       "    .dataframe tbody tr th:only-of-type {\n",
       "        vertical-align: middle;\n",
       "    }\n",
       "\n",
       "    .dataframe tbody tr th {\n",
       "        vertical-align: top;\n",
       "    }\n",
       "\n",
       "    .dataframe thead th {\n",
       "        text-align: right;\n",
       "    }\n",
       "</style>\n",
       "<table border=\"1\" class=\"dataframe\">\n",
       "  <thead>\n",
       "    <tr style=\"text-align: right;\">\n",
       "      <th></th>\n",
       "      <th>CRIM</th>\n",
       "      <th>ZN</th>\n",
       "      <th>INDUS</th>\n",
       "      <th>CHAS</th>\n",
       "      <th>NOX</th>\n",
       "      <th>RM</th>\n",
       "      <th>AGE</th>\n",
       "      <th>DIS</th>\n",
       "      <th>RAD</th>\n",
       "      <th>TAX</th>\n",
       "      <th>PTRATIO</th>\n",
       "      <th>B</th>\n",
       "      <th>LSTAT</th>\n",
       "      <th>PRICE</th>\n",
       "    </tr>\n",
       "  </thead>\n",
       "  <tbody>\n",
       "    <tr>\n",
       "      <th>0</th>\n",
       "      <td>0.00632</td>\n",
       "      <td>18.0</td>\n",
       "      <td>2.31</td>\n",
       "      <td>0.0</td>\n",
       "      <td>0.538</td>\n",
       "      <td>6.575</td>\n",
       "      <td>65.2</td>\n",
       "      <td>4.0900</td>\n",
       "      <td>1.0</td>\n",
       "      <td>296.0</td>\n",
       "      <td>15.3</td>\n",
       "      <td>396.90</td>\n",
       "      <td>4.98</td>\n",
       "      <td>24.0</td>\n",
       "    </tr>\n",
       "    <tr>\n",
       "      <th>1</th>\n",
       "      <td>0.02731</td>\n",
       "      <td>0.0</td>\n",
       "      <td>7.07</td>\n",
       "      <td>0.0</td>\n",
       "      <td>0.469</td>\n",
       "      <td>6.421</td>\n",
       "      <td>78.9</td>\n",
       "      <td>4.9671</td>\n",
       "      <td>2.0</td>\n",
       "      <td>242.0</td>\n",
       "      <td>17.8</td>\n",
       "      <td>396.90</td>\n",
       "      <td>9.14</td>\n",
       "      <td>21.6</td>\n",
       "    </tr>\n",
       "    <tr>\n",
       "      <th>2</th>\n",
       "      <td>0.02729</td>\n",
       "      <td>0.0</td>\n",
       "      <td>7.07</td>\n",
       "      <td>0.0</td>\n",
       "      <td>0.469</td>\n",
       "      <td>7.185</td>\n",
       "      <td>61.1</td>\n",
       "      <td>4.9671</td>\n",
       "      <td>2.0</td>\n",
       "      <td>242.0</td>\n",
       "      <td>17.8</td>\n",
       "      <td>392.83</td>\n",
       "      <td>4.03</td>\n",
       "      <td>34.7</td>\n",
       "    </tr>\n",
       "    <tr>\n",
       "      <th>3</th>\n",
       "      <td>0.03237</td>\n",
       "      <td>0.0</td>\n",
       "      <td>2.18</td>\n",
       "      <td>0.0</td>\n",
       "      <td>0.458</td>\n",
       "      <td>6.998</td>\n",
       "      <td>45.8</td>\n",
       "      <td>6.0622</td>\n",
       "      <td>3.0</td>\n",
       "      <td>222.0</td>\n",
       "      <td>18.7</td>\n",
       "      <td>394.63</td>\n",
       "      <td>2.94</td>\n",
       "      <td>33.4</td>\n",
       "    </tr>\n",
       "    <tr>\n",
       "      <th>4</th>\n",
       "      <td>0.06905</td>\n",
       "      <td>0.0</td>\n",
       "      <td>2.18</td>\n",
       "      <td>0.0</td>\n",
       "      <td>0.458</td>\n",
       "      <td>7.147</td>\n",
       "      <td>54.2</td>\n",
       "      <td>6.0622</td>\n",
       "      <td>3.0</td>\n",
       "      <td>222.0</td>\n",
       "      <td>18.7</td>\n",
       "      <td>396.90</td>\n",
       "      <td>5.33</td>\n",
       "      <td>36.2</td>\n",
       "    </tr>\n",
       "    <tr>\n",
       "      <th>...</th>\n",
       "      <td>...</td>\n",
       "      <td>...</td>\n",
       "      <td>...</td>\n",
       "      <td>...</td>\n",
       "      <td>...</td>\n",
       "      <td>...</td>\n",
       "      <td>...</td>\n",
       "      <td>...</td>\n",
       "      <td>...</td>\n",
       "      <td>...</td>\n",
       "      <td>...</td>\n",
       "      <td>...</td>\n",
       "      <td>...</td>\n",
       "      <td>...</td>\n",
       "    </tr>\n",
       "    <tr>\n",
       "      <th>501</th>\n",
       "      <td>0.06263</td>\n",
       "      <td>0.0</td>\n",
       "      <td>11.93</td>\n",
       "      <td>0.0</td>\n",
       "      <td>0.573</td>\n",
       "      <td>6.593</td>\n",
       "      <td>69.1</td>\n",
       "      <td>2.4786</td>\n",
       "      <td>1.0</td>\n",
       "      <td>273.0</td>\n",
       "      <td>21.0</td>\n",
       "      <td>391.99</td>\n",
       "      <td>9.67</td>\n",
       "      <td>22.4</td>\n",
       "    </tr>\n",
       "    <tr>\n",
       "      <th>502</th>\n",
       "      <td>0.04527</td>\n",
       "      <td>0.0</td>\n",
       "      <td>11.93</td>\n",
       "      <td>0.0</td>\n",
       "      <td>0.573</td>\n",
       "      <td>6.120</td>\n",
       "      <td>76.7</td>\n",
       "      <td>2.2875</td>\n",
       "      <td>1.0</td>\n",
       "      <td>273.0</td>\n",
       "      <td>21.0</td>\n",
       "      <td>396.90</td>\n",
       "      <td>9.08</td>\n",
       "      <td>20.6</td>\n",
       "    </tr>\n",
       "    <tr>\n",
       "      <th>503</th>\n",
       "      <td>0.06076</td>\n",
       "      <td>0.0</td>\n",
       "      <td>11.93</td>\n",
       "      <td>0.0</td>\n",
       "      <td>0.573</td>\n",
       "      <td>6.976</td>\n",
       "      <td>91.0</td>\n",
       "      <td>2.1675</td>\n",
       "      <td>1.0</td>\n",
       "      <td>273.0</td>\n",
       "      <td>21.0</td>\n",
       "      <td>396.90</td>\n",
       "      <td>5.64</td>\n",
       "      <td>23.9</td>\n",
       "    </tr>\n",
       "    <tr>\n",
       "      <th>504</th>\n",
       "      <td>0.10959</td>\n",
       "      <td>0.0</td>\n",
       "      <td>11.93</td>\n",
       "      <td>0.0</td>\n",
       "      <td>0.573</td>\n",
       "      <td>6.794</td>\n",
       "      <td>89.3</td>\n",
       "      <td>2.3889</td>\n",
       "      <td>1.0</td>\n",
       "      <td>273.0</td>\n",
       "      <td>21.0</td>\n",
       "      <td>393.45</td>\n",
       "      <td>6.48</td>\n",
       "      <td>22.0</td>\n",
       "    </tr>\n",
       "    <tr>\n",
       "      <th>505</th>\n",
       "      <td>0.04741</td>\n",
       "      <td>0.0</td>\n",
       "      <td>11.93</td>\n",
       "      <td>0.0</td>\n",
       "      <td>0.573</td>\n",
       "      <td>6.030</td>\n",
       "      <td>80.8</td>\n",
       "      <td>2.5050</td>\n",
       "      <td>1.0</td>\n",
       "      <td>273.0</td>\n",
       "      <td>21.0</td>\n",
       "      <td>396.90</td>\n",
       "      <td>7.88</td>\n",
       "      <td>11.9</td>\n",
       "    </tr>\n",
       "  </tbody>\n",
       "</table>\n",
       "<p>506 rows × 14 columns</p>\n",
       "</div>"
      ],
      "text/plain": [
       "        CRIM    ZN  INDUS  CHAS    NOX     RM   AGE     DIS  RAD    TAX  \\\n",
       "0    0.00632  18.0   2.31   0.0  0.538  6.575  65.2  4.0900  1.0  296.0   \n",
       "1    0.02731   0.0   7.07   0.0  0.469  6.421  78.9  4.9671  2.0  242.0   \n",
       "2    0.02729   0.0   7.07   0.0  0.469  7.185  61.1  4.9671  2.0  242.0   \n",
       "3    0.03237   0.0   2.18   0.0  0.458  6.998  45.8  6.0622  3.0  222.0   \n",
       "4    0.06905   0.0   2.18   0.0  0.458  7.147  54.2  6.0622  3.0  222.0   \n",
       "..       ...   ...    ...   ...    ...    ...   ...     ...  ...    ...   \n",
       "501  0.06263   0.0  11.93   0.0  0.573  6.593  69.1  2.4786  1.0  273.0   \n",
       "502  0.04527   0.0  11.93   0.0  0.573  6.120  76.7  2.2875  1.0  273.0   \n",
       "503  0.06076   0.0  11.93   0.0  0.573  6.976  91.0  2.1675  1.0  273.0   \n",
       "504  0.10959   0.0  11.93   0.0  0.573  6.794  89.3  2.3889  1.0  273.0   \n",
       "505  0.04741   0.0  11.93   0.0  0.573  6.030  80.8  2.5050  1.0  273.0   \n",
       "\n",
       "     PTRATIO       B  LSTAT  PRICE  \n",
       "0       15.3  396.90   4.98   24.0  \n",
       "1       17.8  396.90   9.14   21.6  \n",
       "2       17.8  392.83   4.03   34.7  \n",
       "3       18.7  394.63   2.94   33.4  \n",
       "4       18.7  396.90   5.33   36.2  \n",
       "..       ...     ...    ...    ...  \n",
       "501     21.0  391.99   9.67   22.4  \n",
       "502     21.0  396.90   9.08   20.6  \n",
       "503     21.0  396.90   5.64   23.9  \n",
       "504     21.0  393.45   6.48   22.0  \n",
       "505     21.0  396.90   7.88   11.9  \n",
       "\n",
       "[506 rows x 14 columns]"
      ]
     },
     "execution_count": 4,
     "metadata": {},
     "output_type": "execute_result"
    }
   ],
   "source": [
    "# adding all the features to data frame\n",
    "boston_df = pd.DataFrame(boston.data, columns=boston.feature_names)\n",
    "boston_df[\"PRICE\"] = boston.target\n",
    "boston_df  # final data in dataframe format"
   ]
  },
  {
   "cell_type": "markdown",
   "id": "dutch-denver",
   "metadata": {},
   "source": [
    "#### Descriptions"
   ]
  },
  {
   "cell_type": "code",
   "execution_count": 5,
   "id": "juvenile-spare",
   "metadata": {},
   "outputs": [
    {
     "data": {
      "text/html": [
       "<div>\n",
       "<style scoped>\n",
       "    .dataframe tbody tr th:only-of-type {\n",
       "        vertical-align: middle;\n",
       "    }\n",
       "\n",
       "    .dataframe tbody tr th {\n",
       "        vertical-align: top;\n",
       "    }\n",
       "\n",
       "    .dataframe thead th {\n",
       "        text-align: right;\n",
       "    }\n",
       "</style>\n",
       "<table border=\"1\" class=\"dataframe\">\n",
       "  <thead>\n",
       "    <tr style=\"text-align: right;\">\n",
       "      <th></th>\n",
       "      <th>CRIM</th>\n",
       "      <th>ZN</th>\n",
       "      <th>INDUS</th>\n",
       "      <th>CHAS</th>\n",
       "      <th>NOX</th>\n",
       "      <th>RM</th>\n",
       "      <th>AGE</th>\n",
       "      <th>DIS</th>\n",
       "      <th>RAD</th>\n",
       "      <th>TAX</th>\n",
       "      <th>PTRATIO</th>\n",
       "      <th>B</th>\n",
       "      <th>LSTAT</th>\n",
       "      <th>PRICE</th>\n",
       "    </tr>\n",
       "  </thead>\n",
       "  <tbody>\n",
       "    <tr>\n",
       "      <th>0</th>\n",
       "      <td>0.00632</td>\n",
       "      <td>18.0</td>\n",
       "      <td>2.31</td>\n",
       "      <td>0.0</td>\n",
       "      <td>0.538</td>\n",
       "      <td>6.575</td>\n",
       "      <td>65.2</td>\n",
       "      <td>4.0900</td>\n",
       "      <td>1.0</td>\n",
       "      <td>296.0</td>\n",
       "      <td>15.3</td>\n",
       "      <td>396.9</td>\n",
       "      <td>4.98</td>\n",
       "      <td>24.0</td>\n",
       "    </tr>\n",
       "    <tr>\n",
       "      <th>1</th>\n",
       "      <td>0.02731</td>\n",
       "      <td>0.0</td>\n",
       "      <td>7.07</td>\n",
       "      <td>0.0</td>\n",
       "      <td>0.469</td>\n",
       "      <td>6.421</td>\n",
       "      <td>78.9</td>\n",
       "      <td>4.9671</td>\n",
       "      <td>2.0</td>\n",
       "      <td>242.0</td>\n",
       "      <td>17.8</td>\n",
       "      <td>396.9</td>\n",
       "      <td>9.14</td>\n",
       "      <td>21.6</td>\n",
       "    </tr>\n",
       "  </tbody>\n",
       "</table>\n",
       "</div>"
      ],
      "text/plain": [
       "      CRIM    ZN  INDUS  CHAS    NOX     RM   AGE     DIS  RAD    TAX  \\\n",
       "0  0.00632  18.0   2.31   0.0  0.538  6.575  65.2  4.0900  1.0  296.0   \n",
       "1  0.02731   0.0   7.07   0.0  0.469  6.421  78.9  4.9671  2.0  242.0   \n",
       "\n",
       "   PTRATIO      B  LSTAT  PRICE  \n",
       "0     15.3  396.9   4.98   24.0  \n",
       "1     17.8  396.9   9.14   21.6  "
      ]
     },
     "execution_count": 5,
     "metadata": {},
     "output_type": "execute_result"
    }
   ],
   "source": [
    "boston_df.head(2)"
   ]
  },
  {
   "cell_type": "code",
   "execution_count": 6,
   "id": "8ce396bb-8385-4547-8d1e-2405958e7899",
   "metadata": {},
   "outputs": [
    {
     "data": {
      "text/html": [
       "<style type=\"text/css\">\n",
       "</style>\n",
       "<table id=\"T_d4c9e\">\n",
       "  <thead>\n",
       "    <tr>\n",
       "      <th class=\"blank level0\" >&nbsp;</th>\n",
       "      <th id=\"T_d4c9e_level0_col0\" class=\"col_heading level0 col0\" >CRIM</th>\n",
       "      <th id=\"T_d4c9e_level0_col1\" class=\"col_heading level0 col1\" >ZN</th>\n",
       "      <th id=\"T_d4c9e_level0_col2\" class=\"col_heading level0 col2\" >INDUS</th>\n",
       "      <th id=\"T_d4c9e_level0_col3\" class=\"col_heading level0 col3\" >CHAS</th>\n",
       "      <th id=\"T_d4c9e_level0_col4\" class=\"col_heading level0 col4\" >NOX</th>\n",
       "      <th id=\"T_d4c9e_level0_col5\" class=\"col_heading level0 col5\" >RM</th>\n",
       "      <th id=\"T_d4c9e_level0_col6\" class=\"col_heading level0 col6\" >AGE</th>\n",
       "      <th id=\"T_d4c9e_level0_col7\" class=\"col_heading level0 col7\" >DIS</th>\n",
       "      <th id=\"T_d4c9e_level0_col8\" class=\"col_heading level0 col8\" >RAD</th>\n",
       "      <th id=\"T_d4c9e_level0_col9\" class=\"col_heading level0 col9\" >TAX</th>\n",
       "      <th id=\"T_d4c9e_level0_col10\" class=\"col_heading level0 col10\" >PTRATIO</th>\n",
       "      <th id=\"T_d4c9e_level0_col11\" class=\"col_heading level0 col11\" >B</th>\n",
       "      <th id=\"T_d4c9e_level0_col12\" class=\"col_heading level0 col12\" >LSTAT</th>\n",
       "      <th id=\"T_d4c9e_level0_col13\" class=\"col_heading level0 col13\" >PRICE</th>\n",
       "    </tr>\n",
       "  </thead>\n",
       "  <tbody>\n",
       "    <tr>\n",
       "      <th id=\"T_d4c9e_level0_row0\" class=\"row_heading level0 row0\" >count</th>\n",
       "      <td id=\"T_d4c9e_row0_col0\" class=\"data row0 col0\" >506</td>\n",
       "      <td id=\"T_d4c9e_row0_col1\" class=\"data row0 col1\" >506</td>\n",
       "      <td id=\"T_d4c9e_row0_col2\" class=\"data row0 col2\" >506</td>\n",
       "      <td id=\"T_d4c9e_row0_col3\" class=\"data row0 col3\" >506</td>\n",
       "      <td id=\"T_d4c9e_row0_col4\" class=\"data row0 col4\" >506</td>\n",
       "      <td id=\"T_d4c9e_row0_col5\" class=\"data row0 col5\" >506</td>\n",
       "      <td id=\"T_d4c9e_row0_col6\" class=\"data row0 col6\" >506</td>\n",
       "      <td id=\"T_d4c9e_row0_col7\" class=\"data row0 col7\" >506</td>\n",
       "      <td id=\"T_d4c9e_row0_col8\" class=\"data row0 col8\" >506</td>\n",
       "      <td id=\"T_d4c9e_row0_col9\" class=\"data row0 col9\" >506</td>\n",
       "      <td id=\"T_d4c9e_row0_col10\" class=\"data row0 col10\" >506</td>\n",
       "      <td id=\"T_d4c9e_row0_col11\" class=\"data row0 col11\" >506</td>\n",
       "      <td id=\"T_d4c9e_row0_col12\" class=\"data row0 col12\" >506</td>\n",
       "      <td id=\"T_d4c9e_row0_col13\" class=\"data row0 col13\" >506</td>\n",
       "    </tr>\n",
       "    <tr>\n",
       "      <th id=\"T_d4c9e_level0_row1\" class=\"row_heading level0 row1\" >mean</th>\n",
       "      <td id=\"T_d4c9e_row1_col0\" class=\"data row1 col0\" >3.61</td>\n",
       "      <td id=\"T_d4c9e_row1_col1\" class=\"data row1 col1\" >11.4</td>\n",
       "      <td id=\"T_d4c9e_row1_col2\" class=\"data row1 col2\" >11.1</td>\n",
       "      <td id=\"T_d4c9e_row1_col3\" class=\"data row1 col3\" >0.0692</td>\n",
       "      <td id=\"T_d4c9e_row1_col4\" class=\"data row1 col4\" >0.555</td>\n",
       "      <td id=\"T_d4c9e_row1_col5\" class=\"data row1 col5\" >6.28</td>\n",
       "      <td id=\"T_d4c9e_row1_col6\" class=\"data row1 col6\" >68.6</td>\n",
       "      <td id=\"T_d4c9e_row1_col7\" class=\"data row1 col7\" >3.8</td>\n",
       "      <td id=\"T_d4c9e_row1_col8\" class=\"data row1 col8\" >9.55</td>\n",
       "      <td id=\"T_d4c9e_row1_col9\" class=\"data row1 col9\" >408</td>\n",
       "      <td id=\"T_d4c9e_row1_col10\" class=\"data row1 col10\" >18.5</td>\n",
       "      <td id=\"T_d4c9e_row1_col11\" class=\"data row1 col11\" >357</td>\n",
       "      <td id=\"T_d4c9e_row1_col12\" class=\"data row1 col12\" >12.7</td>\n",
       "      <td id=\"T_d4c9e_row1_col13\" class=\"data row1 col13\" >22.5</td>\n",
       "    </tr>\n",
       "    <tr>\n",
       "      <th id=\"T_d4c9e_level0_row2\" class=\"row_heading level0 row2\" >std</th>\n",
       "      <td id=\"T_d4c9e_row2_col0\" class=\"data row2 col0\" >8.6</td>\n",
       "      <td id=\"T_d4c9e_row2_col1\" class=\"data row2 col1\" >23.3</td>\n",
       "      <td id=\"T_d4c9e_row2_col2\" class=\"data row2 col2\" >6.86</td>\n",
       "      <td id=\"T_d4c9e_row2_col3\" class=\"data row2 col3\" >0.254</td>\n",
       "      <td id=\"T_d4c9e_row2_col4\" class=\"data row2 col4\" >0.116</td>\n",
       "      <td id=\"T_d4c9e_row2_col5\" class=\"data row2 col5\" >0.703</td>\n",
       "      <td id=\"T_d4c9e_row2_col6\" class=\"data row2 col6\" >28.1</td>\n",
       "      <td id=\"T_d4c9e_row2_col7\" class=\"data row2 col7\" >2.11</td>\n",
       "      <td id=\"T_d4c9e_row2_col8\" class=\"data row2 col8\" >8.71</td>\n",
       "      <td id=\"T_d4c9e_row2_col9\" class=\"data row2 col9\" >169</td>\n",
       "      <td id=\"T_d4c9e_row2_col10\" class=\"data row2 col10\" >2.16</td>\n",
       "      <td id=\"T_d4c9e_row2_col11\" class=\"data row2 col11\" >91.3</td>\n",
       "      <td id=\"T_d4c9e_row2_col12\" class=\"data row2 col12\" >7.14</td>\n",
       "      <td id=\"T_d4c9e_row2_col13\" class=\"data row2 col13\" >9.2</td>\n",
       "    </tr>\n",
       "    <tr>\n",
       "      <th id=\"T_d4c9e_level0_row3\" class=\"row_heading level0 row3\" >min</th>\n",
       "      <td id=\"T_d4c9e_row3_col0\" class=\"data row3 col0\" >0.00632</td>\n",
       "      <td id=\"T_d4c9e_row3_col1\" class=\"data row3 col1\" >0</td>\n",
       "      <td id=\"T_d4c9e_row3_col2\" class=\"data row3 col2\" >0.46</td>\n",
       "      <td id=\"T_d4c9e_row3_col3\" class=\"data row3 col3\" >0</td>\n",
       "      <td id=\"T_d4c9e_row3_col4\" class=\"data row3 col4\" >0.385</td>\n",
       "      <td id=\"T_d4c9e_row3_col5\" class=\"data row3 col5\" >3.56</td>\n",
       "      <td id=\"T_d4c9e_row3_col6\" class=\"data row3 col6\" >2.9</td>\n",
       "      <td id=\"T_d4c9e_row3_col7\" class=\"data row3 col7\" >1.13</td>\n",
       "      <td id=\"T_d4c9e_row3_col8\" class=\"data row3 col8\" >1</td>\n",
       "      <td id=\"T_d4c9e_row3_col9\" class=\"data row3 col9\" >187</td>\n",
       "      <td id=\"T_d4c9e_row3_col10\" class=\"data row3 col10\" >12.6</td>\n",
       "      <td id=\"T_d4c9e_row3_col11\" class=\"data row3 col11\" >0.32</td>\n",
       "      <td id=\"T_d4c9e_row3_col12\" class=\"data row3 col12\" >1.73</td>\n",
       "      <td id=\"T_d4c9e_row3_col13\" class=\"data row3 col13\" >5</td>\n",
       "    </tr>\n",
       "    <tr>\n",
       "      <th id=\"T_d4c9e_level0_row4\" class=\"row_heading level0 row4\" >25%</th>\n",
       "      <td id=\"T_d4c9e_row4_col0\" class=\"data row4 col0\" >0.082</td>\n",
       "      <td id=\"T_d4c9e_row4_col1\" class=\"data row4 col1\" >0</td>\n",
       "      <td id=\"T_d4c9e_row4_col2\" class=\"data row4 col2\" >5.19</td>\n",
       "      <td id=\"T_d4c9e_row4_col3\" class=\"data row4 col3\" >0</td>\n",
       "      <td id=\"T_d4c9e_row4_col4\" class=\"data row4 col4\" >0.449</td>\n",
       "      <td id=\"T_d4c9e_row4_col5\" class=\"data row4 col5\" >5.89</td>\n",
       "      <td id=\"T_d4c9e_row4_col6\" class=\"data row4 col6\" >45</td>\n",
       "      <td id=\"T_d4c9e_row4_col7\" class=\"data row4 col7\" >2.1</td>\n",
       "      <td id=\"T_d4c9e_row4_col8\" class=\"data row4 col8\" >4</td>\n",
       "      <td id=\"T_d4c9e_row4_col9\" class=\"data row4 col9\" >279</td>\n",
       "      <td id=\"T_d4c9e_row4_col10\" class=\"data row4 col10\" >17.4</td>\n",
       "      <td id=\"T_d4c9e_row4_col11\" class=\"data row4 col11\" >375</td>\n",
       "      <td id=\"T_d4c9e_row4_col12\" class=\"data row4 col12\" >6.95</td>\n",
       "      <td id=\"T_d4c9e_row4_col13\" class=\"data row4 col13\" >17</td>\n",
       "    </tr>\n",
       "    <tr>\n",
       "      <th id=\"T_d4c9e_level0_row5\" class=\"row_heading level0 row5\" >50%</th>\n",
       "      <td id=\"T_d4c9e_row5_col0\" class=\"data row5 col0\" >0.257</td>\n",
       "      <td id=\"T_d4c9e_row5_col1\" class=\"data row5 col1\" >0</td>\n",
       "      <td id=\"T_d4c9e_row5_col2\" class=\"data row5 col2\" >9.69</td>\n",
       "      <td id=\"T_d4c9e_row5_col3\" class=\"data row5 col3\" >0</td>\n",
       "      <td id=\"T_d4c9e_row5_col4\" class=\"data row5 col4\" >0.538</td>\n",
       "      <td id=\"T_d4c9e_row5_col5\" class=\"data row5 col5\" >6.21</td>\n",
       "      <td id=\"T_d4c9e_row5_col6\" class=\"data row5 col6\" >77.5</td>\n",
       "      <td id=\"T_d4c9e_row5_col7\" class=\"data row5 col7\" >3.21</td>\n",
       "      <td id=\"T_d4c9e_row5_col8\" class=\"data row5 col8\" >5</td>\n",
       "      <td id=\"T_d4c9e_row5_col9\" class=\"data row5 col9\" >330</td>\n",
       "      <td id=\"T_d4c9e_row5_col10\" class=\"data row5 col10\" >19.1</td>\n",
       "      <td id=\"T_d4c9e_row5_col11\" class=\"data row5 col11\" >391</td>\n",
       "      <td id=\"T_d4c9e_row5_col12\" class=\"data row5 col12\" >11.4</td>\n",
       "      <td id=\"T_d4c9e_row5_col13\" class=\"data row5 col13\" >21.2</td>\n",
       "    </tr>\n",
       "    <tr>\n",
       "      <th id=\"T_d4c9e_level0_row6\" class=\"row_heading level0 row6\" >75%</th>\n",
       "      <td id=\"T_d4c9e_row6_col0\" class=\"data row6 col0\" >3.68</td>\n",
       "      <td id=\"T_d4c9e_row6_col1\" class=\"data row6 col1\" >12.5</td>\n",
       "      <td id=\"T_d4c9e_row6_col2\" class=\"data row6 col2\" >18.1</td>\n",
       "      <td id=\"T_d4c9e_row6_col3\" class=\"data row6 col3\" >0</td>\n",
       "      <td id=\"T_d4c9e_row6_col4\" class=\"data row6 col4\" >0.624</td>\n",
       "      <td id=\"T_d4c9e_row6_col5\" class=\"data row6 col5\" >6.62</td>\n",
       "      <td id=\"T_d4c9e_row6_col6\" class=\"data row6 col6\" >94.1</td>\n",
       "      <td id=\"T_d4c9e_row6_col7\" class=\"data row6 col7\" >5.19</td>\n",
       "      <td id=\"T_d4c9e_row6_col8\" class=\"data row6 col8\" >24</td>\n",
       "      <td id=\"T_d4c9e_row6_col9\" class=\"data row6 col9\" >666</td>\n",
       "      <td id=\"T_d4c9e_row6_col10\" class=\"data row6 col10\" >20.2</td>\n",
       "      <td id=\"T_d4c9e_row6_col11\" class=\"data row6 col11\" >396</td>\n",
       "      <td id=\"T_d4c9e_row6_col12\" class=\"data row6 col12\" >17</td>\n",
       "      <td id=\"T_d4c9e_row6_col13\" class=\"data row6 col13\" >25</td>\n",
       "    </tr>\n",
       "    <tr>\n",
       "      <th id=\"T_d4c9e_level0_row7\" class=\"row_heading level0 row7\" >max</th>\n",
       "      <td id=\"T_d4c9e_row7_col0\" class=\"data row7 col0\" >89</td>\n",
       "      <td id=\"T_d4c9e_row7_col1\" class=\"data row7 col1\" >100</td>\n",
       "      <td id=\"T_d4c9e_row7_col2\" class=\"data row7 col2\" >27.7</td>\n",
       "      <td id=\"T_d4c9e_row7_col3\" class=\"data row7 col3\" >1</td>\n",
       "      <td id=\"T_d4c9e_row7_col4\" class=\"data row7 col4\" >0.871</td>\n",
       "      <td id=\"T_d4c9e_row7_col5\" class=\"data row7 col5\" >8.78</td>\n",
       "      <td id=\"T_d4c9e_row7_col6\" class=\"data row7 col6\" >100</td>\n",
       "      <td id=\"T_d4c9e_row7_col7\" class=\"data row7 col7\" >12.1</td>\n",
       "      <td id=\"T_d4c9e_row7_col8\" class=\"data row7 col8\" >24</td>\n",
       "      <td id=\"T_d4c9e_row7_col9\" class=\"data row7 col9\" >711</td>\n",
       "      <td id=\"T_d4c9e_row7_col10\" class=\"data row7 col10\" >22</td>\n",
       "      <td id=\"T_d4c9e_row7_col11\" class=\"data row7 col11\" >397</td>\n",
       "      <td id=\"T_d4c9e_row7_col12\" class=\"data row7 col12\" >38</td>\n",
       "      <td id=\"T_d4c9e_row7_col13\" class=\"data row7 col13\" >50</td>\n",
       "    </tr>\n",
       "  </tbody>\n",
       "</table>\n"
      ],
      "text/plain": [
       "<pandas.io.formats.style.Styler at 0x107a7a500>"
      ]
     },
     "execution_count": 6,
     "metadata": {},
     "output_type": "execute_result"
    }
   ],
   "source": [
    "boston_df.describe().style.format(\"{:.3g}\")"
   ]
  },
  {
   "cell_type": "markdown",
   "id": "blocked-comfort",
   "metadata": {},
   "source": [
    "#### Corrélations"
   ]
  },
  {
   "cell_type": "markdown",
   "id": "collective-muscle",
   "metadata": {},
   "source": [
    "On peut faire très rapidement un tableau des corrélations avec toutes les données via [`pandas.DataFrame.corr`](https://pandas.pydata.org/pandas-docs/stable/reference/api/pandas.DataFrame.corr.html)."
   ]
  },
  {
   "cell_type": "code",
   "execution_count": 7,
   "id": "mental-liabilities",
   "metadata": {},
   "outputs": [
    {
     "data": {
      "text/html": [
       "<style type=\"text/css\">\n",
       "</style>\n",
       "<table id=\"T_b6044\">\n",
       "  <thead>\n",
       "    <tr>\n",
       "      <th class=\"blank level0\" >&nbsp;</th>\n",
       "      <th id=\"T_b6044_level0_col0\" class=\"col_heading level0 col0\" >CRIM</th>\n",
       "      <th id=\"T_b6044_level0_col1\" class=\"col_heading level0 col1\" >ZN</th>\n",
       "      <th id=\"T_b6044_level0_col2\" class=\"col_heading level0 col2\" >INDUS</th>\n",
       "      <th id=\"T_b6044_level0_col3\" class=\"col_heading level0 col3\" >CHAS</th>\n",
       "      <th id=\"T_b6044_level0_col4\" class=\"col_heading level0 col4\" >NOX</th>\n",
       "      <th id=\"T_b6044_level0_col5\" class=\"col_heading level0 col5\" >RM</th>\n",
       "      <th id=\"T_b6044_level0_col6\" class=\"col_heading level0 col6\" >AGE</th>\n",
       "      <th id=\"T_b6044_level0_col7\" class=\"col_heading level0 col7\" >DIS</th>\n",
       "      <th id=\"T_b6044_level0_col8\" class=\"col_heading level0 col8\" >RAD</th>\n",
       "      <th id=\"T_b6044_level0_col9\" class=\"col_heading level0 col9\" >TAX</th>\n",
       "      <th id=\"T_b6044_level0_col10\" class=\"col_heading level0 col10\" >PTRATIO</th>\n",
       "      <th id=\"T_b6044_level0_col11\" class=\"col_heading level0 col11\" >B</th>\n",
       "      <th id=\"T_b6044_level0_col12\" class=\"col_heading level0 col12\" >LSTAT</th>\n",
       "      <th id=\"T_b6044_level0_col13\" class=\"col_heading level0 col13\" >PRICE</th>\n",
       "    </tr>\n",
       "  </thead>\n",
       "  <tbody>\n",
       "    <tr>\n",
       "      <th id=\"T_b6044_level0_row0\" class=\"row_heading level0 row0\" >CRIM</th>\n",
       "      <td id=\"T_b6044_row0_col0\" class=\"data row0 col0\" >1</td>\n",
       "      <td id=\"T_b6044_row0_col1\" class=\"data row0 col1\" >-0.2</td>\n",
       "      <td id=\"T_b6044_row0_col2\" class=\"data row0 col2\" >0.41</td>\n",
       "      <td id=\"T_b6044_row0_col3\" class=\"data row0 col3\" >-0.056</td>\n",
       "      <td id=\"T_b6044_row0_col4\" class=\"data row0 col4\" >0.42</td>\n",
       "      <td id=\"T_b6044_row0_col5\" class=\"data row0 col5\" >-0.22</td>\n",
       "      <td id=\"T_b6044_row0_col6\" class=\"data row0 col6\" >0.35</td>\n",
       "      <td id=\"T_b6044_row0_col7\" class=\"data row0 col7\" >-0.38</td>\n",
       "      <td id=\"T_b6044_row0_col8\" class=\"data row0 col8\" >0.63</td>\n",
       "      <td id=\"T_b6044_row0_col9\" class=\"data row0 col9\" >0.58</td>\n",
       "      <td id=\"T_b6044_row0_col10\" class=\"data row0 col10\" >0.29</td>\n",
       "      <td id=\"T_b6044_row0_col11\" class=\"data row0 col11\" >-0.39</td>\n",
       "      <td id=\"T_b6044_row0_col12\" class=\"data row0 col12\" >0.46</td>\n",
       "      <td id=\"T_b6044_row0_col13\" class=\"data row0 col13\" >-0.39</td>\n",
       "    </tr>\n",
       "    <tr>\n",
       "      <th id=\"T_b6044_level0_row1\" class=\"row_heading level0 row1\" >ZN</th>\n",
       "      <td id=\"T_b6044_row1_col0\" class=\"data row1 col0\" >-0.2</td>\n",
       "      <td id=\"T_b6044_row1_col1\" class=\"data row1 col1\" >1</td>\n",
       "      <td id=\"T_b6044_row1_col2\" class=\"data row1 col2\" >-0.53</td>\n",
       "      <td id=\"T_b6044_row1_col3\" class=\"data row1 col3\" >-0.043</td>\n",
       "      <td id=\"T_b6044_row1_col4\" class=\"data row1 col4\" >-0.52</td>\n",
       "      <td id=\"T_b6044_row1_col5\" class=\"data row1 col5\" >0.31</td>\n",
       "      <td id=\"T_b6044_row1_col6\" class=\"data row1 col6\" >-0.57</td>\n",
       "      <td id=\"T_b6044_row1_col7\" class=\"data row1 col7\" >0.66</td>\n",
       "      <td id=\"T_b6044_row1_col8\" class=\"data row1 col8\" >-0.31</td>\n",
       "      <td id=\"T_b6044_row1_col9\" class=\"data row1 col9\" >-0.31</td>\n",
       "      <td id=\"T_b6044_row1_col10\" class=\"data row1 col10\" >-0.39</td>\n",
       "      <td id=\"T_b6044_row1_col11\" class=\"data row1 col11\" >0.18</td>\n",
       "      <td id=\"T_b6044_row1_col12\" class=\"data row1 col12\" >-0.41</td>\n",
       "      <td id=\"T_b6044_row1_col13\" class=\"data row1 col13\" >0.36</td>\n",
       "    </tr>\n",
       "    <tr>\n",
       "      <th id=\"T_b6044_level0_row2\" class=\"row_heading level0 row2\" >INDUS</th>\n",
       "      <td id=\"T_b6044_row2_col0\" class=\"data row2 col0\" >0.41</td>\n",
       "      <td id=\"T_b6044_row2_col1\" class=\"data row2 col1\" >-0.53</td>\n",
       "      <td id=\"T_b6044_row2_col2\" class=\"data row2 col2\" >1</td>\n",
       "      <td id=\"T_b6044_row2_col3\" class=\"data row2 col3\" >0.063</td>\n",
       "      <td id=\"T_b6044_row2_col4\" class=\"data row2 col4\" >0.76</td>\n",
       "      <td id=\"T_b6044_row2_col5\" class=\"data row2 col5\" >-0.39</td>\n",
       "      <td id=\"T_b6044_row2_col6\" class=\"data row2 col6\" >0.64</td>\n",
       "      <td id=\"T_b6044_row2_col7\" class=\"data row2 col7\" >-0.71</td>\n",
       "      <td id=\"T_b6044_row2_col8\" class=\"data row2 col8\" >0.6</td>\n",
       "      <td id=\"T_b6044_row2_col9\" class=\"data row2 col9\" >0.72</td>\n",
       "      <td id=\"T_b6044_row2_col10\" class=\"data row2 col10\" >0.38</td>\n",
       "      <td id=\"T_b6044_row2_col11\" class=\"data row2 col11\" >-0.36</td>\n",
       "      <td id=\"T_b6044_row2_col12\" class=\"data row2 col12\" >0.6</td>\n",
       "      <td id=\"T_b6044_row2_col13\" class=\"data row2 col13\" >-0.48</td>\n",
       "    </tr>\n",
       "    <tr>\n",
       "      <th id=\"T_b6044_level0_row3\" class=\"row_heading level0 row3\" >CHAS</th>\n",
       "      <td id=\"T_b6044_row3_col0\" class=\"data row3 col0\" >-0.056</td>\n",
       "      <td id=\"T_b6044_row3_col1\" class=\"data row3 col1\" >-0.043</td>\n",
       "      <td id=\"T_b6044_row3_col2\" class=\"data row3 col2\" >0.063</td>\n",
       "      <td id=\"T_b6044_row3_col3\" class=\"data row3 col3\" >1</td>\n",
       "      <td id=\"T_b6044_row3_col4\" class=\"data row3 col4\" >0.091</td>\n",
       "      <td id=\"T_b6044_row3_col5\" class=\"data row3 col5\" >0.091</td>\n",
       "      <td id=\"T_b6044_row3_col6\" class=\"data row3 col6\" >0.087</td>\n",
       "      <td id=\"T_b6044_row3_col7\" class=\"data row3 col7\" >-0.099</td>\n",
       "      <td id=\"T_b6044_row3_col8\" class=\"data row3 col8\" >-0.0074</td>\n",
       "      <td id=\"T_b6044_row3_col9\" class=\"data row3 col9\" >-0.036</td>\n",
       "      <td id=\"T_b6044_row3_col10\" class=\"data row3 col10\" >-0.12</td>\n",
       "      <td id=\"T_b6044_row3_col11\" class=\"data row3 col11\" >0.049</td>\n",
       "      <td id=\"T_b6044_row3_col12\" class=\"data row3 col12\" >-0.054</td>\n",
       "      <td id=\"T_b6044_row3_col13\" class=\"data row3 col13\" >0.18</td>\n",
       "    </tr>\n",
       "    <tr>\n",
       "      <th id=\"T_b6044_level0_row4\" class=\"row_heading level0 row4\" >NOX</th>\n",
       "      <td id=\"T_b6044_row4_col0\" class=\"data row4 col0\" >0.42</td>\n",
       "      <td id=\"T_b6044_row4_col1\" class=\"data row4 col1\" >-0.52</td>\n",
       "      <td id=\"T_b6044_row4_col2\" class=\"data row4 col2\" >0.76</td>\n",
       "      <td id=\"T_b6044_row4_col3\" class=\"data row4 col3\" >0.091</td>\n",
       "      <td id=\"T_b6044_row4_col4\" class=\"data row4 col4\" >1</td>\n",
       "      <td id=\"T_b6044_row4_col5\" class=\"data row4 col5\" >-0.3</td>\n",
       "      <td id=\"T_b6044_row4_col6\" class=\"data row4 col6\" >0.73</td>\n",
       "      <td id=\"T_b6044_row4_col7\" class=\"data row4 col7\" >-0.77</td>\n",
       "      <td id=\"T_b6044_row4_col8\" class=\"data row4 col8\" >0.61</td>\n",
       "      <td id=\"T_b6044_row4_col9\" class=\"data row4 col9\" >0.67</td>\n",
       "      <td id=\"T_b6044_row4_col10\" class=\"data row4 col10\" >0.19</td>\n",
       "      <td id=\"T_b6044_row4_col11\" class=\"data row4 col11\" >-0.38</td>\n",
       "      <td id=\"T_b6044_row4_col12\" class=\"data row4 col12\" >0.59</td>\n",
       "      <td id=\"T_b6044_row4_col13\" class=\"data row4 col13\" >-0.43</td>\n",
       "    </tr>\n",
       "    <tr>\n",
       "      <th id=\"T_b6044_level0_row5\" class=\"row_heading level0 row5\" >RM</th>\n",
       "      <td id=\"T_b6044_row5_col0\" class=\"data row5 col0\" >-0.22</td>\n",
       "      <td id=\"T_b6044_row5_col1\" class=\"data row5 col1\" >0.31</td>\n",
       "      <td id=\"T_b6044_row5_col2\" class=\"data row5 col2\" >-0.39</td>\n",
       "      <td id=\"T_b6044_row5_col3\" class=\"data row5 col3\" >0.091</td>\n",
       "      <td id=\"T_b6044_row5_col4\" class=\"data row5 col4\" >-0.3</td>\n",
       "      <td id=\"T_b6044_row5_col5\" class=\"data row5 col5\" >1</td>\n",
       "      <td id=\"T_b6044_row5_col6\" class=\"data row5 col6\" >-0.24</td>\n",
       "      <td id=\"T_b6044_row5_col7\" class=\"data row5 col7\" >0.21</td>\n",
       "      <td id=\"T_b6044_row5_col8\" class=\"data row5 col8\" >-0.21</td>\n",
       "      <td id=\"T_b6044_row5_col9\" class=\"data row5 col9\" >-0.29</td>\n",
       "      <td id=\"T_b6044_row5_col10\" class=\"data row5 col10\" >-0.36</td>\n",
       "      <td id=\"T_b6044_row5_col11\" class=\"data row5 col11\" >0.13</td>\n",
       "      <td id=\"T_b6044_row5_col12\" class=\"data row5 col12\" >-0.61</td>\n",
       "      <td id=\"T_b6044_row5_col13\" class=\"data row5 col13\" >0.7</td>\n",
       "    </tr>\n",
       "    <tr>\n",
       "      <th id=\"T_b6044_level0_row6\" class=\"row_heading level0 row6\" >AGE</th>\n",
       "      <td id=\"T_b6044_row6_col0\" class=\"data row6 col0\" >0.35</td>\n",
       "      <td id=\"T_b6044_row6_col1\" class=\"data row6 col1\" >-0.57</td>\n",
       "      <td id=\"T_b6044_row6_col2\" class=\"data row6 col2\" >0.64</td>\n",
       "      <td id=\"T_b6044_row6_col3\" class=\"data row6 col3\" >0.087</td>\n",
       "      <td id=\"T_b6044_row6_col4\" class=\"data row6 col4\" >0.73</td>\n",
       "      <td id=\"T_b6044_row6_col5\" class=\"data row6 col5\" >-0.24</td>\n",
       "      <td id=\"T_b6044_row6_col6\" class=\"data row6 col6\" >1</td>\n",
       "      <td id=\"T_b6044_row6_col7\" class=\"data row6 col7\" >-0.75</td>\n",
       "      <td id=\"T_b6044_row6_col8\" class=\"data row6 col8\" >0.46</td>\n",
       "      <td id=\"T_b6044_row6_col9\" class=\"data row6 col9\" >0.51</td>\n",
       "      <td id=\"T_b6044_row6_col10\" class=\"data row6 col10\" >0.26</td>\n",
       "      <td id=\"T_b6044_row6_col11\" class=\"data row6 col11\" >-0.27</td>\n",
       "      <td id=\"T_b6044_row6_col12\" class=\"data row6 col12\" >0.6</td>\n",
       "      <td id=\"T_b6044_row6_col13\" class=\"data row6 col13\" >-0.38</td>\n",
       "    </tr>\n",
       "    <tr>\n",
       "      <th id=\"T_b6044_level0_row7\" class=\"row_heading level0 row7\" >DIS</th>\n",
       "      <td id=\"T_b6044_row7_col0\" class=\"data row7 col0\" >-0.38</td>\n",
       "      <td id=\"T_b6044_row7_col1\" class=\"data row7 col1\" >0.66</td>\n",
       "      <td id=\"T_b6044_row7_col2\" class=\"data row7 col2\" >-0.71</td>\n",
       "      <td id=\"T_b6044_row7_col3\" class=\"data row7 col3\" >-0.099</td>\n",
       "      <td id=\"T_b6044_row7_col4\" class=\"data row7 col4\" >-0.77</td>\n",
       "      <td id=\"T_b6044_row7_col5\" class=\"data row7 col5\" >0.21</td>\n",
       "      <td id=\"T_b6044_row7_col6\" class=\"data row7 col6\" >-0.75</td>\n",
       "      <td id=\"T_b6044_row7_col7\" class=\"data row7 col7\" >1</td>\n",
       "      <td id=\"T_b6044_row7_col8\" class=\"data row7 col8\" >-0.49</td>\n",
       "      <td id=\"T_b6044_row7_col9\" class=\"data row7 col9\" >-0.53</td>\n",
       "      <td id=\"T_b6044_row7_col10\" class=\"data row7 col10\" >-0.23</td>\n",
       "      <td id=\"T_b6044_row7_col11\" class=\"data row7 col11\" >0.29</td>\n",
       "      <td id=\"T_b6044_row7_col12\" class=\"data row7 col12\" >-0.5</td>\n",
       "      <td id=\"T_b6044_row7_col13\" class=\"data row7 col13\" >0.25</td>\n",
       "    </tr>\n",
       "    <tr>\n",
       "      <th id=\"T_b6044_level0_row8\" class=\"row_heading level0 row8\" >RAD</th>\n",
       "      <td id=\"T_b6044_row8_col0\" class=\"data row8 col0\" >0.63</td>\n",
       "      <td id=\"T_b6044_row8_col1\" class=\"data row8 col1\" >-0.31</td>\n",
       "      <td id=\"T_b6044_row8_col2\" class=\"data row8 col2\" >0.6</td>\n",
       "      <td id=\"T_b6044_row8_col3\" class=\"data row8 col3\" >-0.0074</td>\n",
       "      <td id=\"T_b6044_row8_col4\" class=\"data row8 col4\" >0.61</td>\n",
       "      <td id=\"T_b6044_row8_col5\" class=\"data row8 col5\" >-0.21</td>\n",
       "      <td id=\"T_b6044_row8_col6\" class=\"data row8 col6\" >0.46</td>\n",
       "      <td id=\"T_b6044_row8_col7\" class=\"data row8 col7\" >-0.49</td>\n",
       "      <td id=\"T_b6044_row8_col8\" class=\"data row8 col8\" >1</td>\n",
       "      <td id=\"T_b6044_row8_col9\" class=\"data row8 col9\" >0.91</td>\n",
       "      <td id=\"T_b6044_row8_col10\" class=\"data row8 col10\" >0.46</td>\n",
       "      <td id=\"T_b6044_row8_col11\" class=\"data row8 col11\" >-0.44</td>\n",
       "      <td id=\"T_b6044_row8_col12\" class=\"data row8 col12\" >0.49</td>\n",
       "      <td id=\"T_b6044_row8_col13\" class=\"data row8 col13\" >-0.38</td>\n",
       "    </tr>\n",
       "    <tr>\n",
       "      <th id=\"T_b6044_level0_row9\" class=\"row_heading level0 row9\" >TAX</th>\n",
       "      <td id=\"T_b6044_row9_col0\" class=\"data row9 col0\" >0.58</td>\n",
       "      <td id=\"T_b6044_row9_col1\" class=\"data row9 col1\" >-0.31</td>\n",
       "      <td id=\"T_b6044_row9_col2\" class=\"data row9 col2\" >0.72</td>\n",
       "      <td id=\"T_b6044_row9_col3\" class=\"data row9 col3\" >-0.036</td>\n",
       "      <td id=\"T_b6044_row9_col4\" class=\"data row9 col4\" >0.67</td>\n",
       "      <td id=\"T_b6044_row9_col5\" class=\"data row9 col5\" >-0.29</td>\n",
       "      <td id=\"T_b6044_row9_col6\" class=\"data row9 col6\" >0.51</td>\n",
       "      <td id=\"T_b6044_row9_col7\" class=\"data row9 col7\" >-0.53</td>\n",
       "      <td id=\"T_b6044_row9_col8\" class=\"data row9 col8\" >0.91</td>\n",
       "      <td id=\"T_b6044_row9_col9\" class=\"data row9 col9\" >1</td>\n",
       "      <td id=\"T_b6044_row9_col10\" class=\"data row9 col10\" >0.46</td>\n",
       "      <td id=\"T_b6044_row9_col11\" class=\"data row9 col11\" >-0.44</td>\n",
       "      <td id=\"T_b6044_row9_col12\" class=\"data row9 col12\" >0.54</td>\n",
       "      <td id=\"T_b6044_row9_col13\" class=\"data row9 col13\" >-0.47</td>\n",
       "    </tr>\n",
       "    <tr>\n",
       "      <th id=\"T_b6044_level0_row10\" class=\"row_heading level0 row10\" >PTRATIO</th>\n",
       "      <td id=\"T_b6044_row10_col0\" class=\"data row10 col0\" >0.29</td>\n",
       "      <td id=\"T_b6044_row10_col1\" class=\"data row10 col1\" >-0.39</td>\n",
       "      <td id=\"T_b6044_row10_col2\" class=\"data row10 col2\" >0.38</td>\n",
       "      <td id=\"T_b6044_row10_col3\" class=\"data row10 col3\" >-0.12</td>\n",
       "      <td id=\"T_b6044_row10_col4\" class=\"data row10 col4\" >0.19</td>\n",
       "      <td id=\"T_b6044_row10_col5\" class=\"data row10 col5\" >-0.36</td>\n",
       "      <td id=\"T_b6044_row10_col6\" class=\"data row10 col6\" >0.26</td>\n",
       "      <td id=\"T_b6044_row10_col7\" class=\"data row10 col7\" >-0.23</td>\n",
       "      <td id=\"T_b6044_row10_col8\" class=\"data row10 col8\" >0.46</td>\n",
       "      <td id=\"T_b6044_row10_col9\" class=\"data row10 col9\" >0.46</td>\n",
       "      <td id=\"T_b6044_row10_col10\" class=\"data row10 col10\" >1</td>\n",
       "      <td id=\"T_b6044_row10_col11\" class=\"data row10 col11\" >-0.18</td>\n",
       "      <td id=\"T_b6044_row10_col12\" class=\"data row10 col12\" >0.37</td>\n",
       "      <td id=\"T_b6044_row10_col13\" class=\"data row10 col13\" >-0.51</td>\n",
       "    </tr>\n",
       "    <tr>\n",
       "      <th id=\"T_b6044_level0_row11\" class=\"row_heading level0 row11\" >B</th>\n",
       "      <td id=\"T_b6044_row11_col0\" class=\"data row11 col0\" >-0.39</td>\n",
       "      <td id=\"T_b6044_row11_col1\" class=\"data row11 col1\" >0.18</td>\n",
       "      <td id=\"T_b6044_row11_col2\" class=\"data row11 col2\" >-0.36</td>\n",
       "      <td id=\"T_b6044_row11_col3\" class=\"data row11 col3\" >0.049</td>\n",
       "      <td id=\"T_b6044_row11_col4\" class=\"data row11 col4\" >-0.38</td>\n",
       "      <td id=\"T_b6044_row11_col5\" class=\"data row11 col5\" >0.13</td>\n",
       "      <td id=\"T_b6044_row11_col6\" class=\"data row11 col6\" >-0.27</td>\n",
       "      <td id=\"T_b6044_row11_col7\" class=\"data row11 col7\" >0.29</td>\n",
       "      <td id=\"T_b6044_row11_col8\" class=\"data row11 col8\" >-0.44</td>\n",
       "      <td id=\"T_b6044_row11_col9\" class=\"data row11 col9\" >-0.44</td>\n",
       "      <td id=\"T_b6044_row11_col10\" class=\"data row11 col10\" >-0.18</td>\n",
       "      <td id=\"T_b6044_row11_col11\" class=\"data row11 col11\" >1</td>\n",
       "      <td id=\"T_b6044_row11_col12\" class=\"data row11 col12\" >-0.37</td>\n",
       "      <td id=\"T_b6044_row11_col13\" class=\"data row11 col13\" >0.33</td>\n",
       "    </tr>\n",
       "    <tr>\n",
       "      <th id=\"T_b6044_level0_row12\" class=\"row_heading level0 row12\" >LSTAT</th>\n",
       "      <td id=\"T_b6044_row12_col0\" class=\"data row12 col0\" >0.46</td>\n",
       "      <td id=\"T_b6044_row12_col1\" class=\"data row12 col1\" >-0.41</td>\n",
       "      <td id=\"T_b6044_row12_col2\" class=\"data row12 col2\" >0.6</td>\n",
       "      <td id=\"T_b6044_row12_col3\" class=\"data row12 col3\" >-0.054</td>\n",
       "      <td id=\"T_b6044_row12_col4\" class=\"data row12 col4\" >0.59</td>\n",
       "      <td id=\"T_b6044_row12_col5\" class=\"data row12 col5\" >-0.61</td>\n",
       "      <td id=\"T_b6044_row12_col6\" class=\"data row12 col6\" >0.6</td>\n",
       "      <td id=\"T_b6044_row12_col7\" class=\"data row12 col7\" >-0.5</td>\n",
       "      <td id=\"T_b6044_row12_col8\" class=\"data row12 col8\" >0.49</td>\n",
       "      <td id=\"T_b6044_row12_col9\" class=\"data row12 col9\" >0.54</td>\n",
       "      <td id=\"T_b6044_row12_col10\" class=\"data row12 col10\" >0.37</td>\n",
       "      <td id=\"T_b6044_row12_col11\" class=\"data row12 col11\" >-0.37</td>\n",
       "      <td id=\"T_b6044_row12_col12\" class=\"data row12 col12\" >1</td>\n",
       "      <td id=\"T_b6044_row12_col13\" class=\"data row12 col13\" >-0.74</td>\n",
       "    </tr>\n",
       "    <tr>\n",
       "      <th id=\"T_b6044_level0_row13\" class=\"row_heading level0 row13\" >PRICE</th>\n",
       "      <td id=\"T_b6044_row13_col0\" class=\"data row13 col0\" >-0.39</td>\n",
       "      <td id=\"T_b6044_row13_col1\" class=\"data row13 col1\" >0.36</td>\n",
       "      <td id=\"T_b6044_row13_col2\" class=\"data row13 col2\" >-0.48</td>\n",
       "      <td id=\"T_b6044_row13_col3\" class=\"data row13 col3\" >0.18</td>\n",
       "      <td id=\"T_b6044_row13_col4\" class=\"data row13 col4\" >-0.43</td>\n",
       "      <td id=\"T_b6044_row13_col5\" class=\"data row13 col5\" >0.7</td>\n",
       "      <td id=\"T_b6044_row13_col6\" class=\"data row13 col6\" >-0.38</td>\n",
       "      <td id=\"T_b6044_row13_col7\" class=\"data row13 col7\" >0.25</td>\n",
       "      <td id=\"T_b6044_row13_col8\" class=\"data row13 col8\" >-0.38</td>\n",
       "      <td id=\"T_b6044_row13_col9\" class=\"data row13 col9\" >-0.47</td>\n",
       "      <td id=\"T_b6044_row13_col10\" class=\"data row13 col10\" >-0.51</td>\n",
       "      <td id=\"T_b6044_row13_col11\" class=\"data row13 col11\" >0.33</td>\n",
       "      <td id=\"T_b6044_row13_col12\" class=\"data row13 col12\" >-0.74</td>\n",
       "      <td id=\"T_b6044_row13_col13\" class=\"data row13 col13\" >1</td>\n",
       "    </tr>\n",
       "  </tbody>\n",
       "</table>\n"
      ],
      "text/plain": [
       "<pandas.io.formats.style.Styler at 0x17b417b80>"
      ]
     },
     "execution_count": 7,
     "metadata": {},
     "output_type": "execute_result"
    }
   ],
   "source": [
    "corr_df = boston_df.corr()\n",
    "\n",
    "corr_df.style.format(\"{:.2g}\")"
   ]
  },
  {
   "cell_type": "markdown",
   "id": "green-index",
   "metadata": {},
   "source": [
    "La methode [`DataFrame.style.Styler.background_gradient`](https://pandas.pydata.org/docs/reference/api/pandas.io.formats.style.Styler.background_gradient.html) permet de représenter le `DataFrame` en *heatmap*.\n",
    "\n",
    "Dans ce cas, il est important de prendre une double coloration (ici positive en vert et négative en rose) pour mettre en évidence à la fois la valeur absolue des corrélations et leur polarité."
   ]
  },
  {
   "cell_type": "code",
   "execution_count": 8,
   "id": "favorite-saying",
   "metadata": {},
   "outputs": [
    {
     "data": {
      "text/html": [
       "<style type=\"text/css\">\n",
       "#T_77556_row0_col0, #T_77556_row1_col1, #T_77556_row2_col2, #T_77556_row3_col3, #T_77556_row4_col4, #T_77556_row5_col5, #T_77556_row6_col6, #T_77556_row7_col7, #T_77556_row8_col8, #T_77556_row9_col9, #T_77556_row10_col10, #T_77556_row11_col11, #T_77556_row12_col12, #T_77556_row13_col13 {\n",
       "  background-color: #276419;\n",
       "  color: #f1f1f1;\n",
       "}\n",
       "#T_77556_row0_col1, #T_77556_row1_col0 {\n",
       "  background-color: #fde0ef;\n",
       "  color: #000000;\n",
       "}\n",
       "#T_77556_row0_col2, #T_77556_row2_col0 {\n",
       "  background-color: #b5df82;\n",
       "  color: #000000;\n",
       "}\n",
       "#T_77556_row0_col3, #T_77556_row3_col0 {\n",
       "  background-color: #f9f0f5;\n",
       "  color: #000000;\n",
       "}\n",
       "#T_77556_row0_col4, #T_77556_row4_col0 {\n",
       "  background-color: #b2dd7f;\n",
       "  color: #000000;\n",
       "}\n",
       "#T_77556_row0_col5, #T_77556_row5_col0 {\n",
       "  background-color: #fcdbed;\n",
       "  color: #000000;\n",
       "}\n",
       "#T_77556_row0_col6, #T_77556_row6_col0 {\n",
       "  background-color: #c2e596;\n",
       "  color: #000000;\n",
       "}\n",
       "#T_77556_row0_col7, #T_77556_row4_col11, #T_77556_row6_col13, #T_77556_row7_col0, #T_77556_row8_col13, #T_77556_row11_col4, #T_77556_row13_col6, #T_77556_row13_col8 {\n",
       "  background-color: #f2badc;\n",
       "  color: #000000;\n",
       "}\n",
       "#T_77556_row0_col8, #T_77556_row8_col0 {\n",
       "  background-color: #77b53c;\n",
       "  color: #f1f1f1;\n",
       "}\n",
       "#T_77556_row0_col9, #T_77556_row9_col0 {\n",
       "  background-color: #83bf46;\n",
       "  color: #000000;\n",
       "}\n",
       "#T_77556_row0_col10, #T_77556_row7_col11, #T_77556_row10_col0, #T_77556_row11_col7 {\n",
       "  background-color: #d0ecad;\n",
       "  color: #000000;\n",
       "}\n",
       "#T_77556_row0_col11, #T_77556_row0_col13, #T_77556_row11_col0, #T_77556_row13_col0 {\n",
       "  background-color: #f2b8db;\n",
       "  color: #000000;\n",
       "}\n",
       "#T_77556_row0_col12, #T_77556_row6_col8, #T_77556_row8_col6, #T_77556_row9_col10, #T_77556_row10_col9, #T_77556_row12_col0 {\n",
       "  background-color: #a7d672;\n",
       "  color: #000000;\n",
       "}\n",
       "#T_77556_row1_col2, #T_77556_row2_col1, #T_77556_row7_col9, #T_77556_row9_col7 {\n",
       "  background-color: #e48bbc;\n",
       "  color: #f1f1f1;\n",
       "}\n",
       "#T_77556_row1_col3, #T_77556_row3_col1 {\n",
       "  background-color: #f8f2f5;\n",
       "  color: #000000;\n",
       "}\n",
       "#T_77556_row1_col4, #T_77556_row4_col1 {\n",
       "  background-color: #e590bf;\n",
       "  color: #f1f1f1;\n",
       "}\n",
       "#T_77556_row1_col5, #T_77556_row5_col1 {\n",
       "  background-color: #cdeaa7;\n",
       "  color: #000000;\n",
       "}\n",
       "#T_77556_row1_col6, #T_77556_row6_col1 {\n",
       "  background-color: #e181b5;\n",
       "  color: #f1f1f1;\n",
       "}\n",
       "#T_77556_row1_col7, #T_77556_row4_col9, #T_77556_row7_col1, #T_77556_row9_col4 {\n",
       "  background-color: #6dad36;\n",
       "  color: #f1f1f1;\n",
       "}\n",
       "#T_77556_row1_col8, #T_77556_row8_col1 {\n",
       "  background-color: #f6c9e3;\n",
       "  color: #000000;\n",
       "}\n",
       "#T_77556_row1_col9, #T_77556_row9_col1 {\n",
       "  background-color: #f6c7e3;\n",
       "  color: #000000;\n",
       "}\n",
       "#T_77556_row1_col10, #T_77556_row2_col5, #T_77556_row5_col2, #T_77556_row10_col1 {\n",
       "  background-color: #f1b7da;\n",
       "  color: #000000;\n",
       "}\n",
       "#T_77556_row1_col11, #T_77556_row3_col13, #T_77556_row11_col1, #T_77556_row13_col3 {\n",
       "  background-color: #e8f5d5;\n",
       "  color: #000000;\n",
       "}\n",
       "#T_77556_row1_col12, #T_77556_row12_col1 {\n",
       "  background-color: #f0b2d7;\n",
       "  color: #000000;\n",
       "}\n",
       "#T_77556_row1_col13, #T_77556_row13_col1 {\n",
       "  background-color: #c0e593;\n",
       "  color: #000000;\n",
       "}\n",
       "#T_77556_row2_col3, #T_77556_row3_col2 {\n",
       "  background-color: #f1f6ea;\n",
       "  color: #000000;\n",
       "}\n",
       "#T_77556_row2_col4, #T_77556_row4_col2 {\n",
       "  background-color: #569927;\n",
       "  color: #f1f1f1;\n",
       "}\n",
       "#T_77556_row2_col6, #T_77556_row6_col2 {\n",
       "  background-color: #73b239;\n",
       "  color: #f1f1f1;\n",
       "}\n",
       "#T_77556_row2_col7, #T_77556_row7_col2 {\n",
       "  background-color: #d04493;\n",
       "  color: #f1f1f1;\n",
       "}\n",
       "#T_77556_row2_col8, #T_77556_row8_col2 {\n",
       "  background-color: #7fbc41;\n",
       "  color: #000000;\n",
       "}\n",
       "#T_77556_row2_col9, #T_77556_row9_col2 {\n",
       "  background-color: #60a22d;\n",
       "  color: #f1f1f1;\n",
       "}\n",
       "#T_77556_row2_col10, #T_77556_row10_col2 {\n",
       "  background-color: #bbe28a;\n",
       "  color: #000000;\n",
       "}\n",
       "#T_77556_row2_col11, #T_77556_row5_col10, #T_77556_row10_col5, #T_77556_row11_col2 {\n",
       "  background-color: #f4bfdf;\n",
       "  color: #000000;\n",
       "}\n",
       "#T_77556_row2_col12, #T_77556_row6_col12, #T_77556_row12_col2, #T_77556_row12_col6 {\n",
       "  background-color: #7dba40;\n",
       "  color: #f1f1f1;\n",
       "}\n",
       "#T_77556_row2_col13, #T_77556_row13_col2 {\n",
       "  background-color: #e99cc8;\n",
       "  color: #000000;\n",
       "}\n",
       "#T_77556_row3_col4, #T_77556_row3_col5, #T_77556_row3_col6, #T_77556_row4_col3, #T_77556_row5_col3, #T_77556_row6_col3 {\n",
       "  background-color: #eff6e5;\n",
       "  color: #000000;\n",
       "}\n",
       "#T_77556_row3_col7, #T_77556_row7_col3 {\n",
       "  background-color: #faecf3;\n",
       "  color: #000000;\n",
       "}\n",
       "#T_77556_row3_col8, #T_77556_row8_col3 {\n",
       "  background-color: #f7f7f7;\n",
       "  color: #000000;\n",
       "}\n",
       "#T_77556_row3_col9, #T_77556_row9_col3 {\n",
       "  background-color: #f8f3f6;\n",
       "  color: #000000;\n",
       "}\n",
       "#T_77556_row3_col10, #T_77556_row10_col3 {\n",
       "  background-color: #fbe9f2;\n",
       "  color: #000000;\n",
       "}\n",
       "#T_77556_row3_col11, #T_77556_row11_col3 {\n",
       "  background-color: #f3f6ed;\n",
       "  color: #000000;\n",
       "}\n",
       "#T_77556_row3_col12, #T_77556_row12_col3 {\n",
       "  background-color: #f9f1f5;\n",
       "  color: #000000;\n",
       "}\n",
       "#T_77556_row4_col5, #T_77556_row5_col4 {\n",
       "  background-color: #f7cbe4;\n",
       "  color: #000000;\n",
       "}\n",
       "#T_77556_row4_col6, #T_77556_row6_col4 {\n",
       "  background-color: #5ea02c;\n",
       "  color: #f1f1f1;\n",
       "}\n",
       "#T_77556_row4_col7, #T_77556_row7_col4 {\n",
       "  background-color: #c82884;\n",
       "  color: #f1f1f1;\n",
       "}\n",
       "#T_77556_row4_col8, #T_77556_row8_col4 {\n",
       "  background-color: #7bb93e;\n",
       "  color: #f1f1f1;\n",
       "}\n",
       "#T_77556_row4_col10, #T_77556_row10_col4 {\n",
       "  background-color: #e7f5d2;\n",
       "  color: #000000;\n",
       "}\n",
       "#T_77556_row4_col12, #T_77556_row12_col4 {\n",
       "  background-color: #81bd44;\n",
       "  color: #000000;\n",
       "}\n",
       "#T_77556_row4_col13, #T_77556_row13_col4 {\n",
       "  background-color: #eeadd4;\n",
       "  color: #000000;\n",
       "}\n",
       "#T_77556_row5_col6, #T_77556_row6_col5 {\n",
       "  background-color: #fbd8eb;\n",
       "  color: #000000;\n",
       "}\n",
       "#T_77556_row5_col7, #T_77556_row7_col5 {\n",
       "  background-color: #e4f4cd;\n",
       "  color: #000000;\n",
       "}\n",
       "#T_77556_row5_col8, #T_77556_row8_col5 {\n",
       "  background-color: #fddeee;\n",
       "  color: #000000;\n",
       "}\n",
       "#T_77556_row5_col9, #T_77556_row9_col5 {\n",
       "  background-color: #f7cce5;\n",
       "  color: #000000;\n",
       "}\n",
       "#T_77556_row5_col11, #T_77556_row11_col5 {\n",
       "  background-color: #ecf6de;\n",
       "  color: #000000;\n",
       "}\n",
       "#T_77556_row5_col12, #T_77556_row12_col5 {\n",
       "  background-color: #dc70aa;\n",
       "  color: #f1f1f1;\n",
       "}\n",
       "#T_77556_row5_col13, #T_77556_row13_col5 {\n",
       "  background-color: #66a731;\n",
       "  color: #f1f1f1;\n",
       "}\n",
       "#T_77556_row6_col7, #T_77556_row7_col6 {\n",
       "  background-color: #cb3289;\n",
       "  color: #f1f1f1;\n",
       "}\n",
       "#T_77556_row6_col9, #T_77556_row9_col6 {\n",
       "  background-color: #9acd61;\n",
       "  color: #000000;\n",
       "}\n",
       "#T_77556_row6_col10, #T_77556_row10_col6 {\n",
       "  background-color: #d8efb9;\n",
       "  color: #000000;\n",
       "}\n",
       "#T_77556_row6_col11, #T_77556_row11_col6 {\n",
       "  background-color: #f8d0e7;\n",
       "  color: #000000;\n",
       "}\n",
       "#T_77556_row7_col8, #T_77556_row7_col12, #T_77556_row8_col7, #T_77556_row12_col7 {\n",
       "  background-color: #e897c4;\n",
       "  color: #000000;\n",
       "}\n",
       "#T_77556_row7_col10, #T_77556_row10_col7 {\n",
       "  background-color: #fbd9ec;\n",
       "  color: #000000;\n",
       "}\n",
       "#T_77556_row7_col13, #T_77556_row13_col7 {\n",
       "  background-color: #dbf0bf;\n",
       "  color: #000000;\n",
       "}\n",
       "#T_77556_row8_col9, #T_77556_row9_col8 {\n",
       "  background-color: #37781c;\n",
       "  color: #f1f1f1;\n",
       "}\n",
       "#T_77556_row8_col10, #T_77556_row10_col8 {\n",
       "  background-color: #a5d56f;\n",
       "  color: #000000;\n",
       "}\n",
       "#T_77556_row8_col11, #T_77556_row9_col11, #T_77556_row11_col8, #T_77556_row11_col9 {\n",
       "  background-color: #eda8d1;\n",
       "  color: #000000;\n",
       "}\n",
       "#T_77556_row8_col12, #T_77556_row12_col8 {\n",
       "  background-color: #9ed067;\n",
       "  color: #000000;\n",
       "}\n",
       "#T_77556_row9_col12, #T_77556_row12_col9 {\n",
       "  background-color: #8fc654;\n",
       "  color: #000000;\n",
       "}\n",
       "#T_77556_row9_col13, #T_77556_row13_col9 {\n",
       "  background-color: #eba1cb;\n",
       "  color: #000000;\n",
       "}\n",
       "#T_77556_row10_col11, #T_77556_row11_col10 {\n",
       "  background-color: #fce3f0;\n",
       "  color: #000000;\n",
       "}\n",
       "#T_77556_row10_col12, #T_77556_row12_col10 {\n",
       "  background-color: #bee490;\n",
       "  color: #000000;\n",
       "}\n",
       "#T_77556_row10_col13, #T_77556_row13_col10 {\n",
       "  background-color: #e795c3;\n",
       "  color: #000000;\n",
       "}\n",
       "#T_77556_row11_col12, #T_77556_row12_col11 {\n",
       "  background-color: #f3bdde;\n",
       "  color: #000000;\n",
       "}\n",
       "#T_77556_row11_col13, #T_77556_row13_col11 {\n",
       "  background-color: #c7e89f;\n",
       "  color: #000000;\n",
       "}\n",
       "#T_77556_row12_col13, #T_77556_row13_col12 {\n",
       "  background-color: #cc368b;\n",
       "  color: #f1f1f1;\n",
       "}\n",
       "</style>\n",
       "<table id=\"T_77556\">\n",
       "  <thead>\n",
       "    <tr>\n",
       "      <th class=\"blank level0\" >&nbsp;</th>\n",
       "      <th id=\"T_77556_level0_col0\" class=\"col_heading level0 col0\" >CRIM</th>\n",
       "      <th id=\"T_77556_level0_col1\" class=\"col_heading level0 col1\" >ZN</th>\n",
       "      <th id=\"T_77556_level0_col2\" class=\"col_heading level0 col2\" >INDUS</th>\n",
       "      <th id=\"T_77556_level0_col3\" class=\"col_heading level0 col3\" >CHAS</th>\n",
       "      <th id=\"T_77556_level0_col4\" class=\"col_heading level0 col4\" >NOX</th>\n",
       "      <th id=\"T_77556_level0_col5\" class=\"col_heading level0 col5\" >RM</th>\n",
       "      <th id=\"T_77556_level0_col6\" class=\"col_heading level0 col6\" >AGE</th>\n",
       "      <th id=\"T_77556_level0_col7\" class=\"col_heading level0 col7\" >DIS</th>\n",
       "      <th id=\"T_77556_level0_col8\" class=\"col_heading level0 col8\" >RAD</th>\n",
       "      <th id=\"T_77556_level0_col9\" class=\"col_heading level0 col9\" >TAX</th>\n",
       "      <th id=\"T_77556_level0_col10\" class=\"col_heading level0 col10\" >PTRATIO</th>\n",
       "      <th id=\"T_77556_level0_col11\" class=\"col_heading level0 col11\" >B</th>\n",
       "      <th id=\"T_77556_level0_col12\" class=\"col_heading level0 col12\" >LSTAT</th>\n",
       "      <th id=\"T_77556_level0_col13\" class=\"col_heading level0 col13\" >PRICE</th>\n",
       "    </tr>\n",
       "  </thead>\n",
       "  <tbody>\n",
       "    <tr>\n",
       "      <th id=\"T_77556_level0_row0\" class=\"row_heading level0 row0\" >CRIM</th>\n",
       "      <td id=\"T_77556_row0_col0\" class=\"data row0 col0\" >1</td>\n",
       "      <td id=\"T_77556_row0_col1\" class=\"data row0 col1\" >-0.2</td>\n",
       "      <td id=\"T_77556_row0_col2\" class=\"data row0 col2\" >0.41</td>\n",
       "      <td id=\"T_77556_row0_col3\" class=\"data row0 col3\" >-0.056</td>\n",
       "      <td id=\"T_77556_row0_col4\" class=\"data row0 col4\" >0.42</td>\n",
       "      <td id=\"T_77556_row0_col5\" class=\"data row0 col5\" >-0.22</td>\n",
       "      <td id=\"T_77556_row0_col6\" class=\"data row0 col6\" >0.35</td>\n",
       "      <td id=\"T_77556_row0_col7\" class=\"data row0 col7\" >-0.38</td>\n",
       "      <td id=\"T_77556_row0_col8\" class=\"data row0 col8\" >0.63</td>\n",
       "      <td id=\"T_77556_row0_col9\" class=\"data row0 col9\" >0.58</td>\n",
       "      <td id=\"T_77556_row0_col10\" class=\"data row0 col10\" >0.29</td>\n",
       "      <td id=\"T_77556_row0_col11\" class=\"data row0 col11\" >-0.39</td>\n",
       "      <td id=\"T_77556_row0_col12\" class=\"data row0 col12\" >0.46</td>\n",
       "      <td id=\"T_77556_row0_col13\" class=\"data row0 col13\" >-0.39</td>\n",
       "    </tr>\n",
       "    <tr>\n",
       "      <th id=\"T_77556_level0_row1\" class=\"row_heading level0 row1\" >ZN</th>\n",
       "      <td id=\"T_77556_row1_col0\" class=\"data row1 col0\" >-0.2</td>\n",
       "      <td id=\"T_77556_row1_col1\" class=\"data row1 col1\" >1</td>\n",
       "      <td id=\"T_77556_row1_col2\" class=\"data row1 col2\" >-0.53</td>\n",
       "      <td id=\"T_77556_row1_col3\" class=\"data row1 col3\" >-0.043</td>\n",
       "      <td id=\"T_77556_row1_col4\" class=\"data row1 col4\" >-0.52</td>\n",
       "      <td id=\"T_77556_row1_col5\" class=\"data row1 col5\" >0.31</td>\n",
       "      <td id=\"T_77556_row1_col6\" class=\"data row1 col6\" >-0.57</td>\n",
       "      <td id=\"T_77556_row1_col7\" class=\"data row1 col7\" >0.66</td>\n",
       "      <td id=\"T_77556_row1_col8\" class=\"data row1 col8\" >-0.31</td>\n",
       "      <td id=\"T_77556_row1_col9\" class=\"data row1 col9\" >-0.31</td>\n",
       "      <td id=\"T_77556_row1_col10\" class=\"data row1 col10\" >-0.39</td>\n",
       "      <td id=\"T_77556_row1_col11\" class=\"data row1 col11\" >0.18</td>\n",
       "      <td id=\"T_77556_row1_col12\" class=\"data row1 col12\" >-0.41</td>\n",
       "      <td id=\"T_77556_row1_col13\" class=\"data row1 col13\" >0.36</td>\n",
       "    </tr>\n",
       "    <tr>\n",
       "      <th id=\"T_77556_level0_row2\" class=\"row_heading level0 row2\" >INDUS</th>\n",
       "      <td id=\"T_77556_row2_col0\" class=\"data row2 col0\" >0.41</td>\n",
       "      <td id=\"T_77556_row2_col1\" class=\"data row2 col1\" >-0.53</td>\n",
       "      <td id=\"T_77556_row2_col2\" class=\"data row2 col2\" >1</td>\n",
       "      <td id=\"T_77556_row2_col3\" class=\"data row2 col3\" >0.063</td>\n",
       "      <td id=\"T_77556_row2_col4\" class=\"data row2 col4\" >0.76</td>\n",
       "      <td id=\"T_77556_row2_col5\" class=\"data row2 col5\" >-0.39</td>\n",
       "      <td id=\"T_77556_row2_col6\" class=\"data row2 col6\" >0.64</td>\n",
       "      <td id=\"T_77556_row2_col7\" class=\"data row2 col7\" >-0.71</td>\n",
       "      <td id=\"T_77556_row2_col8\" class=\"data row2 col8\" >0.6</td>\n",
       "      <td id=\"T_77556_row2_col9\" class=\"data row2 col9\" >0.72</td>\n",
       "      <td id=\"T_77556_row2_col10\" class=\"data row2 col10\" >0.38</td>\n",
       "      <td id=\"T_77556_row2_col11\" class=\"data row2 col11\" >-0.36</td>\n",
       "      <td id=\"T_77556_row2_col12\" class=\"data row2 col12\" >0.6</td>\n",
       "      <td id=\"T_77556_row2_col13\" class=\"data row2 col13\" >-0.48</td>\n",
       "    </tr>\n",
       "    <tr>\n",
       "      <th id=\"T_77556_level0_row3\" class=\"row_heading level0 row3\" >CHAS</th>\n",
       "      <td id=\"T_77556_row3_col0\" class=\"data row3 col0\" >-0.056</td>\n",
       "      <td id=\"T_77556_row3_col1\" class=\"data row3 col1\" >-0.043</td>\n",
       "      <td id=\"T_77556_row3_col2\" class=\"data row3 col2\" >0.063</td>\n",
       "      <td id=\"T_77556_row3_col3\" class=\"data row3 col3\" >1</td>\n",
       "      <td id=\"T_77556_row3_col4\" class=\"data row3 col4\" >0.091</td>\n",
       "      <td id=\"T_77556_row3_col5\" class=\"data row3 col5\" >0.091</td>\n",
       "      <td id=\"T_77556_row3_col6\" class=\"data row3 col6\" >0.087</td>\n",
       "      <td id=\"T_77556_row3_col7\" class=\"data row3 col7\" >-0.099</td>\n",
       "      <td id=\"T_77556_row3_col8\" class=\"data row3 col8\" >-0.0074</td>\n",
       "      <td id=\"T_77556_row3_col9\" class=\"data row3 col9\" >-0.036</td>\n",
       "      <td id=\"T_77556_row3_col10\" class=\"data row3 col10\" >-0.12</td>\n",
       "      <td id=\"T_77556_row3_col11\" class=\"data row3 col11\" >0.049</td>\n",
       "      <td id=\"T_77556_row3_col12\" class=\"data row3 col12\" >-0.054</td>\n",
       "      <td id=\"T_77556_row3_col13\" class=\"data row3 col13\" >0.18</td>\n",
       "    </tr>\n",
       "    <tr>\n",
       "      <th id=\"T_77556_level0_row4\" class=\"row_heading level0 row4\" >NOX</th>\n",
       "      <td id=\"T_77556_row4_col0\" class=\"data row4 col0\" >0.42</td>\n",
       "      <td id=\"T_77556_row4_col1\" class=\"data row4 col1\" >-0.52</td>\n",
       "      <td id=\"T_77556_row4_col2\" class=\"data row4 col2\" >0.76</td>\n",
       "      <td id=\"T_77556_row4_col3\" class=\"data row4 col3\" >0.091</td>\n",
       "      <td id=\"T_77556_row4_col4\" class=\"data row4 col4\" >1</td>\n",
       "      <td id=\"T_77556_row4_col5\" class=\"data row4 col5\" >-0.3</td>\n",
       "      <td id=\"T_77556_row4_col6\" class=\"data row4 col6\" >0.73</td>\n",
       "      <td id=\"T_77556_row4_col7\" class=\"data row4 col7\" >-0.77</td>\n",
       "      <td id=\"T_77556_row4_col8\" class=\"data row4 col8\" >0.61</td>\n",
       "      <td id=\"T_77556_row4_col9\" class=\"data row4 col9\" >0.67</td>\n",
       "      <td id=\"T_77556_row4_col10\" class=\"data row4 col10\" >0.19</td>\n",
       "      <td id=\"T_77556_row4_col11\" class=\"data row4 col11\" >-0.38</td>\n",
       "      <td id=\"T_77556_row4_col12\" class=\"data row4 col12\" >0.59</td>\n",
       "      <td id=\"T_77556_row4_col13\" class=\"data row4 col13\" >-0.43</td>\n",
       "    </tr>\n",
       "    <tr>\n",
       "      <th id=\"T_77556_level0_row5\" class=\"row_heading level0 row5\" >RM</th>\n",
       "      <td id=\"T_77556_row5_col0\" class=\"data row5 col0\" >-0.22</td>\n",
       "      <td id=\"T_77556_row5_col1\" class=\"data row5 col1\" >0.31</td>\n",
       "      <td id=\"T_77556_row5_col2\" class=\"data row5 col2\" >-0.39</td>\n",
       "      <td id=\"T_77556_row5_col3\" class=\"data row5 col3\" >0.091</td>\n",
       "      <td id=\"T_77556_row5_col4\" class=\"data row5 col4\" >-0.3</td>\n",
       "      <td id=\"T_77556_row5_col5\" class=\"data row5 col5\" >1</td>\n",
       "      <td id=\"T_77556_row5_col6\" class=\"data row5 col6\" >-0.24</td>\n",
       "      <td id=\"T_77556_row5_col7\" class=\"data row5 col7\" >0.21</td>\n",
       "      <td id=\"T_77556_row5_col8\" class=\"data row5 col8\" >-0.21</td>\n",
       "      <td id=\"T_77556_row5_col9\" class=\"data row5 col9\" >-0.29</td>\n",
       "      <td id=\"T_77556_row5_col10\" class=\"data row5 col10\" >-0.36</td>\n",
       "      <td id=\"T_77556_row5_col11\" class=\"data row5 col11\" >0.13</td>\n",
       "      <td id=\"T_77556_row5_col12\" class=\"data row5 col12\" >-0.61</td>\n",
       "      <td id=\"T_77556_row5_col13\" class=\"data row5 col13\" >0.7</td>\n",
       "    </tr>\n",
       "    <tr>\n",
       "      <th id=\"T_77556_level0_row6\" class=\"row_heading level0 row6\" >AGE</th>\n",
       "      <td id=\"T_77556_row6_col0\" class=\"data row6 col0\" >0.35</td>\n",
       "      <td id=\"T_77556_row6_col1\" class=\"data row6 col1\" >-0.57</td>\n",
       "      <td id=\"T_77556_row6_col2\" class=\"data row6 col2\" >0.64</td>\n",
       "      <td id=\"T_77556_row6_col3\" class=\"data row6 col3\" >0.087</td>\n",
       "      <td id=\"T_77556_row6_col4\" class=\"data row6 col4\" >0.73</td>\n",
       "      <td id=\"T_77556_row6_col5\" class=\"data row6 col5\" >-0.24</td>\n",
       "      <td id=\"T_77556_row6_col6\" class=\"data row6 col6\" >1</td>\n",
       "      <td id=\"T_77556_row6_col7\" class=\"data row6 col7\" >-0.75</td>\n",
       "      <td id=\"T_77556_row6_col8\" class=\"data row6 col8\" >0.46</td>\n",
       "      <td id=\"T_77556_row6_col9\" class=\"data row6 col9\" >0.51</td>\n",
       "      <td id=\"T_77556_row6_col10\" class=\"data row6 col10\" >0.26</td>\n",
       "      <td id=\"T_77556_row6_col11\" class=\"data row6 col11\" >-0.27</td>\n",
       "      <td id=\"T_77556_row6_col12\" class=\"data row6 col12\" >0.6</td>\n",
       "      <td id=\"T_77556_row6_col13\" class=\"data row6 col13\" >-0.38</td>\n",
       "    </tr>\n",
       "    <tr>\n",
       "      <th id=\"T_77556_level0_row7\" class=\"row_heading level0 row7\" >DIS</th>\n",
       "      <td id=\"T_77556_row7_col0\" class=\"data row7 col0\" >-0.38</td>\n",
       "      <td id=\"T_77556_row7_col1\" class=\"data row7 col1\" >0.66</td>\n",
       "      <td id=\"T_77556_row7_col2\" class=\"data row7 col2\" >-0.71</td>\n",
       "      <td id=\"T_77556_row7_col3\" class=\"data row7 col3\" >-0.099</td>\n",
       "      <td id=\"T_77556_row7_col4\" class=\"data row7 col4\" >-0.77</td>\n",
       "      <td id=\"T_77556_row7_col5\" class=\"data row7 col5\" >0.21</td>\n",
       "      <td id=\"T_77556_row7_col6\" class=\"data row7 col6\" >-0.75</td>\n",
       "      <td id=\"T_77556_row7_col7\" class=\"data row7 col7\" >1</td>\n",
       "      <td id=\"T_77556_row7_col8\" class=\"data row7 col8\" >-0.49</td>\n",
       "      <td id=\"T_77556_row7_col9\" class=\"data row7 col9\" >-0.53</td>\n",
       "      <td id=\"T_77556_row7_col10\" class=\"data row7 col10\" >-0.23</td>\n",
       "      <td id=\"T_77556_row7_col11\" class=\"data row7 col11\" >0.29</td>\n",
       "      <td id=\"T_77556_row7_col12\" class=\"data row7 col12\" >-0.5</td>\n",
       "      <td id=\"T_77556_row7_col13\" class=\"data row7 col13\" >0.25</td>\n",
       "    </tr>\n",
       "    <tr>\n",
       "      <th id=\"T_77556_level0_row8\" class=\"row_heading level0 row8\" >RAD</th>\n",
       "      <td id=\"T_77556_row8_col0\" class=\"data row8 col0\" >0.63</td>\n",
       "      <td id=\"T_77556_row8_col1\" class=\"data row8 col1\" >-0.31</td>\n",
       "      <td id=\"T_77556_row8_col2\" class=\"data row8 col2\" >0.6</td>\n",
       "      <td id=\"T_77556_row8_col3\" class=\"data row8 col3\" >-0.0074</td>\n",
       "      <td id=\"T_77556_row8_col4\" class=\"data row8 col4\" >0.61</td>\n",
       "      <td id=\"T_77556_row8_col5\" class=\"data row8 col5\" >-0.21</td>\n",
       "      <td id=\"T_77556_row8_col6\" class=\"data row8 col6\" >0.46</td>\n",
       "      <td id=\"T_77556_row8_col7\" class=\"data row8 col7\" >-0.49</td>\n",
       "      <td id=\"T_77556_row8_col8\" class=\"data row8 col8\" >1</td>\n",
       "      <td id=\"T_77556_row8_col9\" class=\"data row8 col9\" >0.91</td>\n",
       "      <td id=\"T_77556_row8_col10\" class=\"data row8 col10\" >0.46</td>\n",
       "      <td id=\"T_77556_row8_col11\" class=\"data row8 col11\" >-0.44</td>\n",
       "      <td id=\"T_77556_row8_col12\" class=\"data row8 col12\" >0.49</td>\n",
       "      <td id=\"T_77556_row8_col13\" class=\"data row8 col13\" >-0.38</td>\n",
       "    </tr>\n",
       "    <tr>\n",
       "      <th id=\"T_77556_level0_row9\" class=\"row_heading level0 row9\" >TAX</th>\n",
       "      <td id=\"T_77556_row9_col0\" class=\"data row9 col0\" >0.58</td>\n",
       "      <td id=\"T_77556_row9_col1\" class=\"data row9 col1\" >-0.31</td>\n",
       "      <td id=\"T_77556_row9_col2\" class=\"data row9 col2\" >0.72</td>\n",
       "      <td id=\"T_77556_row9_col3\" class=\"data row9 col3\" >-0.036</td>\n",
       "      <td id=\"T_77556_row9_col4\" class=\"data row9 col4\" >0.67</td>\n",
       "      <td id=\"T_77556_row9_col5\" class=\"data row9 col5\" >-0.29</td>\n",
       "      <td id=\"T_77556_row9_col6\" class=\"data row9 col6\" >0.51</td>\n",
       "      <td id=\"T_77556_row9_col7\" class=\"data row9 col7\" >-0.53</td>\n",
       "      <td id=\"T_77556_row9_col8\" class=\"data row9 col8\" >0.91</td>\n",
       "      <td id=\"T_77556_row9_col9\" class=\"data row9 col9\" >1</td>\n",
       "      <td id=\"T_77556_row9_col10\" class=\"data row9 col10\" >0.46</td>\n",
       "      <td id=\"T_77556_row9_col11\" class=\"data row9 col11\" >-0.44</td>\n",
       "      <td id=\"T_77556_row9_col12\" class=\"data row9 col12\" >0.54</td>\n",
       "      <td id=\"T_77556_row9_col13\" class=\"data row9 col13\" >-0.47</td>\n",
       "    </tr>\n",
       "    <tr>\n",
       "      <th id=\"T_77556_level0_row10\" class=\"row_heading level0 row10\" >PTRATIO</th>\n",
       "      <td id=\"T_77556_row10_col0\" class=\"data row10 col0\" >0.29</td>\n",
       "      <td id=\"T_77556_row10_col1\" class=\"data row10 col1\" >-0.39</td>\n",
       "      <td id=\"T_77556_row10_col2\" class=\"data row10 col2\" >0.38</td>\n",
       "      <td id=\"T_77556_row10_col3\" class=\"data row10 col3\" >-0.12</td>\n",
       "      <td id=\"T_77556_row10_col4\" class=\"data row10 col4\" >0.19</td>\n",
       "      <td id=\"T_77556_row10_col5\" class=\"data row10 col5\" >-0.36</td>\n",
       "      <td id=\"T_77556_row10_col6\" class=\"data row10 col6\" >0.26</td>\n",
       "      <td id=\"T_77556_row10_col7\" class=\"data row10 col7\" >-0.23</td>\n",
       "      <td id=\"T_77556_row10_col8\" class=\"data row10 col8\" >0.46</td>\n",
       "      <td id=\"T_77556_row10_col9\" class=\"data row10 col9\" >0.46</td>\n",
       "      <td id=\"T_77556_row10_col10\" class=\"data row10 col10\" >1</td>\n",
       "      <td id=\"T_77556_row10_col11\" class=\"data row10 col11\" >-0.18</td>\n",
       "      <td id=\"T_77556_row10_col12\" class=\"data row10 col12\" >0.37</td>\n",
       "      <td id=\"T_77556_row10_col13\" class=\"data row10 col13\" >-0.51</td>\n",
       "    </tr>\n",
       "    <tr>\n",
       "      <th id=\"T_77556_level0_row11\" class=\"row_heading level0 row11\" >B</th>\n",
       "      <td id=\"T_77556_row11_col0\" class=\"data row11 col0\" >-0.39</td>\n",
       "      <td id=\"T_77556_row11_col1\" class=\"data row11 col1\" >0.18</td>\n",
       "      <td id=\"T_77556_row11_col2\" class=\"data row11 col2\" >-0.36</td>\n",
       "      <td id=\"T_77556_row11_col3\" class=\"data row11 col3\" >0.049</td>\n",
       "      <td id=\"T_77556_row11_col4\" class=\"data row11 col4\" >-0.38</td>\n",
       "      <td id=\"T_77556_row11_col5\" class=\"data row11 col5\" >0.13</td>\n",
       "      <td id=\"T_77556_row11_col6\" class=\"data row11 col6\" >-0.27</td>\n",
       "      <td id=\"T_77556_row11_col7\" class=\"data row11 col7\" >0.29</td>\n",
       "      <td id=\"T_77556_row11_col8\" class=\"data row11 col8\" >-0.44</td>\n",
       "      <td id=\"T_77556_row11_col9\" class=\"data row11 col9\" >-0.44</td>\n",
       "      <td id=\"T_77556_row11_col10\" class=\"data row11 col10\" >-0.18</td>\n",
       "      <td id=\"T_77556_row11_col11\" class=\"data row11 col11\" >1</td>\n",
       "      <td id=\"T_77556_row11_col12\" class=\"data row11 col12\" >-0.37</td>\n",
       "      <td id=\"T_77556_row11_col13\" class=\"data row11 col13\" >0.33</td>\n",
       "    </tr>\n",
       "    <tr>\n",
       "      <th id=\"T_77556_level0_row12\" class=\"row_heading level0 row12\" >LSTAT</th>\n",
       "      <td id=\"T_77556_row12_col0\" class=\"data row12 col0\" >0.46</td>\n",
       "      <td id=\"T_77556_row12_col1\" class=\"data row12 col1\" >-0.41</td>\n",
       "      <td id=\"T_77556_row12_col2\" class=\"data row12 col2\" >0.6</td>\n",
       "      <td id=\"T_77556_row12_col3\" class=\"data row12 col3\" >-0.054</td>\n",
       "      <td id=\"T_77556_row12_col4\" class=\"data row12 col4\" >0.59</td>\n",
       "      <td id=\"T_77556_row12_col5\" class=\"data row12 col5\" >-0.61</td>\n",
       "      <td id=\"T_77556_row12_col6\" class=\"data row12 col6\" >0.6</td>\n",
       "      <td id=\"T_77556_row12_col7\" class=\"data row12 col7\" >-0.5</td>\n",
       "      <td id=\"T_77556_row12_col8\" class=\"data row12 col8\" >0.49</td>\n",
       "      <td id=\"T_77556_row12_col9\" class=\"data row12 col9\" >0.54</td>\n",
       "      <td id=\"T_77556_row12_col10\" class=\"data row12 col10\" >0.37</td>\n",
       "      <td id=\"T_77556_row12_col11\" class=\"data row12 col11\" >-0.37</td>\n",
       "      <td id=\"T_77556_row12_col12\" class=\"data row12 col12\" >1</td>\n",
       "      <td id=\"T_77556_row12_col13\" class=\"data row12 col13\" >-0.74</td>\n",
       "    </tr>\n",
       "    <tr>\n",
       "      <th id=\"T_77556_level0_row13\" class=\"row_heading level0 row13\" >PRICE</th>\n",
       "      <td id=\"T_77556_row13_col0\" class=\"data row13 col0\" >-0.39</td>\n",
       "      <td id=\"T_77556_row13_col1\" class=\"data row13 col1\" >0.36</td>\n",
       "      <td id=\"T_77556_row13_col2\" class=\"data row13 col2\" >-0.48</td>\n",
       "      <td id=\"T_77556_row13_col3\" class=\"data row13 col3\" >0.18</td>\n",
       "      <td id=\"T_77556_row13_col4\" class=\"data row13 col4\" >-0.43</td>\n",
       "      <td id=\"T_77556_row13_col5\" class=\"data row13 col5\" >0.7</td>\n",
       "      <td id=\"T_77556_row13_col6\" class=\"data row13 col6\" >-0.38</td>\n",
       "      <td id=\"T_77556_row13_col7\" class=\"data row13 col7\" >0.25</td>\n",
       "      <td id=\"T_77556_row13_col8\" class=\"data row13 col8\" >-0.38</td>\n",
       "      <td id=\"T_77556_row13_col9\" class=\"data row13 col9\" >-0.47</td>\n",
       "      <td id=\"T_77556_row13_col10\" class=\"data row13 col10\" >-0.51</td>\n",
       "      <td id=\"T_77556_row13_col11\" class=\"data row13 col11\" >0.33</td>\n",
       "      <td id=\"T_77556_row13_col12\" class=\"data row13 col12\" >-0.74</td>\n",
       "      <td id=\"T_77556_row13_col13\" class=\"data row13 col13\" >1</td>\n",
       "    </tr>\n",
       "  </tbody>\n",
       "</table>\n"
      ],
      "text/plain": [
       "<pandas.io.formats.style.Styler at 0x17b464af0>"
      ]
     },
     "execution_count": 8,
     "metadata": {},
     "output_type": "execute_result"
    }
   ],
   "source": [
    "corr_df.style.background_gradient(cmap=\"PiYG\", vmin=-1).format(\"{:.2g}\")"
   ]
  },
  {
   "cell_type": "markdown",
   "id": "angry-expense",
   "metadata": {},
   "source": [
    "#### Graphiques dans pandas"
   ]
  },
  {
   "cell_type": "markdown",
   "id": "external-correction",
   "metadata": {},
   "source": [
    "Il est possible de construire des graphiques très facilement à partir des `DataFrame` de pandas qui offrent un accès à l'API de Matplotlib, comme par exemple avec la méthode [`DataFrame.hist`](https://pandas.pydata.org/docs/reference/api/pandas.DataFrame.hist.html)."
   ]
  },
  {
   "cell_type": "code",
   "execution_count": 9,
   "id": "twelve-hazard",
   "metadata": {},
   "outputs": [
    {
     "data": {
      "image/png": "[encoded data removed]",
      "text/plain": [
       "<Figure size 432x288 with 1 Axes>"
      ]
     },
     "metadata": {
      "image/png": {
       "height": 249,
       "width": 375
      },
      "needs_background": "light"
     },
     "output_type": "display_data"
    }
   ],
   "source": [
    "boston_df[\"PRICE\"].hist()\n",
    "plt.show()"
   ]
  },
  {
   "cell_type": "markdown",
   "id": "brazilian-meter",
   "metadata": {},
   "source": [
    "Par défaut, l'histogramme est divisé en 10 paniers (*bins*). On peut voir que le choix du nombre de paniers influence grandement la forme des histogrammes."
   ]
  },
  {
   "cell_type": "code",
   "execution_count": 10,
   "id": "oriental-steel",
   "metadata": {},
   "outputs": [
    {
     "data": {
      "image/png": "[encoded data removed]",
      "text/plain": [
       "<Figure size 432x288 with 1 Axes>"
      ]
     },
     "metadata": {
      "image/png": {
       "height": 248,
       "width": 375
      },
      "needs_background": "light"
     },
     "output_type": "display_data"
    }
   ],
   "source": [
    "boston_df[\"PRICE\"].hist(bins=5)\n",
    "plt.show()"
   ]
  },
  {
   "cell_type": "code",
   "execution_count": 11,
   "id": "serial-geography",
   "metadata": {},
   "outputs": [
    {
     "data": {
      "image/png": "[encoded data removed]",
      "text/plain": [
       "<Figure size 432x288 with 1 Axes>"
      ]
     },
     "metadata": {
      "image/png": {
       "height": 248,
       "width": 378
      },
      "needs_background": "light"
     },
     "output_type": "display_data"
    }
   ],
   "source": [
    "boston_df[\"PRICE\"].hist(bins=100)\n",
    "plt.show()"
   ]
  },
  {
   "cell_type": "markdown",
   "id": "accredited-accounting",
   "metadata": {},
   "source": [
    "#### Scatter matrix"
   ]
  },
  {
   "cell_type": "markdown",
   "id": "regulation-calvin",
   "metadata": {},
   "source": [
    "Une autre façon de visualiser la corrélation entre des descripteurs est via la fonction [`pandas.plotting.scatter_matrix`](https://pandas.pydata.org/docs/reference/api/pandas.plotting.scatter_matrix.html) de pandas, qui trace chaque descripteur numérique par rapport à chaque autre descripteur numérique. \n",
    "\n",
    "Comme on a 13 descripteurs numériques, vous obtiendrez $13 \\times 13 = 169$ figures, ce qui ne serait pas lisible sur une page, alors concentrons-nous simplement sur quelques-uns d'entre eux."
   ]
  },
  {
   "cell_type": "code",
   "execution_count": 12,
   "id": "effective-transfer",
   "metadata": {},
   "outputs": [
    {
     "data": {
      "image/png": "[encoded data removed]",
      "text/plain": [
       "<Figure size 864x576 with 16 Axes>"
      ]
     },
     "metadata": {
      "image/png": {
       "height": 487,
       "width": 722
      },
      "needs_background": "light"
     },
     "output_type": "display_data"
    }
   ],
   "source": [
    "FTS = [\"PRICE\", \"LSTAT\", \"CHAS\", \"RM\"]\n",
    "pd.plotting.scatter_matrix(boston_df[FTS], figsize=(12, 8))\n",
    "plt.show()"
   ]
  },
  {
   "cell_type": "markdown",
   "id": "based-hurricane",
   "metadata": {},
   "source": [
    "On peut voir les corrélations positives et négatives avec PRICE, et celles peu corrélées (en l'occurence CHAS, la proximité de la rivière, qui est une variable binaire)."
   ]
  },
  {
   "cell_type": "markdown",
   "id": "compound-hughes",
   "metadata": {},
   "source": [
    "---"
   ]
  },
  {
   "cell_type": "markdown",
   "id": "cloudy-terry",
   "metadata": {},
   "source": [
    "### Classification (digits)"
   ]
  },
  {
   "cell_type": "markdown",
   "id": "continental-study",
   "metadata": {},
   "source": [
    "On va regarder la classification en terme de précision et rappel (et non-plus uniquement en terme d'accuracy)."
   ]
  },
  {
   "cell_type": "markdown",
   "id": "optional-shelter",
   "metadata": {},
   "source": [
    "#### Chargement des données"
   ]
  },
  {
   "cell_type": "markdown",
   "id": "dimensional-appearance",
   "metadata": {},
   "source": [
    "https://scikit-learn.org/stable/datasets/toy_dataset.html#digits-dataset"
   ]
  },
  {
   "cell_type": "code",
   "execution_count": 13,
   "id": "cordless-saturn",
   "metadata": {},
   "outputs": [],
   "source": [
    "digits = datasets.load_digits()"
   ]
  },
  {
   "cell_type": "code",
   "execution_count": 14,
   "id": "statewide-facility",
   "metadata": {},
   "outputs": [
    {
     "name": "stdout",
     "output_type": "stream",
     "text": [
      "(1797, 8, 8)\n",
      "(1797, 64) (1797,)\n"
     ]
    }
   ],
   "source": [
    "# Flatten the images\n",
    "n_samples = len(digits.images)\n",
    "print(digits.images.shape)\n",
    "\n",
    "xs = digits.images.reshape([n_samples, -1])\n",
    "ys = digits.target\n",
    "\n",
    "print(xs.shape, ys.shape)"
   ]
  },
  {
   "cell_type": "markdown",
   "id": "threaded-median",
   "metadata": {},
   "source": [
    "Sélectionnez de manière aléatoire le dataset d'entrainement et de test (via la fonction [`train_test_split`](https://scikit-learn.org/stable/modules/generated/sklearn.model_selection.train_test_split.html))."
   ]
  },
  {
   "cell_type": "markdown",
   "id": "talented-antarctica",
   "metadata": {},
   "source": [
    "<span style=\"color:red\">Implémentez votre solution ci-dessous</span>"
   ]
  },
  {
   "cell_type": "code",
   "execution_count": 15,
   "id": "reflected-drama",
   "metadata": {
    "editable": true,
    "tags": []
   },
   "outputs": [
    {
     "name": "stdout",
     "output_type": "stream",
     "text": [
      "(1347,) (1347, 64)\n",
      "(450,) (450, 64)\n"
     ]
    }
   ],
   "source": [
    "xs_train, xs_test, ys_train, ys_test = model_selection.train_test_split(\n",
    "    xs, ys, random_state=1\n",
    ")\n",
    "\n",
    "print(ys_train.shape, xs_train.shape)\n",
    "print(ys_test.shape, xs_test.shape)"
   ]
  },
  {
   "cell_type": "markdown",
   "id": "meaning-validation",
   "metadata": {},
   "source": [
    "#### Entrainement des modèles"
   ]
  },
  {
   "cell_type": "markdown",
   "id": "frank-driver",
   "metadata": {},
   "source": [
    "Entrainez le modèle avec l'algorithme de classification [Naive Bayes avec le noyau Gaussien](https://scikit-learn.org/stable/modules/generated/sklearn.naive_bayes.GaussianNB.html)."
   ]
  },
  {
   "cell_type": "markdown",
   "id": "individual-kidney",
   "metadata": {},
   "source": [
    "<span style=\"color:red\">Implémentez votre solution ci-dessous</span>"
   ]
  },
  {
   "cell_type": "code",
   "execution_count": 16,
   "id": "ongoing-trauma",
   "metadata": {
    "collapsed": false,
    "editable": true,
    "jupyter": {
     "outputs_hidden": false
    }
   },
   "outputs": [],
   "source": [
    "# 2. Instantiaiton\n",
    "model = naive_bayes.GaussianNB()\n",
    "\n",
    "# 3. Apprentissage (fit) du model\n",
    "model.fit(xs_train, ys_train)\n",
    "\n",
    "# 4. Prédire sur les données de test\n",
    "ys_pred = model.predict(xs_test)"
   ]
  },
  {
   "cell_type": "markdown",
   "id": "hairy-index",
   "metadata": {},
   "source": [
    "#### Évaluation"
   ]
  },
  {
   "cell_type": "markdown",
   "id": "ultimate-smith",
   "metadata": {},
   "source": [
    "Évaluez avec l'[`accuracy_score`](https://scikit-learn.org/stable/modules/generated/sklearn.metrics.accuracy_score.html).\n",
    "\n",
    "Puis donnez une résultats plus complet, incluant précision, rappel est et f1-score avec la fonction [`classification_report`](https://scikit-learn.org/stable/modules/generated/sklearn.metrics.classification_report.html)."
   ]
  },
  {
   "cell_type": "markdown",
   "id": "annual-praise",
   "metadata": {},
   "source": [
    "<span style=\"color:red\">Implémentez votre solution ci-dessous</span>"
   ]
  },
  {
   "cell_type": "code",
   "execution_count": 17,
   "id": "driving-cholesterol",
   "metadata": {},
   "outputs": [
    {
     "name": "stdout",
     "output_type": "stream",
     "text": [
      "0.8533\n"
     ]
    }
   ],
   "source": [
    "score = metrics.accuracy_score(ys_test, ys_pred)\n",
    "\n",
    "print(f\"{score :.4f}\")"
   ]
  },
  {
   "cell_type": "code",
   "execution_count": 18,
   "id": "seeing-census",
   "metadata": {},
   "outputs": [
    {
     "name": "stdout",
     "output_type": "stream",
     "text": [
      "              precision    recall  f1-score   support\n",
      "\n",
      "           0       0.98      0.96      0.97        53\n",
      "           1       0.81      0.81      0.81        42\n",
      "           2       0.93      0.66      0.77        41\n",
      "           3       0.93      0.77      0.84        52\n",
      "           4       0.93      0.91      0.92        47\n",
      "           5       0.94      0.85      0.89        39\n",
      "           6       0.96      1.00      0.98        43\n",
      "           7       0.80      1.00      0.89        48\n",
      "           8       0.51      0.95      0.67        37\n",
      "           9       1.00      0.62      0.77        48\n",
      "\n",
      "    accuracy                           0.85       450\n",
      "   macro avg       0.88      0.85      0.85       450\n",
      "weighted avg       0.89      0.85      0.86       450\n",
      "\n"
     ]
    }
   ],
   "source": [
    "print(metrics.classification_report(ys_test, ys_pred))"
   ]
  },
  {
   "cell_type": "code",
   "execution_count": 19,
   "id": "german-darwin",
   "metadata": {},
   "outputs": [
    {
     "data": {
      "text/html": [
       "<style type=\"text/css\">\n",
       "</style>\n",
       "<table id=\"T_c623f\">\n",
       "  <thead>\n",
       "    <tr>\n",
       "      <th class=\"blank level0\" >&nbsp;</th>\n",
       "      <th id=\"T_c623f_level0_col0\" class=\"col_heading level0 col0\" >precision</th>\n",
       "      <th id=\"T_c623f_level0_col1\" class=\"col_heading level0 col1\" >recall</th>\n",
       "      <th id=\"T_c623f_level0_col2\" class=\"col_heading level0 col2\" >f1-score</th>\n",
       "      <th id=\"T_c623f_level0_col3\" class=\"col_heading level0 col3\" >support</th>\n",
       "    </tr>\n",
       "  </thead>\n",
       "  <tbody>\n",
       "    <tr>\n",
       "      <th id=\"T_c623f_level0_row0\" class=\"row_heading level0 row0\" >0</th>\n",
       "      <td id=\"T_c623f_row0_col0\" class=\"data row0 col0\" >0.98</td>\n",
       "      <td id=\"T_c623f_row0_col1\" class=\"data row0 col1\" >0.96</td>\n",
       "      <td id=\"T_c623f_row0_col2\" class=\"data row0 col2\" >0.97</td>\n",
       "      <td id=\"T_c623f_row0_col3\" class=\"data row0 col3\" >53</td>\n",
       "    </tr>\n",
       "    <tr>\n",
       "      <th id=\"T_c623f_level0_row1\" class=\"row_heading level0 row1\" >1</th>\n",
       "      <td id=\"T_c623f_row1_col0\" class=\"data row1 col0\" >0.81</td>\n",
       "      <td id=\"T_c623f_row1_col1\" class=\"data row1 col1\" >0.81</td>\n",
       "      <td id=\"T_c623f_row1_col2\" class=\"data row1 col2\" >0.81</td>\n",
       "      <td id=\"T_c623f_row1_col3\" class=\"data row1 col3\" >42</td>\n",
       "    </tr>\n",
       "    <tr>\n",
       "      <th id=\"T_c623f_level0_row2\" class=\"row_heading level0 row2\" >2</th>\n",
       "      <td id=\"T_c623f_row2_col0\" class=\"data row2 col0\" >0.93</td>\n",
       "      <td id=\"T_c623f_row2_col1\" class=\"data row2 col1\" >0.66</td>\n",
       "      <td id=\"T_c623f_row2_col2\" class=\"data row2 col2\" >0.77</td>\n",
       "      <td id=\"T_c623f_row2_col3\" class=\"data row2 col3\" >41</td>\n",
       "    </tr>\n",
       "    <tr>\n",
       "      <th id=\"T_c623f_level0_row3\" class=\"row_heading level0 row3\" >3</th>\n",
       "      <td id=\"T_c623f_row3_col0\" class=\"data row3 col0\" >0.93</td>\n",
       "      <td id=\"T_c623f_row3_col1\" class=\"data row3 col1\" >0.77</td>\n",
       "      <td id=\"T_c623f_row3_col2\" class=\"data row3 col2\" >0.84</td>\n",
       "      <td id=\"T_c623f_row3_col3\" class=\"data row3 col3\" >52</td>\n",
       "    </tr>\n",
       "    <tr>\n",
       "      <th id=\"T_c623f_level0_row4\" class=\"row_heading level0 row4\" >4</th>\n",
       "      <td id=\"T_c623f_row4_col0\" class=\"data row4 col0\" >0.93</td>\n",
       "      <td id=\"T_c623f_row4_col1\" class=\"data row4 col1\" >0.91</td>\n",
       "      <td id=\"T_c623f_row4_col2\" class=\"data row4 col2\" >0.92</td>\n",
       "      <td id=\"T_c623f_row4_col3\" class=\"data row4 col3\" >47</td>\n",
       "    </tr>\n",
       "    <tr>\n",
       "      <th id=\"T_c623f_level0_row5\" class=\"row_heading level0 row5\" >5</th>\n",
       "      <td id=\"T_c623f_row5_col0\" class=\"data row5 col0\" >0.94</td>\n",
       "      <td id=\"T_c623f_row5_col1\" class=\"data row5 col1\" >0.85</td>\n",
       "      <td id=\"T_c623f_row5_col2\" class=\"data row5 col2\" >0.89</td>\n",
       "      <td id=\"T_c623f_row5_col3\" class=\"data row5 col3\" >39</td>\n",
       "    </tr>\n",
       "    <tr>\n",
       "      <th id=\"T_c623f_level0_row6\" class=\"row_heading level0 row6\" >6</th>\n",
       "      <td id=\"T_c623f_row6_col0\" class=\"data row6 col0\" >0.96</td>\n",
       "      <td id=\"T_c623f_row6_col1\" class=\"data row6 col1\" >1</td>\n",
       "      <td id=\"T_c623f_row6_col2\" class=\"data row6 col2\" >0.98</td>\n",
       "      <td id=\"T_c623f_row6_col3\" class=\"data row6 col3\" >43</td>\n",
       "    </tr>\n",
       "    <tr>\n",
       "      <th id=\"T_c623f_level0_row7\" class=\"row_heading level0 row7\" >7</th>\n",
       "      <td id=\"T_c623f_row7_col0\" class=\"data row7 col0\" >0.8</td>\n",
       "      <td id=\"T_c623f_row7_col1\" class=\"data row7 col1\" >1</td>\n",
       "      <td id=\"T_c623f_row7_col2\" class=\"data row7 col2\" >0.89</td>\n",
       "      <td id=\"T_c623f_row7_col3\" class=\"data row7 col3\" >48</td>\n",
       "    </tr>\n",
       "    <tr>\n",
       "      <th id=\"T_c623f_level0_row8\" class=\"row_heading level0 row8\" >8</th>\n",
       "      <td id=\"T_c623f_row8_col0\" class=\"data row8 col0\" >0.51</td>\n",
       "      <td id=\"T_c623f_row8_col1\" class=\"data row8 col1\" >0.95</td>\n",
       "      <td id=\"T_c623f_row8_col2\" class=\"data row8 col2\" >0.67</td>\n",
       "      <td id=\"T_c623f_row8_col3\" class=\"data row8 col3\" >37</td>\n",
       "    </tr>\n",
       "    <tr>\n",
       "      <th id=\"T_c623f_level0_row9\" class=\"row_heading level0 row9\" >9</th>\n",
       "      <td id=\"T_c623f_row9_col0\" class=\"data row9 col0\" >1</td>\n",
       "      <td id=\"T_c623f_row9_col1\" class=\"data row9 col1\" >0.62</td>\n",
       "      <td id=\"T_c623f_row9_col2\" class=\"data row9 col2\" >0.77</td>\n",
       "      <td id=\"T_c623f_row9_col3\" class=\"data row9 col3\" >48</td>\n",
       "    </tr>\n",
       "    <tr>\n",
       "      <th id=\"T_c623f_level0_row10\" class=\"row_heading level0 row10\" >accuracy</th>\n",
       "      <td id=\"T_c623f_row10_col0\" class=\"data row10 col0\" >0.85</td>\n",
       "      <td id=\"T_c623f_row10_col1\" class=\"data row10 col1\" >0.85</td>\n",
       "      <td id=\"T_c623f_row10_col2\" class=\"data row10 col2\" >0.85</td>\n",
       "      <td id=\"T_c623f_row10_col3\" class=\"data row10 col3\" >0.85</td>\n",
       "    </tr>\n",
       "    <tr>\n",
       "      <th id=\"T_c623f_level0_row11\" class=\"row_heading level0 row11\" >macro avg</th>\n",
       "      <td id=\"T_c623f_row11_col0\" class=\"data row11 col0\" >0.88</td>\n",
       "      <td id=\"T_c623f_row11_col1\" class=\"data row11 col1\" >0.85</td>\n",
       "      <td id=\"T_c623f_row11_col2\" class=\"data row11 col2\" >0.85</td>\n",
       "      <td id=\"T_c623f_row11_col3\" class=\"data row11 col3\" >4.5e+02</td>\n",
       "    </tr>\n",
       "    <tr>\n",
       "      <th id=\"T_c623f_level0_row12\" class=\"row_heading level0 row12\" >weighted avg</th>\n",
       "      <td id=\"T_c623f_row12_col0\" class=\"data row12 col0\" >0.89</td>\n",
       "      <td id=\"T_c623f_row12_col1\" class=\"data row12 col1\" >0.85</td>\n",
       "      <td id=\"T_c623f_row12_col2\" class=\"data row12 col2\" >0.86</td>\n",
       "      <td id=\"T_c623f_row12_col3\" class=\"data row12 col3\" >4.5e+02</td>\n",
       "    </tr>\n",
       "  </tbody>\n",
       "</table>\n"
      ],
      "text/plain": [
       "<pandas.io.formats.style.Styler at 0x17b5a2dd0>"
      ]
     },
     "execution_count": 19,
     "metadata": {},
     "output_type": "execute_result"
    }
   ],
   "source": [
    "scores_dic = metrics.classification_report(ys_test, ys_pred, output_dict=True)\n",
    "scores_df = pd.DataFrame(scores_dic).transpose()\n",
    "\n",
    "scores_df.style.format(\"{:.2g}\")"
   ]
  },
  {
   "cell_type": "code",
   "execution_count": 20,
   "id": "948aaed5-f1ad-4f8c-945a-f78302b17d64",
   "metadata": {},
   "outputs": [
    {
     "data": {
      "text/html": [
       "<style type=\"text/css\">\n",
       "</style>\n",
       "<table id=\"T_87d9c\">\n",
       "  <thead>\n",
       "    <tr>\n",
       "      <th class=\"blank level0\" >&nbsp;</th>\n",
       "      <th id=\"T_87d9c_level0_col0\" class=\"col_heading level0 col0\" >precision</th>\n",
       "    </tr>\n",
       "  </thead>\n",
       "  <tbody>\n",
       "    <tr>\n",
       "      <th id=\"T_87d9c_level0_row0\" class=\"row_heading level0 row0\" >0</th>\n",
       "      <td id=\"T_87d9c_row0_col0\" class=\"data row0 col0\" >0.98</td>\n",
       "    </tr>\n",
       "    <tr>\n",
       "      <th id=\"T_87d9c_level0_row1\" class=\"row_heading level0 row1\" >1</th>\n",
       "      <td id=\"T_87d9c_row1_col0\" class=\"data row1 col0\" >0.81</td>\n",
       "    </tr>\n",
       "    <tr>\n",
       "      <th id=\"T_87d9c_level0_row2\" class=\"row_heading level0 row2\" >2</th>\n",
       "      <td id=\"T_87d9c_row2_col0\" class=\"data row2 col0\" >0.93</td>\n",
       "    </tr>\n",
       "    <tr>\n",
       "      <th id=\"T_87d9c_level0_row3\" class=\"row_heading level0 row3\" >3</th>\n",
       "      <td id=\"T_87d9c_row3_col0\" class=\"data row3 col0\" >0.93</td>\n",
       "    </tr>\n",
       "    <tr>\n",
       "      <th id=\"T_87d9c_level0_row4\" class=\"row_heading level0 row4\" >4</th>\n",
       "      <td id=\"T_87d9c_row4_col0\" class=\"data row4 col0\" >0.93</td>\n",
       "    </tr>\n",
       "    <tr>\n",
       "      <th id=\"T_87d9c_level0_row5\" class=\"row_heading level0 row5\" >5</th>\n",
       "      <td id=\"T_87d9c_row5_col0\" class=\"data row5 col0\" >0.94</td>\n",
       "    </tr>\n",
       "    <tr>\n",
       "      <th id=\"T_87d9c_level0_row6\" class=\"row_heading level0 row6\" >6</th>\n",
       "      <td id=\"T_87d9c_row6_col0\" class=\"data row6 col0\" >0.96</td>\n",
       "    </tr>\n",
       "    <tr>\n",
       "      <th id=\"T_87d9c_level0_row7\" class=\"row_heading level0 row7\" >7</th>\n",
       "      <td id=\"T_87d9c_row7_col0\" class=\"data row7 col0\" >0.8</td>\n",
       "    </tr>\n",
       "    <tr>\n",
       "      <th id=\"T_87d9c_level0_row8\" class=\"row_heading level0 row8\" >8</th>\n",
       "      <td id=\"T_87d9c_row8_col0\" class=\"data row8 col0\" >0.51</td>\n",
       "    </tr>\n",
       "    <tr>\n",
       "      <th id=\"T_87d9c_level0_row9\" class=\"row_heading level0 row9\" >9</th>\n",
       "      <td id=\"T_87d9c_row9_col0\" class=\"data row9 col0\" >1</td>\n",
       "    </tr>\n",
       "    <tr>\n",
       "      <th id=\"T_87d9c_level0_row10\" class=\"row_heading level0 row10\" >accuracy</th>\n",
       "      <td id=\"T_87d9c_row10_col0\" class=\"data row10 col0\" >0.85</td>\n",
       "    </tr>\n",
       "    <tr>\n",
       "      <th id=\"T_87d9c_level0_row11\" class=\"row_heading level0 row11\" >macro avg</th>\n",
       "      <td id=\"T_87d9c_row11_col0\" class=\"data row11 col0\" >0.88</td>\n",
       "    </tr>\n",
       "    <tr>\n",
       "      <th id=\"T_87d9c_level0_row12\" class=\"row_heading level0 row12\" >weighted avg</th>\n",
       "      <td id=\"T_87d9c_row12_col0\" class=\"data row12 col0\" >0.89</td>\n",
       "    </tr>\n",
       "  </tbody>\n",
       "</table>\n"
      ],
      "text/plain": [
       "<pandas.io.formats.style.Styler at 0x17bb5dae0>"
      ]
     },
     "execution_count": 20,
     "metadata": {},
     "output_type": "execute_result"
    }
   ],
   "source": [
    "scores_df[[\"precision\"]].style.format(\"{:.2g}\")"
   ]
  },
  {
   "cell_type": "markdown",
   "id": "hungarian-american",
   "metadata": {},
   "source": [
    "#### Matrice de confusion"
   ]
  },
  {
   "cell_type": "markdown",
   "id": "studied-carnival",
   "metadata": {},
   "source": [
    "Utiliser la class de scikit-learn [`ConfusionMatrixDisplay`](https://scikit-learn.org/stable/modules/generated/sklearn.metrics.ConfusionMatrixDisplay.html#sklearn.metrics.ConfusionMatrixDisplay.from_predictions)\n",
    "pour afficher la matrice de confusion.\n",
    "\n",
    "Commentez succinctement les résultats.\n",
    "\n",
    "Notez que l'attribut `.confusion_matrix` de l'objet retourné par la fonction permet d'obtenir la matrice de confusion sous forme d'array."
   ]
  },
  {
   "cell_type": "markdown",
   "id": "boolean-beauty",
   "metadata": {},
   "source": [
    "<span style=\"color:red\">Implémentez votre solution ci-dessous</span>"
   ]
  },
  {
   "cell_type": "code",
   "execution_count": 21,
   "id": "mobile-alliance",
   "metadata": {},
   "outputs": [
    {
     "data": {
      "image/png": "[encoded data removed]",
      "text/plain": [
       "<Figure size 432x288 with 2 Axes>"
      ]
     },
     "metadata": {
      "image/png": {
       "height": 261,
       "width": 306
      },
      "needs_background": "light"
     },
     "output_type": "display_data"
    }
   ],
   "source": [
    "disp = metrics.ConfusionMatrixDisplay.from_predictions(\n",
    "    ys_test, ys_pred, cmap=plt.cm.Blues\n",
    ")"
   ]
  },
  {
   "cell_type": "code",
   "execution_count": 22,
   "id": "intimate-sleep",
   "metadata": {},
   "outputs": [
    {
     "data": {
      "text/plain": [
       "array([[51,  0,  0,  0,  1,  0,  0,  1,  0,  0],\n",
       "       [ 0, 34,  0,  0,  0,  0,  0,  0,  8,  0],\n",
       "       [ 0,  4, 27,  0,  0,  0,  0,  0, 10,  0],\n",
       "       [ 0,  1,  2, 40,  0,  1,  0,  3,  5,  0],\n",
       "       [ 1,  0,  0,  0, 43,  0,  2,  0,  1,  0],\n",
       "       [ 0,  1,  0,  1,  0, 33,  0,  2,  2,  0],\n",
       "       [ 0,  0,  0,  0,  0,  0, 43,  0,  0,  0],\n",
       "       [ 0,  0,  0,  0,  0,  0,  0, 48,  0,  0],\n",
       "       [ 0,  1,  0,  1,  0,  0,  0,  0, 35,  0],\n",
       "       [ 0,  1,  0,  1,  2,  1,  0,  6,  7, 30]])"
      ]
     },
     "execution_count": 22,
     "metadata": {},
     "output_type": "execute_result"
    }
   ],
   "source": [
    "disp.confusion_matrix"
   ]
  },
  {
   "cell_type": "markdown",
   "id": "olive-voluntary",
   "metadata": {},
   "source": [
    "#### Visualisation des erreurs"
   ]
  },
  {
   "cell_type": "markdown",
   "id": "binary-poster",
   "metadata": {},
   "source": [
    "Identifiez les cas les plus confus.\n",
    "\n",
    "Identifiez les instances mal classées pour la classe de chiffre au f1-score le plus faible et visualisez les avec le code ci-dessous.\n",
    "\n",
    "Vous pouvez utiliser la fonction [numpy.where](https://numpy.org/doc/stable/reference/generated/numpy.where.html) pour trouver l'index des instances en question."
   ]
  },
  {
   "cell_type": "markdown",
   "id": "public-powell",
   "metadata": {},
   "source": [
    "<span style=\"color:red\">Implémentez votre solution ci-dessous</span>"
   ]
  },
  {
   "cell_type": "code",
   "execution_count": 23,
   "id": "hindu-family",
   "metadata": {},
   "outputs": [
    {
     "data": {
      "text/plain": [
       "(array([ 11,  34,  46,  60,  76,  80,  87,  89,  90,  91,  92,  99, 102,\n",
       "        106, 109, 111, 117, 154, 155, 156, 175, 182, 194, 218, 233, 240,\n",
       "        241, 272, 284, 288, 293, 298, 313, 314, 338, 358, 364, 373, 392,\n",
       "        396, 433]),)"
      ]
     },
     "execution_count": 23,
     "metadata": {},
     "output_type": "execute_result"
    }
   ],
   "source": [
    "np.where(ys_test == 2)"
   ]
  },
  {
   "cell_type": "code",
   "execution_count": 24,
   "id": "second-partnership",
   "metadata": {},
   "outputs": [
    {
     "data": {
      "text/plain": [
       "array([ 11,  60,  99, 106, 109, 233, 284, 298, 313, 396])"
      ]
     },
     "execution_count": 24,
     "metadata": {},
     "output_type": "execute_result"
    }
   ],
   "source": [
    "(indexes,) = np.where((ys_test == 2) & (ys_pred == 8))\n",
    "indexes"
   ]
  },
  {
   "cell_type": "code",
   "execution_count": 26,
   "id": "efficient-feature",
   "metadata": {},
   "outputs": [],
   "source": [
    "def plot_digit(idx, xs_test, ys_test, ys_pred):\n",
    "    print(f\"Digit value: {ys_test[idx]}, prediction: {ys_pred[idx]}\")\n",
    "\n",
    "    plt.figure(figsize=(3, 3))\n",
    "    plt.imshow(\n",
    "        xs_test[idx].reshape([8, 8]),\n",
    "        cmap=plt.cm.gray_r,\n",
    "        interpolation=\"nearest\",\n",
    "    )"
   ]
  },
  {
   "cell_type": "code",
   "execution_count": 27,
   "id": "2f7889c7",
   "metadata": {},
   "outputs": [
    {
     "name": "stdout",
     "output_type": "stream",
     "text": [
      "Digit value: 2, prediction: 8\n"
     ]
    },
    {
     "data": {
      "image/png": "[encoded data removed]",
      "text/plain": [
       "<Figure size 216x216 with 1 Axes>"
      ]
     },
     "metadata": {
      "image/png": {
       "height": 193,
       "width": 190
      },
      "needs_background": "light"
     },
     "output_type": "display_data"
    }
   ],
   "source": [
    "plot_digit(99, xs_test, ys_test, ys_pred)"
   ]
  },
  {
   "cell_type": "markdown",
   "id": "incorrect-advertiser",
   "metadata": {},
   "source": [
    "---"
   ]
  },
  {
   "cell_type": "markdown",
   "id": "ordered-floating",
   "metadata": {},
   "source": [
    "### PCA"
   ]
  },
  {
   "cell_type": "markdown",
   "id": "polar-despite",
   "metadata": {},
   "source": [
    "Utilisez une compression des dimensions par ACP ([PCA](https://scikit-learn.org/stable/modules/generated/sklearn.decomposition.PCA.html)), en utilisant 10 composantes principales."
   ]
  },
  {
   "cell_type": "markdown",
   "id": "historic-municipality",
   "metadata": {},
   "source": [
    "#### Initialisation des PCA et sélection des données"
   ]
  },
  {
   "cell_type": "code",
   "execution_count": 28,
   "id": "innovative-typing",
   "metadata": {},
   "outputs": [
    {
     "name": "stdout",
     "output_type": "stream",
     "text": [
      "(1347, 64) (450, 64)\n",
      "(1347, 10) (450, 10)\n"
     ]
    }
   ],
   "source": [
    "N_COMP = 10\n",
    "\n",
    "pca = decomposition.PCA(n_components=N_COMP)\n",
    "xps_train = pca.fit_transform(xs_train)\n",
    "xps_test = pca.transform(xs_test)\n",
    "\n",
    "print(xs_train.shape, xs_test.shape)\n",
    "print(xps_train.shape, xps_test.shape)"
   ]
  },
  {
   "cell_type": "markdown",
   "id": "removed-punch",
   "metadata": {},
   "source": [
    "#### Entrainement des modèles"
   ]
  },
  {
   "cell_type": "code",
   "execution_count": 29,
   "id": "exotic-salvation",
   "metadata": {
    "collapsed": false,
    "editable": true,
    "jupyter": {
     "outputs_hidden": false
    }
   },
   "outputs": [],
   "source": [
    "# 2. Instantiaiton\n",
    "model_pca = naive_bayes.GaussianNB()\n",
    "# model_pca = linear_model.LogisticRegression(max_iter=2000)\n",
    "\n",
    "# 3. Apprentissage (fit) du model\n",
    "model_pca.fit(xps_train, ys_train)\n",
    "\n",
    "# 4. Prédire sur les données de test\n",
    "yps_pred = model_pca.predict(xps_test)"
   ]
  },
  {
   "cell_type": "markdown",
   "id": "exempt-primary",
   "metadata": {},
   "source": [
    "#### Évaluation"
   ]
  },
  {
   "cell_type": "markdown",
   "id": "jewish-rebel",
   "metadata": {},
   "source": [
    "<span style=\"color:red\">Implémentez votre solution ci-dessous</span>"
   ]
  },
  {
   "cell_type": "code",
   "execution_count": 30,
   "id": "about-punishment",
   "metadata": {},
   "outputs": [
    {
     "name": "stdout",
     "output_type": "stream",
     "text": [
      "0.9111\n"
     ]
    }
   ],
   "source": [
    "score = metrics.accuracy_score(ys_test, yps_pred)\n",
    "print(f\"{score :.04f}\")"
   ]
  },
  {
   "cell_type": "code",
   "execution_count": 31,
   "id": "universal-responsibility",
   "metadata": {
    "tags": []
   },
   "outputs": [
    {
     "name": "stdout",
     "output_type": "stream",
     "text": [
      "              precision    recall  f1-score   support\n",
      "\n",
      "           0       1.00      0.94      0.97        53\n",
      "           1       0.73      0.88      0.80        42\n",
      "           2       0.95      0.85      0.90        41\n",
      "           3       0.96      0.83      0.89        52\n",
      "           4       0.98      1.00      0.99        47\n",
      "           5       0.88      0.95      0.91        39\n",
      "           6       1.00      1.00      1.00        43\n",
      "           7       0.90      0.96      0.93        48\n",
      "           8       0.86      0.81      0.83        37\n",
      "           9       0.88      0.88      0.88        48\n",
      "\n",
      "    accuracy                           0.91       450\n",
      "   macro avg       0.91      0.91      0.91       450\n",
      "weighted avg       0.92      0.91      0.91       450\n",
      "\n"
     ]
    }
   ],
   "source": [
    "print(metrics.classification_report(ys_test, yps_pred))"
   ]
  },
  {
   "cell_type": "markdown",
   "id": "improving-binary",
   "metadata": {},
   "source": [
    "---"
   ]
  },
  {
   "cell_type": "markdown",
   "id": "thermal-marks",
   "metadata": {},
   "source": [
    "### Cross-Validation"
   ]
  },
  {
   "cell_type": "markdown",
   "id": "incident-transparency",
   "metadata": {},
   "source": [
    "![](img/grid_search_cross_validation.png)"
   ]
  },
  {
   "cell_type": "markdown",
   "id": "ancient-aside",
   "metadata": {},
   "source": [
    "#### Chargement des données"
   ]
  },
  {
   "cell_type": "markdown",
   "id": "israeli-parish",
   "metadata": {},
   "source": [
    "Utilisez la fonction [`cross_val_score`](https://scikit-learn.org/stable/modules/generated/sklearn.model_selection.cross_val_score.html) pour implémenter la cross-validation.\n",
    "\n",
    "Vous choisirez de faire 10 splits (`cv=10`).\n",
    "\n",
    "Choisissez comme *scoring* `\"f1_weighted\"`, la fonction retournera alors les scores correspondants dans une array.\n",
    "\n",
    "À titre d'exemple et pour pouvoir comparer les résultats avec les précédents, la première application se fera sur l'entièreté du dataset (ce qui n'est normalement pas recommandé)."
   ]
  },
  {
   "cell_type": "markdown",
   "id": "supposed-wound",
   "metadata": {},
   "source": [
    "<span style=\"color:red\">Implémentez votre solution ci-dessous</span>"
   ]
  },
  {
   "cell_type": "code",
   "execution_count": 32,
   "id": "invalid-mirror",
   "metadata": {},
   "outputs": [],
   "source": [
    "SCORINGS = \"f1_weighted\""
   ]
  },
  {
   "cell_type": "code",
   "execution_count": 33,
   "id": "supposed-qatar",
   "metadata": {},
   "outputs": [
    {
     "name": "stdout",
     "output_type": "stream",
     "text": [
      "[0.88 0.92 0.89 0.87 0.89 0.9  0.93 0.96 0.84 0.87]\n",
      "\n",
      "f1_weighted: 0.89, with std dev: 0.03\n",
      "\n"
     ]
    }
   ],
   "source": [
    "N_COMP = 10\n",
    "\n",
    "pca = decomposition.PCA(n_components=N_COMP)\n",
    "model = naive_bayes.GaussianNB()\n",
    "\n",
    "pipe = pipeline.Pipeline(steps=[(\"pca\", pca), (\"model\", model)])\n",
    "\n",
    "scores = model_selection.cross_val_score(pipe, xs, ys, cv=10, scoring=SCORINGS)\n",
    "\n",
    "with np.printoptions(precision=2):\n",
    "    print(scores)\n",
    "\n",
    "print(f\"\\n{SCORINGS}: {scores.mean():.2f}, with std dev: {scores.std():.2f}\\n\")"
   ]
  },
  {
   "cell_type": "markdown",
   "id": "distant-strap",
   "metadata": {},
   "source": [
    "Montrez les résultats avec un [`plt.bar`](https://matplotlib.org/stable/api/_as_gen/matplotlib.pyplot.bar.html) qui inclus une barre d'erreur `yerr` égale à 2 $\\times$ l'[déviation standard](https://numpy.org/doc/stable/reference/generated/numpy.std.html), ainsi que dans un [`boxplot`](https://matplotlib.org/stable/api/_as_gen/matplotlib.pyplot.boxplot.html).\n",
    "\n",
    "Notez que la moyenne et la déviation standard peuvent être obtenues également par une méthode (homonyme) de l'array."
   ]
  },
  {
   "cell_type": "markdown",
   "id": "informative-coaching",
   "metadata": {},
   "source": [
    "<span style=\"color:red\">Implémentez votre solution ci-dessous</span>"
   ]
  },
  {
   "cell_type": "code",
   "execution_count": 34,
   "id": "993fe9f4-bc93-40d7-adae-f70ac29e4bb5",
   "metadata": {},
   "outputs": [
    {
     "data": {
      "image/png": "[encoded data removed]",
      "text/plain": [
       "<Figure size 432x288 with 1 Axes>"
      ]
     },
     "metadata": {
      "image/png": {
       "height": 248,
       "width": 372
      },
      "needs_background": "light"
     },
     "output_type": "display_data"
    }
   ],
   "source": [
    "plt.bar(range(len(scores)), scores, yerr=2 * scores.std())\n",
    "plt.grid(axis=\"y\")\n",
    "plt.show()"
   ]
  },
  {
   "cell_type": "code",
   "execution_count": 35,
   "id": "brief-cemetery",
   "metadata": {},
   "outputs": [
    {
     "data": {
      "image/png": "[encoded data removed]",
      "text/plain": [
       "<Figure size 432x288 with 1 Axes>"
      ]
     },
     "metadata": {
      "image/png": {
       "height": 251,
       "width": 372
      },
      "needs_background": "light"
     },
     "output_type": "display_data"
    }
   ],
   "source": [
    "plt.bar([str(model)], scores.mean(), yerr=2 * scores.std())\n",
    "plt.xlim(-2, 2)\n",
    "plt.grid(axis=\"y\")\n",
    "plt.show()"
   ]
  },
  {
   "cell_type": "code",
   "execution_count": 36,
   "id": "pursuant-fitting",
   "metadata": {},
   "outputs": [
    {
     "data": {
      "image/png": "[encoded data removed]",
      "text/plain": [
       "<Figure size 432x288 with 1 Axes>"
      ]
     },
     "metadata": {
      "image/png": {
       "height": 250,
       "width": 378
      },
      "needs_background": "light"
     },
     "output_type": "display_data"
    }
   ],
   "source": [
    "plt.boxplot(scores)\n",
    "plt.xticks([1], [str(model)])\n",
    "plt.grid(axis=\"y\")\n",
    "plt.show()"
   ]
  },
  {
   "cell_type": "markdown",
   "id": "weighted-bicycle",
   "metadata": {},
   "source": [
    "---"
   ]
  },
  {
   "cell_type": "markdown",
   "id": "determined-fossil",
   "metadata": {},
   "source": [
    "### Grid Search"
   ]
  },
  {
   "cell_type": "markdown",
   "id": "unsigned-advance",
   "metadata": {},
   "source": [
    "Cette fois, nous allons utiliser la validation croisée pour sa raison première : valider le choix d'hyperparamètres."
   ]
  },
  {
   "cell_type": "markdown",
   "id": "uniform-latex",
   "metadata": {},
   "source": [
    "Nous allons utiliser la classe\n",
    "[`model_selection.GridSearchCV`](https://scikit-learn.org/stable/modules/generated/sklearn.model_selection.GridSearchCV.html) pour choisir le meilleur nombre de composante principale pour la PCA.\n",
    "\n",
    "Cette classe permet de tester plusieurs paramètres (à entrer dans un dictionnaire) et à les tester via cross-validation (d'où le CV dans le nom).\n",
    "\n",
    "Pour ce faire, nous n'avons plus besoin de nous occuper de créer les différents subsets, la classe `GridSearchCV` s'en charge pour nous."
   ]
  },
  {
   "cell_type": "code",
   "execution_count": 37,
   "id": "necessary-round",
   "metadata": {},
   "outputs": [],
   "source": [
    "param_grid = {\"pca__n_components\": [1, 2, 5, 10, 20, 30, 40, 60]}"
   ]
  },
  {
   "cell_type": "markdown",
   "id": "judicial-substitute",
   "metadata": {},
   "source": [
    "Nous allons utiliser un [`pipeline`](https://scikit-learn.org/stable/modules/generated/sklearn.pipeline.Pipeline.html) pour effectuer la compression PCA et l'apprentissage avec le modèle conjointement, ce qui va nous permettre de modifier les hyperparamètres à toutes les étapes en une seule commande.\n",
    "\n",
    "Nous devrons utiliser les noms exacts des hyperparamètres à modifier dans le dictionnaire, précédés du nom du module et d'un double *underscore* (ici: `\"pca__\"`), pour pouvoir les assigner à la bonne étape du `pipeline`."
   ]
  },
  {
   "cell_type": "code",
   "execution_count": 38,
   "id": "annual-strength",
   "metadata": {},
   "outputs": [],
   "source": [
    "# Define a pipeline to search for the best combination of PCA truncation\n",
    "# and classifier regularization.\n",
    "\n",
    "pca = decomposition.PCA()\n",
    "model = naive_bayes.GaussianNB()\n",
    "\n",
    "pipe = pipeline.Pipeline(steps=[(\"pca\", pca), (\"model\", model)])"
   ]
  },
  {
   "cell_type": "code",
   "execution_count": 39,
   "id": "wired-electric",
   "metadata": {},
   "outputs": [
    {
     "name": "stdout",
     "output_type": "stream",
     "text": [
      "Fitting 10 folds for each of 8 candidates, totalling 80 fits\n",
      "[CV 3/10] END ..............pca__n_components=1;, score=0.249 total time=   0.0s\n",
      "[CV 2/10] END ..............pca__n_components=1;, score=0.370 total time=   0.0s\n",
      "[CV 1/10] END ..............pca__n_components=1;, score=0.295 total time=   0.0s\n",
      "[CV 6/10] END ..............pca__n_components=1;, score=0.279 total time=   0.0s\n",
      "[CV 4/10] END ..............pca__n_components=1;, score=0.278 total time=   0.0s\n",
      "[CV 7/10] END ..............pca__n_components=1;, score=0.360 total time=   0.0s\n",
      "[CV 5/10] END ..............pca__n_components=1;, score=0.322 total time=   0.0s\n",
      "[CV 8/10] END ..............pca__n_components=1;, score=0.296 total time=   0.0s\n",
      "[CV 3/10] END ..............pca__n_components=2;, score=0.590 total time=   0.0s\n",
      "[CV 5/10] END ..............pca__n_components=2;, score=0.660 total time=   0.0s\n",
      "[CV 9/10] END ..............pca__n_components=1;, score=0.299 total time=   0.0s\n",
      "[CV 4/10] END ..............pca__n_components=2;, score=0.642 total time=   0.0s\n",
      "[CV 10/10] END .............pca__n_components=1;, score=0.280 total time=   0.1s\n",
      "[CV 2/10] END ..............pca__n_components=2;, score=0.678 total time=   0.0s\n",
      "[CV 6/10] END ..............pca__n_components=2;, score=0.590 total time=   0.0s\n",
      "[CV 1/10] END ..............pca__n_components=2;, score=0.538 total time=   0.0s\n",
      "[CV 8/10] END ..............pca__n_components=2;, score=0.570 total time=   0.0s\n",
      "[CV 7/10] END ..............pca__n_components=2;, score=0.617 total time=   0.0s\n",
      "[CV 9/10] END ..............pca__n_components=2;, score=0.581 total time=   0.0s\n",
      "[CV 10/10] END .............pca__n_components=2;, score=0.577 total time=   0.0s\n",
      "[CV 2/10] END ..............pca__n_components=5;, score=0.883 total time=   0.0s\n",
      "[CV 1/10] END ..............pca__n_components=5;, score=0.828 total time=   0.0s\n",
      "[CV 3/10] END ..............pca__n_components=5;, score=0.793 total time=   0.0s\n",
      "[CV 4/10] END ..............pca__n_components=5;, score=0.817 total time=   0.0s\n",
      "[CV 5/10] END ..............pca__n_components=5;, score=0.835 total time=   0.0s\n",
      "[CV 6/10] END ..............pca__n_components=5;, score=0.773 total time=   0.0s\n",
      "[CV 7/10] END ..............pca__n_components=5;, score=0.832 total time=   0.0s\n",
      "[CV 8/10] END ..............pca__n_components=5;, score=0.828 total time=   0.0s\n",
      "[CV 9/10] END ..............pca__n_components=5;, score=0.754 total time=   0.0s\n",
      "[CV 10/10] END .............pca__n_components=5;, score=0.843 total time=   0.0s\n",
      "[CV 1/10] END .............pca__n_components=10;, score=0.882 total time=   0.0s\n",
      "[CV 3/10] END .............pca__n_components=10;, score=0.886 total time=   0.0s\n",
      "[CV 2/10] END .............pca__n_components=10;, score=0.916 total time=   0.0s\n",
      "[CV 4/10] END .............pca__n_components=10;, score=0.871 total time=   0.0s\n",
      "[CV 6/10] END .............pca__n_components=10;, score=0.896 total time=   0.0s\n",
      "[CV 5/10] END .............pca__n_components=10;, score=0.886 total time=   0.0s\n",
      "[CV 7/10] END .............pca__n_components=10;, score=0.931 total time=   0.0s\n",
      "[CV 8/10] END .............pca__n_components=10;, score=0.955 total time=   0.0s\n",
      "[CV 9/10] END .............pca__n_components=10;, score=0.844 total time=   0.0s\n",
      "[CV 10/10] END ............pca__n_components=10;, score=0.869 total time=   0.0s\n",
      "[CV 1/10] END .............pca__n_components=20;, score=0.876 total time=   0.0s\n",
      "[CV 2/10] END .............pca__n_components=20;, score=0.949 total time=   0.0s\n",
      "[CV 3/10] END .............pca__n_components=20;, score=0.887 total time=   0.0s\n",
      "[CV 4/10] END .............pca__n_components=20;, score=0.898 total time=   0.0s\n",
      "[CV 5/10] END .............pca__n_components=20;, score=0.891 total time=   0.0s\n",
      "[CV 6/10] END .............pca__n_components=20;, score=0.914 total time=   0.0s\n",
      "[CV 7/10] END .............pca__n_components=20;, score=0.956 total time=   0.0s\n",
      "[CV 8/10] END .............pca__n_components=20;, score=0.966 total time=   0.0s\n",
      "[CV 9/10] END .............pca__n_components=20;, score=0.852 total time=   0.0s\n",
      "[CV 10/10] END ............pca__n_components=20;, score=0.914 total time=   0.0s\n",
      "[CV 1/10] END .............pca__n_components=30;, score=0.886 total time=   0.0s\n",
      "[CV 2/10] END .............pca__n_components=30;, score=0.939 total time=   0.0s\n",
      "[CV 3/10] END .............pca__n_components=30;, score=0.904 total time=   0.0s\n",
      "[CV 4/10] END .............pca__n_components=30;, score=0.920 total time=   0.0s\n",
      "[CV 5/10] END .............pca__n_components=30;, score=0.893 total time=   0.0s\n",
      "[CV 6/10] END .............pca__n_components=30;, score=0.915 total time=   0.0s\n",
      "[CV 7/10] END .............pca__n_components=30;, score=0.972 total time=   0.0s\n",
      "[CV 8/10] END .............pca__n_components=30;, score=0.972 total time=   0.0s\n",
      "[CV 9/10] END .............pca__n_components=30;, score=0.853 total time=   0.0s\n",
      "[CV 10/10] END ............pca__n_components=30;, score=0.901 total time=   0.0s\n",
      "[CV 1/10] END .............pca__n_components=40;, score=0.883 total time=   0.0s\n",
      "[CV 2/10] END .............pca__n_components=40;, score=0.922 total time=   0.0s\n",
      "[CV 3/10] END .............pca__n_components=40;, score=0.906 total time=   0.0s\n",
      "[CV 4/10] END .............pca__n_components=40;, score=0.926 total time=   0.0s\n",
      "[CV 5/10] END .............pca__n_components=40;, score=0.893 total time=   0.0s\n",
      "[CV 6/10] END .............pca__n_components=40;, score=0.915 total time=   0.0s\n",
      "[CV 7/10] END .............pca__n_components=40;, score=0.972 total time=   0.0s\n",
      "[CV 1/10] END .............pca__n_components=60;, score=0.871 total time=   0.0s\n",
      "[CV 8/10] END .............pca__n_components=40;, score=0.940 total time=   0.0s\n",
      "[CV 9/10] END .............pca__n_components=40;, score=0.869 total time=   0.0s\n",
      "[CV 10/10] END ............pca__n_components=40;, score=0.895 total time=   0.0s\n",
      "[CV 2/10] END .............pca__n_components=60;, score=0.895 total time=   0.0s\n",
      "[CV 3/10] END .............pca__n_components=60;, score=0.879 total time=   0.0s\n",
      "[CV 4/10] END .............pca__n_components=60;, score=0.745 total time=   0.0s\n",
      "[CV 5/10] END .............pca__n_components=60;, score=0.822 total time=   0.0s\n",
      "[CV 6/10] END .............pca__n_components=60;, score=0.850 total time=   0.0s\n",
      "[CV 7/10] END .............pca__n_components=60;, score=0.917 total time=   0.0s\n",
      "[CV 8/10] END .............pca__n_components=60;, score=0.945 total time=   0.0s\n",
      "[CV 9/10] END .............pca__n_components=60;, score=0.797 total time=   0.0s\n",
      "[CV 10/10] END ............pca__n_components=60;, score=0.847 total time=   0.0s\n"
     ]
    },
    {
     "data": {
      "text/plain": [
       "GridSearchCV(cv=10,\n",
       "             estimator=Pipeline(steps=[('pca', PCA()),\n",
       "                                       ('model', GaussianNB())]),\n",
       "             n_jobs=-1,\n",
       "             param_grid={'pca__n_components': [1, 2, 5, 10, 20, 30, 40, 60]},\n",
       "             scoring='f1_weighted', verbose=4)"
      ]
     },
     "execution_count": 39,
     "metadata": {},
     "output_type": "execute_result"
    }
   ],
   "source": [
    "# Parameters of pipelines can be set using ‘__’ separated parameter names:\n",
    "\n",
    "search = model_selection.GridSearchCV(\n",
    "    pipe, param_grid, n_jobs=-1, scoring=SCORINGS, verbose=4, cv=10\n",
    ")\n",
    "\n",
    "search.fit(xs, ys)"
   ]
  },
  {
   "cell_type": "code",
   "execution_count": 40,
   "id": "hydraulic-medicare",
   "metadata": {},
   "outputs": [
    {
     "name": "stdout",
     "output_type": "stream",
     "text": [
      "Best parameter (CV score: 0.915)\n",
      "{'pca__n_components': 30}\n"
     ]
    }
   ],
   "source": [
    "print(f\"Best parameter (CV score: {search.best_score_:.3f})\")\n",
    "\n",
    "print(search.best_params_)"
   ]
  },
  {
   "cell_type": "code",
   "execution_count": 41,
   "id": "native-pressing",
   "metadata": {},
   "outputs": [
    {
     "data": {
      "text/html": [
       "<style type=\"text/css\">\n",
       "</style>\n",
       "<table id=\"T_178f0\">\n",
       "  <thead>\n",
       "    <tr>\n",
       "      <th class=\"blank level0\" >&nbsp;</th>\n",
       "      <th id=\"T_178f0_level0_col0\" class=\"col_heading level0 col0\" >mean_fit_time</th>\n",
       "      <th id=\"T_178f0_level0_col1\" class=\"col_heading level0 col1\" >std_fit_time</th>\n",
       "      <th id=\"T_178f0_level0_col2\" class=\"col_heading level0 col2\" >mean_score_time</th>\n",
       "      <th id=\"T_178f0_level0_col3\" class=\"col_heading level0 col3\" >std_score_time</th>\n",
       "      <th id=\"T_178f0_level0_col4\" class=\"col_heading level0 col4\" >param_pca__n_components</th>\n",
       "      <th id=\"T_178f0_level0_col5\" class=\"col_heading level0 col5\" >split0_test_score</th>\n",
       "      <th id=\"T_178f0_level0_col6\" class=\"col_heading level0 col6\" >split1_test_score</th>\n",
       "      <th id=\"T_178f0_level0_col7\" class=\"col_heading level0 col7\" >split2_test_score</th>\n",
       "      <th id=\"T_178f0_level0_col8\" class=\"col_heading level0 col8\" >split3_test_score</th>\n",
       "      <th id=\"T_178f0_level0_col9\" class=\"col_heading level0 col9\" >split4_test_score</th>\n",
       "      <th id=\"T_178f0_level0_col10\" class=\"col_heading level0 col10\" >split5_test_score</th>\n",
       "      <th id=\"T_178f0_level0_col11\" class=\"col_heading level0 col11\" >split6_test_score</th>\n",
       "      <th id=\"T_178f0_level0_col12\" class=\"col_heading level0 col12\" >split7_test_score</th>\n",
       "      <th id=\"T_178f0_level0_col13\" class=\"col_heading level0 col13\" >split8_test_score</th>\n",
       "      <th id=\"T_178f0_level0_col14\" class=\"col_heading level0 col14\" >split9_test_score</th>\n",
       "      <th id=\"T_178f0_level0_col15\" class=\"col_heading level0 col15\" >mean_test_score</th>\n",
       "      <th id=\"T_178f0_level0_col16\" class=\"col_heading level0 col16\" >std_test_score</th>\n",
       "      <th id=\"T_178f0_level0_col17\" class=\"col_heading level0 col17\" >rank_test_score</th>\n",
       "    </tr>\n",
       "  </thead>\n",
       "  <tbody>\n",
       "    <tr>\n",
       "      <th id=\"T_178f0_level0_row0\" class=\"row_heading level0 row0\" >0</th>\n",
       "      <td id=\"T_178f0_row0_col0\" class=\"data row0 col0\" >0.024</td>\n",
       "      <td id=\"T_178f0_row0_col1\" class=\"data row0 col1\" >0.0086</td>\n",
       "      <td id=\"T_178f0_row0_col2\" class=\"data row0 col2\" >0.0051</td>\n",
       "      <td id=\"T_178f0_row0_col3\" class=\"data row0 col3\" >0.0013</td>\n",
       "      <td id=\"T_178f0_row0_col4\" class=\"data row0 col4\" >1</td>\n",
       "      <td id=\"T_178f0_row0_col5\" class=\"data row0 col5\" >0.3</td>\n",
       "      <td id=\"T_178f0_row0_col6\" class=\"data row0 col6\" >0.37</td>\n",
       "      <td id=\"T_178f0_row0_col7\" class=\"data row0 col7\" >0.25</td>\n",
       "      <td id=\"T_178f0_row0_col8\" class=\"data row0 col8\" >0.28</td>\n",
       "      <td id=\"T_178f0_row0_col9\" class=\"data row0 col9\" >0.32</td>\n",
       "      <td id=\"T_178f0_row0_col10\" class=\"data row0 col10\" >0.28</td>\n",
       "      <td id=\"T_178f0_row0_col11\" class=\"data row0 col11\" >0.36</td>\n",
       "      <td id=\"T_178f0_row0_col12\" class=\"data row0 col12\" >0.3</td>\n",
       "      <td id=\"T_178f0_row0_col13\" class=\"data row0 col13\" >0.3</td>\n",
       "      <td id=\"T_178f0_row0_col14\" class=\"data row0 col14\" >0.28</td>\n",
       "      <td id=\"T_178f0_row0_col15\" class=\"data row0 col15\" >0.3</td>\n",
       "      <td id=\"T_178f0_row0_col16\" class=\"data row0 col16\" >0.036</td>\n",
       "      <td id=\"T_178f0_row0_col17\" class=\"data row0 col17\" >8</td>\n",
       "    </tr>\n",
       "    <tr>\n",
       "      <th id=\"T_178f0_level0_row1\" class=\"row_heading level0 row1\" >1</th>\n",
       "      <td id=\"T_178f0_row1_col0\" class=\"data row1 col0\" >0.029</td>\n",
       "      <td id=\"T_178f0_row1_col1\" class=\"data row1 col1\" >0.0074</td>\n",
       "      <td id=\"T_178f0_row1_col2\" class=\"data row1 col2\" >0.0054</td>\n",
       "      <td id=\"T_178f0_row1_col3\" class=\"data row1 col3\" >0.0033</td>\n",
       "      <td id=\"T_178f0_row1_col4\" class=\"data row1 col4\" >2</td>\n",
       "      <td id=\"T_178f0_row1_col5\" class=\"data row1 col5\" >0.54</td>\n",
       "      <td id=\"T_178f0_row1_col6\" class=\"data row1 col6\" >0.68</td>\n",
       "      <td id=\"T_178f0_row1_col7\" class=\"data row1 col7\" >0.59</td>\n",
       "      <td id=\"T_178f0_row1_col8\" class=\"data row1 col8\" >0.64</td>\n",
       "      <td id=\"T_178f0_row1_col9\" class=\"data row1 col9\" >0.66</td>\n",
       "      <td id=\"T_178f0_row1_col10\" class=\"data row1 col10\" >0.59</td>\n",
       "      <td id=\"T_178f0_row1_col11\" class=\"data row1 col11\" >0.62</td>\n",
       "      <td id=\"T_178f0_row1_col12\" class=\"data row1 col12\" >0.57</td>\n",
       "      <td id=\"T_178f0_row1_col13\" class=\"data row1 col13\" >0.58</td>\n",
       "      <td id=\"T_178f0_row1_col14\" class=\"data row1 col14\" >0.58</td>\n",
       "      <td id=\"T_178f0_row1_col15\" class=\"data row1 col15\" >0.6</td>\n",
       "      <td id=\"T_178f0_row1_col16\" class=\"data row1 col16\" >0.042</td>\n",
       "      <td id=\"T_178f0_row1_col17\" class=\"data row1 col17\" >7</td>\n",
       "    </tr>\n",
       "    <tr>\n",
       "      <th id=\"T_178f0_level0_row2\" class=\"row_heading level0 row2\" >2</th>\n",
       "      <td id=\"T_178f0_row2_col0\" class=\"data row2 col0\" >0.023</td>\n",
       "      <td id=\"T_178f0_row2_col1\" class=\"data row2 col1\" >0.0077</td>\n",
       "      <td id=\"T_178f0_row2_col2\" class=\"data row2 col2\" >0.0037</td>\n",
       "      <td id=\"T_178f0_row2_col3\" class=\"data row2 col3\" >0.001</td>\n",
       "      <td id=\"T_178f0_row2_col4\" class=\"data row2 col4\" >5</td>\n",
       "      <td id=\"T_178f0_row2_col5\" class=\"data row2 col5\" >0.83</td>\n",
       "      <td id=\"T_178f0_row2_col6\" class=\"data row2 col6\" >0.88</td>\n",
       "      <td id=\"T_178f0_row2_col7\" class=\"data row2 col7\" >0.79</td>\n",
       "      <td id=\"T_178f0_row2_col8\" class=\"data row2 col8\" >0.82</td>\n",
       "      <td id=\"T_178f0_row2_col9\" class=\"data row2 col9\" >0.84</td>\n",
       "      <td id=\"T_178f0_row2_col10\" class=\"data row2 col10\" >0.77</td>\n",
       "      <td id=\"T_178f0_row2_col11\" class=\"data row2 col11\" >0.83</td>\n",
       "      <td id=\"T_178f0_row2_col12\" class=\"data row2 col12\" >0.83</td>\n",
       "      <td id=\"T_178f0_row2_col13\" class=\"data row2 col13\" >0.75</td>\n",
       "      <td id=\"T_178f0_row2_col14\" class=\"data row2 col14\" >0.84</td>\n",
       "      <td id=\"T_178f0_row2_col15\" class=\"data row2 col15\" >0.82</td>\n",
       "      <td id=\"T_178f0_row2_col16\" class=\"data row2 col16\" >0.035</td>\n",
       "      <td id=\"T_178f0_row2_col17\" class=\"data row2 col17\" >6</td>\n",
       "    </tr>\n",
       "    <tr>\n",
       "      <th id=\"T_178f0_level0_row3\" class=\"row_heading level0 row3\" >3</th>\n",
       "      <td id=\"T_178f0_row3_col0\" class=\"data row3 col0\" >0.016</td>\n",
       "      <td id=\"T_178f0_row3_col1\" class=\"data row3 col1\" >0.0033</td>\n",
       "      <td id=\"T_178f0_row3_col2\" class=\"data row3 col2\" >0.0029</td>\n",
       "      <td id=\"T_178f0_row3_col3\" class=\"data row3 col3\" >0.00073</td>\n",
       "      <td id=\"T_178f0_row3_col4\" class=\"data row3 col4\" >10</td>\n",
       "      <td id=\"T_178f0_row3_col5\" class=\"data row3 col5\" >0.88</td>\n",
       "      <td id=\"T_178f0_row3_col6\" class=\"data row3 col6\" >0.92</td>\n",
       "      <td id=\"T_178f0_row3_col7\" class=\"data row3 col7\" >0.89</td>\n",
       "      <td id=\"T_178f0_row3_col8\" class=\"data row3 col8\" >0.87</td>\n",
       "      <td id=\"T_178f0_row3_col9\" class=\"data row3 col9\" >0.89</td>\n",
       "      <td id=\"T_178f0_row3_col10\" class=\"data row3 col10\" >0.9</td>\n",
       "      <td id=\"T_178f0_row3_col11\" class=\"data row3 col11\" >0.93</td>\n",
       "      <td id=\"T_178f0_row3_col12\" class=\"data row3 col12\" >0.96</td>\n",
       "      <td id=\"T_178f0_row3_col13\" class=\"data row3 col13\" >0.84</td>\n",
       "      <td id=\"T_178f0_row3_col14\" class=\"data row3 col14\" >0.87</td>\n",
       "      <td id=\"T_178f0_row3_col15\" class=\"data row3 col15\" >0.89</td>\n",
       "      <td id=\"T_178f0_row3_col16\" class=\"data row3 col16\" >0.031</td>\n",
       "      <td id=\"T_178f0_row3_col17\" class=\"data row3 col17\" >4</td>\n",
       "    </tr>\n",
       "    <tr>\n",
       "      <th id=\"T_178f0_level0_row4\" class=\"row_heading level0 row4\" >4</th>\n",
       "      <td id=\"T_178f0_row4_col0\" class=\"data row4 col0\" >0.021</td>\n",
       "      <td id=\"T_178f0_row4_col1\" class=\"data row4 col1\" >0.0013</td>\n",
       "      <td id=\"T_178f0_row4_col2\" class=\"data row4 col2\" >0.0036</td>\n",
       "      <td id=\"T_178f0_row4_col3\" class=\"data row4 col3\" >0.00082</td>\n",
       "      <td id=\"T_178f0_row4_col4\" class=\"data row4 col4\" >20</td>\n",
       "      <td id=\"T_178f0_row4_col5\" class=\"data row4 col5\" >0.88</td>\n",
       "      <td id=\"T_178f0_row4_col6\" class=\"data row4 col6\" >0.95</td>\n",
       "      <td id=\"T_178f0_row4_col7\" class=\"data row4 col7\" >0.89</td>\n",
       "      <td id=\"T_178f0_row4_col8\" class=\"data row4 col8\" >0.9</td>\n",
       "      <td id=\"T_178f0_row4_col9\" class=\"data row4 col9\" >0.89</td>\n",
       "      <td id=\"T_178f0_row4_col10\" class=\"data row4 col10\" >0.91</td>\n",
       "      <td id=\"T_178f0_row4_col11\" class=\"data row4 col11\" >0.96</td>\n",
       "      <td id=\"T_178f0_row4_col12\" class=\"data row4 col12\" >0.97</td>\n",
       "      <td id=\"T_178f0_row4_col13\" class=\"data row4 col13\" >0.85</td>\n",
       "      <td id=\"T_178f0_row4_col14\" class=\"data row4 col14\" >0.91</td>\n",
       "      <td id=\"T_178f0_row4_col15\" class=\"data row4 col15\" >0.91</td>\n",
       "      <td id=\"T_178f0_row4_col16\" class=\"data row4 col16\" >0.035</td>\n",
       "      <td id=\"T_178f0_row4_col17\" class=\"data row4 col17\" >3</td>\n",
       "    </tr>\n",
       "    <tr>\n",
       "      <th id=\"T_178f0_level0_row5\" class=\"row_heading level0 row5\" >5</th>\n",
       "      <td id=\"T_178f0_row5_col0\" class=\"data row5 col0\" >0.022</td>\n",
       "      <td id=\"T_178f0_row5_col1\" class=\"data row5 col1\" >0.0016</td>\n",
       "      <td id=\"T_178f0_row5_col2\" class=\"data row5 col2\" >0.0034</td>\n",
       "      <td id=\"T_178f0_row5_col3\" class=\"data row5 col3\" >0.00073</td>\n",
       "      <td id=\"T_178f0_row5_col4\" class=\"data row5 col4\" >30</td>\n",
       "      <td id=\"T_178f0_row5_col5\" class=\"data row5 col5\" >0.89</td>\n",
       "      <td id=\"T_178f0_row5_col6\" class=\"data row5 col6\" >0.94</td>\n",
       "      <td id=\"T_178f0_row5_col7\" class=\"data row5 col7\" >0.9</td>\n",
       "      <td id=\"T_178f0_row5_col8\" class=\"data row5 col8\" >0.92</td>\n",
       "      <td id=\"T_178f0_row5_col9\" class=\"data row5 col9\" >0.89</td>\n",
       "      <td id=\"T_178f0_row5_col10\" class=\"data row5 col10\" >0.91</td>\n",
       "      <td id=\"T_178f0_row5_col11\" class=\"data row5 col11\" >0.97</td>\n",
       "      <td id=\"T_178f0_row5_col12\" class=\"data row5 col12\" >0.97</td>\n",
       "      <td id=\"T_178f0_row5_col13\" class=\"data row5 col13\" >0.85</td>\n",
       "      <td id=\"T_178f0_row5_col14\" class=\"data row5 col14\" >0.9</td>\n",
       "      <td id=\"T_178f0_row5_col15\" class=\"data row5 col15\" >0.92</td>\n",
       "      <td id=\"T_178f0_row5_col16\" class=\"data row5 col16\" >0.036</td>\n",
       "      <td id=\"T_178f0_row5_col17\" class=\"data row5 col17\" >1</td>\n",
       "    </tr>\n",
       "    <tr>\n",
       "      <th id=\"T_178f0_level0_row6\" class=\"row_heading level0 row6\" >6</th>\n",
       "      <td id=\"T_178f0_row6_col0\" class=\"data row6 col0\" >0.031</td>\n",
       "      <td id=\"T_178f0_row6_col1\" class=\"data row6 col1\" >0.0025</td>\n",
       "      <td id=\"T_178f0_row6_col2\" class=\"data row6 col2\" >0.0035</td>\n",
       "      <td id=\"T_178f0_row6_col3\" class=\"data row6 col3\" >0.00079</td>\n",
       "      <td id=\"T_178f0_row6_col4\" class=\"data row6 col4\" >40</td>\n",
       "      <td id=\"T_178f0_row6_col5\" class=\"data row6 col5\" >0.88</td>\n",
       "      <td id=\"T_178f0_row6_col6\" class=\"data row6 col6\" >0.92</td>\n",
       "      <td id=\"T_178f0_row6_col7\" class=\"data row6 col7\" >0.91</td>\n",
       "      <td id=\"T_178f0_row6_col8\" class=\"data row6 col8\" >0.93</td>\n",
       "      <td id=\"T_178f0_row6_col9\" class=\"data row6 col9\" >0.89</td>\n",
       "      <td id=\"T_178f0_row6_col10\" class=\"data row6 col10\" >0.91</td>\n",
       "      <td id=\"T_178f0_row6_col11\" class=\"data row6 col11\" >0.97</td>\n",
       "      <td id=\"T_178f0_row6_col12\" class=\"data row6 col12\" >0.94</td>\n",
       "      <td id=\"T_178f0_row6_col13\" class=\"data row6 col13\" >0.87</td>\n",
       "      <td id=\"T_178f0_row6_col14\" class=\"data row6 col14\" >0.9</td>\n",
       "      <td id=\"T_178f0_row6_col15\" class=\"data row6 col15\" >0.91</td>\n",
       "      <td id=\"T_178f0_row6_col16\" class=\"data row6 col16\" >0.028</td>\n",
       "      <td id=\"T_178f0_row6_col17\" class=\"data row6 col17\" >2</td>\n",
       "    </tr>\n",
       "    <tr>\n",
       "      <th id=\"T_178f0_level0_row7\" class=\"row_heading level0 row7\" >7</th>\n",
       "      <td id=\"T_178f0_row7_col0\" class=\"data row7 col0\" >0.011</td>\n",
       "      <td id=\"T_178f0_row7_col1\" class=\"data row7 col1\" >0.0016</td>\n",
       "      <td id=\"T_178f0_row7_col2\" class=\"data row7 col2\" >0.0024</td>\n",
       "      <td id=\"T_178f0_row7_col3\" class=\"data row7 col3\" >0.00034</td>\n",
       "      <td id=\"T_178f0_row7_col4\" class=\"data row7 col4\" >60</td>\n",
       "      <td id=\"T_178f0_row7_col5\" class=\"data row7 col5\" >0.87</td>\n",
       "      <td id=\"T_178f0_row7_col6\" class=\"data row7 col6\" >0.9</td>\n",
       "      <td id=\"T_178f0_row7_col7\" class=\"data row7 col7\" >0.88</td>\n",
       "      <td id=\"T_178f0_row7_col8\" class=\"data row7 col8\" >0.75</td>\n",
       "      <td id=\"T_178f0_row7_col9\" class=\"data row7 col9\" >0.82</td>\n",
       "      <td id=\"T_178f0_row7_col10\" class=\"data row7 col10\" >0.85</td>\n",
       "      <td id=\"T_178f0_row7_col11\" class=\"data row7 col11\" >0.92</td>\n",
       "      <td id=\"T_178f0_row7_col12\" class=\"data row7 col12\" >0.94</td>\n",
       "      <td id=\"T_178f0_row7_col13\" class=\"data row7 col13\" >0.8</td>\n",
       "      <td id=\"T_178f0_row7_col14\" class=\"data row7 col14\" >0.85</td>\n",
       "      <td id=\"T_178f0_row7_col15\" class=\"data row7 col15\" >0.86</td>\n",
       "      <td id=\"T_178f0_row7_col16\" class=\"data row7 col16\" >0.056</td>\n",
       "      <td id=\"T_178f0_row7_col17\" class=\"data row7 col17\" >5</td>\n",
       "    </tr>\n",
       "  </tbody>\n",
       "</table>\n"
      ],
      "text/plain": [
       "<pandas.io.formats.style.Styler at 0x17b71f280>"
      ]
     },
     "execution_count": 41,
     "metadata": {},
     "output_type": "execute_result"
    }
   ],
   "source": [
    "cv_results_df = pd.DataFrame(search.cv_results_).drop(columns=\"params\")\n",
    "\n",
    "cv_results_df.style.format(\"{:.2g}\")"
   ]
  },
  {
   "cell_type": "code",
   "execution_count": 42,
   "id": "finnish-grave",
   "metadata": {},
   "outputs": [
    {
     "data": {
      "image/png": "[encoded data removed]",
      "text/plain": [
       "<Figure size 432x288 with 1 Axes>"
      ]
     },
     "metadata": {
      "image/png": {
       "height": 248,
       "width": 372
      },
      "needs_background": "light"
     },
     "output_type": "display_data"
    }
   ],
   "source": [
    "plt.bar(\n",
    "    cv_results_df[\"param_pca__n_components\"],\n",
    "    cv_results_df[\"mean_test_score\"],\n",
    "    yerr=2 * cv_results_df[\"std_test_score\"],\n",
    "    width=0.8 * np.diff(cv_results_df[\"param_pca__n_components\"], prepend=0),\n",
    ")\n",
    "plt.show()"
   ]
  },
  {
   "cell_type": "markdown",
   "id": "norwegian-watershed",
   "metadata": {},
   "source": [
    "## Exercice (optionnel)"
   ]
  },
  {
   "cell_type": "markdown",
   "id": "mysterious-daniel",
   "metadata": {},
   "source": [
    "En utilisant la méthode `.predict_proba` de `linear_model.LogisticRegression`, utiliser le résultat de la prédiction pour sélectionner un seuil (*threshold*) particulier pour influencer la classification.\n",
    "\n",
    "* Pouvez-vous obtenir 100 % de [précision](https://scikit-learn.org/stable/modules/generated/sklearn.metrics.precision_score.html) ?\n",
    "* Pouvez-vous obtenir 100 % de [rappel](https://scikit-learn.org/stable/modules/generated/sklearn.metrics.recall_score.html) ?\n",
    "* Mesurez les valeurs de [f1-scores](https://scikit-learn.org/stable/modules/generated/sklearn.metrics.f1_score.html) et commentez.\n",
    "* Tracez la [ROC](https://scikit-learn.org/stable/modules/generated/sklearn.metrics.roc_curve.html) à partir de plusieurs valeurs de seuil.\n",
    "* Comparez les [AUC](https://scikit-learn.org/stable/modules/generated/sklearn.metrics.auc.html) (aire sous la courbe ROC) de la `linear_model.LogisticRegression` et de `naive_bayes.GaussianNB()`."
   ]
  },
  {
   "cell_type": "markdown",
   "id": "sublime-highlight",
   "metadata": {},
   "source": [
    "---"
   ]
  }
 ],
 "metadata": {
  "kernelspec": {
   "display_name": "Python [conda env:py3k]",
   "language": "python",
   "name": "conda-env-py3k-py"
  },
  "language_info": {
   "codemirror_mode": {
    "name": "ipython",
    "version": 3
   },
   "file_extension": ".py",
   "mimetype": "text/x-python",
   "name": "python",
   "nbconvert_exporter": "python",
   "pygments_lexer": "ipython3",
   "version": "3.10.4"
  }
 },
 "nbformat": 4,
 "nbformat_minor": 5
}
