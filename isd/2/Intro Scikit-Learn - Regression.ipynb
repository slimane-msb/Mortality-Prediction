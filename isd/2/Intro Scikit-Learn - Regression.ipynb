{
 "cells": [
  {
   "cell_type": "markdown",
   "id": "stable-aluminum",
   "metadata": {},
   "source": [
    "# "
   ]
  },
  {
   "cell_type": "markdown",
   "id": "perfect-canberra",
   "metadata": {},
   "source": [
    "# Intro à Scikit-Learn"
   ]
  },
  {
   "cell_type": "markdown",
   "id": "greatest-dynamics",
   "metadata": {},
   "source": [
    "From:\n",
    "\n",
    "* [VanderPlas, Jake. 2017. Python Data Science Handbook. O’Reilly Media, Inc.](https://github.com/jakevdp/PythonDataScienceHandbook)\n",
    "* [Scikit-Learn datasets: The Iris Dataset](https://scikit-learn.org/stable/auto_examples/datasets/plot_iris_dataset.html)"
   ]
  },
  {
   "cell_type": "markdown",
   "id": "timely-parish",
   "metadata": {},
   "source": [
    "## Régression"
   ]
  },
  {
   "cell_type": "markdown",
   "id": "shared-regard",
   "metadata": {},
   "source": [
    "### Données"
   ]
  },
  {
   "cell_type": "markdown",
   "id": "pleasant-charter",
   "metadata": {},
   "source": [
    "https://scikit-learn.org/stable/datasets/toy_dataset.html#boston-dataset\n",
    "\n",
    "\n",
    "Descripteurs (features) :\n",
    "\n",
    "* `CRIM`: taux de criminalité par habitant par ville\n",
    "* `ZN`: proportion de terrains résidentiels zonés pour les lots de plus de 25 000 pi.ca.\n",
    "* `INDUS`: proportion d'acres commerciaux/non-commerciaux par ville\n",
    "* `CHAS`: variable fictive de Charles River (= 1 si la zone délimite la rivière; 0 sinon)\n",
    "* `NOX`: concentration d'oxydes nitriques (parties par 10 millions)\n",
    "* `RM`: nombre moyen de pièces par logement\n",
    "* `AGE`: proportion de logements occupés par leur propriétaire construits avant 1940\n",
    "* `DIS`: distances pondérées des cinq centres d'emploi de Boston\n",
    "* `RAD`: indice d'accessibilité aux autoroutes radiales\n",
    "* `TAX`: taux d'imposition foncière de la valeur totale par tranche de 10 000 $\n",
    "* `PTRATIO`: ratio élèves-enseignant par ville\n",
    "* `B`: 1000(A - 0.63)^2 où A est la proportion d'habitants afro-américains par ville\n",
    "* `LSTAT`: pourcentage d'habitant en dessous du seuil de pauvreté\n",
    "\n",
    "Cible (target) :\n",
    "\n",
    "* `MEDV`: Valeur médiane des logements occupés par leur propriétaire en 1 000 $"
   ]
  },
  {
   "cell_type": "code",
   "execution_count": 1,
   "id": "digital-while",
   "metadata": {},
   "outputs": [],
   "source": [
    "import matplotlib.pyplot as plt\n",
    "import numpy as np\n",
    "from matplotlib.colors import ListedColormap\n",
    "\n",
    "%config InlineBackend.figure_format='retina'  # For high DPI display"
   ]
  },
  {
   "cell_type": "markdown",
   "id": "allied-disposal",
   "metadata": {},
   "source": [
    "#### Chargement des données"
   ]
  },
  {
   "cell_type": "code",
   "execution_count": 2,
   "id": "restricted-plaintiff",
   "metadata": {},
   "outputs": [],
   "source": [
    "from sklearn.datasets import load_boston\n",
    "\n",
    "boston = load_boston()"
   ]
  },
  {
   "cell_type": "code",
   "execution_count": 3,
   "id": "modern-production",
   "metadata": {},
   "outputs": [
    {
     "data": {
      "text/plain": [
       "sklearn.utils.Bunch"
      ]
     },
     "execution_count": 3,
     "metadata": {},
     "output_type": "execute_result"
    }
   ],
   "source": [
    "type(boston)"
   ]
  },
  {
   "cell_type": "code",
   "execution_count": 4,
   "id": "traditional-trance",
   "metadata": {},
   "outputs": [
    {
     "name": "stdout",
     "output_type": "stream",
     "text": [
      "\u001b[0;31mInit signature:\u001b[0m \u001b[0mBunch\u001b[0m\u001b[0;34m(\u001b[0m\u001b[0;34m**\u001b[0m\u001b[0mkwargs\u001b[0m\u001b[0;34m)\u001b[0m\u001b[0;34m\u001b[0m\u001b[0;34m\u001b[0m\u001b[0m\n",
      "\u001b[0;31mDocstring:\u001b[0m     \n",
      "Container object exposing keys as attributes.\n",
      "\n",
      "Bunch objects are sometimes used as an output for functions and methods.\n",
      "They extend dictionaries by enabling values to be accessed by key,\n",
      "`bunch[\"value_key\"]`, or by an attribute, `bunch.value_key`.\n",
      "\n",
      "Examples\n",
      "--------\n",
      ">>> b = Bunch(a=1, b=2)\n",
      ">>> b['b']\n",
      "2\n",
      ">>> b.b\n",
      "2\n",
      ">>> b.a = 3\n",
      ">>> b['a']\n",
      "3\n",
      ">>> b.c = 6\n",
      ">>> b['c']\n",
      "6\n",
      "\u001b[0;31mFile:\u001b[0m           /opt/anaconda3/lib/python3.8/site-packages/sklearn/utils/__init__.py\n",
      "\u001b[0;31mType:\u001b[0m           type\n",
      "\u001b[0;31mSubclasses:\u001b[0m     \n"
     ]
    }
   ],
   "source": [
    "from sklearn.utils import Bunch\n",
    "\n",
    "Bunch?"
   ]
  },
  {
   "cell_type": "code",
   "execution_count": 5,
   "id": "terminal-search",
   "metadata": {},
   "outputs": [
    {
     "data": {
      "text/plain": [
       "['DESCR', 'data', 'feature_names', 'filename', 'target']"
      ]
     },
     "execution_count": 5,
     "metadata": {},
     "output_type": "execute_result"
    }
   ],
   "source": [
    "dir(boston)\n",
    "#dir?\n"
   ]
  },
  {
   "cell_type": "code",
   "execution_count": 6,
   "id": "polyphonic-uganda",
   "metadata": {},
   "outputs": [
    {
     "data": {
      "text/plain": [
       "numpy.ndarray"
      ]
     },
     "execution_count": 6,
     "metadata": {},
     "output_type": "execute_result"
    }
   ],
   "source": [
    "type(boston.data)"
   ]
  },
  {
   "cell_type": "code",
   "execution_count": 7,
   "id": "reverse-insulation",
   "metadata": {},
   "outputs": [
    {
     "name": "stdout",
     "output_type": "stream",
     "text": [
      "(506, 13) (506,)\n"
     ]
    }
   ],
   "source": [
    "print(boston.data.shape, boston.target.shape)"
   ]
  },
  {
   "cell_type": "code",
   "execution_count": 8,
   "id": "cognitive-lyric",
   "metadata": {},
   "outputs": [
    {
     "data": {
      "text/plain": [
       "array(['CRIM', 'ZN', 'INDUS', 'CHAS', 'NOX', 'RM', 'AGE', 'DIS', 'RAD',\n",
       "       'TAX', 'PTRATIO', 'B', 'LSTAT'], dtype='<U7')"
      ]
     },
     "execution_count": 8,
     "metadata": {},
     "output_type": "execute_result"
    }
   ],
   "source": [
    "boston.feature_names"
   ]
  },
  {
   "cell_type": "markdown",
   "id": "affiliated-culture",
   "metadata": {},
   "source": [
    "#### Sélection des données d'apprentissage"
   ]
  },
  {
   "cell_type": "code",
   "execution_count": 9,
   "id": "union-participant",
   "metadata": {},
   "outputs": [
    {
     "data": {
      "text/plain": [
       "12"
      ]
     },
     "execution_count": 9,
     "metadata": {},
     "output_type": "execute_result"
    }
   ],
   "source": [
    "FT_NAME = \"LSTAT\"\n",
    "\n",
    "idx = list(boston.feature_names).index(FT_NAME)\n",
    "idx"
   ]
  },
  {
   "cell_type": "code",
   "execution_count": 10,
   "id": "1281907b",
   "metadata": {},
   "outputs": [
    {
     "data": {
      "text/plain": [
       "{'data': array([[6.3200e-03, 1.8000e+01, 2.3100e+00, ..., 1.5300e+01, 3.9690e+02,\n",
       "         4.9800e+00],\n",
       "        [2.7310e-02, 0.0000e+00, 7.0700e+00, ..., 1.7800e+01, 3.9690e+02,\n",
       "         9.1400e+00],\n",
       "        [2.7290e-02, 0.0000e+00, 7.0700e+00, ..., 1.7800e+01, 3.9283e+02,\n",
       "         4.0300e+00],\n",
       "        ...,\n",
       "        [6.0760e-02, 0.0000e+00, 1.1930e+01, ..., 2.1000e+01, 3.9690e+02,\n",
       "         5.6400e+00],\n",
       "        [1.0959e-01, 0.0000e+00, 1.1930e+01, ..., 2.1000e+01, 3.9345e+02,\n",
       "         6.4800e+00],\n",
       "        [4.7410e-02, 0.0000e+00, 1.1930e+01, ..., 2.1000e+01, 3.9690e+02,\n",
       "         7.8800e+00]]),\n",
       " 'target': array([24. , 21.6, 34.7, 33.4, 36.2, 28.7, 22.9, 27.1, 16.5, 18.9, 15. ,\n",
       "        18.9, 21.7, 20.4, 18.2, 19.9, 23.1, 17.5, 20.2, 18.2, 13.6, 19.6,\n",
       "        15.2, 14.5, 15.6, 13.9, 16.6, 14.8, 18.4, 21. , 12.7, 14.5, 13.2,\n",
       "        13.1, 13.5, 18.9, 20. , 21. , 24.7, 30.8, 34.9, 26.6, 25.3, 24.7,\n",
       "        21.2, 19.3, 20. , 16.6, 14.4, 19.4, 19.7, 20.5, 25. , 23.4, 18.9,\n",
       "        35.4, 24.7, 31.6, 23.3, 19.6, 18.7, 16. , 22.2, 25. , 33. , 23.5,\n",
       "        19.4, 22. , 17.4, 20.9, 24.2, 21.7, 22.8, 23.4, 24.1, 21.4, 20. ,\n",
       "        20.8, 21.2, 20.3, 28. , 23.9, 24.8, 22.9, 23.9, 26.6, 22.5, 22.2,\n",
       "        23.6, 28.7, 22.6, 22. , 22.9, 25. , 20.6, 28.4, 21.4, 38.7, 43.8,\n",
       "        33.2, 27.5, 26.5, 18.6, 19.3, 20.1, 19.5, 19.5, 20.4, 19.8, 19.4,\n",
       "        21.7, 22.8, 18.8, 18.7, 18.5, 18.3, 21.2, 19.2, 20.4, 19.3, 22. ,\n",
       "        20.3, 20.5, 17.3, 18.8, 21.4, 15.7, 16.2, 18. , 14.3, 19.2, 19.6,\n",
       "        23. , 18.4, 15.6, 18.1, 17.4, 17.1, 13.3, 17.8, 14. , 14.4, 13.4,\n",
       "        15.6, 11.8, 13.8, 15.6, 14.6, 17.8, 15.4, 21.5, 19.6, 15.3, 19.4,\n",
       "        17. , 15.6, 13.1, 41.3, 24.3, 23.3, 27. , 50. , 50. , 50. , 22.7,\n",
       "        25. , 50. , 23.8, 23.8, 22.3, 17.4, 19.1, 23.1, 23.6, 22.6, 29.4,\n",
       "        23.2, 24.6, 29.9, 37.2, 39.8, 36.2, 37.9, 32.5, 26.4, 29.6, 50. ,\n",
       "        32. , 29.8, 34.9, 37. , 30.5, 36.4, 31.1, 29.1, 50. , 33.3, 30.3,\n",
       "        34.6, 34.9, 32.9, 24.1, 42.3, 48.5, 50. , 22.6, 24.4, 22.5, 24.4,\n",
       "        20. , 21.7, 19.3, 22.4, 28.1, 23.7, 25. , 23.3, 28.7, 21.5, 23. ,\n",
       "        26.7, 21.7, 27.5, 30.1, 44.8, 50. , 37.6, 31.6, 46.7, 31.5, 24.3,\n",
       "        31.7, 41.7, 48.3, 29. , 24. , 25.1, 31.5, 23.7, 23.3, 22. , 20.1,\n",
       "        22.2, 23.7, 17.6, 18.5, 24.3, 20.5, 24.5, 26.2, 24.4, 24.8, 29.6,\n",
       "        42.8, 21.9, 20.9, 44. , 50. , 36. , 30.1, 33.8, 43.1, 48.8, 31. ,\n",
       "        36.5, 22.8, 30.7, 50. , 43.5, 20.7, 21.1, 25.2, 24.4, 35.2, 32.4,\n",
       "        32. , 33.2, 33.1, 29.1, 35.1, 45.4, 35.4, 46. , 50. , 32.2, 22. ,\n",
       "        20.1, 23.2, 22.3, 24.8, 28.5, 37.3, 27.9, 23.9, 21.7, 28.6, 27.1,\n",
       "        20.3, 22.5, 29. , 24.8, 22. , 26.4, 33.1, 36.1, 28.4, 33.4, 28.2,\n",
       "        22.8, 20.3, 16.1, 22.1, 19.4, 21.6, 23.8, 16.2, 17.8, 19.8, 23.1,\n",
       "        21. , 23.8, 23.1, 20.4, 18.5, 25. , 24.6, 23. , 22.2, 19.3, 22.6,\n",
       "        19.8, 17.1, 19.4, 22.2, 20.7, 21.1, 19.5, 18.5, 20.6, 19. , 18.7,\n",
       "        32.7, 16.5, 23.9, 31.2, 17.5, 17.2, 23.1, 24.5, 26.6, 22.9, 24.1,\n",
       "        18.6, 30.1, 18.2, 20.6, 17.8, 21.7, 22.7, 22.6, 25. , 19.9, 20.8,\n",
       "        16.8, 21.9, 27.5, 21.9, 23.1, 50. , 50. , 50. , 50. , 50. , 13.8,\n",
       "        13.8, 15. , 13.9, 13.3, 13.1, 10.2, 10.4, 10.9, 11.3, 12.3,  8.8,\n",
       "         7.2, 10.5,  7.4, 10.2, 11.5, 15.1, 23.2,  9.7, 13.8, 12.7, 13.1,\n",
       "        12.5,  8.5,  5. ,  6.3,  5.6,  7.2, 12.1,  8.3,  8.5,  5. , 11.9,\n",
       "        27.9, 17.2, 27.5, 15. , 17.2, 17.9, 16.3,  7. ,  7.2,  7.5, 10.4,\n",
       "         8.8,  8.4, 16.7, 14.2, 20.8, 13.4, 11.7,  8.3, 10.2, 10.9, 11. ,\n",
       "         9.5, 14.5, 14.1, 16.1, 14.3, 11.7, 13.4,  9.6,  8.7,  8.4, 12.8,\n",
       "        10.5, 17.1, 18.4, 15.4, 10.8, 11.8, 14.9, 12.6, 14.1, 13. , 13.4,\n",
       "        15.2, 16.1, 17.8, 14.9, 14.1, 12.7, 13.5, 14.9, 20. , 16.4, 17.7,\n",
       "        19.5, 20.2, 21.4, 19.9, 19. , 19.1, 19.1, 20.1, 19.9, 19.6, 23.2,\n",
       "        29.8, 13.8, 13.3, 16.7, 12. , 14.6, 21.4, 23. , 23.7, 25. , 21.8,\n",
       "        20.6, 21.2, 19.1, 20.6, 15.2,  7. ,  8.1, 13.6, 20.1, 21.8, 24.5,\n",
       "        23.1, 19.7, 18.3, 21.2, 17.5, 16.8, 22.4, 20.6, 23.9, 22. , 11.9]),\n",
       " 'feature_names': array(['CRIM', 'ZN', 'INDUS', 'CHAS', 'NOX', 'RM', 'AGE', 'DIS', 'RAD',\n",
       "        'TAX', 'PTRATIO', 'B', 'LSTAT'], dtype='<U7'),\n",
       " 'DESCR': \".. _boston_dataset:\\n\\nBoston house prices dataset\\n---------------------------\\n\\n**Data Set Characteristics:**  \\n\\n    :Number of Instances: 506 \\n\\n    :Number of Attributes: 13 numeric/categorical predictive. Median Value (attribute 14) is usually the target.\\n\\n    :Attribute Information (in order):\\n        - CRIM     per capita crime rate by town\\n        - ZN       proportion of residential land zoned for lots over 25,000 sq.ft.\\n        - INDUS    proportion of non-retail business acres per town\\n        - CHAS     Charles River dummy variable (= 1 if tract bounds river; 0 otherwise)\\n        - NOX      nitric oxides concentration (parts per 10 million)\\n        - RM       average number of rooms per dwelling\\n        - AGE      proportion of owner-occupied units built prior to 1940\\n        - DIS      weighted distances to five Boston employment centres\\n        - RAD      index of accessibility to radial highways\\n        - TAX      full-value property-tax rate per $10,000\\n        - PTRATIO  pupil-teacher ratio by town\\n        - B        1000(Bk - 0.63)^2 where Bk is the proportion of blacks by town\\n        - LSTAT    % lower status of the population\\n        - MEDV     Median value of owner-occupied homes in $1000's\\n\\n    :Missing Attribute Values: None\\n\\n    :Creator: Harrison, D. and Rubinfeld, D.L.\\n\\nThis is a copy of UCI ML housing dataset.\\nhttps://archive.ics.uci.edu/ml/machine-learning-databases/housing/\\n\\n\\nThis dataset was taken from the StatLib library which is maintained at Carnegie Mellon University.\\n\\nThe Boston house-price data of Harrison, D. and Rubinfeld, D.L. 'Hedonic\\nprices and the demand for clean air', J. Environ. Economics & Management,\\nvol.5, 81-102, 1978.   Used in Belsley, Kuh & Welsch, 'Regression diagnostics\\n...', Wiley, 1980.   N.B. Various transformations are used in the table on\\npages 244-261 of the latter.\\n\\nThe Boston house-price data has been used in many machine learning papers that address regression\\nproblems.   \\n     \\n.. topic:: References\\n\\n   - Belsley, Kuh & Welsch, 'Regression diagnostics: Identifying Influential Data and Sources of Collinearity', Wiley, 1980. 244-261.\\n   - Quinlan,R. (1993). Combining Instance-Based and Model-Based Learning. In Proceedings on the Tenth International Conference of Machine Learning, 236-243, University of Massachusetts, Amherst. Morgan Kaufmann.\\n\",\n",
       " 'filename': '/opt/anaconda3/lib/python3.8/site-packages/sklearn/datasets/data/boston_house_prices.csv'}"
      ]
     },
     "execution_count": 10,
     "metadata": {},
     "output_type": "execute_result"
    }
   ],
   "source": [
    "boston"
   ]
  },
  {
   "cell_type": "markdown",
   "id": "hired-comparative",
   "metadata": {},
   "source": [
    "Ajout d'une dimension (`np.newaxis`) lorsqu'un seul descripteur est sélectionné, pour maintenir le format en colonne(s)."
   ]
  },
  {
   "cell_type": "code",
   "execution_count": 11,
   "id": "imported-relief",
   "metadata": {},
   "outputs": [
    {
     "data": {
      "text/plain": [
       "(506, 1)"
      ]
     },
     "execution_count": 11,
     "metadata": {},
     "output_type": "execute_result"
    }
   ],
   "source": [
    "boston.data[:, np.newaxis, 12].shape"
   ]
  },
  {
   "cell_type": "code",
   "execution_count": 12,
   "id": "83e95e4f-c856-48d9-a295-dddd9f988a87",
   "metadata": {},
   "outputs": [
    {
     "data": {
      "text/plain": [
       "(506, 1)"
      ]
     },
     "execution_count": 12,
     "metadata": {},
     "output_type": "execute_result"
    }
   ],
   "source": [
    "# ou\n",
    "boston.data[:, idx].reshape(-1, 1).shape"
   ]
  },
  {
   "cell_type": "code",
   "execution_count": 13,
   "id": "cubic-custom",
   "metadata": {},
   "outputs": [
    {
     "name": "stdout",
     "output_type": "stream",
     "text": [
      "(506, 1)\n",
      "(506,)\n"
     ]
    }
   ],
   "source": [
    "xs_1d = boston.data[:, idx].reshape(-1, 1)\n",
    "print(xs_1d.shape)\n",
    "\n",
    "ys = boston.target\n",
    "print(ys.shape)"
   ]
  },
  {
   "cell_type": "markdown",
   "id": "settled-flooring",
   "metadata": {
    "editable": true
   },
   "source": [
    "Disposition attendue des descripteurs (*features*) et des valeurs cibles (*labels*):"
   ]
  },
  {
   "cell_type": "markdown",
   "id": "accurate-information",
   "metadata": {},
   "source": [
    "![](img/05.02-samples-features.png)"
   ]
  },
  {
   "cell_type": "code",
   "execution_count": 14,
   "id": "outstanding-fifteen",
   "metadata": {},
   "outputs": [
    {
     "data": {
      "image/png": "[encoded data removed]",
      "text/plain": [
       "<Figure size 432x288 with 1 Axes>"
      ]
     },
     "metadata": {
      "image/png": {
       "height": 261,
       "width": 382
      },
      "needs_background": "light"
     },
     "output_type": "display_data"
    }
   ],
   "source": [
    "plt.scatter(xs_1d[:, -1], ys)\n",
    "plt.xlabel(FT_NAME)\n",
    "plt.ylabel(\"Median homes prices in $1000’s\")\n",
    "plt.show()"
   ]
  },
  {
   "cell_type": "markdown",
   "id": "incorporate-romania",
   "metadata": {},
   "source": [
    "##### Échantillonnage aléatoire des données d'entrainement et de test"
   ]
  },
  {
   "cell_type": "code",
   "execution_count": 15,
   "id": "selective-series",
   "metadata": {},
   "outputs": [],
   "source": [
    "from sklearn.model_selection import train_test_split\n",
    "\n",
    "xs_train, xs_test, ys_train, ys_test = train_test_split(\n",
    "    xs_1d, ys, random_state=1\n",
    ")"
   ]
  },
  {
   "cell_type": "markdown",
   "id": "missing-rugby",
   "metadata": {},
   "source": [
    "### Entrainement"
   ]
  },
  {
   "cell_type": "code",
   "execution_count": 16,
   "id": "patient-anger",
   "metadata": {},
   "outputs": [],
   "source": [
    "# 1. Choix du modèle (classe)\n",
    "from sklearn.linear_model import LinearRegression\n",
    "\n",
    "# 2. Instantiaiton\n",
    "model_1d = LinearRegression()\n",
    "\n",
    "# 3.  Apprentissage (fit) du model\n",
    "model_1d.fit(xs_train, ys_train)\n",
    "\n",
    "# 4. predict on new data\n",
    "ys_pred = model_1d.predict(xs_test)"
   ]
  },
  {
   "cell_type": "markdown",
   "id": "quality-absolute",
   "metadata": {},
   "source": [
    "### Résultats"
   ]
  },
  {
   "cell_type": "markdown",
   "id": "intelligent-hearing",
   "metadata": {},
   "source": [
    "#### Graphiques"
   ]
  },
  {
   "cell_type": "code",
   "execution_count": 17,
   "id": "lyric-donor",
   "metadata": {},
   "outputs": [
    {
     "data": {
      "image/png": "[encoded data removed]",
      "text/plain": [
       "<Figure size 432x288 with 1 Axes>"
      ]
     },
     "metadata": {
      "image/png": {
       "height": 261,
       "width": 382
      },
      "needs_background": "light"
     },
     "output_type": "display_data"
    }
   ],
   "source": [
    "# Plot outputs\n",
    "plt.scatter(xs_test[:, -1], ys_test)\n",
    "plt.plot(xs_test[:, -1], ys_pred, color=\"blue\", linewidth=3)\n",
    "plt.xlabel(FT_NAME)\n",
    "plt.ylabel(\"Median homes prices in $1000’s\")\n",
    "plt.show()"
   ]
  },
  {
   "cell_type": "markdown",
   "id": "communist-climb",
   "metadata": {},
   "source": [
    "#### Évaluations\n",
    "\n",
    "* [Mean squared error](https://en.wikipedia.org/wiki/Mean_squared_error)\n",
    "* [Coefficient of determination](https://en.wikipedia.org/wiki/Coefficient_of_determination)"
   ]
  },
  {
   "cell_type": "code",
   "execution_count": 18,
   "id": "interstate-replica",
   "metadata": {},
   "outputs": [
    {
     "name": "stdout",
     "output_type": "stream",
     "text": [
      "MSE = 46.29\n",
      "R^2 = 0.5327\n"
     ]
    }
   ],
   "source": [
    "from sklearn.metrics import mean_squared_error, r2_score\n",
    "\n",
    "mse = mean_squared_error(ys_test, ys_pred)\n",
    "r2 = r2_score(ys_test, ys_pred)\n",
    "\n",
    "print(f\"MSE = {mse:.2f}\")\n",
    "print(f\"R^2 = {r2:.4f}\")"
   ]
  },
  {
   "cell_type": "markdown",
   "id": "developing-potato",
   "metadata": {},
   "source": [
    "### Cas non-linéaires"
   ]
  },
  {
   "cell_type": "markdown",
   "id": "improved-regular",
   "metadata": {},
   "source": [
    "* Astuce: adapter la régression linéaire en transformant les données selon des fonctions de base\n",
    "* Par exemple avec une projection polynomiale:\n",
    "    $$\\hat{y} = a_0 + a_1 x + a_2 x^2 + \\cdots + a_n x^n$$\n",
    "* Notez qu'il s'agit toujours d'un modèle linéaire\n",
    "* Il est linéaire dans le sens où on ne multiplie ou ne divise jamais les coefficients\n",
    "* Le descripteur unidimensionnel $x$ est projeté dans une ou plusieurs dimensions pour permettre de modéliser des relations plus complexes entre $x$ et $y$"
   ]
  },
  {
   "cell_type": "code",
   "execution_count": 19,
   "id": "viral-architecture",
   "metadata": {},
   "outputs": [
    {
     "name": "stdout",
     "output_type": "stream",
     "text": [
      "(506, 1)\n",
      "(506, 2)\n"
     ]
    }
   ],
   "source": [
    "print(xs_1d.shape)\n",
    "xs_b = np.hstack([xs_1d, xs_1d ** 2])\n",
    "print(xs_b.shape)"
   ]
  },
  {
   "cell_type": "code",
   "execution_count": 20,
   "id": "342f9200-5b14-4c31-912d-4f533cda108b",
   "metadata": {},
   "outputs": [],
   "source": [
    "def apply_poly_basis(arr, deg=2):\n",
    "    \"\"\"\n",
    "    >>> arr = np.arange(1., 4.).reshape(-1, 1)\n",
    "    >>> arr   # Format expected by sklearn\n",
    "    array([[1.],\n",
    "           [2.],\n",
    "           [3.]])\n",
    "    >>> apply_poly_basis(arr, deg=3)\n",
    "    array([[ 1.,  1.,  1.],\n",
    "           [ 2.,  4.,  8.],\n",
    "           [ 3.,  9., 27.]])\n",
    "    \"\"\"\n",
    "    assert arr.ndim == 2\n",
    "\n",
    "    arrs = [arr ** n for n in range(1, deg + 1)]\n",
    "\n",
    "    return np.hstack(arrs)"
   ]
  },
  {
   "cell_type": "code",
   "execution_count": 21,
   "id": "announced-president",
   "metadata": {},
   "outputs": [
    {
     "data": {
      "text/plain": [
       "(127, 2)"
      ]
     },
     "execution_count": 21,
     "metadata": {},
     "output_type": "execute_result"
    }
   ],
   "source": [
    "DEG = 2\n",
    "\n",
    "xs_train_b = apply_poly_basis(xs_train, deg=DEG)\n",
    "xs_test_b = apply_poly_basis(xs_test, deg=DEG)\n",
    "xs_test_b.shape"
   ]
  },
  {
   "cell_type": "code",
   "execution_count": 22,
   "id": "interracial-congress",
   "metadata": {},
   "outputs": [],
   "source": [
    "# 1. Choix du modèle (classe)\n",
    "from sklearn.linear_model import LinearRegression\n",
    "\n",
    "# 2. Instantiaiton\n",
    "model_b = LinearRegression()\n",
    "\n",
    "# 3.  Apprentissage (fit) du model\n",
    "model_b.fit(xs_train_b, ys_train)\n",
    "\n",
    "# 4. predict on new data\n",
    "ys_pred_b = model_b.predict(xs_test_b)"
   ]
  },
  {
   "cell_type": "markdown",
   "id": "backed-mobility",
   "metadata": {},
   "source": [
    "#### Graphiques"
   ]
  },
  {
   "cell_type": "markdown",
   "id": "sudden-asian",
   "metadata": {},
   "source": [
    "Construction d'une `array` à valeurs croissantes qui s'étendent des bornes inférieure et supérieure des données pour produire le résultat de la régression sur le graphique."
   ]
  },
  {
   "cell_type": "code",
   "execution_count": 23,
   "id": "seasonal-repeat",
   "metadata": {},
   "outputs": [],
   "source": [
    "def plot_regression_line(xs, model, hop, deg=None):\n",
    "    # Les valeurs limites de la 1re colonne des descripteurs\n",
    "    x_min, x_max = xs[:, 0].min(), xs[:, 0].max()\n",
    "\n",
    "    # L'array qui s'étend sur l'amplitude de valeurs des données (de pas HOP)\n",
    "    xx = np.arange(x_min, x_max, hop).reshape(-1, 1)\n",
    "\n",
    "    # Regénération éventuelle de la base polynomiale\n",
    "    if deg is not None:\n",
    "        xx = apply_poly_basis(xx, deg=deg)\n",
    "\n",
    "    # Prédiction à l'aide du modèle pour produire la ligne de régression à tracer\n",
    "    yy_pred = model.predict(xx)\n",
    "\n",
    "    plt.plot(xx[:, 0], yy_pred, color=\"blue\", linewidth=3)"
   ]
  },
  {
   "cell_type": "code",
   "execution_count": 24,
   "id": "852f8215-48bc-4f50-abd2-a6d5d1e5eed9",
   "metadata": {},
   "outputs": [],
   "source": [
    "HOP = 0.1"
   ]
  },
  {
   "cell_type": "code",
   "execution_count": 25,
   "id": "fc47fe92-1061-4395-b492-51196b119a47",
   "metadata": {},
   "outputs": [
    {
     "data": {
      "image/png": "[encoded data removed]",
      "text/plain": [
       "<Figure size 432x288 with 1 Axes>"
      ]
     },
     "metadata": {
      "image/png": {
       "height": 248,
       "width": 368
      },
      "needs_background": "light"
     },
     "output_type": "display_data"
    }
   ],
   "source": [
    "plot_regression_line(xs_train_b, model=model_b, hop=HOP, deg=DEG)\n",
    "plt.scatter(xs_test_b[:, 0], ys_test)\n",
    "plt.show()"
   ]
  },
  {
   "cell_type": "markdown",
   "id": "working-superintendent",
   "metadata": {},
   "source": [
    "#### Évaluations"
   ]
  },
  {
   "cell_type": "code",
   "execution_count": 26,
   "id": "every-return",
   "metadata": {},
   "outputs": [
    {
     "name": "stdout",
     "output_type": "stream",
     "text": [
      "MSE = 35.98\n",
      "R^2 = 0.6367\n"
     ]
    }
   ],
   "source": [
    "mse = mean_squared_error(ys_test, ys_pred_b)\n",
    "r2 = r2_score(ys_test, ys_pred_b)\n",
    "\n",
    "print(f\"MSE = {mse:.2f}\")\n",
    "print(f\"R^2 = {r2:.4f}\")"
   ]
  },
  {
   "cell_type": "markdown",
   "id": "solid-bread",
   "metadata": {},
   "source": [
    "Coefficients $a_1$ et $a_2$ de la régression, provenant de l'équation suivante :\n",
    "\n",
    "$$\\hat{y}^{(i)} = a_0 + a_1 x_1^{(i)} + a_2 x_2^{(i)}$$"
   ]
  },
  {
   "cell_type": "code",
   "execution_count": 27,
   "id": "stock-lawsuit",
   "metadata": {},
   "outputs": [
    {
     "name": "stdout",
     "output_type": "stream",
     "text": [
      "a_1 = -2.2088, a_2 = 0.0402\n"
     ]
    }
   ],
   "source": [
    "print(\"a_1 = {:.4f}, a_2 = {:.4f}\".format(*model_b.coef_))"
   ]
  },
  {
   "cell_type": "markdown",
   "id": "employed-antique",
   "metadata": {},
   "source": [
    "## Exercice"
   ]
  },
  {
   "cell_type": "markdown",
   "id": "royal-panel",
   "metadata": {},
   "source": [
    "#### But : Tentez d'améliorer le résultat de la régression linéaire\n",
    "\n",
    "* Réalisez de nouveau la régression linéaire en utilisant l'ensemble des 13 descripteurs (*features*) proposé, au lieu d'un seul. La sélection s'opère dès l'étape :\n",
    "[Sélection des données d'apprentissage](#Sélection-des-données-d'apprentissage)\n",
    "\n",
    "* Générez d'autres descripteurs en prenant, par exemple, le carré de leurs valeurs, pour prendre en compte la non-linéarité des relations\n",
    "\n",
    "* Évaluez la performance de la régression en terme de MSE et R^2\n",
    "\n",
    "* Identifiez les descripteurs qui semblent les plus significatifs pour cette régression, en observant la valeur de leur paramètre respectif ($a_j$ via `model.coef_`)\n",
    "\n",
    "* Commentez succinctement\n",
    "\n",
    "* Notez que la visualisation pose problème lorsque que l'on utilise plus d'un descripteur (plus de 2 en particulier), elle n'est donc pas nécessaire pour cet exercice"
   ]
  },
  {
   "cell_type": "markdown",
   "id": "binding-developer",
   "metadata": {},
   "source": [
    "<span style=\"color:red\">Implémentez votre solution ci-dessous</span>\n"
   ]
  },
  {
   "cell_type": "markdown",
   "id": "naval-oregon",
   "metadata": {},
   "source": [
    "---"
   ]
  }
 ],
 "metadata": {
  "kernelspec": {
   "display_name": "Python 3 (ipykernel)",
   "language": "python",
   "name": "python3"
  },
  "language_info": {
   "codemirror_mode": {
    "name": "ipython",
    "version": 3
   },
   "file_extension": ".py",
   "mimetype": "text/x-python",
   "name": "python",
   "nbconvert_exporter": "python",
   "pygments_lexer": "ipython3",
   "version": "3.8.8"
  }
 },
 "nbformat": 4,
 "nbformat_minor": 5
}
