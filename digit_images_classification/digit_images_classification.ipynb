{
 "cells": [
  {
   "cell_type": "markdown",
   "id": "casual-paragraph",
   "metadata": {},
   "source": [
    "# "
   ]
  },
  {
   "cell_type": "markdown",
   "id": "resident-hostel",
   "metadata": {},
   "source": [
    "https://scikit-learn.org/stable/datasets/toy_dataset.html#iris-plants-dataset"
   ]
  },
  {
   "cell_type": "code",
   "execution_count": 1,
   "id": "based-heater",
   "metadata": {},
   "outputs": [
    {
     "name": "stdout",
     "output_type": "stream",
     "text": [
      "1.0.2\n"
     ]
    }
   ],
   "source": [
    "import matplotlib.pyplot as plt\n",
    "import numpy as np\n",
    "import pandas as pd\n",
    "import sklearn\n",
    "from sklearn import (\n",
    "    datasets,\n",
    "    decomposition,\n",
    "    linear_model,\n",
    "    metrics,\n",
    "    model_selection,\n",
    "    naive_bayes,\n",
    "    pipeline,\n",
    ")\n",
    "\n",
    "%config InlineBackend.figure_format=\"retina\"  # For high DPI display\n",
    "\n",
    "print(sklearn.__version__)  # 1.0.2"
   ]
  },
  {
   "cell_type": "markdown",
   "id": "hindu-terror",
   "metadata": {},
   "source": [
    "---"
   ]
  },
  {
   "cell_type": "markdown",
   "id": "compound-hughes",
   "metadata": {},
   "source": [
    "---"
   ]
  },
  {
   "cell_type": "markdown",
   "id": "cloudy-terry",
   "metadata": {},
   "source": [
    "### Classification (digits)"
   ]
  },
  {
   "cell_type": "markdown",
   "id": "optional-shelter",
   "metadata": {},
   "source": [
    "#### Chargement des données"
   ]
  },
  {
   "cell_type": "markdown",
   "id": "dimensional-appearance",
   "metadata": {},
   "source": [
    "https://scikit-learn.org/stable/datasets/toy_dataset.html#digits-dataset"
   ]
  },
  {
   "cell_type": "code",
   "execution_count": 12,
   "id": "cordless-saturn",
   "metadata": {},
   "outputs": [],
   "source": [
    "digits = datasets.load_digits()"
   ]
  },
  {
   "cell_type": "code",
   "execution_count": 13,
   "id": "statewide-facility",
   "metadata": {},
   "outputs": [
    {
     "name": "stdout",
     "output_type": "stream",
     "text": [
      "(1797, 8, 8)\n",
      "(1797, 64) (1797,)\n"
     ]
    }
   ],
   "source": [
    "# Flatten the images\n",
    "n_samples = len(digits.images)\n",
    "print(digits.images.shape)\n",
    "\n",
    "xs = digits.images.reshape([n_samples, -1])\n",
    "ys = digits.target\n",
    "\n",
    "print(xs.shape, ys.shape)"
   ]
  },
  {
   "cell_type": "code",
   "execution_count": 14,
   "id": "reflected-drama",
   "metadata": {
    "editable": true,
    "tags": []
   },
   "outputs": [
    {
     "name": "stdout",
     "output_type": "stream",
     "text": [
      "(1347,) (1347, 64)\n",
      "(450,) (450, 64)\n"
     ]
    }
   ],
   "source": [
    "xs_train, xs_test, ys_train, ys_test = model_selection.train_test_split(\n",
    "    xs, ys, random_state=1\n",
    ")\n",
    "\n",
    "print(ys_train.shape, xs_train.shape)\n",
    "print(ys_test.shape, xs_test.shape)"
   ]
  },
  {
   "cell_type": "markdown",
   "id": "meaning-validation",
   "metadata": {},
   "source": [
    "#### Entrainement des modèles"
   ]
  },
  {
   "cell_type": "code",
   "execution_count": 15,
   "id": "ongoing-trauma",
   "metadata": {
    "collapsed": false,
    "editable": true,
    "jupyter": {
     "outputs_hidden": false
    }
   },
   "outputs": [],
   "source": [
    "# 2. Instantiaiton\n",
    "model = naive_bayes.GaussianNB()\n",
    "\n",
    "# 3. Apprentissage (fit) du model\n",
    "model.fit(xs_train, ys_train)\n",
    "\n",
    "# 4. Prédire sur les données de test\n",
    "ys_pred = model.predict(xs_test)"
   ]
  },
  {
   "cell_type": "markdown",
   "id": "hairy-index",
   "metadata": {},
   "source": [
    "#### Évaluation"
   ]
  },
  {
   "cell_type": "code",
   "execution_count": 16,
   "id": "driving-cholesterol",
   "metadata": {},
   "outputs": [
    {
     "name": "stdout",
     "output_type": "stream",
     "text": [
      "0.8533\n"
     ]
    }
   ],
   "source": [
    "score = metrics.accuracy_score(ys_test, ys_pred)\n",
    "\n",
    "print(f\"{score :.4f}\")"
   ]
  },
  {
   "cell_type": "code",
   "execution_count": 17,
   "id": "seeing-census",
   "metadata": {},
   "outputs": [
    {
     "name": "stdout",
     "output_type": "stream",
     "text": [
      "              precision    recall  f1-score   support\n",
      "\n",
      "           0       0.98      0.96      0.97        53\n",
      "           1       0.81      0.81      0.81        42\n",
      "           2       0.93      0.66      0.77        41\n",
      "           3       0.93      0.77      0.84        52\n",
      "           4       0.93      0.91      0.92        47\n",
      "           5       0.94      0.85      0.89        39\n",
      "           6       0.96      1.00      0.98        43\n",
      "           7       0.80      1.00      0.89        48\n",
      "           8       0.51      0.95      0.67        37\n",
      "           9       1.00      0.62      0.77        48\n",
      "\n",
      "    accuracy                           0.85       450\n",
      "   macro avg       0.88      0.85      0.85       450\n",
      "weighted avg       0.89      0.85      0.86       450\n",
      "\n"
     ]
    }
   ],
   "source": [
    "print(metrics.classification_report(ys_test, ys_pred))"
   ]
  },
  {
   "cell_type": "code",
   "execution_count": 18,
   "id": "german-darwin",
   "metadata": {},
   "outputs": [
    {
     "data": {
      "text/html": [
       "<style type=\"text/css\">\n",
       "</style>\n",
       "<table id=\"T_9708a_\">\n",
       "  <thead>\n",
       "    <tr>\n",
       "      <th class=\"blank level0\" >&nbsp;</th>\n",
       "      <th class=\"col_heading level0 col0\" >precision</th>\n",
       "      <th class=\"col_heading level0 col1\" >recall</th>\n",
       "      <th class=\"col_heading level0 col2\" >f1-score</th>\n",
       "      <th class=\"col_heading level0 col3\" >support</th>\n",
       "    </tr>\n",
       "  </thead>\n",
       "  <tbody>\n",
       "    <tr>\n",
       "      <th id=\"T_9708a_level0_row0\" class=\"row_heading level0 row0\" >0</th>\n",
       "      <td id=\"T_9708a_row0_col0\" class=\"data row0 col0\" >0.98</td>\n",
       "      <td id=\"T_9708a_row0_col1\" class=\"data row0 col1\" >0.96</td>\n",
       "      <td id=\"T_9708a_row0_col2\" class=\"data row0 col2\" >0.97</td>\n",
       "      <td id=\"T_9708a_row0_col3\" class=\"data row0 col3\" >53</td>\n",
       "    </tr>\n",
       "    <tr>\n",
       "      <th id=\"T_9708a_level0_row1\" class=\"row_heading level0 row1\" >1</th>\n",
       "      <td id=\"T_9708a_row1_col0\" class=\"data row1 col0\" >0.81</td>\n",
       "      <td id=\"T_9708a_row1_col1\" class=\"data row1 col1\" >0.81</td>\n",
       "      <td id=\"T_9708a_row1_col2\" class=\"data row1 col2\" >0.81</td>\n",
       "      <td id=\"T_9708a_row1_col3\" class=\"data row1 col3\" >42</td>\n",
       "    </tr>\n",
       "    <tr>\n",
       "      <th id=\"T_9708a_level0_row2\" class=\"row_heading level0 row2\" >2</th>\n",
       "      <td id=\"T_9708a_row2_col0\" class=\"data row2 col0\" >0.93</td>\n",
       "      <td id=\"T_9708a_row2_col1\" class=\"data row2 col1\" >0.66</td>\n",
       "      <td id=\"T_9708a_row2_col2\" class=\"data row2 col2\" >0.77</td>\n",
       "      <td id=\"T_9708a_row2_col3\" class=\"data row2 col3\" >41</td>\n",
       "    </tr>\n",
       "    <tr>\n",
       "      <th id=\"T_9708a_level0_row3\" class=\"row_heading level0 row3\" >3</th>\n",
       "      <td id=\"T_9708a_row3_col0\" class=\"data row3 col0\" >0.93</td>\n",
       "      <td id=\"T_9708a_row3_col1\" class=\"data row3 col1\" >0.77</td>\n",
       "      <td id=\"T_9708a_row3_col2\" class=\"data row3 col2\" >0.84</td>\n",
       "      <td id=\"T_9708a_row3_col3\" class=\"data row3 col3\" >52</td>\n",
       "    </tr>\n",
       "    <tr>\n",
       "      <th id=\"T_9708a_level0_row4\" class=\"row_heading level0 row4\" >4</th>\n",
       "      <td id=\"T_9708a_row4_col0\" class=\"data row4 col0\" >0.93</td>\n",
       "      <td id=\"T_9708a_row4_col1\" class=\"data row4 col1\" >0.91</td>\n",
       "      <td id=\"T_9708a_row4_col2\" class=\"data row4 col2\" >0.92</td>\n",
       "      <td id=\"T_9708a_row4_col3\" class=\"data row4 col3\" >47</td>\n",
       "    </tr>\n",
       "    <tr>\n",
       "      <th id=\"T_9708a_level0_row5\" class=\"row_heading level0 row5\" >5</th>\n",
       "      <td id=\"T_9708a_row5_col0\" class=\"data row5 col0\" >0.94</td>\n",
       "      <td id=\"T_9708a_row5_col1\" class=\"data row5 col1\" >0.85</td>\n",
       "      <td id=\"T_9708a_row5_col2\" class=\"data row5 col2\" >0.89</td>\n",
       "      <td id=\"T_9708a_row5_col3\" class=\"data row5 col3\" >39</td>\n",
       "    </tr>\n",
       "    <tr>\n",
       "      <th id=\"T_9708a_level0_row6\" class=\"row_heading level0 row6\" >6</th>\n",
       "      <td id=\"T_9708a_row6_col0\" class=\"data row6 col0\" >0.96</td>\n",
       "      <td id=\"T_9708a_row6_col1\" class=\"data row6 col1\" >1</td>\n",
       "      <td id=\"T_9708a_row6_col2\" class=\"data row6 col2\" >0.98</td>\n",
       "      <td id=\"T_9708a_row6_col3\" class=\"data row6 col3\" >43</td>\n",
       "    </tr>\n",
       "    <tr>\n",
       "      <th id=\"T_9708a_level0_row7\" class=\"row_heading level0 row7\" >7</th>\n",
       "      <td id=\"T_9708a_row7_col0\" class=\"data row7 col0\" >0.8</td>\n",
       "      <td id=\"T_9708a_row7_col1\" class=\"data row7 col1\" >1</td>\n",
       "      <td id=\"T_9708a_row7_col2\" class=\"data row7 col2\" >0.89</td>\n",
       "      <td id=\"T_9708a_row7_col3\" class=\"data row7 col3\" >48</td>\n",
       "    </tr>\n",
       "    <tr>\n",
       "      <th id=\"T_9708a_level0_row8\" class=\"row_heading level0 row8\" >8</th>\n",
       "      <td id=\"T_9708a_row8_col0\" class=\"data row8 col0\" >0.51</td>\n",
       "      <td id=\"T_9708a_row8_col1\" class=\"data row8 col1\" >0.95</td>\n",
       "      <td id=\"T_9708a_row8_col2\" class=\"data row8 col2\" >0.67</td>\n",
       "      <td id=\"T_9708a_row8_col3\" class=\"data row8 col3\" >37</td>\n",
       "    </tr>\n",
       "    <tr>\n",
       "      <th id=\"T_9708a_level0_row9\" class=\"row_heading level0 row9\" >9</th>\n",
       "      <td id=\"T_9708a_row9_col0\" class=\"data row9 col0\" >1</td>\n",
       "      <td id=\"T_9708a_row9_col1\" class=\"data row9 col1\" >0.62</td>\n",
       "      <td id=\"T_9708a_row9_col2\" class=\"data row9 col2\" >0.77</td>\n",
       "      <td id=\"T_9708a_row9_col3\" class=\"data row9 col3\" >48</td>\n",
       "    </tr>\n",
       "    <tr>\n",
       "      <th id=\"T_9708a_level0_row10\" class=\"row_heading level0 row10\" >accuracy</th>\n",
       "      <td id=\"T_9708a_row10_col0\" class=\"data row10 col0\" >0.85</td>\n",
       "      <td id=\"T_9708a_row10_col1\" class=\"data row10 col1\" >0.85</td>\n",
       "      <td id=\"T_9708a_row10_col2\" class=\"data row10 col2\" >0.85</td>\n",
       "      <td id=\"T_9708a_row10_col3\" class=\"data row10 col3\" >0.85</td>\n",
       "    </tr>\n",
       "    <tr>\n",
       "      <th id=\"T_9708a_level0_row11\" class=\"row_heading level0 row11\" >macro avg</th>\n",
       "      <td id=\"T_9708a_row11_col0\" class=\"data row11 col0\" >0.88</td>\n",
       "      <td id=\"T_9708a_row11_col1\" class=\"data row11 col1\" >0.85</td>\n",
       "      <td id=\"T_9708a_row11_col2\" class=\"data row11 col2\" >0.85</td>\n",
       "      <td id=\"T_9708a_row11_col3\" class=\"data row11 col3\" >4.5e+02</td>\n",
       "    </tr>\n",
       "    <tr>\n",
       "      <th id=\"T_9708a_level0_row12\" class=\"row_heading level0 row12\" >weighted avg</th>\n",
       "      <td id=\"T_9708a_row12_col0\" class=\"data row12 col0\" >0.89</td>\n",
       "      <td id=\"T_9708a_row12_col1\" class=\"data row12 col1\" >0.85</td>\n",
       "      <td id=\"T_9708a_row12_col2\" class=\"data row12 col2\" >0.86</td>\n",
       "      <td id=\"T_9708a_row12_col3\" class=\"data row12 col3\" >4.5e+02</td>\n",
       "    </tr>\n",
       "  </tbody>\n",
       "</table>\n"
      ],
      "text/plain": [
       "<pandas.io.formats.style.Styler at 0x190c9abf7f0>"
      ]
     },
     "execution_count": 18,
     "metadata": {},
     "output_type": "execute_result"
    }
   ],
   "source": [
    "scores_dic = metrics.classification_report(ys_test, ys_pred, output_dict=True)\n",
    "scores_df = pd.DataFrame(scores_dic).transpose()\n",
    "\n",
    "scores_df.style.format(\"{:.2g}\")"
   ]
  },
  {
   "cell_type": "code",
   "execution_count": 19,
   "id": "948aaed5-f1ad-4f8c-945a-f78302b17d64",
   "metadata": {},
   "outputs": [
    {
     "data": {
      "text/html": [
       "<style type=\"text/css\">\n",
       "</style>\n",
       "<table id=\"T_59719_\">\n",
       "  <thead>\n",
       "    <tr>\n",
       "      <th class=\"blank level0\" >&nbsp;</th>\n",
       "      <th class=\"col_heading level0 col0\" >precision</th>\n",
       "    </tr>\n",
       "  </thead>\n",
       "  <tbody>\n",
       "    <tr>\n",
       "      <th id=\"T_59719_level0_row0\" class=\"row_heading level0 row0\" >0</th>\n",
       "      <td id=\"T_59719_row0_col0\" class=\"data row0 col0\" >0.98</td>\n",
       "    </tr>\n",
       "    <tr>\n",
       "      <th id=\"T_59719_level0_row1\" class=\"row_heading level0 row1\" >1</th>\n",
       "      <td id=\"T_59719_row1_col0\" class=\"data row1 col0\" >0.81</td>\n",
       "    </tr>\n",
       "    <tr>\n",
       "      <th id=\"T_59719_level0_row2\" class=\"row_heading level0 row2\" >2</th>\n",
       "      <td id=\"T_59719_row2_col0\" class=\"data row2 col0\" >0.93</td>\n",
       "    </tr>\n",
       "    <tr>\n",
       "      <th id=\"T_59719_level0_row3\" class=\"row_heading level0 row3\" >3</th>\n",
       "      <td id=\"T_59719_row3_col0\" class=\"data row3 col0\" >0.93</td>\n",
       "    </tr>\n",
       "    <tr>\n",
       "      <th id=\"T_59719_level0_row4\" class=\"row_heading level0 row4\" >4</th>\n",
       "      <td id=\"T_59719_row4_col0\" class=\"data row4 col0\" >0.93</td>\n",
       "    </tr>\n",
       "    <tr>\n",
       "      <th id=\"T_59719_level0_row5\" class=\"row_heading level0 row5\" >5</th>\n",
       "      <td id=\"T_59719_row5_col0\" class=\"data row5 col0\" >0.94</td>\n",
       "    </tr>\n",
       "    <tr>\n",
       "      <th id=\"T_59719_level0_row6\" class=\"row_heading level0 row6\" >6</th>\n",
       "      <td id=\"T_59719_row6_col0\" class=\"data row6 col0\" >0.96</td>\n",
       "    </tr>\n",
       "    <tr>\n",
       "      <th id=\"T_59719_level0_row7\" class=\"row_heading level0 row7\" >7</th>\n",
       "      <td id=\"T_59719_row7_col0\" class=\"data row7 col0\" >0.8</td>\n",
       "    </tr>\n",
       "    <tr>\n",
       "      <th id=\"T_59719_level0_row8\" class=\"row_heading level0 row8\" >8</th>\n",
       "      <td id=\"T_59719_row8_col0\" class=\"data row8 col0\" >0.51</td>\n",
       "    </tr>\n",
       "    <tr>\n",
       "      <th id=\"T_59719_level0_row9\" class=\"row_heading level0 row9\" >9</th>\n",
       "      <td id=\"T_59719_row9_col0\" class=\"data row9 col0\" >1</td>\n",
       "    </tr>\n",
       "    <tr>\n",
       "      <th id=\"T_59719_level0_row10\" class=\"row_heading level0 row10\" >accuracy</th>\n",
       "      <td id=\"T_59719_row10_col0\" class=\"data row10 col0\" >0.85</td>\n",
       "    </tr>\n",
       "    <tr>\n",
       "      <th id=\"T_59719_level0_row11\" class=\"row_heading level0 row11\" >macro avg</th>\n",
       "      <td id=\"T_59719_row11_col0\" class=\"data row11 col0\" >0.88</td>\n",
       "    </tr>\n",
       "    <tr>\n",
       "      <th id=\"T_59719_level0_row12\" class=\"row_heading level0 row12\" >weighted avg</th>\n",
       "      <td id=\"T_59719_row12_col0\" class=\"data row12 col0\" >0.89</td>\n",
       "    </tr>\n",
       "  </tbody>\n",
       "</table>\n"
      ],
      "text/plain": [
       "<pandas.io.formats.style.Styler at 0x190ca37dc40>"
      ]
     },
     "execution_count": 19,
     "metadata": {},
     "output_type": "execute_result"
    }
   ],
   "source": [
    "scores_df[[\"precision\"]].style.format(\"{:.2g}\")"
   ]
  },
  {
   "cell_type": "markdown",
   "id": "hungarian-american",
   "metadata": {},
   "source": [
    "#### Matrice de confusion"
   ]
  },
  {
   "cell_type": "code",
   "execution_count": 20,
   "id": "mobile-alliance",
   "metadata": {},
   "outputs": [
    {
     "data": {
      "image/png": "[encoded data removed]",
      "text/plain": [
       "<Figure size 432x288 with 2 Axes>"
      ]
     },
     "metadata": {
      "image/png": {
       "height": 261,
       "width": 306
      },
      "needs_background": "light"
     },
     "output_type": "display_data"
    }
   ],
   "source": [
    "disp = metrics.ConfusionMatrixDisplay.from_predictions(\n",
    "    ys_test, ys_pred, cmap=plt.cm.Blues\n",
    ")"
   ]
  },
  {
   "cell_type": "code",
   "execution_count": 21,
   "id": "intimate-sleep",
   "metadata": {},
   "outputs": [
    {
     "data": {
      "text/plain": [
       "array([[51,  0,  0,  0,  1,  0,  0,  1,  0,  0],\n",
       "       [ 0, 34,  0,  0,  0,  0,  0,  0,  8,  0],\n",
       "       [ 0,  4, 27,  0,  0,  0,  0,  0, 10,  0],\n",
       "       [ 0,  1,  2, 40,  0,  1,  0,  3,  5,  0],\n",
       "       [ 1,  0,  0,  0, 43,  0,  2,  0,  1,  0],\n",
       "       [ 0,  1,  0,  1,  0, 33,  0,  2,  2,  0],\n",
       "       [ 0,  0,  0,  0,  0,  0, 43,  0,  0,  0],\n",
       "       [ 0,  0,  0,  0,  0,  0,  0, 48,  0,  0],\n",
       "       [ 0,  1,  0,  1,  0,  0,  0,  0, 35,  0],\n",
       "       [ 0,  1,  0,  1,  2,  1,  0,  6,  7, 30]], dtype=int64)"
      ]
     },
     "execution_count": 21,
     "metadata": {},
     "output_type": "execute_result"
    }
   ],
   "source": [
    "disp.confusion_matrix"
   ]
  },
  {
   "cell_type": "markdown",
   "id": "olive-voluntary",
   "metadata": {},
   "source": [
    "#### Visualisation des erreurs"
   ]
  },
  {
   "cell_type": "code",
   "execution_count": 22,
   "id": "hindu-family",
   "metadata": {},
   "outputs": [
    {
     "data": {
      "text/plain": [
       "(array([ 11,  34,  46,  60,  76,  80,  87,  89,  90,  91,  92,  99, 102,\n",
       "        106, 109, 111, 117, 154, 155, 156, 175, 182, 194, 218, 233, 240,\n",
       "        241, 272, 284, 288, 293, 298, 313, 314, 338, 358, 364, 373, 392,\n",
       "        396, 433], dtype=int64),)"
      ]
     },
     "execution_count": 22,
     "metadata": {},
     "output_type": "execute_result"
    }
   ],
   "source": [
    "np.where(ys_test == 2)"
   ]
  },
  {
   "cell_type": "code",
   "execution_count": 23,
   "id": "second-partnership",
   "metadata": {},
   "outputs": [
    {
     "data": {
      "text/plain": [
       "array([ 11,  60,  99, 106, 109, 233, 284, 298, 313, 396], dtype=int64)"
      ]
     },
     "execution_count": 23,
     "metadata": {},
     "output_type": "execute_result"
    }
   ],
   "source": [
    "(indexes,) = np.where((ys_test == 2) & (ys_pred == 8))\n",
    "indexes"
   ]
  },
  {
   "cell_type": "code",
   "execution_count": 24,
   "id": "efficient-feature",
   "metadata": {},
   "outputs": [],
   "source": [
    "def plot_digit(idx, xs_test, ys_test, ys_pred):\n",
    "    print(f\"Digit value: {ys_test[idx]}, prediction: {ys_pred[idx]}\")\n",
    "\n",
    "    plt.figure(figsize=(3, 3))\n",
    "    plt.imshow(\n",
    "        xs_test[idx].reshape([8, 8]),\n",
    "        cmap=plt.cm.gray_r,\n",
    "        interpolation=\"nearest\",\n",
    "    )"
   ]
  },
  {
   "cell_type": "code",
   "execution_count": 25,
   "id": "2f7889c7",
   "metadata": {},
   "outputs": [
    {
     "name": "stdout",
     "output_type": "stream",
     "text": [
      "Digit value: 2, prediction: 8\n"
     ]
    },
    {
     "data": {
      "image/png": "[encoded data removed]",
      "text/plain": [
       "<Figure size 216x216 with 1 Axes>"
      ]
     },
     "metadata": {
      "image/png": {
       "height": 193,
       "width": 190
      },
      "needs_background": "light"
     },
     "output_type": "display_data"
    }
   ],
   "source": [
    "plot_digit(99, xs_test, ys_test, ys_pred)"
   ]
  },
  {
   "cell_type": "markdown",
   "id": "incorrect-advertiser",
   "metadata": {},
   "source": [
    "---"
   ]
  },
  {
   "cell_type": "markdown",
   "id": "ordered-floating",
   "metadata": {},
   "source": [
    "### PCA"
   ]
  },
  {
   "cell_type": "markdown",
   "id": "historic-municipality",
   "metadata": {},
   "source": [
    "#### Initialisation des PCA et sélection des données"
   ]
  },
  {
   "cell_type": "code",
   "execution_count": 26,
   "id": "innovative-typing",
   "metadata": {},
   "outputs": [
    {
     "name": "stdout",
     "output_type": "stream",
     "text": [
      "(1347, 64) (450, 64)\n",
      "(1347, 10) (450, 10)\n"
     ]
    }
   ],
   "source": [
    "N_COMP = 10\n",
    "\n",
    "pca = decomposition.PCA(n_components=N_COMP)\n",
    "xps_train = pca.fit_transform(xs_train)\n",
    "xps_test = pca.transform(xs_test)\n",
    "\n",
    "print(xs_train.shape, xs_test.shape)\n",
    "print(xps_train.shape, xps_test.shape)"
   ]
  },
  {
   "cell_type": "markdown",
   "id": "removed-punch",
   "metadata": {},
   "source": [
    "#### Entrainement des modèles"
   ]
  },
  {
   "cell_type": "code",
   "execution_count": 27,
   "id": "exotic-salvation",
   "metadata": {
    "collapsed": false,
    "editable": true,
    "jupyter": {
     "outputs_hidden": false
    }
   },
   "outputs": [],
   "source": [
    "# 2. Instantiaiton\n",
    "model_pca = naive_bayes.GaussianNB()\n",
    "# model_pca = linear_model.LogisticRegression(max_iter=2000)\n",
    "\n",
    "# 3. Apprentissage (fit) du model\n",
    "model_pca.fit(xps_train, ys_train)\n",
    "\n",
    "# 4. Prédire sur les données de test\n",
    "yps_pred = model_pca.predict(xps_test)"
   ]
  },
  {
   "cell_type": "markdown",
   "id": "exempt-primary",
   "metadata": {},
   "source": [
    "#### Évaluation"
   ]
  },
  {
   "cell_type": "code",
   "execution_count": 28,
   "id": "about-punishment",
   "metadata": {},
   "outputs": [
    {
     "name": "stdout",
     "output_type": "stream",
     "text": [
      "0.9111\n"
     ]
    }
   ],
   "source": [
    "score = metrics.accuracy_score(ys_test, yps_pred)\n",
    "print(f\"{score :.04f}\")"
   ]
  },
  {
   "cell_type": "code",
   "execution_count": 29,
   "id": "universal-responsibility",
   "metadata": {
    "tags": []
   },
   "outputs": [
    {
     "name": "stdout",
     "output_type": "stream",
     "text": [
      "              precision    recall  f1-score   support\n",
      "\n",
      "           0       1.00      0.94      0.97        53\n",
      "           1       0.73      0.88      0.80        42\n",
      "           2       0.95      0.85      0.90        41\n",
      "           3       0.96      0.83      0.89        52\n",
      "           4       0.98      1.00      0.99        47\n",
      "           5       0.88      0.95      0.91        39\n",
      "           6       1.00      1.00      1.00        43\n",
      "           7       0.90      0.96      0.93        48\n",
      "           8       0.86      0.81      0.83        37\n",
      "           9       0.88      0.88      0.88        48\n",
      "\n",
      "    accuracy                           0.91       450\n",
      "   macro avg       0.91      0.91      0.91       450\n",
      "weighted avg       0.92      0.91      0.91       450\n",
      "\n"
     ]
    }
   ],
   "source": [
    "print(metrics.classification_report(ys_test, yps_pred))"
   ]
  },
  {
   "cell_type": "markdown",
   "id": "improving-binary",
   "metadata": {},
   "source": [
    "---"
   ]
  },
  {
   "cell_type": "markdown",
   "id": "thermal-marks",
   "metadata": {},
   "source": [
    "### Cross-Validation"
   ]
  },
  {
   "cell_type": "markdown",
   "id": "incident-transparency",
   "metadata": {},
   "source": [
    "![](img/grid_search_cross_validation.png)"
   ]
  },
  {
   "cell_type": "code",
   "execution_count": 30,
   "id": "invalid-mirror",
   "metadata": {},
   "outputs": [],
   "source": [
    "SCORINGS = \"f1_weighted\""
   ]
  },
  {
   "cell_type": "code",
   "execution_count": 31,
   "id": "supposed-qatar",
   "metadata": {},
   "outputs": [
    {
     "name": "stdout",
     "output_type": "stream",
     "text": [
      "[0.88 0.92 0.89 0.87 0.89 0.9  0.93 0.96 0.84 0.87]\n",
      "\n",
      "f1_weighted: 0.89, with std dev: 0.03\n",
      "\n"
     ]
    }
   ],
   "source": [
    "N_COMP = 10\n",
    "\n",
    "pca = decomposition.PCA(n_components=N_COMP)\n",
    "model = naive_bayes.GaussianNB()\n",
    "\n",
    "pipe = pipeline.Pipeline(steps=[(\"pca\", pca), (\"model\", model)])\n",
    "\n",
    "scores = model_selection.cross_val_score(pipe, xs, ys, cv=10, scoring=SCORINGS)\n",
    "\n",
    "with np.printoptions(precision=2):\n",
    "    print(scores)\n",
    "\n",
    "print(f\"\\n{SCORINGS}: {scores.mean():.2f}, with std dev: {scores.std():.2f}\\n\")"
   ]
  },
  {
   "cell_type": "code",
   "execution_count": 32,
   "id": "993fe9f4-bc93-40d7-adae-f70ac29e4bb5",
   "metadata": {},
   "outputs": [
    {
     "data": {
      "image/png": "[encoded data removed]",
      "text/plain": [
       "<Figure size 432x288 with 1 Axes>"
      ]
     },
     "metadata": {
      "image/png": {
       "height": 248,
       "width": 372
      },
      "needs_background": "light"
     },
     "output_type": "display_data"
    }
   ],
   "source": [
    "plt.bar(range(len(scores)), scores, yerr=2 * scores.std())\n",
    "plt.grid(axis=\"y\")\n",
    "plt.show()"
   ]
  },
  {
   "cell_type": "code",
   "execution_count": 33,
   "id": "brief-cemetery",
   "metadata": {},
   "outputs": [
    {
     "data": {
      "image/png": "[encoded data removed]",
      "text/plain": [
       "<Figure size 432x288 with 1 Axes>"
      ]
     },
     "metadata": {
      "image/png": {
       "height": 251,
       "width": 372
      },
      "needs_background": "light"
     },
     "output_type": "display_data"
    }
   ],
   "source": [
    "plt.bar([str(model)], scores.mean(), yerr=2 * scores.std())\n",
    "plt.xlim(-2, 2)\n",
    "plt.grid(axis=\"y\")\n",
    "plt.show()"
   ]
  },
  {
   "cell_type": "code",
   "execution_count": 42,
   "id": "pursuant-fitting",
   "metadata": {},
   "outputs": [
    {
     "data": {
      "image/png": "[encoded data removed]",
      "text/plain": [
       "<Figure size 432x288 with 1 Axes>"
      ]
     },
     "metadata": {
      "image/png": {
       "height": 250,
       "width": 378
      },
      "needs_background": "light"
     },
     "output_type": "display_data"
    },
    {
     "data": {
      "text/plain": [
       "(10,)"
      ]
     },
     "execution_count": 42,
     "metadata": {},
     "output_type": "execute_result"
    }
   ],
   "source": [
    "plt.boxplot(scores)\n",
    "plt.xticks([1], [str(model)])\n",
    "plt.grid(axis=\"y\")\n",
    "plt.show()\n",
    "scores.shape"
   ]
  },
  {
   "cell_type": "markdown",
   "id": "weighted-bicycle",
   "metadata": {},
   "source": [
    "---"
   ]
  },
  {
   "cell_type": "markdown",
   "id": "determined-fossil",
   "metadata": {},
   "source": [
    "### Grid Search"
   ]
  },
  {
   "cell_type": "code",
   "execution_count": 35,
   "id": "necessary-round",
   "metadata": {},
   "outputs": [],
   "source": [
    "param_grid = {\"pca__n_components\": [1, 2, 5, 10, 20, 30, 40, 60]}"
   ]
  },
  {
   "cell_type": "code",
   "execution_count": 36,
   "id": "annual-strength",
   "metadata": {},
   "outputs": [],
   "source": [
    "# Define a pipeline to search for the best combination of PCA truncation\n",
    "# and classifier regularization.\n",
    "\n",
    "pca = decomposition.PCA()\n",
    "model = naive_bayes.GaussianNB()\n",
    "\n",
    "pipe = pipeline.Pipeline(steps=[(\"pca\", pca), (\"model\", model)])"
   ]
  },
  {
   "cell_type": "code",
   "execution_count": 37,
   "id": "wired-electric",
   "metadata": {},
   "outputs": [
    {
     "name": "stdout",
     "output_type": "stream",
     "text": [
      "Fitting 10 folds for each of 8 candidates, totalling 80 fits\n"
     ]
    },
    {
     "data": {
      "text/plain": [
       "GridSearchCV(cv=10,\n",
       "             estimator=Pipeline(steps=[('pca', PCA()),\n",
       "                                       ('model', GaussianNB())]),\n",
       "             n_jobs=-1,\n",
       "             param_grid={'pca__n_components': [1, 2, 5, 10, 20, 30, 40, 60]},\n",
       "             scoring='f1_weighted', verbose=4)"
      ]
     },
     "execution_count": 37,
     "metadata": {},
     "output_type": "execute_result"
    }
   ],
   "source": [
    "# Parameters of pipelines can be set using ‘__’ separated parameter names:\n",
    "\n",
    "search = model_selection.GridSearchCV(\n",
    "    pipe, param_grid, n_jobs=-1, scoring=SCORINGS, verbose=4, cv=10\n",
    ")\n",
    "\n",
    "search.fit(xs, ys)"
   ]
  },
  {
   "cell_type": "code",
   "execution_count": 38,
   "id": "hydraulic-medicare",
   "metadata": {},
   "outputs": [
    {
     "name": "stdout",
     "output_type": "stream",
     "text": [
      "Best parameter (CV score: 0.915)\n",
      "{'pca__n_components': 30}\n"
     ]
    }
   ],
   "source": [
    "print(f\"Best parameter (CV score: {search.best_score_:.3f})\")\n",
    "\n",
    "print(search.best_params_)"
   ]
  },
  {
   "cell_type": "code",
   "execution_count": 39,
   "id": "native-pressing",
   "metadata": {},
   "outputs": [
    {
     "data": {
      "text/html": [
       "<style type=\"text/css\">\n",
       "</style>\n",
       "<table id=\"T_aca21_\">\n",
       "  <thead>\n",
       "    <tr>\n",
       "      <th class=\"blank level0\" >&nbsp;</th>\n",
       "      <th class=\"col_heading level0 col0\" >mean_fit_time</th>\n",
       "      <th class=\"col_heading level0 col1\" >std_fit_time</th>\n",
       "      <th class=\"col_heading level0 col2\" >mean_score_time</th>\n",
       "      <th class=\"col_heading level0 col3\" >std_score_time</th>\n",
       "      <th class=\"col_heading level0 col4\" >param_pca__n_components</th>\n",
       "      <th class=\"col_heading level0 col5\" >split0_test_score</th>\n",
       "      <th class=\"col_heading level0 col6\" >split1_test_score</th>\n",
       "      <th class=\"col_heading level0 col7\" >split2_test_score</th>\n",
       "      <th class=\"col_heading level0 col8\" >split3_test_score</th>\n",
       "      <th class=\"col_heading level0 col9\" >split4_test_score</th>\n",
       "      <th class=\"col_heading level0 col10\" >split5_test_score</th>\n",
       "      <th class=\"col_heading level0 col11\" >split6_test_score</th>\n",
       "      <th class=\"col_heading level0 col12\" >split7_test_score</th>\n",
       "      <th class=\"col_heading level0 col13\" >split8_test_score</th>\n",
       "      <th class=\"col_heading level0 col14\" >split9_test_score</th>\n",
       "      <th class=\"col_heading level0 col15\" >mean_test_score</th>\n",
       "      <th class=\"col_heading level0 col16\" >std_test_score</th>\n",
       "      <th class=\"col_heading level0 col17\" >rank_test_score</th>\n",
       "    </tr>\n",
       "  </thead>\n",
       "  <tbody>\n",
       "    <tr>\n",
       "      <th id=\"T_aca21_level0_row0\" class=\"row_heading level0 row0\" >0</th>\n",
       "      <td id=\"T_aca21_row0_col0\" class=\"data row0 col0\" >0.027</td>\n",
       "      <td id=\"T_aca21_row0_col1\" class=\"data row0 col1\" >0.0034</td>\n",
       "      <td id=\"T_aca21_row0_col2\" class=\"data row0 col2\" >0.0049</td>\n",
       "      <td id=\"T_aca21_row0_col3\" class=\"data row0 col3\" >0.0018</td>\n",
       "      <td id=\"T_aca21_row0_col4\" class=\"data row0 col4\" >1</td>\n",
       "      <td id=\"T_aca21_row0_col5\" class=\"data row0 col5\" >0.3</td>\n",
       "      <td id=\"T_aca21_row0_col6\" class=\"data row0 col6\" >0.37</td>\n",
       "      <td id=\"T_aca21_row0_col7\" class=\"data row0 col7\" >0.25</td>\n",
       "      <td id=\"T_aca21_row0_col8\" class=\"data row0 col8\" >0.28</td>\n",
       "      <td id=\"T_aca21_row0_col9\" class=\"data row0 col9\" >0.32</td>\n",
       "      <td id=\"T_aca21_row0_col10\" class=\"data row0 col10\" >0.28</td>\n",
       "      <td id=\"T_aca21_row0_col11\" class=\"data row0 col11\" >0.36</td>\n",
       "      <td id=\"T_aca21_row0_col12\" class=\"data row0 col12\" >0.3</td>\n",
       "      <td id=\"T_aca21_row0_col13\" class=\"data row0 col13\" >0.3</td>\n",
       "      <td id=\"T_aca21_row0_col14\" class=\"data row0 col14\" >0.28</td>\n",
       "      <td id=\"T_aca21_row0_col15\" class=\"data row0 col15\" >0.3</td>\n",
       "      <td id=\"T_aca21_row0_col16\" class=\"data row0 col16\" >0.036</td>\n",
       "      <td id=\"T_aca21_row0_col17\" class=\"data row0 col17\" >8</td>\n",
       "    </tr>\n",
       "    <tr>\n",
       "      <th id=\"T_aca21_level0_row1\" class=\"row_heading level0 row1\" >1</th>\n",
       "      <td id=\"T_aca21_row1_col0\" class=\"data row1 col0\" >0.026</td>\n",
       "      <td id=\"T_aca21_row1_col1\" class=\"data row1 col1\" >0.0029</td>\n",
       "      <td id=\"T_aca21_row1_col2\" class=\"data row1 col2\" >0.0049</td>\n",
       "      <td id=\"T_aca21_row1_col3\" class=\"data row1 col3\" >0.00083</td>\n",
       "      <td id=\"T_aca21_row1_col4\" class=\"data row1 col4\" >2</td>\n",
       "      <td id=\"T_aca21_row1_col5\" class=\"data row1 col5\" >0.54</td>\n",
       "      <td id=\"T_aca21_row1_col6\" class=\"data row1 col6\" >0.68</td>\n",
       "      <td id=\"T_aca21_row1_col7\" class=\"data row1 col7\" >0.59</td>\n",
       "      <td id=\"T_aca21_row1_col8\" class=\"data row1 col8\" >0.64</td>\n",
       "      <td id=\"T_aca21_row1_col9\" class=\"data row1 col9\" >0.66</td>\n",
       "      <td id=\"T_aca21_row1_col10\" class=\"data row1 col10\" >0.59</td>\n",
       "      <td id=\"T_aca21_row1_col11\" class=\"data row1 col11\" >0.62</td>\n",
       "      <td id=\"T_aca21_row1_col12\" class=\"data row1 col12\" >0.57</td>\n",
       "      <td id=\"T_aca21_row1_col13\" class=\"data row1 col13\" >0.58</td>\n",
       "      <td id=\"T_aca21_row1_col14\" class=\"data row1 col14\" >0.58</td>\n",
       "      <td id=\"T_aca21_row1_col15\" class=\"data row1 col15\" >0.6</td>\n",
       "      <td id=\"T_aca21_row1_col16\" class=\"data row1 col16\" >0.042</td>\n",
       "      <td id=\"T_aca21_row1_col17\" class=\"data row1 col17\" >7</td>\n",
       "    </tr>\n",
       "    <tr>\n",
       "      <th id=\"T_aca21_level0_row2\" class=\"row_heading level0 row2\" >2</th>\n",
       "      <td id=\"T_aca21_row2_col0\" class=\"data row2 col0\" >0.032</td>\n",
       "      <td id=\"T_aca21_row2_col1\" class=\"data row2 col1\" >0.004</td>\n",
       "      <td id=\"T_aca21_row2_col2\" class=\"data row2 col2\" >0.0046</td>\n",
       "      <td id=\"T_aca21_row2_col3\" class=\"data row2 col3\" >0.001</td>\n",
       "      <td id=\"T_aca21_row2_col4\" class=\"data row2 col4\" >5</td>\n",
       "      <td id=\"T_aca21_row2_col5\" class=\"data row2 col5\" >0.83</td>\n",
       "      <td id=\"T_aca21_row2_col6\" class=\"data row2 col6\" >0.88</td>\n",
       "      <td id=\"T_aca21_row2_col7\" class=\"data row2 col7\" >0.79</td>\n",
       "      <td id=\"T_aca21_row2_col8\" class=\"data row2 col8\" >0.82</td>\n",
       "      <td id=\"T_aca21_row2_col9\" class=\"data row2 col9\" >0.84</td>\n",
       "      <td id=\"T_aca21_row2_col10\" class=\"data row2 col10\" >0.77</td>\n",
       "      <td id=\"T_aca21_row2_col11\" class=\"data row2 col11\" >0.83</td>\n",
       "      <td id=\"T_aca21_row2_col12\" class=\"data row2 col12\" >0.83</td>\n",
       "      <td id=\"T_aca21_row2_col13\" class=\"data row2 col13\" >0.75</td>\n",
       "      <td id=\"T_aca21_row2_col14\" class=\"data row2 col14\" >0.84</td>\n",
       "      <td id=\"T_aca21_row2_col15\" class=\"data row2 col15\" >0.82</td>\n",
       "      <td id=\"T_aca21_row2_col16\" class=\"data row2 col16\" >0.035</td>\n",
       "      <td id=\"T_aca21_row2_col17\" class=\"data row2 col17\" >6</td>\n",
       "    </tr>\n",
       "    <tr>\n",
       "      <th id=\"T_aca21_level0_row3\" class=\"row_heading level0 row3\" >3</th>\n",
       "      <td id=\"T_aca21_row3_col0\" class=\"data row3 col0\" >0.025</td>\n",
       "      <td id=\"T_aca21_row3_col1\" class=\"data row3 col1\" >0.0012</td>\n",
       "      <td id=\"T_aca21_row3_col2\" class=\"data row3 col2\" >0.0055</td>\n",
       "      <td id=\"T_aca21_row3_col3\" class=\"data row3 col3\" >0.0013</td>\n",
       "      <td id=\"T_aca21_row3_col4\" class=\"data row3 col4\" >10</td>\n",
       "      <td id=\"T_aca21_row3_col5\" class=\"data row3 col5\" >0.88</td>\n",
       "      <td id=\"T_aca21_row3_col6\" class=\"data row3 col6\" >0.92</td>\n",
       "      <td id=\"T_aca21_row3_col7\" class=\"data row3 col7\" >0.89</td>\n",
       "      <td id=\"T_aca21_row3_col8\" class=\"data row3 col8\" >0.87</td>\n",
       "      <td id=\"T_aca21_row3_col9\" class=\"data row3 col9\" >0.89</td>\n",
       "      <td id=\"T_aca21_row3_col10\" class=\"data row3 col10\" >0.9</td>\n",
       "      <td id=\"T_aca21_row3_col11\" class=\"data row3 col11\" >0.93</td>\n",
       "      <td id=\"T_aca21_row3_col12\" class=\"data row3 col12\" >0.96</td>\n",
       "      <td id=\"T_aca21_row3_col13\" class=\"data row3 col13\" >0.84</td>\n",
       "      <td id=\"T_aca21_row3_col14\" class=\"data row3 col14\" >0.87</td>\n",
       "      <td id=\"T_aca21_row3_col15\" class=\"data row3 col15\" >0.89</td>\n",
       "      <td id=\"T_aca21_row3_col16\" class=\"data row3 col16\" >0.031</td>\n",
       "      <td id=\"T_aca21_row3_col17\" class=\"data row3 col17\" >4</td>\n",
       "    </tr>\n",
       "    <tr>\n",
       "      <th id=\"T_aca21_level0_row4\" class=\"row_heading level0 row4\" >4</th>\n",
       "      <td id=\"T_aca21_row4_col0\" class=\"data row4 col0\" >0.034</td>\n",
       "      <td id=\"T_aca21_row4_col1\" class=\"data row4 col1\" >0.0042</td>\n",
       "      <td id=\"T_aca21_row4_col2\" class=\"data row4 col2\" >0.0054</td>\n",
       "      <td id=\"T_aca21_row4_col3\" class=\"data row4 col3\" >0.0016</td>\n",
       "      <td id=\"T_aca21_row4_col4\" class=\"data row4 col4\" >20</td>\n",
       "      <td id=\"T_aca21_row4_col5\" class=\"data row4 col5\" >0.88</td>\n",
       "      <td id=\"T_aca21_row4_col6\" class=\"data row4 col6\" >0.95</td>\n",
       "      <td id=\"T_aca21_row4_col7\" class=\"data row4 col7\" >0.89</td>\n",
       "      <td id=\"T_aca21_row4_col8\" class=\"data row4 col8\" >0.9</td>\n",
       "      <td id=\"T_aca21_row4_col9\" class=\"data row4 col9\" >0.89</td>\n",
       "      <td id=\"T_aca21_row4_col10\" class=\"data row4 col10\" >0.91</td>\n",
       "      <td id=\"T_aca21_row4_col11\" class=\"data row4 col11\" >0.96</td>\n",
       "      <td id=\"T_aca21_row4_col12\" class=\"data row4 col12\" >0.97</td>\n",
       "      <td id=\"T_aca21_row4_col13\" class=\"data row4 col13\" >0.85</td>\n",
       "      <td id=\"T_aca21_row4_col14\" class=\"data row4 col14\" >0.91</td>\n",
       "      <td id=\"T_aca21_row4_col15\" class=\"data row4 col15\" >0.91</td>\n",
       "      <td id=\"T_aca21_row4_col16\" class=\"data row4 col16\" >0.035</td>\n",
       "      <td id=\"T_aca21_row4_col17\" class=\"data row4 col17\" >3</td>\n",
       "    </tr>\n",
       "    <tr>\n",
       "      <th id=\"T_aca21_level0_row5\" class=\"row_heading level0 row5\" >5</th>\n",
       "      <td id=\"T_aca21_row5_col0\" class=\"data row5 col0\" >0.057</td>\n",
       "      <td id=\"T_aca21_row5_col1\" class=\"data row5 col1\" >0.0099</td>\n",
       "      <td id=\"T_aca21_row5_col2\" class=\"data row5 col2\" >0.0058</td>\n",
       "      <td id=\"T_aca21_row5_col3\" class=\"data row5 col3\" >0.0015</td>\n",
       "      <td id=\"T_aca21_row5_col4\" class=\"data row5 col4\" >30</td>\n",
       "      <td id=\"T_aca21_row5_col5\" class=\"data row5 col5\" >0.89</td>\n",
       "      <td id=\"T_aca21_row5_col6\" class=\"data row5 col6\" >0.94</td>\n",
       "      <td id=\"T_aca21_row5_col7\" class=\"data row5 col7\" >0.9</td>\n",
       "      <td id=\"T_aca21_row5_col8\" class=\"data row5 col8\" >0.92</td>\n",
       "      <td id=\"T_aca21_row5_col9\" class=\"data row5 col9\" >0.89</td>\n",
       "      <td id=\"T_aca21_row5_col10\" class=\"data row5 col10\" >0.91</td>\n",
       "      <td id=\"T_aca21_row5_col11\" class=\"data row5 col11\" >0.97</td>\n",
       "      <td id=\"T_aca21_row5_col12\" class=\"data row5 col12\" >0.97</td>\n",
       "      <td id=\"T_aca21_row5_col13\" class=\"data row5 col13\" >0.85</td>\n",
       "      <td id=\"T_aca21_row5_col14\" class=\"data row5 col14\" >0.9</td>\n",
       "      <td id=\"T_aca21_row5_col15\" class=\"data row5 col15\" >0.92</td>\n",
       "      <td id=\"T_aca21_row5_col16\" class=\"data row5 col16\" >0.036</td>\n",
       "      <td id=\"T_aca21_row5_col17\" class=\"data row5 col17\" >1</td>\n",
       "    </tr>\n",
       "    <tr>\n",
       "      <th id=\"T_aca21_level0_row6\" class=\"row_heading level0 row6\" >6</th>\n",
       "      <td id=\"T_aca21_row6_col0\" class=\"data row6 col0\" >0.067</td>\n",
       "      <td id=\"T_aca21_row6_col1\" class=\"data row6 col1\" >0.0077</td>\n",
       "      <td id=\"T_aca21_row6_col2\" class=\"data row6 col2\" >0.0088</td>\n",
       "      <td id=\"T_aca21_row6_col3\" class=\"data row6 col3\" >0.0079</td>\n",
       "      <td id=\"T_aca21_row6_col4\" class=\"data row6 col4\" >40</td>\n",
       "      <td id=\"T_aca21_row6_col5\" class=\"data row6 col5\" >0.88</td>\n",
       "      <td id=\"T_aca21_row6_col6\" class=\"data row6 col6\" >0.92</td>\n",
       "      <td id=\"T_aca21_row6_col7\" class=\"data row6 col7\" >0.91</td>\n",
       "      <td id=\"T_aca21_row6_col8\" class=\"data row6 col8\" >0.93</td>\n",
       "      <td id=\"T_aca21_row6_col9\" class=\"data row6 col9\" >0.89</td>\n",
       "      <td id=\"T_aca21_row6_col10\" class=\"data row6 col10\" >0.91</td>\n",
       "      <td id=\"T_aca21_row6_col11\" class=\"data row6 col11\" >0.97</td>\n",
       "      <td id=\"T_aca21_row6_col12\" class=\"data row6 col12\" >0.94</td>\n",
       "      <td id=\"T_aca21_row6_col13\" class=\"data row6 col13\" >0.87</td>\n",
       "      <td id=\"T_aca21_row6_col14\" class=\"data row6 col14\" >0.9</td>\n",
       "      <td id=\"T_aca21_row6_col15\" class=\"data row6 col15\" >0.91</td>\n",
       "      <td id=\"T_aca21_row6_col16\" class=\"data row6 col16\" >0.028</td>\n",
       "      <td id=\"T_aca21_row6_col17\" class=\"data row6 col17\" >2</td>\n",
       "    </tr>\n",
       "    <tr>\n",
       "      <th id=\"T_aca21_level0_row7\" class=\"row_heading level0 row7\" >7</th>\n",
       "      <td id=\"T_aca21_row7_col0\" class=\"data row7 col0\" >0.033</td>\n",
       "      <td id=\"T_aca21_row7_col1\" class=\"data row7 col1\" >0.009</td>\n",
       "      <td id=\"T_aca21_row7_col2\" class=\"data row7 col2\" >0.0063</td>\n",
       "      <td id=\"T_aca21_row7_col3\" class=\"data row7 col3\" >0.0018</td>\n",
       "      <td id=\"T_aca21_row7_col4\" class=\"data row7 col4\" >60</td>\n",
       "      <td id=\"T_aca21_row7_col5\" class=\"data row7 col5\" >0.87</td>\n",
       "      <td id=\"T_aca21_row7_col6\" class=\"data row7 col6\" >0.9</td>\n",
       "      <td id=\"T_aca21_row7_col7\" class=\"data row7 col7\" >0.88</td>\n",
       "      <td id=\"T_aca21_row7_col8\" class=\"data row7 col8\" >0.75</td>\n",
       "      <td id=\"T_aca21_row7_col9\" class=\"data row7 col9\" >0.82</td>\n",
       "      <td id=\"T_aca21_row7_col10\" class=\"data row7 col10\" >0.85</td>\n",
       "      <td id=\"T_aca21_row7_col11\" class=\"data row7 col11\" >0.92</td>\n",
       "      <td id=\"T_aca21_row7_col12\" class=\"data row7 col12\" >0.94</td>\n",
       "      <td id=\"T_aca21_row7_col13\" class=\"data row7 col13\" >0.8</td>\n",
       "      <td id=\"T_aca21_row7_col14\" class=\"data row7 col14\" >0.85</td>\n",
       "      <td id=\"T_aca21_row7_col15\" class=\"data row7 col15\" >0.86</td>\n",
       "      <td id=\"T_aca21_row7_col16\" class=\"data row7 col16\" >0.056</td>\n",
       "      <td id=\"T_aca21_row7_col17\" class=\"data row7 col17\" >5</td>\n",
       "    </tr>\n",
       "  </tbody>\n",
       "</table>\n"
      ],
      "text/plain": [
       "<pandas.io.formats.style.Styler at 0x190ca29b670>"
      ]
     },
     "execution_count": 39,
     "metadata": {},
     "output_type": "execute_result"
    }
   ],
   "source": [
    "cv_results_df = pd.DataFrame(search.cv_results_).drop(columns=\"params\")\n",
    "\n",
    "cv_results_df.style.format(\"{:.2g}\")"
   ]
  },
  {
   "cell_type": "code",
   "execution_count": 40,
   "id": "finnish-grave",
   "metadata": {},
   "outputs": [
    {
     "data": {
      "image/png": "[encoded data removed]",
      "text/plain": [
       "<Figure size 432x288 with 1 Axes>"
      ]
     },
     "metadata": {
      "image/png": {
       "height": 248,
       "width": 372
      },
      "needs_background": "light"
     },
     "output_type": "display_data"
    }
   ],
   "source": [
    "plt.bar(\n",
    "    cv_results_df[\"param_pca__n_components\"],\n",
    "    cv_results_df[\"mean_test_score\"],\n",
    "    yerr=2 * cv_results_df[\"std_test_score\"],\n",
    "    width=0.8 * np.diff(cv_results_df[\"param_pca__n_components\"], prepend=0),\n",
    ")\n",
    "plt.show()"
   ]
  },
  {
   "cell_type": "markdown",
   "id": "sublime-highlight",
   "metadata": {},
   "source": [
    "---"
   ]
  }
 ],
 "metadata": {
  "interpreter": {
   "hash": "b15d9e97b2004737c839f085cbf698d4e9f14d929e1d712d71d27108a2f82433"
  },
  "kernelspec": {
   "display_name": "Python [conda env:py3k]",
   "language": "python",
   "name": "python3"
  },
  "language_info": {
   "codemirror_mode": {
    "name": "ipython",
    "version": 3
   },
   "file_extension": ".py",
   "mimetype": "text/x-python",
   "name": "python",
   "nbconvert_exporter": "python",
   "pygments_lexer": "ipython3",
   "version": "3.9.6"
  }
 },
 "nbformat": 4,
 "nbformat_minor": 5
}
